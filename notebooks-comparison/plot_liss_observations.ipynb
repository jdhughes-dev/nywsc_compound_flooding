{
 "cells": [
  {
   "cell_type": "code",
   "execution_count": null,
   "id": "c5e1d80e-ed7b-47d0-ae42-63076196d3e1",
   "metadata": {},
   "outputs": [],
   "source": [
    "%matplotlib inline\n",
    "import flopy\n",
    "import matplotlib.pyplot as plt\n",
    "import numpy as np\n",
    "import pathlib as pl\n",
    "import pickle\n",
    "import random\n",
    "from scipy.fft import fft, fftfreq\n",
    "import sys\n",
    "import xarray\n",
    "import xugrid"
   ]
  },
  {
   "cell_type": "code",
   "execution_count": null,
   "id": "74243207-5a32-4c99-aa72-311f466dffb6",
   "metadata": {},
   "outputs": [],
   "source": [
    "sys.path.append(\"../common\")\n",
    "from liss_settings import cx, cx_provider, extent, boxx, boxy, extentmax, fig_ext, transparent"
   ]
  },
  {
   "cell_type": "code",
   "execution_count": null,
   "id": "11405362-9477-4851-8d35-a5c48bb264e7",
   "metadata": {},
   "outputs": [],
   "source": [
    "destination_crs = \"EPSG:32618\""
   ]
  },
  {
   "cell_type": "code",
   "execution_count": null,
   "id": "202997cd-d54b-4243-aa51-488e030b85ee",
   "metadata": {},
   "outputs": [],
   "source": [
    "ws = pl.Path(\"figures-observations\")\n",
    "ws.mkdir(exist_ok=True, parents=True)"
   ]
  },
  {
   "cell_type": "markdown",
   "id": "c4ccd790-251a-4ffa-ba6e-47231b53f2f2",
   "metadata": {},
   "source": [
    "### Stations to be plotted in the summary comparison plot"
   ]
  },
  {
   "cell_type": "code",
   "execution_count": null,
   "id": "f2dfacc8-c175-4486-ab0a-d3d20aade136",
   "metadata": {},
   "outputs": [],
   "source": [
    "pstations = (\n",
    "    \"Battery\",\n",
    "    \"01311875\",\n",
    "    \"Eaton\",\n",
    "    \"01309225\",\n",
    "    \"Silver Eel Pond\",\n",
    "    \"Montauk\",\n",
    ")\n",
    "ostations = (\n",
    "    \"Long Island Sound\",\n",
    "    \"Great Peconic Bay\",\n",
    "    \"New York Bight\",\n",
    ")"
   ]
  },
  {
   "cell_type": "markdown",
   "id": "3ad0aad9-cadb-466d-833e-d7a5ba0da65b",
   "metadata": {},
   "source": [
    "### Read the observation locations and create an observation dictionary"
   ]
  },
  {
   "cell_type": "code",
   "execution_count": null,
   "id": "46e97ad5-9b73-4b7b-9336-c03f87bcb89e",
   "metadata": {},
   "outputs": [],
   "source": [
    "sfincs_path = \"../sfincs/test_north_fork/base/sfincs.obs\""
   ]
  },
  {
   "cell_type": "code",
   "execution_count": null,
   "id": "6a71361a-790a-4609-b455-dec485cbce60",
   "metadata": {},
   "outputs": [],
   "source": [
    "obs_dict = {}\n",
    "with open(sfincs_path, \"r\") as f:\n",
    "    lines = f.readlines()\n",
    "for line in lines[:]:\n",
    "    t = line.rstrip().split()\n",
    "    key = \" \".join(t[2:]).replace('\"', '')\n",
    "    if key in (\"great_peconic_bay\", \"long_island_sound\", \"new_york_bight\"):\n",
    "        key = key.replace(\"_\", \" \").title()\n",
    "    elif key.startswith(\"usgs_\"):\n",
    "        key = key.replace(\"usgs_\", \"\")\n",
    "    obs_dict[key] = (float(t[0]), float(t[1]))\n",
    "obs_dict"
   ]
  },
  {
   "cell_type": "code",
   "execution_count": null,
   "id": "e9693db3-24be-4307-8095-38e99999c120",
   "metadata": {},
   "outputs": [],
   "source": [
    "x, y, v, pc = [], [], [], []\n",
    "xytext_locs = {}\n",
    "for key, (xx, yy) in obs_dict.items():\n",
    "    x.append(xx)\n",
    "    y.append(yy)\n",
    "    v.append(key)\n",
    "    if key in pstations:\n",
    "        pc.append(\"green\")\n",
    "    elif key in ostations:\n",
    "        pc.append(\"blue\")\n",
    "    else:\n",
    "        pc.append(\"black\")\n",
    "    dx, dy = 3e3, -1.2e4\n",
    "    if \"eaton\" in key.lower():\n",
    "        dy *= -1.0\n",
    "    elif key in (\"New London\",):\n",
    "        dx *= 7.0\n",
    "    elif key in (\"Battery\", \"New Rochelle\"):\n",
    "        dx *= -1.0\n",
    "        dy *= -1.0\n",
    "    elif key in (\"01302845\",):\n",
    "        dx *= 0.65\n",
    "        dy *= -0.65\n",
    "    elif key in (\"Willets Point\",):\n",
    "        dx *= -6.0\n",
    "        dy *= -0.75\n",
    "    elif key in (\"Kings Point\",):\n",
    "        dx *= -5.0\n",
    "        dy *= -1.0\n",
    "    elif key in (\"01311850\", ):\n",
    "        dx *= -0.5\n",
    "        dy *= -0.5\n",
    "    elif key in (\"01311875\", \"South Jamesport\"):\n",
    "        dx *= 2.0\n",
    "        dy *= 2.0\n",
    "    elif key in (\"01311145\",):\n",
    "        dx *= 1.5\n",
    "        dy *= 1.5\n",
    "    elif key in (\"01310740\",):\n",
    "        dx *= 4.0\n",
    "        dy *= 1.15\n",
    "    elif key in (\"01310521\",):\n",
    "        dx *= 0.65\n",
    "        dy *= -0.65\n",
    "    elif \"jefferson\" in key.lower():\n",
    "        dy *= -0.7\n",
    "    elif key in (\"Great Peconic Bay\",):\n",
    "        dy *= -1.0\n",
    "    elif key in (\"Long Island Sound\",):\n",
    "        dy *= 1.15\n",
    "    elif key in (\"New York Bight\",):\n",
    "        dx *= 5.0\n",
    "        \n",
    "    xytext_locs[key] = (xx + dx , yy + dy)\n",
    "x = np.array(x)\n",
    "y = np.array(y)"
   ]
  },
  {
   "cell_type": "code",
   "execution_count": null,
   "id": "e245cb38-9637-4cf3-86d0-ba389a25bb4e",
   "metadata": {},
   "outputs": [],
   "source": [
    "with flopy.plot.styles.USGSMap():\n",
    "    fig, ax = plt.subplots(\n",
    "        layout=\"constrained\",\n",
    "        figsize=(6.85, 4.9),\n",
    "        )\n",
    "    ax.set_xlim(extentmax[:2])\n",
    "    ax.set_ylim(extentmax[2:])    \n",
    "    ax.scatter(x, y, c=pc)\n",
    "    for idx, (xx, yy, s) in enumerate(zip(x,y,v)):\n",
    "        flopy.plot.styles.add_annotation(\n",
    "            xy=(xx, yy), \n",
    "            xytext=xytext_locs[s], \n",
    "            xycoords=\"data\", \n",
    "            text=s, \n",
    "            bold=False, \n",
    "            fontsize=6,\n",
    "            ha=\"center\",\n",
    "            va=\"center\",\n",
    "            arrowprops=dict(\n",
    "                arrowstyle= \"-\",\n",
    "                shrinkA=1,\n",
    "                shrinkB=1,\n",
    "            )\n",
    "        )\n",
    "    cx.add_basemap(ax, crs=destination_crs, attribution=False, source=cx_provider)\n",
    "\n",
    "    ax.set_xlabel(None)\n",
    "    ax.set_ylabel(None)\n",
    "    ax.set_xticklabels([])\n",
    "    ax.set_yticklabels([])    \n",
    "    \n",
    "    fig.savefig(ws / f\"obs_locations{fig_ext}\", dpi=300, transparent=transparent)"
   ]
  },
  {
   "cell_type": "markdown",
   "id": "e7cf1988-7da9-40fc-b8a2-7aae27ee95c9",
   "metadata": {},
   "source": [
    "### Load the history files\n",
    "\n",
    "D-FLOW FM file"
   ]
  },
  {
   "cell_type": "code",
   "execution_count": null,
   "id": "c0b48de4-3fbd-4622-a68b-09004bfbc354",
   "metadata": {},
   "outputs": [],
   "source": [
    "source_path = \"../dflow-fm/coarse/tides/run/output/FlowFM_his.nc\"\n",
    "dflow_ds = xugrid.open_dataset(source_path)\n",
    "dflow_ds"
   ]
  },
  {
   "cell_type": "markdown",
   "id": "213ffbc7-cce7-4dac-90d9-a89431f9c6ed",
   "metadata": {},
   "source": [
    "SFINCS"
   ]
  },
  {
   "cell_type": "code",
   "execution_count": null,
   "id": "fa89211f-6d8e-4c4d-b960-2dd8643be636",
   "metadata": {},
   "outputs": [],
   "source": [
    "source_path = \"../sfincs/test_north_fork/run/sfincs_his.nc\"\n",
    "sfincs_ds = xugrid.open_dataset(source_path)\n",
    "sfincs_ds"
   ]
  },
  {
   "cell_type": "markdown",
   "id": "fcb84c17-0f4b-4188-996f-c4e11abd7399",
   "metadata": {},
   "source": [
    "### Create a pandas observation for each observation location"
   ]
  },
  {
   "cell_type": "code",
   "execution_count": null,
   "id": "4a77d939-09da-456d-a94a-0b6824f568ce",
   "metadata": {},
   "outputs": [],
   "source": [
    "dflow_drop = [\"station_x_coordinate\", \"station_y_coordinate\", \"station_name\"]\n",
    "dflow_rename = {\"waterlevel\": \"D-FLOW FM\"}"
   ]
  },
  {
   "cell_type": "code",
   "execution_count": null,
   "id": "4a62f5c1-837e-4546-9224-56dd00738622",
   "metadata": {},
   "outputs": [],
   "source": [
    "sfincs_drop = [\"station_id\", \"station_name\", \"point_x\", \"point_y\"]\n",
    "sfincs_rename = {\"point_zs\": \"SFINCS\"}"
   ]
  },
  {
   "cell_type": "code",
   "execution_count": null,
   "id": "85523570-c6a1-4fd9-8a3c-4b4c0bf827da",
   "metadata": {},
   "outputs": [],
   "source": [
    "sfincs_obs = {}\n",
    "dflow_obs = {}\n",
    "for idx, key in enumerate(obs_dict.keys()):\n",
    "    subset = sfincs_ds[\"point_zs\"].loc[:, idx]\n",
    "    print(f\"{idx+1:02d}-1: {key} ({subset.size})\")\n",
    "    if subset.values.size > 0:\n",
    "        df = subset.to_dataframe()\n",
    "        df.rename(columns=sfincs_rename, inplace=True)\n",
    "        df.drop(labels=sfincs_drop, inplace=True, axis=1)\n",
    "        sfincs_obs[key] = df.copy()\n",
    "    else:\n",
    "        sfincs_obs[key] = None\n",
    "    subset = dflow_ds[\"waterlevel\"].loc[:, idx]\n",
    "    print(f\"{idx+1:02d}-2: {key} ({subset.size})\")\n",
    "    if subset.values.size > 0:\n",
    "        df = subset.to_dataframe()\n",
    "        df.rename(columns=dflow_rename, inplace=True)\n",
    "        df.drop(labels=dflow_drop, inplace=True, axis=1)\n",
    "        dflow_obs[key] = df.copy()\n",
    "    else:\n",
    "        dflow_obs[key] = None"
   ]
  },
  {
   "cell_type": "markdown",
   "id": "0930d959-1c8e-4911-9702-c642a0736b8e",
   "metadata": {},
   "source": [
    "### Plot each observation location"
   ]
  },
  {
   "cell_type": "code",
   "execution_count": null,
   "id": "2a5c6818-b64b-484f-a8db-cb76d79e1706",
   "metadata": {},
   "outputs": [],
   "source": [
    "line_weight = 0.5"
   ]
  },
  {
   "cell_type": "code",
   "execution_count": null,
   "id": "8e70d695-b06b-493f-b1ef-9392673cb303",
   "metadata": {},
   "outputs": [],
   "source": [
    "# key = \"usgs_01311875\"\n",
    "for idx, key in enumerate(obs_dict.keys()):\n",
    "    print(f\"{idx+1:02d}: {key}\")\n",
    "    with flopy.plot.styles.USGSPlot():\n",
    "        fig, axs = plt.subplots(\n",
    "            ncols=1,\n",
    "            nrows=2,\n",
    "            layout=\"constrained\",\n",
    "            figsize=(6, 4),\n",
    "            sharex=True,\n",
    "            )\n",
    "\n",
    "        s_df = sfincs_obs[key]\n",
    "        d_df = dflow_obs[key]\n",
    "        if s_df is None and d_df is None:\n",
    "            continue\n",
    "\n",
    "        ax = axs[0]\n",
    "        if s_df is not None:\n",
    "            sfincs_obs[key].plot(ax=ax, lw=line_weight, color=\"blue\", legend=False)\n",
    "        if d_df is not None:\n",
    "            dflow_obs[key].plot(ax=ax, lw=line_weight, color=\"red\", legend=False)\n",
    "        ax.set_ylabel(\"Stage, m\")\n",
    "        flopy.plot.styles.heading(ax=ax, heading=f\"Station: {key}\")\n",
    "        flopy.plot.styles.graph_legend(ax=ax, loc=\"lower right\")\n",
    "        \n",
    "        if d_df is not None:\n",
    "            df = d_df.copy()\n",
    "        else:\n",
    "            df = s_df.copy()\n",
    "        if s_df is not None and d_df is not None:\n",
    "            df[\"difference\"] = dflow_obs[key][\"D-FLOW FM\"].values - sfincs_obs[key][\"SFINCS\"].values\n",
    "        else:\n",
    "            df[\"difference\"] = np.nan\n",
    "\n",
    "        ax = axs[1]\n",
    "        df[\"difference\"].plot(ax=ax, lw=line_weight, color=\"black\")\n",
    "        ax.set_ylabel(\"Stage Difference, m\")\n",
    "    \n",
    "        fig.savefig(ws / f\"obs_{key}{fig_ext}\", dpi=300, transparent=transparent)\n",
    "    plt.close()\n"
   ]
  },
  {
   "cell_type": "markdown",
   "id": "e545c32a-1cb1-4c22-98bb-6fdb368fcbce",
   "metadata": {},
   "source": [
    "### Plot select observation locations (ostations)"
   ]
  },
  {
   "cell_type": "code",
   "execution_count": null,
   "id": "957b866b-fcc8-4e82-9c0d-b87b3385331c",
   "metadata": {},
   "outputs": [],
   "source": [
    "with flopy.plot.styles.USGSPlot():\n",
    "    fig, axs = plt.subplots(\n",
    "        ncols=3,\n",
    "        nrows=2,\n",
    "        layout=\"constrained\",\n",
    "        figsize=(11.5, 2),\n",
    "        sharex=True,\n",
    "        sharey=True\n",
    "        )\n",
    "\n",
    "    idx = 0\n",
    "    jdx = 0\n",
    "\n",
    "    for key in ostations:\n",
    "\n",
    "        s_df = sfincs_obs[key]\n",
    "        d_df = dflow_obs[key]\n",
    "    \n",
    "        ax = axs[idx, jdx]\n",
    "        if s_df is not None:\n",
    "            sfincs_obs[key].plot(ax=ax, lw=line_weight, color=\"blue\", legend=False, xlabel=\"\")\n",
    "        if d_df is not None:\n",
    "            dflow_obs[key].plot(ax=ax, lw=line_weight, color=\"red\", legend=False, xlabel=\"\")\n",
    "        ax.set_ylabel(\"Stage, m\")\n",
    "        t = flopy.plot.styles.heading(ax=ax, heading=f\"Station: {key}\")\n",
    "        t.set_color(\"blue\")\n",
    "        if (idx, jdx) == (0, 0):\n",
    "            flopy.plot.styles.graph_legend(ax=ax, loc=\"lower right\", fontsize=6, title=\"none\")\n",
    "        \n",
    "        if d_df is not None:\n",
    "            df = d_df.copy()\n",
    "        else:\n",
    "            df = s_df.copy()\n",
    "        if s_df is not None and d_df is not None:\n",
    "            df[\"difference\"] = dflow_obs[key][\"D-FLOW FM\"].values - sfincs_obs[key][\"SFINCS\"].values\n",
    "        else:\n",
    "            df[\"difference\"] = np.nan\n",
    "    \n",
    "        idx += 1\n",
    "        ax = axs[idx, jdx]\n",
    "        df[\"difference\"].plot(ax=ax, lw=line_weight, color=\"black\", xlabel=\"\")\n",
    "        ax.set_ylabel(\"Stage\\nDifference, m\")\n",
    "\n",
    "        idx += 1\n",
    "        if idx > 1:\n",
    "            idx = 0\n",
    "            jdx += 1\n",
    "\n",
    "    fig.savefig(ws / f\"obs_ostations_summary{fig_ext}\", dpi=300, transparent=transparent)"
   ]
  },
  {
   "cell_type": "markdown",
   "id": "201d3afe-e85f-4559-9519-ec2a420e8f07",
   "metadata": {},
   "source": [
    "### Plot select observation locations (pstations)"
   ]
  },
  {
   "cell_type": "code",
   "execution_count": null,
   "id": "90983b8b-b5ff-4581-a318-8a37e989bc00",
   "metadata": {},
   "outputs": [],
   "source": [
    "with flopy.plot.styles.USGSPlot():\n",
    "    fig, axs = plt.subplots(\n",
    "        ncols=3,\n",
    "        nrows=4,\n",
    "        layout=\"constrained\",\n",
    "        figsize=(11.5, 4),\n",
    "        sharex=True,\n",
    "        sharey=True\n",
    "        )\n",
    "\n",
    "    idx = 0\n",
    "    jdx = 0\n",
    "\n",
    "    for key in pstations:\n",
    "\n",
    "        s_df = sfincs_obs[key]\n",
    "        d_df = dflow_obs[key]\n",
    "    \n",
    "        ax = axs[idx, jdx]\n",
    "        if s_df is not None:\n",
    "            sfincs_obs[key].plot(ax=ax, lw=line_weight, color=\"blue\", legend=False, xlabel=\"\")\n",
    "        if d_df is not None:\n",
    "            dflow_obs[key].plot(ax=ax, lw=line_weight, color=\"red\", legend=False, xlabel=\"\")\n",
    "        ax.set_ylabel(\"Stage, m\")\n",
    "        t = flopy.plot.styles.heading(ax=ax, heading=f\"Station: {key}\")\n",
    "        t.set_color(\"green\")\n",
    "        if (idx, jdx) == (0, 0):\n",
    "            flopy.plot.styles.graph_legend(ax=ax, loc=\"lower right\", fontsize=6, title=\"none\")\n",
    "        \n",
    "        if d_df is not None:\n",
    "            df = d_df.copy()\n",
    "        else:\n",
    "            df = s_df.copy()\n",
    "        if s_df is not None and d_df is not None:\n",
    "            df[\"difference\"] = dflow_obs[key][\"D-FLOW FM\"].values - sfincs_obs[key][\"SFINCS\"].values\n",
    "        else:\n",
    "            df[\"difference\"] = np.nan\n",
    "    \n",
    "        idx += 1\n",
    "        ax = axs[idx, jdx]\n",
    "        df[\"difference\"].plot(ax=ax, lw=line_weight, color=\"black\", xlabel=\"\")\n",
    "        ax.set_ylabel(\"Stage\\nDifference, m\")\n",
    "\n",
    "        idx += 1\n",
    "        if idx > 3:\n",
    "            idx = 0\n",
    "            jdx += 1\n",
    "\n",
    "    fig.savefig(ws / f\"obs_pstations_summary{fig_ext}\", dpi=300, transparent=transparent)"
   ]
  },
  {
   "cell_type": "code",
   "execution_count": null,
   "id": "dc6ae1de-c7af-4354-8194-395898bd3ab4",
   "metadata": {},
   "outputs": [],
   "source": []
  }
 ],
 "metadata": {
  "kernelspec": {
   "display_name": "Python 3 (ipykernel)",
   "language": "python",
   "name": "python3"
  },
  "language_info": {
   "codemirror_mode": {
    "name": "ipython",
    "version": 3
   },
   "file_extension": ".py",
   "mimetype": "text/x-python",
   "name": "python",
   "nbconvert_exporter": "python",
   "pygments_lexer": "ipython3",
   "version": "3.10.14"
  }
 },
 "nbformat": 4,
 "nbformat_minor": 5
}
