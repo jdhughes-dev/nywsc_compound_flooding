{
 "cells": [
  {
   "cell_type": "code",
   "execution_count": null,
   "id": "d25e7c40-03fa-43b4-9d4a-d56a5aafc8c7",
   "metadata": {},
   "outputs": [],
   "source": [
    "import numpy as np\n",
    "import pandas as pd\n",
    "import pathlib as pl\n",
    "\n",
    "import pyswmm\n",
    "from pyswmm.swmm5 import PySWMM\n",
    "from pyswmm import Simulation, Nodes"
   ]
  },
  {
   "cell_type": "code",
   "execution_count": null,
   "id": "1550d64b-d68d-4217-a104-9721e04ecb5d",
   "metadata": {},
   "outputs": [],
   "source": [
    "# SWMM mappings\n",
    "junctions = (\n",
    "     \"9\",\n",
    "     \"10\",\n",
    "     \"47\",\n",
    "     \"54\",\n",
    "     \"44\",\n",
    "     \"34\",\n",
    "     \"81\",\n",
    "     \"155\",\n",
    "     \"67\",\n",
    "     \"69\",\n",
    "     \"30\",\n",
    "     \"118\",\n",
    ")\n",
    "\n",
    "# these are the junction elevations in the SWMM inp file\n",
    "swmm_inverts = {\n",
    "    \"9\": 5,\n",
    "    \"10\": 2,\n",
    "    \"47\": 2.2,\n",
    "    \"54\": 0.7,\n",
    "    \"44\": 2.5,\n",
    "    \"34\": 6.0,\n",
    "    \"81\": 0.7,\n",
    "    \"155\": 3,\n",
    "    \"67\": -1.0,\n",
    "    \"69\": 1.0,\n",
    "    \"30\":  5.5,\n",
    "    \"118\": 4.6,\n",
    " }\n",
    "\n",
    "# MODFLOW -----------------\n",
    "# map of the junction names and the MODFLOW (row, column)\n",
    "# containing the junction\n",
    "mf6_cells = {\n",
    "    \"9\": (25, 32),\n",
    "    \"10\": (24, 32),\n",
    "    \"47\": (28, 33),\n",
    "    \"54\": (29, 33),\n",
    "    \"44\": (27, 33),\n",
    "    \"34\": (28, 31),\n",
    "    \"81\": (28, 30),\n",
    "    \"155\": (28, 29),\n",
    "    \"67\": (31, 32),\n",
    "    \"69\": (31, 31),\n",
    "    \"30\": (27, 31),\n",
    "    \"118\": (35, 26),\n",
    "}"
   ]
  },
  {
   "cell_type": "code",
   "execution_count": null,
   "id": "0fcdc455-a7cb-4149-9c3f-f55146587502",
   "metadata": {},
   "outputs": [],
   "source": [
    "swmm_path = pl.Path(\"../swmm/greenport/greenport_detailedsewer_v4_nosub175.inp\").resolve()\n",
    "print(swmm_path, swmm_path.is_file())"
   ]
  },
  {
   "cell_type": "code",
   "execution_count": null,
   "id": "1af1d6fa-ba77-447b-a722-ffc8e4993236",
   "metadata": {},
   "outputs": [],
   "source": [
    "fpth = swmm_path.with_suffix(\".out\")\n",
    "if fpth.is_file():\n",
    "    print(f\"removing: '{fpth}'\")\n",
    "    fpth.unlink()\n",
    "fpth = swmm_path.with_suffix(\".rpt\")\n",
    "if fpth.is_file():\n",
    "    print(f\"removing: '{fpth}'\")\n",
    "    fpth.unlink()"
   ]
  },
  {
   "cell_type": "code",
   "execution_count": null,
   "id": "2dfc3c67-dbb4-4706-8ad4-e0e17d828992",
   "metadata": {},
   "outputs": [],
   "source": [
    "swmm_sim = Simulation(str(swmm_path))"
   ]
  },
  {
   "cell_type": "code",
   "execution_count": null,
   "id": "5515d2c0-08cc-4b65-a599-73528b974667",
   "metadata": {},
   "outputs": [],
   "source": [
    "swmm_nodes = {}\n",
    "for j in junctions:\n",
    "    swmm_nodes[j] = pyswmm.Nodes(swmm_sim)[j]"
   ]
  },
  {
   "cell_type": "code",
   "execution_count": null,
   "id": "6da658b4-6474-4f3a-96d1-2f46a629002f",
   "metadata": {},
   "outputs": [],
   "source": [
    "dt = np.full((90), 86400, dtype=int)"
   ]
  },
  {
   "cell_type": "code",
   "execution_count": null,
   "id": "5a01e6b5-3e0d-4963-900e-a98c767376a6",
   "metadata": {},
   "outputs": [],
   "source": [
    "swmm_sim.step_advance(86400)"
   ]
  },
  {
   "cell_type": "code",
   "execution_count": null,
   "id": "6a8d7f54-60f8-417b-9aaa-420ddda3878c",
   "metadata": {},
   "outputs": [],
   "source": [
    "swmm_sim.start()"
   ]
  },
  {
   "cell_type": "code",
   "execution_count": null,
   "id": "5abe053c-86de-47b6-bb8c-2a1e01c529b2",
   "metadata": {},
   "outputs": [],
   "source": [
    "for t in dt:\n",
    "    t0 = swmm_sim.current_time\n",
    "    swmm_sim.__next__()\n",
    "    t1 = swmm_sim.current_time\n",
    "    print(f\"start: {t0} end: {t1}\")"
   ]
  },
  {
   "cell_type": "code",
   "execution_count": null,
   "id": "4fd087c9-4485-449f-b6ee-697da9d94732",
   "metadata": {},
   "outputs": [],
   "source": [
    "swmm_sim.terminate_simulation()"
   ]
  },
  {
   "cell_type": "code",
   "execution_count": null,
   "id": "2ce0e836-ad91-434f-abdb-117f7109a021",
   "metadata": {},
   "outputs": [],
   "source": [
    "swmm_sim.report()"
   ]
  },
  {
   "cell_type": "code",
   "execution_count": null,
   "id": "15c3b0c0-64d9-4c1d-beac-b176d43eb733",
   "metadata": {},
   "outputs": [],
   "source": [
    "swmm_sim.close()"
   ]
  },
  {
   "cell_type": "code",
   "execution_count": null,
   "id": "a54d7a0c-852f-4256-a533-21ed99754def",
   "metadata": {},
   "outputs": [],
   "source": []
  },
  {
   "cell_type": "code",
   "execution_count": null,
   "id": "a42df8a5-b4cf-4b6f-b125-827052677931",
   "metadata": {},
   "outputs": [],
   "source": []
  }
 ],
 "metadata": {
  "kernelspec": {
   "display_name": "Python 3 (ipykernel)",
   "language": "python",
   "name": "python3"
  },
  "language_info": {
   "codemirror_mode": {
    "name": "ipython",
    "version": 3
   },
   "file_extension": ".py",
   "mimetype": "text/x-python",
   "name": "python",
   "nbconvert_exporter": "python",
   "pygments_lexer": "ipython3",
   "version": "3.10.0"
  }
 },
 "nbformat": 4,
 "nbformat_minor": 5
}
