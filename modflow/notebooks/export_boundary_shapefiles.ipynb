{
 "cells": [
  {
   "cell_type": "code",
   "execution_count": null,
   "id": "a4ce7665-e58f-48e7-bff9-736ccbe42a5b",
   "metadata": {},
   "outputs": [],
   "source": [
    "%matplotlib inline\n",
    "import pathlib as pl\n",
    "import numpy as np\n",
    "import sys\n",
    "import xugrid\n",
    "import geopandas as gpd\n",
    "import matplotlib.pyplot as plt\n",
    "import pandas as pd\n",
    "\n",
    "import flopy\n",
    "from flopy.export.shapefile_utils import recarray2shp\n",
    "from flopy.utils.geometry import Polygon\n",
    "import flopy.plot.styles as styles"
   ]
  },
  {
   "cell_type": "code",
   "execution_count": null,
   "id": "1c40e78f-5403-4dee-9275-11cc58363931",
   "metadata": {},
   "outputs": [],
   "source": [
    "to_crs_projection = \"EPSG:32618\""
   ]
  },
  {
   "cell_type": "code",
   "execution_count": null,
   "id": "d680ed94-2e00-4851-b497-57df95d2b0c1",
   "metadata": {},
   "outputs": [],
   "source": [
    "ws = pl.Path(\"../greenport_chd/base/\")"
   ]
  },
  {
   "cell_type": "code",
   "execution_count": null,
   "id": "c4afffc1-20da-4eaf-818d-9767d7d2c244",
   "metadata": {},
   "outputs": [],
   "source": [
    "sim = flopy.mf6.MFSimulation.load(sim_ws=ws, use_pandas=False)"
   ]
  },
  {
   "cell_type": "code",
   "execution_count": null,
   "id": "626be656-e515-4c5a-91b3-5ed156c45c28",
   "metadata": {},
   "outputs": [],
   "source": [
    "sim.model_names"
   ]
  },
  {
   "cell_type": "code",
   "execution_count": null,
   "id": "965c7c16-21a0-4a46-a145-e5da50c73962",
   "metadata": {},
   "outputs": [],
   "source": [
    "gwf = sim.get_model(\"gwf\")"
   ]
  },
  {
   "cell_type": "code",
   "execution_count": null,
   "id": "da45fb4a-e890-49dc-a071-7df5dba975d9",
   "metadata": {},
   "outputs": [],
   "source": [
    "gwf.modelgrid.crs = \"EPSG:4456\""
   ]
  },
  {
   "cell_type": "code",
   "execution_count": null,
   "id": "3783d669-2e6c-473b-9813-ec382164e0d1",
   "metadata": {},
   "outputs": [],
   "source": [
    "gwf.package_names"
   ]
  },
  {
   "cell_type": "code",
   "execution_count": null,
   "id": "0b300a3a-c1d9-4812-b46c-22f0913502c8",
   "metadata": {},
   "outputs": [],
   "source": [
    "mm = flopy.plot.PlotMapView(model=gwf, layer=0)\n",
    "mm.plot_bc(\"GHB\")\n",
    "mm.plot_bc(\"CHD_SURFACE\")"
   ]
  },
  {
   "cell_type": "markdown",
   "id": "60b53576-bd26-46b5-b1e5-b15d00c8fd43",
   "metadata": {},
   "source": [
    "# Create the shapefile of the chd surface data"
   ]
  },
  {
   "cell_type": "code",
   "execution_count": null,
   "id": "5cbe75e4-15e6-48cd-ba76-306a6b296022",
   "metadata": {},
   "outputs": [],
   "source": [
    "fpth = pl.Path(\"../gis/greenport_chd_chd_surface_4456.shp\")"
   ]
  },
  {
   "cell_type": "code",
   "execution_count": null,
   "id": "6553549e-44f3-4a0e-941e-392258018dd9",
   "metadata": {},
   "outputs": [],
   "source": [
    "chd_surface = gwf.get_package(\"chd_surface\")"
   ]
  },
  {
   "cell_type": "code",
   "execution_count": null,
   "id": "2b9423ad-83dc-411a-9fdb-f0a7334a495c",
   "metadata": {},
   "outputs": [],
   "source": [
    "chd_spd = pd.DataFrame(chd_surface.stress_period_data.get_data(0))\n",
    "chd_spd"
   ]
  },
  {
   "cell_type": "code",
   "execution_count": null,
   "id": "c4e1d89f-3d17-47b0-ab74-524cc49d145f",
   "metadata": {},
   "outputs": [],
   "source": [
    "vertices = []\n",
    "for k, i, j in chd_spd[\"cellid\"]:\n",
    "    vertices.append(gwf.modelgrid.get_cell_vertices(i, j))\n",
    "polygons = [Polygon(vrt) for vrt in vertices]\n",
    "len(polygons)"
   ]
  },
  {
   "cell_type": "code",
   "execution_count": null,
   "id": "081fa926-6e45-4f57-8ddc-619cfabe6e1e",
   "metadata": {},
   "outputs": [],
   "source": [
    "layer = [k for k, i, j in chd_spd[\"cellid\"]]\n",
    "row = [i for k, i, j in chd_spd[\"cellid\"]]\n",
    "column = [j for k, i, j in chd_spd[\"cellid\"]]"
   ]
  },
  {
   "cell_type": "code",
   "execution_count": null,
   "id": "4ed9dcbe-9437-4996-970e-f8076f0de929",
   "metadata": {},
   "outputs": [],
   "source": [
    "chd_spd[\"layer\"] = layer\n",
    "chd_spd[\"row\"] = row\n",
    "chd_spd[\"column\"] = column\n",
    "chd_spd.drop(columns=[\"cellid\"], inplace=True)"
   ]
  },
  {
   "cell_type": "code",
   "execution_count": null,
   "id": "efceca25-5c17-4231-b7f3-d3a9305de56f",
   "metadata": {},
   "outputs": [],
   "source": [
    "chd_spd[\"chd_no\"] = chd_spd.index\n",
    "chd_spd"
   ]
  },
  {
   "cell_type": "code",
   "execution_count": null,
   "id": "e7ba5513-f4d2-473d-ada2-8981e6d38d97",
   "metadata": {},
   "outputs": [],
   "source": [
    "recarray2shp(chd_spd.to_records(index=False), geoms=polygons, shpname=fpth, crs=gwf.modelgrid.crs)"
   ]
  },
  {
   "cell_type": "code",
   "execution_count": null,
   "id": "a60435b3-d0e3-4438-b3ec-2dfea66f1404",
   "metadata": {},
   "outputs": [],
   "source": [
    "gdf = gpd.read_file(fpth)\n",
    "gdf"
   ]
  },
  {
   "cell_type": "code",
   "execution_count": null,
   "id": "535d875a-8238-4556-9790-964f5718f8d6",
   "metadata": {},
   "outputs": [],
   "source": [
    "gdf.crs = gwf.modelgrid.crs"
   ]
  },
  {
   "cell_type": "code",
   "execution_count": null,
   "id": "27be1d32-b281-461b-90cb-a0235c7e09a2",
   "metadata": {},
   "outputs": [],
   "source": [
    "gdf.plot()"
   ]
  },
  {
   "cell_type": "markdown",
   "id": "416a3fbf-5b1c-42ed-9e21-1387d0895ba8",
   "metadata": {},
   "source": [
    "## Reproject the chd surface data shapefile to UTM zone 18N"
   ]
  },
  {
   "cell_type": "code",
   "execution_count": null,
   "id": "1f25215e-377d-4188-85ef-9c37a4258143",
   "metadata": {},
   "outputs": [],
   "source": [
    "fpth = pl.Path(\"../gis/greenport_chd_chd_surface_utm18n.shp\")"
   ]
  },
  {
   "cell_type": "code",
   "execution_count": null,
   "id": "c355a366-e2ce-437c-bef5-a1acf9c9cd7e",
   "metadata": {},
   "outputs": [],
   "source": [
    "gdf.to_crs(to_crs_projection).to_file(fpth)"
   ]
  },
  {
   "cell_type": "code",
   "execution_count": null,
   "id": "14d19ccd-d2f1-4770-a018-f40171792a25",
   "metadata": {},
   "outputs": [],
   "source": [
    "gpd.read_file(fpth).plot()"
   ]
  },
  {
   "cell_type": "markdown",
   "id": "ca75932c-bcd8-40ec-b838-5d2145607f89",
   "metadata": {},
   "source": [
    "# Create the shapefile of the ghb data"
   ]
  },
  {
   "cell_type": "code",
   "execution_count": null,
   "id": "be2dc95c-1be7-49f0-924f-2702d3845ad0",
   "metadata": {},
   "outputs": [],
   "source": [
    "fpth = pl.Path(\"../gis/greenport_chd_ghb_4456.shp\")"
   ]
  },
  {
   "cell_type": "code",
   "execution_count": null,
   "id": "0770a701-ced5-4495-b924-c3b37fccad55",
   "metadata": {},
   "outputs": [],
   "source": [
    "ghb = gwf.get_package(\"ghb\")"
   ]
  },
  {
   "cell_type": "code",
   "execution_count": null,
   "id": "a2320c9f-c14a-46ce-af18-c195c7e532b1",
   "metadata": {},
   "outputs": [],
   "source": [
    "ghb_spd = pd.DataFrame(ghb.stress_period_data.get_data(0))\n",
    "ghb_spd"
   ]
  },
  {
   "cell_type": "code",
   "execution_count": null,
   "id": "323d07e3-e5f0-4c35-b61b-593ccb6104d2",
   "metadata": {},
   "outputs": [],
   "source": [
    "ghb_spd[\"boundname\"] = \"wetland\"\n",
    "ghb_spd.rename(columns={\"bhead\": \"head\"}, errors=\"raise\", inplace=True)\n",
    "ghb_spd"
   ]
  },
  {
   "cell_type": "code",
   "execution_count": null,
   "id": "c23d8531-2b04-4e6b-8269-196dee91b0c2",
   "metadata": {},
   "outputs": [],
   "source": [
    "vertices = []\n",
    "for k, i, j in ghb_spd[\"cellid\"]:\n",
    "    vertices.append(gwf.modelgrid.get_cell_vertices(i, j))\n",
    "polygons = [Polygon(vrt) for vrt in vertices]\n",
    "len(polygons)"
   ]
  },
  {
   "cell_type": "code",
   "execution_count": null,
   "id": "f0562f7e-0aa9-4873-b032-d2398a53794a",
   "metadata": {},
   "outputs": [],
   "source": [
    "layer = [k for k, i, j in ghb_spd[\"cellid\"]]\n",
    "row = [i for k, i, j in ghb_spd[\"cellid\"]]\n",
    "column = [j for k, i, j in ghb_spd[\"cellid\"]]"
   ]
  },
  {
   "cell_type": "code",
   "execution_count": null,
   "id": "b82dd7ad-c818-4228-8990-26fbc6397887",
   "metadata": {},
   "outputs": [],
   "source": [
    "ghb_spd[\"layer\"] = layer\n",
    "ghb_spd[\"row\"] = row\n",
    "ghb_spd[\"column\"] = column\n",
    "ghb_spd.drop(columns=[\"cellid\"], inplace=True)"
   ]
  },
  {
   "cell_type": "code",
   "execution_count": null,
   "id": "04e7b50c-57bb-4043-9205-d632c7e1f089",
   "metadata": {},
   "outputs": [],
   "source": [
    "ghb_spd[\"ghb_no\"] = ghb_spd.index"
   ]
  },
  {
   "cell_type": "code",
   "execution_count": null,
   "id": "cabc8aba-5552-4d71-a26e-ca89832d80ef",
   "metadata": {},
   "outputs": [],
   "source": [
    "recarray2shp(ghb_spd.to_records(index=False), geoms=polygons, shpname=fpth, crs=gwf.modelgrid.crs)"
   ]
  },
  {
   "cell_type": "code",
   "execution_count": null,
   "id": "ddf35fd8-308b-4c08-bc35-794a57a524f3",
   "metadata": {},
   "outputs": [],
   "source": [
    "gdf = gpd.read_file(fpth)\n",
    "gdf"
   ]
  },
  {
   "cell_type": "code",
   "execution_count": null,
   "id": "2f61e987-f7e4-4487-8ded-b7ee269d0ed9",
   "metadata": {},
   "outputs": [],
   "source": [
    "gdf.crs = gwf.modelgrid.crs"
   ]
  },
  {
   "cell_type": "code",
   "execution_count": null,
   "id": "b7db773f-b6c8-4b41-aee8-8583fa56cc1f",
   "metadata": {},
   "outputs": [],
   "source": [
    "gdf.plot()"
   ]
  },
  {
   "cell_type": "markdown",
   "id": "8d30b1eb-f7eb-4cd2-9cb6-5740252964e1",
   "metadata": {},
   "source": [
    "## Reproject the ghb data shapefile to UTM zone 18N"
   ]
  },
  {
   "cell_type": "code",
   "execution_count": null,
   "id": "d2a9cc85-0f9b-49b1-a45f-4397a47af0aa",
   "metadata": {},
   "outputs": [],
   "source": [
    "fpth = pl.Path(\"../gis/greenport_chd_ghb_utm18n.shp\")"
   ]
  },
  {
   "cell_type": "code",
   "execution_count": null,
   "id": "96b67fd9-883e-4139-bb4c-3fa2d0611af5",
   "metadata": {},
   "outputs": [],
   "source": [
    "gdf.to_crs(to_crs_projection).to_file(fpth)"
   ]
  },
  {
   "cell_type": "code",
   "execution_count": null,
   "id": "5be5515f-c8e3-488c-a925-18b331416d6e",
   "metadata": {},
   "outputs": [],
   "source": [
    "gpd.read_file(fpth).plot()"
   ]
  },
  {
   "cell_type": "markdown",
   "id": "2e6075aa-afc2-4d25-8b35-3d880105e7af",
   "metadata": {},
   "source": [
    "# Concatenate the two dataframes to create a shapefile for plotting"
   ]
  },
  {
   "cell_type": "code",
   "execution_count": null,
   "id": "d9ff3a2a-120b-42f3-b9ef-f54d7dc986fd",
   "metadata": {},
   "outputs": [],
   "source": [
    "fpth = pl.Path(\"../gis/greenport_chd_plot_4456.shp\")"
   ]
  },
  {
   "cell_type": "code",
   "execution_count": null,
   "id": "f634c376-89f5-438e-ab8c-1f77e8bf4282",
   "metadata": {},
   "outputs": [],
   "source": [
    "spd = pd.concat([chd_spd, ghb_spd])"
   ]
  },
  {
   "cell_type": "code",
   "execution_count": null,
   "id": "07d781ff-5378-4743-91f3-4d5056e869f3",
   "metadata": {},
   "outputs": [],
   "source": [
    "spd = spd.assign(bnd_no=spd.chd_no.mask(spd.chd_no.isnull(), spd.ghb_no))"
   ]
  },
  {
   "cell_type": "code",
   "execution_count": null,
   "id": "e49b6ae4-61b6-4d9b-8ebe-c55f91848b59",
   "metadata": {},
   "outputs": [],
   "source": [
    "spd[\"bnd_no\"] = spd[\"bnd_no\"].astype(int)"
   ]
  },
  {
   "cell_type": "code",
   "execution_count": null,
   "id": "7b183e32-a945-4472-91f1-2cf608d984b3",
   "metadata": {},
   "outputs": [],
   "source": [
    "spd"
   ]
  },
  {
   "cell_type": "code",
   "execution_count": null,
   "id": "858e1ffd-11a5-4d29-9e8d-0202b1d4498c",
   "metadata": {},
   "outputs": [],
   "source": [
    "vertices = []\n",
    "for i, j in zip(spd[\"row\"], spd[\"column\"]):\n",
    "    vertices.append(gwf.modelgrid.get_cell_vertices(i, j))\n",
    "polygons = [Polygon(vrt) for vrt in vertices]\n",
    "len(polygons)"
   ]
  },
  {
   "cell_type": "code",
   "execution_count": null,
   "id": "22cb8600-5844-4be3-9955-95454193666b",
   "metadata": {},
   "outputs": [],
   "source": [
    "recarray2shp(spd.to_records(index=False), geoms=polygons, shpname=fpth, crs=gwf.modelgrid.crs)"
   ]
  },
  {
   "cell_type": "code",
   "execution_count": null,
   "id": "22ab4764-fe07-44a4-abaf-558620147039",
   "metadata": {},
   "outputs": [],
   "source": [
    "gdf = gpd.read_file(fpth)\n",
    "gdf.crs = gwf.modelgrid.crs\n",
    "gdf"
   ]
  },
  {
   "cell_type": "code",
   "execution_count": null,
   "id": "62d1bc25-ab56-41c1-a471-305a95fe1c53",
   "metadata": {},
   "outputs": [],
   "source": [
    "gdf.plot(column=\"boundname\")"
   ]
  },
  {
   "cell_type": "markdown",
   "id": "ffc0b513-b8ad-424c-a0ca-acd92117935f",
   "metadata": {},
   "source": [
    "## Reproject the chd and ghb data shapefile to UTM zone 18N"
   ]
  },
  {
   "cell_type": "code",
   "execution_count": null,
   "id": "b72e87cc-5f3e-4d84-a12c-b6800054dbab",
   "metadata": {},
   "outputs": [],
   "source": [
    "fpth = pl.Path(\"../gis/greenport_chd_plot_utm18n.shp\")"
   ]
  },
  {
   "cell_type": "code",
   "execution_count": null,
   "id": "1226a578-431b-44ac-9a62-25af7ff0f352",
   "metadata": {},
   "outputs": [],
   "source": [
    "gdf.to_crs(to_crs_projection).to_file(fpth)"
   ]
  },
  {
   "cell_type": "code",
   "execution_count": null,
   "id": "f2f8df6a-83e9-450a-880b-cacfb9270e2d",
   "metadata": {},
   "outputs": [],
   "source": [
    "gpd.read_file(fpth).plot(column=\"boundname\")"
   ]
  },
  {
   "cell_type": "code",
   "execution_count": null,
   "id": "1c37e019-e15e-4078-a022-02101b506aa3",
   "metadata": {},
   "outputs": [],
   "source": []
  },
  {
   "cell_type": "code",
   "execution_count": null,
   "id": "83436330-bb09-4f1e-9d66-da5b0e608d81",
   "metadata": {},
   "outputs": [],
   "source": []
  },
  {
   "cell_type": "code",
   "execution_count": null,
   "id": "4aada6a4-5fd3-47f3-a2be-1e31469f5c1a",
   "metadata": {},
   "outputs": [],
   "source": []
  }
 ],
 "metadata": {
  "kernelspec": {
   "display_name": "Python 3 (ipykernel)",
   "language": "python",
   "name": "python3"
  },
  "language_info": {
   "codemirror_mode": {
    "name": "ipython",
    "version": 3
   },
   "file_extension": ".py",
   "mimetype": "text/x-python",
   "name": "python",
   "nbconvert_exporter": "python",
   "pygments_lexer": "ipython3",
   "version": "3.10.0"
  }
 },
 "nbformat": 4,
 "nbformat_minor": 5
}
