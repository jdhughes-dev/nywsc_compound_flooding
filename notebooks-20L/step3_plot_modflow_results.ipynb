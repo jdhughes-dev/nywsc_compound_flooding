{
 "cells": [
  {
   "cell_type": "code",
   "execution_count": null,
   "metadata": {},
   "outputs": [],
   "source": [
    "%matplotlib inline\n",
    "import datetime\n",
    "import numpy as np\n",
    "import pathlib as pl\n",
    "import pandas as pd\n",
    "import geopandas as gpd\n",
    "import sys\n",
    "import xugrid\n",
    "\n",
    "import matplotlib as mpl\n",
    "import matplotlib.pyplot as plt\n",
    "from matplotlib.dates import MonthLocator, DateFormatter\n",
    "import matplotlib.dates as dates\n",
    "import matplotlib.ticker as ticker\n",
    "\n",
    "from matplotlib.animation import FuncAnimation\n",
    "from IPython.display import HTML\n",
    "\n",
    "import flopy\n",
    "import flopy.plot.styles as styles"
   ]
  },
  {
   "cell_type": "code",
   "execution_count": null,
   "metadata": {},
   "outputs": [],
   "source": [
    "sys.path.append(\"../common\")\n",
    "from liss_settings import (\n",
    "                            cx, cx_provider, \n",
    "                            extent, boxx, boxy, \n",
    "                            mf6_model_crs, \n",
    "                            set_title_string,  \n",
    "                            fig_ext, transparent, \n",
    "                            get_modflow_coupling_tag, \n",
    "                            get_dflow_dtuser, \n",
    "                            get_dflow_grid_name,\n",
    "                          )"
   ]
  },
  {
   "cell_type": "code",
   "execution_count": null,
   "metadata": {},
   "outputs": [],
   "source": [
    "figsize = (10.6, 5.95)\n",
    "alpha = 0.5\n",
    "basemap_kwds = {\"attribution\": False, \"source\": cx_provider, \"zoom\": 13}\n",
    "progress_kwds = {\"lw\": 0.0, \"fc\": \"cyan\", \"alpha\": 0.25, \"zorder\": 10}\n",
    "animation_ws = pl.Path(\"animations\")\n",
    "animation_ws.mkdir(exist_ok=True, parents=True)"
   ]
  },
  {
   "cell_type": "markdown",
   "metadata": {},
   "source": [
    "#### Set unit conversion factors"
   ]
  },
  {
   "cell_type": "code",
   "execution_count": null,
   "metadata": {},
   "outputs": [],
   "source": [
    "d2sec = 24. * 60. * 60.\n",
    "hrs2sec = 60. * 60. \n",
    "m2ft = 3.28081\n",
    "cfd2cms = 1.0 / ((3.28082**3) * 86400.)"
   ]
  },
  {
   "cell_type": "code",
   "execution_count": null,
   "metadata": {},
   "outputs": [],
   "source": [
    "units = \"mm\"\n",
    "conversion_factor = 1.0\n",
    "if units == \"mm\":\n",
    "    conversion_factor = 1000.0 / 3.28081\n",
    "elif units == \"in\":\n",
    "    conversion_factor = 12.0\n",
    "head_units = \"m\"\n",
    "head_conversion_factor = 1.0\n",
    "if head_units == \"m\":\n",
    "    head_conversion_factor = 1.0 / 3.28081\n",
    "stage_units = head_units\n",
    "stage_conversion_factor = 1.0\n",
    "if stage_units == \"ft\":\n",
    "    stage_conversion_factor = 3.28081\n",
    "flux_units = units\n",
    "if flux_units == \"mm\":\n",
    "    flux_conversion_factor = 1000.0\n",
    "elif flux_units == \"in\":\n",
    "    flux_conversion_factor = 3.28081 * 12.\n"
   ]
  },
  {
   "cell_type": "markdown",
   "metadata": {},
   "source": [
    "#### Set the MODFLOW coupling frequency\n",
    "\n",
    "Change the `mf_couple_freq_hours` value. Only tested for multiple of the D-Flow FM DtUser variable. Will not work for `mf_couple_freq_hours` values greater than 24."
   ]
  },
  {
   "cell_type": "code",
   "execution_count": null,
   "metadata": {},
   "outputs": [],
   "source": [
    "control_path = pl.Path(\"../dflow-fm/coarse/tides/base/FlowFM.mdu\") # change this if using a different D-Flow FM control file\n",
    "grid_name = get_dflow_grid_name(control_path)\n",
    "print(grid_name)"
   ]
  },
  {
   "cell_type": "code",
   "execution_count": null,
   "metadata": {},
   "outputs": [],
   "source": [
    "coastal_dtuser = get_dflow_dtuser(control_path)\n",
    "print(coastal_dtuser)"
   ]
  },
  {
   "cell_type": "code",
   "execution_count": null,
   "metadata": {},
   "outputs": [],
   "source": [
    "mf_couple_freq_hours = 1.0  #Change this value to change the coupling frequency\n",
    "mf_couple_freq = mf_couple_freq_hours * hrs2sec\n",
    "coastal_per_mf = int(mf_couple_freq / coastal_dtuser)\n",
    "mf_output_sample = int(24. / mf_couple_freq_hours)"
   ]
  },
  {
   "cell_type": "code",
   "execution_count": null,
   "metadata": {},
   "outputs": [],
   "source": [
    "print(\n",
    "    f\"MODFLOW coupling frequency {mf_couple_freq_hours} hours\\n\" +\n",
    "    f\"MODFLOW coupled to the coastal every {coastal_per_mf} output time step ({coastal_dtuser} sec.)\\n\" +\n",
    "    f\"MODFLOW output sampling frequency {mf_output_sample}\"\n",
    ") "
   ]
  },
  {
   "cell_type": "code",
   "execution_count": null,
   "metadata": {},
   "outputs": [],
   "source": [
    "mf_tag = get_modflow_coupling_tag(mf_couple_freq_hours)\n",
    "print(f\"MODFLOW coupling tag: {mf_tag}\")"
   ]
  },
  {
   "cell_type": "markdown",
   "metadata": {},
   "source": [
    "#### Coastal model results (used for the calendar times)"
   ]
  },
  {
   "cell_type": "code",
   "execution_count": null,
   "metadata": {},
   "outputs": [],
   "source": [
    "full_results_ds = xugrid.open_dataset(\"../dflow-fm/coarse/tides/run/output/FlowFM_map.nc\")\n",
    "full_results_ds"
   ]
  },
  {
   "cell_type": "markdown",
   "metadata": {},
   "source": [
    "#### Extract subset of coastal model for plotting "
   ]
  },
  {
   "cell_type": "code",
   "execution_count": null,
   "metadata": {},
   "outputs": [],
   "source": [
    "results_ds = full_results_ds"
   ]
  },
  {
   "cell_type": "code",
   "execution_count": null,
   "metadata": {},
   "outputs": [],
   "source": [
    "coastal_gdf = results_ds[\"mesh2d_nFaces\"].ugrid.to_geodataframe(name=\"cell\")\n",
    "coastal_gdf[\"stage\"] = np.zeros((results_ds[\"mesh2d_nFaces\"].values.shape[0]), dtype=float)\n",
    "coastal_gdf.set_crs(32618, inplace=True)"
   ]
  },
  {
   "cell_type": "code",
   "execution_count": null,
   "metadata": {},
   "outputs": [],
   "source": [
    "cell_areas = coastal_gdf.area.values\n",
    "cell_areas"
   ]
  },
  {
   "cell_type": "code",
   "execution_count": null,
   "metadata": {},
   "outputs": [],
   "source": [
    "time_str = results_ds[\"time\"].values\n",
    "time_str, time_str[-1]"
   ]
  },
  {
   "cell_type": "code",
   "execution_count": null,
   "metadata": {},
   "outputs": [],
   "source": [
    "output_freq = int(np.timedelta64(1, \"D\") / (time_str[1] - time_str[0]))\n",
    "time_index = np.arange(0, time_str.shape[0], output_freq)\n",
    "time_index.shape, time_index[1:]"
   ]
  },
  {
   "cell_type": "code",
   "execution_count": null,
   "metadata": {},
   "outputs": [],
   "source": [
    "time_mf = time_str[time_index]\n",
    "print(time_mf.shape, time_mf)"
   ]
  },
  {
   "cell_type": "code",
   "execution_count": null,
   "metadata": {},
   "outputs": [],
   "source": [
    "gp_gpd = gpd.read_file(\"../modflow/gis/greenpoint_onshore_offshore_utm18n.shp\")"
   ]
  },
  {
   "cell_type": "markdown",
   "metadata": {},
   "source": [
    "#### Load the MODFLOW model"
   ]
  },
  {
   "cell_type": "code",
   "execution_count": null,
   "metadata": {},
   "outputs": [],
   "source": [
    "mf_run_path = pl.Path(f\"../modflow/greenport500ft/run_{mf_tag}/\")\n",
    "mf_npz_path = mf_run_path"
   ]
  },
  {
   "cell_type": "code",
   "execution_count": null,
   "metadata": {},
   "outputs": [],
   "source": [
    "sim = flopy.mf6.MFSimulation.load(sim_ws=mf_run_path)\n",
    "gwf = sim.get_model()"
   ]
  },
  {
   "cell_type": "code",
   "execution_count": null,
   "metadata": {},
   "outputs": [],
   "source": [
    "hobj = gwf.output.head()"
   ]
  },
  {
   "cell_type": "code",
   "execution_count": null,
   "metadata": {},
   "outputs": [],
   "source": [
    "totimes = hobj.get_times()\n",
    "print(f\"{len(totimes)}\\n{totimes}\")"
   ]
  },
  {
   "cell_type": "code",
   "execution_count": null,
   "metadata": {},
   "outputs": [],
   "source": [
    "bobj = gwf.output.budget()"
   ]
  },
  {
   "cell_type": "code",
   "execution_count": null,
   "metadata": {},
   "outputs": [],
   "source": [
    "bobj.get_unique_record_names()"
   ]
  },
  {
   "cell_type": "markdown",
   "metadata": {},
   "source": [
    "#### Calculate the mean recharge"
   ]
  },
  {
   "cell_type": "code",
   "execution_count": null,
   "metadata": {},
   "outputs": [],
   "source": [
    "mean_recharge = []\n",
    "for totim in totimes:\n",
    "    rQ = bobj.get_data(text=\"RCH\", totim=totim)[0]\n",
    "    q = rQ[\"q\"]\n",
    "    idx = q > 0.\n",
    "    mean_recharge.append(q[idx].mean())\n",
    "    \n",
    "mean_recharge = np.array(mean_recharge) * (conversion_factor / (500. * 500.))"
   ]
  },
  {
   "cell_type": "code",
   "execution_count": null,
   "metadata": {},
   "outputs": [],
   "source": [
    "mean_recharge.shape, mean_recharge.max()"
   ]
  },
  {
   "cell_type": "code",
   "execution_count": null,
   "metadata": {},
   "outputs": [],
   "source": [
    "df = pd.DataFrame(data=mean_recharge)\n",
    "df.set_index(time_mf[:mean_recharge.shape[0]],inplace=True)"
   ]
  },
  {
   "cell_type": "code",
   "execution_count": null,
   "metadata": {},
   "outputs": [],
   "source": [
    "df"
   ]
  },
  {
   "cell_type": "markdown",
   "metadata": {},
   "source": [
    "#### Load ghb shapefile"
   ]
  },
  {
   "cell_type": "code",
   "execution_count": null,
   "metadata": {
    "scrolled": true
   },
   "outputs": [],
   "source": [
    "mf6_gpd = gpd.read_file(\"../modflow/gis/greenpoint_ghb_4456.shp\")\n",
    "mf6_gpd[\"head_difference\"] = np.zeros((mf6_gpd.shape[0]), dtype=float)\n",
    "mf6_gpd"
   ]
  },
  {
   "cell_type": "code",
   "execution_count": null,
   "metadata": {},
   "outputs": [],
   "source": [
    "mf6_gpd.crs"
   ]
  },
  {
   "cell_type": "markdown",
   "metadata": {},
   "source": [
    "#### Load active grid shapefile"
   ]
  },
  {
   "cell_type": "code",
   "execution_count": null,
   "metadata": {},
   "outputs": [],
   "source": [
    "mf6_grid_gpd = gpd.read_file(\"../modflow/gis/greenpoint_onshore_offshore_4456.shp\")\n",
    "mf6_grid_gpd"
   ]
  },
  {
   "cell_type": "markdown",
   "metadata": {},
   "source": [
    "#### Set the crs for the MODFLOW model"
   ]
  },
  {
   "cell_type": "code",
   "execution_count": null,
   "metadata": {},
   "outputs": [],
   "source": [
    "gwf.modelgrid.crs = mf6_gpd.crs"
   ]
  },
  {
   "cell_type": "markdown",
   "metadata": {},
   "source": [
    "#### Load ghb data calculated using coastal model results"
   ]
  },
  {
   "cell_type": "code",
   "execution_count": null,
   "metadata": {},
   "outputs": [],
   "source": [
    "ghb_elev = np.load(f\"{mf_npz_path}/ghb_elev.npz\")\n",
    "ghb_elev"
   ]
  },
  {
   "cell_type": "code",
   "execution_count": null,
   "metadata": {},
   "outputs": [],
   "source": [
    "ghb_cond = np.load(f\"{mf_npz_path}/ghb_cond.npz\")\n",
    "ghb_cond"
   ]
  },
  {
   "cell_type": "code",
   "execution_count": null,
   "metadata": {},
   "outputs": [],
   "source": [
    "qext_elev = np.load(f\"{mf_npz_path}/qext.npz\")\n",
    "qext_elev"
   ]
  },
  {
   "cell_type": "code",
   "execution_count": null,
   "metadata": {},
   "outputs": [],
   "source": [
    "qsize, qmin, qmax = 0, 1e30, -1e30\n",
    "for key, value in qext_elev.items():\n",
    "    qsize = value.shape[0]\n",
    "    qmin = min(qmin, np.nanmin(value))\n",
    "    qmax = max(qmax, np.nanmax(value))\n",
    "qmin *= 3.28081 * 12.0\n",
    "qmax *= 3.28081 * 12.0\n",
    "qsize, qmin, qmax"
   ]
  },
  {
   "cell_type": "code",
   "execution_count": null,
   "metadata": {},
   "outputs": [],
   "source": [
    "qmin, qmax = -8.0, 8.0"
   ]
  },
  {
   "cell_type": "code",
   "execution_count": null,
   "metadata": {},
   "outputs": [],
   "source": [
    "qvalue = np.full(qsize, np.nan, dtype=float)"
   ]
  },
  {
   "cell_type": "code",
   "execution_count": null,
   "metadata": {},
   "outputs": [],
   "source": [
    "time_keys = ghb_elev.files\n",
    "sampled_time_keys = time_keys[mf_output_sample-1::mf_output_sample]\n",
    "print(\n",
    "    len(time_keys),\n",
    "    len(sampled_time_keys), \n",
    "    sampled_time_keys\n",
    ")"
   ]
  },
  {
   "cell_type": "code",
   "execution_count": null,
   "metadata": {},
   "outputs": [],
   "source": [
    "v = hobj.get_data(totim=1.)[0]\n",
    "v[v == 1.e30] = 0.\n",
    "v.min(), v.max(), v.mean()"
   ]
  },
  {
   "cell_type": "code",
   "execution_count": null,
   "metadata": {},
   "outputs": [],
   "source": [
    "gwf.modelgrid.crs"
   ]
  },
  {
   "cell_type": "code",
   "execution_count": null,
   "metadata": {},
   "outputs": [],
   "source": [
    "totim = 1.0\n",
    "coastal_idx = int(totim) + 1\n",
    "title_str = set_title_string(time_str[coastal_idx])  \n",
    "mm = flopy.plot.PlotMapView(model=gwf)\n",
    "# hc = mm.plot_array(hobj.get_data(totim=1.0))\n",
    "hc = mm.plot_array(bobj.get_data(text=\"GHB\", totim=totim, full3D=True)[0])\n",
    "mf6_gpd.plot(ax=mm.ax, lw=0.5, ec=\"black\", color=\"none\")\n",
    "plt.colorbar(hc, ax=mm.ax, shrink=0.75)\n",
    "cx.add_basemap(mm.ax, crs=mf6_gpd.crs, **basemap_kwds)\n",
    "mm.ax.set_title(f\"GHB flux at {title_str}\", size=8);"
   ]
  },
  {
   "cell_type": "code",
   "execution_count": null,
   "metadata": {},
   "outputs": [],
   "source": [
    "mosaic_list = [\n",
    "    [\"c\",\"c\",\"c\",\"c\"],\n",
    "    [\"a\",\"a\",\"b\",\"b\"],\n",
    "    [\"a\",\"a\",\"b\",\"b\"],\n",
    "    [\"a\",\"a\",\"b\",\"b\"],\n",
    "    [\"a\",\"a\",\"b\",\"b\"],\n",
    "    ]"
   ]
  },
  {
   "cell_type": "code",
   "execution_count": null,
   "metadata": {},
   "outputs": [],
   "source": [
    "if units == \"in\":\n",
    "    head_levels = [1, 2, 3]\n",
    "    head_min, head_max = -1, 5\n",
    "    stage_min, stage_max = -3, 3\n",
    "    rch_min, rch_max = 0, 3\n",
    "    flux_min, flux_max = -1, 1\n",
    "elif units == \"mm\":\n",
    "    head_levels = [0.25, 0.5, 0.75, 1.0]\n",
    "    head_min, head_max = -0.25, 2\n",
    "    stage_min, stage_max = -1, 1\n",
    "    rch_min, rch_max = 0, 100\n",
    "    flux_min, flux_max = -25, 25\n"
   ]
  },
  {
   "cell_type": "markdown",
   "metadata": {},
   "source": [
    "#### MODFLOW 6 results"
   ]
  },
  {
   "cell_type": "code",
   "execution_count": null,
   "metadata": {},
   "outputs": [],
   "source": [
    "totim = 50\n",
    "npz_idx = sampled_time_keys[totim]\n",
    "with styles.USGSMap():\n",
    "    fig, axd = plt.subplot_mosaic(\n",
    "    mosaic_list,\n",
    "    layout=\"constrained\", \n",
    "    figsize=figsize,\n",
    "    )    \n",
    "\n",
    "    ax = axd[\"c\"]\n",
    "    ax.set_xlim(-0.5,mean_recharge.shape[0]-.5)\n",
    "    ax.set_ylim(rch_min, rch_max)\n",
    "\n",
    "    df.plot(kind=\"bar\", ax=ax, legend=False, zorder=111, color=\"blue\")\n",
    "    fb = ax.fill_between([-0.5, totim+0.5], rch_max, **progress_kwds)\n",
    "\n",
    "    ax.xaxis.set_major_locator(MonthLocator())\n",
    "    ax.xaxis.set_minor_locator(dates.MonthLocator(bymonthday=16))\n",
    "    \n",
    "    ax.xaxis.set_major_formatter(ticker.NullFormatter())\n",
    "    ax.xaxis.set_minor_formatter(dates.DateFormatter('%B'))\n",
    "    \n",
    "    # Remove the tick lines\n",
    "    ax.tick_params(axis='x', which='minor', tick1On=False, tick2On=False)\n",
    "    \n",
    "    # Align the minor tick label\n",
    "    for label in ax.get_xticklabels(minor=True):\n",
    "        label.set_horizontalalignment('center')\n",
    "\n",
    "    ax.set_ylabel(\"Recharge\")\n",
    "    styles.add_text(ax, text=f\"{units} / day\", x=0.99, y=0.95, bold=False, va=\"top\", ha=\"right\")\n",
    "    \n",
    "    title_str = set_title_string(time_mf[int(totim)])  \n",
    "    fig.suptitle(title_str, fontsize=8)\n",
    "\n",
    "    h = hobj.get_data(totim=totim)\n",
    "    h[h < 1e29] *= head_conversion_factor\n",
    "    q = bobj.get_data(text=\"GHB\", totim=totim, full3D=True)[0]\n",
    "    q[q == 0.0] = np.nan   \n",
    "    q *= conversion_factor / (500. * 500.)\n",
    "    \n",
    "    ax = axd[\"a\"]\n",
    "    mm0 = flopy.plot.PlotMapView(model=gwf, ax=ax, extent=gwf.modelgrid.extent)\n",
    "    hc = mm0.plot_array(h, alpha=alpha, vmin=head_min, vmax=head_max)\n",
    "    mf6_grid_gpd.plot(ax=ax, lw=0.25, ec=\"black\", color=\"none\")\n",
    "    ca = mm0.contour_array(h, levels=head_levels, colors=\"white\", linewidths=0.5)\n",
    "    plt.colorbar(hc, ax=ax, shrink=0.5, orientation=\"horizontal\")\n",
    "    cx.add_basemap(ax, crs=mf6_gpd.crs, **basemap_kwds)\n",
    "    \n",
    "    ax.set_title(f\"Head ({head_units})\", size=8)\n",
    "    ax.set_xlabel(None)\n",
    "    ax.set_ylabel(None)\n",
    "    ax.set_xticklabels([])\n",
    "    ax.set_yticklabels([])\n",
    "    \n",
    "\n",
    "    ax = axd[\"b\"]\n",
    "    mm1 = flopy.plot.PlotMapView(model=gwf, ax=ax, extent=gwf.modelgrid.extent)\n",
    "    ghbq = mm1.plot_array(-q, alpha=alpha, cmap=\"RdBu\", vmin=flux_min , vmax=flux_max)\n",
    "    mf6_gpd.plot(ax=ax, lw=0.25, ec=\"black\", color=\"none\")\n",
    "    plt.colorbar(ghbq, ax=ax, shrink=0.5, extend=\"both\", orientation=\"horizontal\")\n",
    "    cx.add_basemap(ax, crs=mf6_gpd.crs, **basemap_kwds)\n",
    "    \n",
    "    ax.set_title(f\"Coastal discharge ({units}/day)\", size=8)\n",
    "    ax.set_xlabel(None)\n",
    "    ax.set_ylabel(None)\n",
    "    ax.set_xticklabels([])\n",
    "    ax.set_yticklabels([])\n",
    "\n",
    "    # coastal model inset\n",
    "    ax_ins = axd[\"b\"].inset_axes(\n",
    "        [-0.125, 0.55, 0.45, 0.45],\n",
    "        xticklabels=[], \n",
    "        yticklabels=[],\n",
    "    )\n",
    "    wdp = full_results_ds[\"mesh2d_s1\"].isel(time=time_index[totim]).ugrid.plot(animated=True, ax=ax_ins, cmap=\"RdBu\", vmin=flux_min, vmax=flux_max, lw=0.0, alpha=alpha, add_colorbar=False)\n",
    "    gdfp = coastal_gdf.plot(color=\"black\", fc=\"none\", lw=0.25, ax=ax_ins)\n",
    "\n",
    "    qvalue = qext_elev[str(npz_idx)]\n",
    "    qvalue *= flux_conversion_factor * 86400. / cell_areas\n",
    "    qvalue[qvalue == 0.0] = np.nan\n",
    "    wdp.set_array(qvalue)\n",
    "\n",
    "    ax_ins.set_xlim(extent[:2])\n",
    "    ax_ins.set_ylim(extent[2:])\n",
    "    cx.add_basemap(ax_ins, crs=gp_gpd.crs, attribution=False, source=cx_provider, zoom=11)\n",
    "\n",
    "    ax_ins.set_title(f\"Coastal Exchange ({flux_units})\", size=8)\n",
    "    ax_ins.set_xlabel(None)\n",
    "    ax_ins.set_ylabel(None)\n",
    "    ax_ins.set_xticklabels([])\n",
    "    ax_ins.set_yticklabels([])      \n",
    "\n",
    "    fig.align_labels() \n",
    "\n",
    "    fig.savefig(f\"figures/greenport_modflow_dflow_results{fig_ext}\", dpi=300, transparent=transparent)"
   ]
  },
  {
   "cell_type": "markdown",
   "metadata": {},
   "source": [
    "#### Animate MODFLOW Results"
   ]
  },
  {
   "cell_type": "code",
   "execution_count": null,
   "metadata": {},
   "outputs": [],
   "source": [
    "hr_sample = 24\n",
    "days_per_sec = 2\n",
    "fps = int(days_per_sec * 24 / hr_sample)\n",
    "fps"
   ]
  },
  {
   "cell_type": "code",
   "execution_count": null,
   "metadata": {},
   "outputs": [],
   "source": [
    "time_index[1:].shape[0], len(totimes)"
   ]
  },
  {
   "cell_type": "code",
   "execution_count": null,
   "metadata": {},
   "outputs": [],
   "source": [
    "frame1 = min(len(totimes), time_index[1:].shape[0])\n",
    "frames = np.arange(0, frame1, 1)[1:]\n",
    "frame1, frames.shape"
   ]
  },
  {
   "cell_type": "code",
   "execution_count": null,
   "metadata": {},
   "outputs": [],
   "source": [
    "ani_ext = \".mp4\"\n",
    "Writer = mpl.animation.writers[\"ffmpeg\"]\n",
    "writer = Writer(fps=fps, metadata=dict(artist=\"jdhughes\"), bitrate=2056)"
   ]
  },
  {
   "cell_type": "code",
   "execution_count": null,
   "metadata": {},
   "outputs": [],
   "source": [
    "with styles.USGSMap():\n",
    "    fig, axd = plt.subplot_mosaic(\n",
    "    mosaic_list,\n",
    "    layout=\"constrained\", \n",
    "    figsize=figsize,\n",
    "    )    \n",
    "\n",
    "    ax = axd[\"c\"]\n",
    "    ax.set_xlim(-0.5, mean_recharge.shape[0]-.5)\n",
    "    ax.set_ylim(0, rch_max)\n",
    "\n",
    "    df.plot(kind=\"bar\", ax=ax, legend=False, zorder=111, color=\"blue\")\n",
    "    fb = ax.fill_between([-0.5, -0.5], rch_max, **progress_kwds)\n",
    "\n",
    "    ax.xaxis.set_major_locator(MonthLocator())\n",
    "    ax.xaxis.set_minor_locator(dates.MonthLocator(bymonthday=16))\n",
    "    \n",
    "    ax.xaxis.set_major_formatter(ticker.NullFormatter())\n",
    "    ax.xaxis.set_minor_formatter(dates.DateFormatter('%B'))\n",
    "    \n",
    "    # Remove the tick lines\n",
    "    ax.tick_params(axis='x', which='minor', tick1On=False, tick2On=False)\n",
    "    \n",
    "    # Align the minor tick label\n",
    "    for label in ax.get_xticklabels(minor=True):\n",
    "        label.set_horizontalalignment('center')\n",
    "\n",
    "    ax.set_ylabel(\"Recharge\")\n",
    "    styles.add_text(ax, text=f\"{units} / day\", x=0.99, y=0.95, bold=False, va=\"top\", ha=\"right\")    \n",
    "    \n",
    "    title_str = set_title_string(time_mf[0]) \n",
    "    fig.suptitle(title_str, fontsize=8)\n",
    "\n",
    "    h = hobj.get_data(totim=totim)\n",
    "    h[h < 1e29] *= head_conversion_factor\n",
    "    q = bobj.get_data(text=\"GHB\", totim=totim, full3D=True)[0]\n",
    "    q[q == 0.0] = np.nan\n",
    "    q *= conversion_factor / (500. * 500.)\n",
    "    \n",
    "    ax = axd[\"a\"]\n",
    "    \n",
    "    mm0 = flopy.plot.PlotMapView(model=gwf, ax=ax, extent=gwf.modelgrid.extent)\n",
    "    hc = mm0.plot_array(h, alpha=alpha, vmin=head_min, vmax=head_max)\n",
    "    mf6_grid_gpd.plot(ax=ax, lw=0.25, ec=\"black\", color=\"none\")\n",
    "    C = mm0.contour_array(h, levels=head_levels, colors=\"white\", linewidths=0.5)\n",
    "    plt.colorbar(hc, ax=ax, shrink=0.5, orientation=\"horizontal\")\n",
    "    cx.add_basemap(ax, crs=mf6_gpd.crs, **basemap_kwds)\n",
    "    \n",
    "    ax.set_title(f\"Head ({head_units})\", size=8)\n",
    "    ax.set_xlabel(None)\n",
    "    ax.set_ylabel(None)\n",
    "    ax.set_xticklabels([])\n",
    "    ax.set_yticklabels([])\n",
    "\n",
    "    ax = axd[\"b\"]\n",
    "    mm1 = flopy.plot.PlotMapView(model=gwf, ax=ax, extent=gwf.modelgrid.extent)\n",
    "    ghbq = mm1.plot_array(-q, alpha=alpha, cmap=\"RdBu\", vmin=flux_min, vmax=flux_max)\n",
    "    mf6_gpd.plot(ax=ax, lw=0.25, ec=\"black\", color=\"none\")\n",
    "    plt.colorbar(ghbq, ax=ax, shrink=0.5, extend=\"both\", orientation=\"horizontal\")\n",
    "    cx.add_basemap(ax, crs=mf6_gpd.crs, **basemap_kwds)\n",
    "\n",
    "    ax.set_title(f\"Coastal discharge ({units}/day)\", size=8)\n",
    "    ax.set_xlabel(None)\n",
    "    ax.set_ylabel(None)\n",
    "    ax.set_xticklabels([])\n",
    "    ax.set_yticklabels([])\n",
    "\n",
    "    # coastal model inset\n",
    "    ax_ins = axd[\"b\"].inset_axes(\n",
    "        [-0.125, 0.55, 0.45, 0.45],\n",
    "        xticklabels=[], \n",
    "        yticklabels=[],\n",
    "    )\n",
    "    wdp = full_results_ds[\"mesh2d_s1\"].isel(time=time_index[totim]).ugrid.plot(animated=True, ax=ax_ins, cmap=\"RdBu\", vmin=flux_min, vmax=flux_max, lw=0.0, alpha=alpha, add_colorbar=False)\n",
    "    gdfp = coastal_gdf.plot(color=\"black\", fc=\"none\", lw=0.25, ax=ax_ins)\n",
    "    wdp.set_array(qvalue)\n",
    "\n",
    "    ax_ins.set_xlim(extent[:2])\n",
    "    ax_ins.set_ylim(extent[2:])\n",
    "    cx.add_basemap(ax_ins, crs=gp_gpd.crs, attribution=False, source=cx_provider, zoom=11)\n",
    "\n",
    "    ax_ins.set_title(f\"Coastal Exchange ({units})\", size=8)\n",
    "    ax_ins.set_xlabel(None)\n",
    "    ax_ins.set_ylabel(None)\n",
    "    ax_ins.set_xticklabels([])\n",
    "    ax_ins.set_yticklabels([])    \n",
    "     \n",
    "\n",
    "    fig.align_labels()    \n",
    "    \n",
    "    def func(idx):\n",
    "        global C, fb\n",
    "\n",
    "        ax = axd[\"c\"]\n",
    "        fb.remove()\n",
    "        fb = ax.fill_between([-0.5, float(idx)+0.5], rch_max, **progress_kwds)\n",
    "        \n",
    "        on_time = set_title_string(time_mf[idx])\n",
    "        fig.suptitle(on_time, fontsize=8)\n",
    "\n",
    "        totim = totimes[idx]\n",
    "\n",
    "        h = hobj.get_data(totim=totim)\n",
    "        h[h < 1e29] *= head_conversion_factor\n",
    "        q = bobj.get_data(text=\"GHB\", totim=totim, full3D=True)[0]\n",
    "\n",
    "        h[h == 1e30] = np.nan\n",
    "        q[q == 0.0] = np.nan\n",
    "        q *= conversion_factor / (500. * 500.)\n",
    "        \n",
    "        ax = axd[\"a\"]\n",
    "        hc.set_array(h[0])\n",
    "        C.remove()\n",
    "        C = mm0.contour_array(h, levels=head_levels, colors=\"white\", linewidths=0.5)\n",
    "        \n",
    "        ax = axd[\"b\"]\n",
    "        ghbq.set_array(-q[0])\n",
    "\n",
    "        qvalue = qext_elev[str(sampled_time_keys[idx])]\n",
    "        qvalue *= flux_conversion_factor * 86400./ cell_areas\n",
    "        qvalue[qvalue == 0.0] = np.nan\n",
    "        # print(np.nanmin(qvalue), np.nanmax(qvalue))\n",
    "        wdp.set_array(qvalue)\n",
    "        \n",
    "        return C, fb, wdp\n",
    "    \n",
    "    ani = FuncAnimation(fig, func, frames=frames, blit=False)\n",
    "    \n",
    "    plt.close()\n",
    "\n",
    "ani.save(animation_ws / f\"greenport_modflow_dflow_results{ani_ext}\", writer=writer)\n",
    "# HTML(ani.to_jshtml())"
   ]
  },
  {
   "cell_type": "code",
   "execution_count": null,
   "metadata": {},
   "outputs": [],
   "source": [
    "head_idx = [(l, r, c) for l, r, c in zip(mf6_gpd[\"layer\"], mf6_gpd[\"row\"], mf6_gpd[\"column\"])]\n",
    "head_idx[:10]"
   ]
  },
  {
   "cell_type": "code",
   "execution_count": null,
   "metadata": {},
   "outputs": [],
   "source": [
    "# specific to dflow\n",
    "stage = results_ds[\"mesh2d_s1\"]\n",
    "depth = results_ds[\"mesh2d_waterdepth\"]"
   ]
  },
  {
   "cell_type": "code",
   "execution_count": null,
   "metadata": {},
   "outputs": [],
   "source": [
    "# specific to dflow\n",
    "def mask_stage(idx):\n",
    "    v = stage.isel(time=time_index[idx]).values\n",
    "    d = depth.isel(time=time_index[idx]).values\n",
    "    v[d < 0.001] = np.nan\n",
    "    return v * stage_conversion_factor\n",
    "    "
   ]
  },
  {
   "cell_type": "code",
   "execution_count": null,
   "metadata": {},
   "outputs": [],
   "source": [
    "totim = 50\n",
    "npz_idx = sampled_time_keys[totim]\n",
    "with styles.USGSMap():\n",
    "    fig, axd = plt.subplot_mosaic(\n",
    "    mosaic_list,\n",
    "    layout=\"constrained\", \n",
    "    figsize=figsize,\n",
    "    )    \n",
    "\n",
    "    ax = axd[\"c\"]\n",
    "    ax.set_xlim(-0.5,mean_recharge.shape[0]-.5)\n",
    "    ax.set_ylim(rch_min, rch_max)\n",
    "\n",
    "    df.plot(kind=\"bar\", ax=ax, legend=False, zorder=111, color=\"blue\")\n",
    "    fb = ax.fill_between([-0.5, totim+0.5], rch_max, **progress_kwds)\n",
    "\n",
    "    ax.xaxis.set_major_locator(MonthLocator())\n",
    "    ax.xaxis.set_minor_locator(dates.MonthLocator(bymonthday=16))\n",
    "    \n",
    "    ax.xaxis.set_major_formatter(ticker.NullFormatter())\n",
    "    ax.xaxis.set_minor_formatter(dates.DateFormatter('%B'))\n",
    "    \n",
    "    # Remove the tick lines\n",
    "    ax.tick_params(axis='x', which='minor', tick1On=False, tick2On=False)\n",
    "    \n",
    "    # Align the minor tick label\n",
    "    for label in ax.get_xticklabels(minor=True):\n",
    "        label.set_horizontalalignment('center')\n",
    "\n",
    "    ax.set_ylabel(\"Recharge\")\n",
    "    styles.add_text(ax, text=f\"{units} / day\", x=0.99, y=0.95, bold=False, va=\"top\", ha=\"right\")\n",
    "    \n",
    "    title_str = set_title_string(time_mf[int(totim)])\n",
    "    fig.suptitle(title_str, fontsize=8)\n",
    "\n",
    "    bh = ghb_elev[str(npz_idx)] * head_conversion_factor\n",
    "    h = hobj.get_ts(head_idx)[int(totim), 1:] * head_conversion_factor\n",
    "    hd = h - bh\n",
    "    \n",
    "    cnd = ghb_cond[str(npz_idx)]\n",
    "    mask = cnd == 0.0\n",
    "    \n",
    "    bh[mask] = np.nan\n",
    "    hd[mask] = np.nan\n",
    "    cnd[mask] = np.nan\n",
    "    \n",
    "    ax = axd[\"a\"]\n",
    "    ax.set_xlim(gwf.modelgrid.extent[0:2])\n",
    "    ax.set_ylim(gwf.modelgrid.extent[2:])\n",
    "    mf6_gpd.plot(ax=ax, alpha=alpha, column=\"bhead\", lw=0.25, ec=\"black\", vmin=stage_min, vmax=stage_max)\n",
    "    v = ax.collections[0]\n",
    "    v.set_array(bh)\n",
    "    plt.colorbar(v, ax=ax, shrink=0.5, extend=\"both\", orientation=\"horizontal\")\n",
    "    cx.add_basemap(ax, crs=mf6_gpd.crs, **basemap_kwds)\n",
    "\n",
    "    ax.set_title(f\"Stage ({stage_units})\", size=8)\n",
    "    ax.set_xlabel(None)\n",
    "    ax.set_ylabel(None)\n",
    "    ax.set_xticklabels([])\n",
    "    ax.set_yticklabels([])\n",
    "\n",
    "    # coastal model inset\n",
    "    ax_ins = axd[\"a\"].inset_axes(\n",
    "        [-0.125, 0.55, 0.45, 0.45],\n",
    "        xticklabels=[], \n",
    "        yticklabels=[],\n",
    "    )\n",
    "    wdp = stage.isel(time=time_index[totim]).ugrid.plot(animated=True, ax=ax_ins, vmin=stage_min, vmax=stage_max, lw=0.0, alpha=0.25, add_colorbar=False)\n",
    "    gdfp = coastal_gdf.plot(color=\"black\", fc=\"none\", lw=0.25, ax=ax_ins)\n",
    "    wdp.set_array(mask_stage(totim))\n",
    "\n",
    "    ax_ins.set_xlim(extent[:2])\n",
    "    ax_ins.set_ylim(extent[2:])\n",
    "    cx.add_basemap(ax_ins, crs=gp_gpd.crs, attribution=False, source=cx_provider, zoom=11)\n",
    "\n",
    "    ax_ins.set_title(f\"DFLOW Stage ({stage_units})\", size=8)\n",
    "    ax_ins.set_xlabel(None)\n",
    "    ax_ins.set_ylabel(None)\n",
    "    ax_ins.set_xticklabels([])\n",
    "    ax_ins.set_yticklabels([])    \n",
    "\n",
    "    ax = axd[\"b\"]\n",
    "    ax.set_xlim(gwf.modelgrid.extent[0:2])\n",
    "    ax.set_ylim(gwf.modelgrid.extent[2:])\n",
    "    # mf6_gpd.plot(ax=ax, alpha=alpha, column=\"cond\", lw=0.25, ec=\"black\")\n",
    "    mf6_gpd.plot(ax=ax, alpha=alpha, column=\"head_difference\", lw=0.25, ec=\"black\")\n",
    "    v = ax.collections[0]\n",
    "    # v.set_array(cnd)\n",
    "    v.set_array(hd)\n",
    "    plt.colorbar(v, ax=ax, shrink=0.5, orientation=\"horizontal\")\n",
    "    cx.add_basemap(ax, crs=mf6_gpd.crs, **basemap_kwds)\n",
    "    \n",
    "    ax.set_title(f\"Head difference ({head_units})\", size=8)\n",
    "    ax.set_xlabel(None)\n",
    "    ax.set_ylabel(None)\n",
    "    ax.set_xticklabels([])\n",
    "    ax.set_yticklabels([])\n",
    "\n",
    "    fig.align_labels()    \n",
    "\n",
    "    fig.savefig(f\"figures/greenport_modflow_dflow_ghb{fig_ext}\", dpi=300, transparent=transparent)"
   ]
  },
  {
   "cell_type": "markdown",
   "metadata": {},
   "source": [
    "#### Animate GHB data"
   ]
  },
  {
   "cell_type": "code",
   "execution_count": null,
   "metadata": {},
   "outputs": [],
   "source": [
    "with styles.USGSMap():\n",
    "    fig, axd = plt.subplot_mosaic(\n",
    "        mosaic_list,\n",
    "        layout=\"constrained\",\n",
    "        figsize=figsize,\n",
    "    )    \n",
    "\n",
    "    ax = axd[\"c\"]\n",
    "    ax.set_xlim(-0.5,mean_recharge.shape[0]-.5)\n",
    "    ax.set_ylim(rch_min, rch_max)\n",
    "\n",
    "    df.plot(kind=\"bar\", ax=ax, legend=False, zorder=111, color=\"blue\")\n",
    "    fb = ax.fill_between([-0.5, -0.5], rch_max, **progress_kwds)\n",
    "\n",
    "    ax.xaxis.set_major_locator(MonthLocator())\n",
    "    ax.xaxis.set_minor_locator(dates.MonthLocator(bymonthday=16))\n",
    "    \n",
    "    ax.xaxis.set_major_formatter(ticker.NullFormatter())\n",
    "    ax.xaxis.set_minor_formatter(dates.DateFormatter('%B'))\n",
    "    \n",
    "    # Remove the tick lines\n",
    "    ax.tick_params(axis='x', which='minor', tick1On=False, tick2On=False)\n",
    "    \n",
    "    # Align the minor tick label\n",
    "    for label in ax.get_xticklabels(minor=True):\n",
    "        label.set_horizontalalignment('center')\n",
    "\n",
    "    ax.set_ylabel(\"Recharge\")\n",
    "    styles.add_text(ax, text=f\"{units} / day\", x=0.99, y=0.95, bold=False, va=\"top\", ha=\"right\")    \n",
    "\n",
    "    title_str = set_title_string(time_mf[0])\n",
    "    fig.suptitle(title_str, fontsize=8)\n",
    "\n",
    "    ax = axd[\"a\"]\n",
    "    ax.set_xlim(gwf.modelgrid.extent[0:2])\n",
    "    ax.set_ylim(gwf.modelgrid.extent[2:])\n",
    "    mf6_gpd.plot(ax=ax, alpha=alpha, column=\"bhead\", lw=0.5, ec=\"black\", vmin=stage_min, vmax=stage_max)\n",
    "    plt.colorbar(ax.collections[0], ax=ax, shrink=0.5, extend=\"both\", orientation=\"horizontal\")\n",
    "    cx.add_basemap(ax, crs=mf6_gpd.crs, **basemap_kwds)\n",
    "    \n",
    "    ax.set_title(f\"Coastal stage ({stage_units})\", size=8)\n",
    "    ax.set_xlabel(None)\n",
    "    ax.set_ylabel(None)\n",
    "    ax.set_xticklabels([])\n",
    "    ax.set_yticklabels([])\n",
    "    \n",
    "    ax = axd[\"b\"]\n",
    "    ax.set_xlim(gwf.modelgrid.extent[0:2])\n",
    "    ax.set_ylim(gwf.modelgrid.extent[2:])\n",
    "    mf6_gpd.plot(ax=ax, alpha=alpha, column=\"head_difference\", lw=0.25, ec=\"black\")\n",
    "    plt.colorbar(ax.collections[0], ax=ax, shrink=0.5, orientation=\"horizontal\")\n",
    "    cx.add_basemap(ax, crs=mf6_gpd.crs, **basemap_kwds)\n",
    "    \n",
    "    ax.set_title(f\"Head difference ({stage_units})\", size=8)\n",
    "    ax.set_xlabel(None)\n",
    "    ax.set_ylabel(None)\n",
    "    ax.set_xticklabels([])\n",
    "    ax.set_yticklabels([])\n",
    "\n",
    "    # coastal model inset\n",
    "    ax_ins = axd[\"a\"].inset_axes(\n",
    "        [-0.125, 0.55, 0.45, 0.45],\n",
    "        xticklabels=[], yticklabels=[],\n",
    "    )\n",
    "    wdp = stage.isel(time=time_index[0]).ugrid.plot(animated=True, ax=ax_ins, vmin=stage_min, vmax=stage_max, lw=0.0, alpha=0.25, add_colorbar=False)\n",
    "    gdfp = coastal_gdf.plot(color=\"black\", fc=\"none\", lw=0.25, ax=ax_ins)\n",
    "    wdp.set_array(mask_stage(0))\n",
    "    \n",
    "    ax_ins.set_title(f\"DFLOW Stage ({stage_units})\", size=8)\n",
    "    ax_ins.set_xlim(extent[0:2])\n",
    "    ax_ins.set_ylim(extent[2:])\n",
    "    ax_ins.set_xlabel(None)\n",
    "    ax_ins.set_ylabel(None)\n",
    "\n",
    "    cx.add_basemap(ax_ins, crs=gp_gpd.crs, attribution=False, source=cx_provider, zoom=11)\n",
    "\n",
    "    fig.align_labels()\n",
    "    \n",
    "    def func(idx):\n",
    "        global fb, wdp\n",
    "        \n",
    "        ax = axd[\"c\"]\n",
    "        fb.remove()\n",
    "        fb = ax.fill_between([-0.5, float(idx)+0.5], rch_max, **progress_kwds)\n",
    "        \n",
    "        on_time = set_title_string(time_mf[idx])\n",
    "        fig.suptitle(on_time, fontsize=8)\n",
    "        \n",
    "        bh = ghb_elev[str(sampled_time_keys[idx])] * head_conversion_factor\n",
    "        h = hobj.get_ts(head_idx)[idx, 1:] * head_conversion_factor\n",
    "        hd = h - bh\n",
    "        \n",
    "        cnd = ghb_cond[str(sampled_time_keys[idx])]\n",
    "        idx_map = (cnd == 0.)\n",
    "        \n",
    "        bh[idx_map] = np.nan\n",
    "        hd[idx_map] = np.nan\n",
    "        \n",
    "        ax = axd[\"a\"]\n",
    "        ax.collections[0].set_array(bh)\n",
    "        \n",
    "        ax = axd[\"b\"]\n",
    "        ax.collections[0].set_array(hd)\n",
    "\n",
    "        wdp.set_array(mask_stage(idx))\n",
    "        \n",
    "        return fb, wdp\n",
    "\n",
    "    ani = FuncAnimation(fig, func, frames=frames, blit=False)\n",
    "    \n",
    "    plt.close()\n",
    "\n",
    "ani.save(animation_ws / f\"greenport_modflow_dflow_ghb{ani_ext}\", writer=writer)\n",
    "# HTML(ani.to_jshtml())"
   ]
  },
  {
   "cell_type": "code",
   "execution_count": null,
   "metadata": {},
   "outputs": [],
   "source": []
  }
 ],
 "metadata": {
  "kernelspec": {
   "display_name": "Python 3 (ipykernel)",
   "language": "python",
   "name": "python3"
  },
  "language_info": {
   "codemirror_mode": {
    "name": "ipython",
    "version": 3
   },
   "file_extension": ".py",
   "mimetype": "text/x-python",
   "name": "python",
   "nbconvert_exporter": "python",
   "pygments_lexer": "ipython3",
   "version": "3.10.14"
  }
 },
 "nbformat": 4,
 "nbformat_minor": 4
}
