{
 "cells": [
  {
   "cell_type": "code",
   "execution_count": null,
   "id": "0b06661a-bb6d-4f1a-bf28-17e7ef561f45",
   "metadata": {},
   "outputs": [],
   "source": [
    "import numpy as np\n",
    "import pandas as pd\n",
    "import pathlib as pl\n",
    "\n",
    "from pyswmm import Output, NodeSeries"
   ]
  },
  {
   "cell_type": "code",
   "execution_count": null,
   "id": "073ab306-98bf-4d41-8e81-cf76cb41b8e8",
   "metadata": {},
   "outputs": [],
   "source": [
    "def node_to_dataframe(data_dict):\n",
    "    data = np.empty(len(data_dict), dtype=[(\"index\", \"datetime64[s]\"), (\"flow\", float)])\n",
    "    for idx, (key, value) in enumerate(data_dict.items()):\n",
    "        data[\"index\"][idx] = np.datetime64(key)\n",
    "        data[\"flow\"][idx] = value \n",
    "    df = pd.DataFrame.from_dict(data)\n",
    "    df.set_index(\"index\", inplace=True)\n",
    "    return df"
   ]
  },
  {
   "cell_type": "code",
   "execution_count": null,
   "id": "ccad692d-09cd-4644-be78-c4bce5decd32",
   "metadata": {},
   "outputs": [],
   "source": [
    "swmm_path = pl.Path(\"../swmm/greenport/greenport_detailedsewer_v4_nosub175.inp\").resolve()\n",
    "print(swmm_path, swmm_path.is_file())"
   ]
  },
  {
   "cell_type": "code",
   "execution_count": null,
   "id": "30a8d432-7318-4289-b92a-9b78935027c8",
   "metadata": {},
   "outputs": [],
   "source": [
    "swmm_out = Output(str(swmm_path.with_suffix(\".out\")))"
   ]
  },
  {
   "cell_type": "code",
   "execution_count": null,
   "id": "3d4752d7-27f8-4adc-b936-ec30434d7f95",
   "metadata": {},
   "outputs": [],
   "source": [
    "outfall = node_to_dataframe(NodeSeries(swmm_out)[\"171\"].total_inflow)"
   ]
  },
  {
   "cell_type": "code",
   "execution_count": null,
   "id": "e68d2b36-0153-4657-8d16-735aa35854fb",
   "metadata": {},
   "outputs": [],
   "source": [
    "outfall.plot()"
   ]
  },
  {
   "cell_type": "code",
   "execution_count": null,
   "id": "b691cc7f-179c-4179-af3d-83c4f2335aeb",
   "metadata": {},
   "outputs": [],
   "source": []
  },
  {
   "cell_type": "code",
   "execution_count": null,
   "id": "d2021258-28ab-47b5-ba85-7141f2af84ca",
   "metadata": {},
   "outputs": [],
   "source": [
    "swmm_out.close()"
   ]
  }
 ],
 "metadata": {
  "kernelspec": {
   "display_name": "Python 3 (ipykernel)",
   "language": "python",
   "name": "python3"
  },
  "language_info": {
   "codemirror_mode": {
    "name": "ipython",
    "version": 3
   },
   "file_extension": ".py",
   "mimetype": "text/x-python",
   "name": "python",
   "nbconvert_exporter": "python",
   "pygments_lexer": "ipython3",
   "version": "3.10.0"
  }
 },
 "nbformat": 4,
 "nbformat_minor": 5
}
