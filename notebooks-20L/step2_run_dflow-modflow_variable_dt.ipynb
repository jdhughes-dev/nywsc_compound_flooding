{
 "cells": [
  {
   "cell_type": "code",
   "execution_count": 1,
   "id": "cbaa1a27-5304-46d6-9c9f-038a68cd0114",
   "metadata": {
    "execution": {
     "iopub.execute_input": "2025-02-03T20:01:29.128763Z",
     "iopub.status.busy": "2025-02-03T20:01:29.128763Z",
     "iopub.status.idle": "2025-02-03T20:01:32.092107Z",
     "shell.execute_reply": "2025-02-03T20:01:32.090723Z",
     "shell.execute_reply.started": "2025-02-03T20:01:29.128763Z"
    }
   },
   "outputs": [
    {
     "name": "stderr",
     "output_type": "stream",
     "text": [
      "C:\\Users\\jdhughes\\miniconda3\\envs\\liss\\lib\\site-packages\\bmi\\__init__.py:2: DeprecationWarning: pkg_resources is deprecated as an API. See https://setuptools.pypa.io/en/latest/pkg_resources.html\n",
      "  import pkg_resources\n"
     ]
    }
   ],
   "source": [
    "import os\n",
    "import time\n",
    "import matplotlib.pyplot as plt\n",
    "import numpy as np\n",
    "import pathlib as pl\n",
    "import shutil\n",
    "import sys\n",
    "\n",
    "import flopy\n",
    "from modflowapi import ModflowApi\n",
    "from modflowapi.extensions import ApiSimulation\n",
    "\n",
    "from bmi.wrapper import BMIWrapper\n",
    "\n",
    "import pyswmm\n",
    "from pyswmm import Simulation, Nodes\n",
    "from pyswmm import Output"
   ]
  },
  {
   "cell_type": "code",
   "execution_count": 2,
   "id": "bb24b9fa-754b-4852-957e-7bd804808434",
   "metadata": {
    "execution": {
     "iopub.execute_input": "2025-02-03T20:01:32.095092Z",
     "iopub.status.busy": "2025-02-03T20:01:32.094091Z",
     "iopub.status.idle": "2025-02-03T20:01:33.921459Z",
     "shell.execute_reply": "2025-02-03T20:01:33.921459Z",
     "shell.execute_reply.started": "2025-02-03T20:01:32.095092Z"
    }
   },
   "outputs": [],
   "source": [
    "sys.path.append(\"../common\")\n",
    "from liss_settings import \\\n",
    "    libmf6, \\\n",
    "    get_dflow_grid_name, get_dflow_dtuser, \\\n",
    "    get_modflow_coupling_tag, get_modflow_grid_name, \\\n",
    "    silent, verbosity, \\\n",
    "    print_path, print_value"
   ]
  },
  {
   "cell_type": "code",
   "execution_count": 3,
   "id": "0ab50c8a-749d-4167-acd5-399b3891059e",
   "metadata": {
    "execution": {
     "iopub.execute_input": "2025-02-03T20:01:33.921459Z",
     "iopub.status.busy": "2025-02-03T20:01:33.921459Z",
     "iopub.status.idle": "2025-02-03T20:01:34.112196Z",
     "shell.execute_reply": "2025-02-03T20:01:34.111195Z",
     "shell.execute_reply.started": "2025-02-03T20:01:33.921459Z"
    }
   },
   "outputs": [
    {
     "name": "stdout",
     "output_type": "stream",
     "text": [
      "LIS_modflow_bathy2_net\n"
     ]
    }
   ],
   "source": [
    "control_path = pl.Path(\"../dflow-fm/coarse/tides/base/FlowFM.mdu\") # change this if using a different D-Flow FM control file\n",
    "grid_name = get_dflow_grid_name(control_path)\n",
    "print(grid_name)"
   ]
  },
  {
   "cell_type": "code",
   "execution_count": 4,
   "id": "d95823a8-a991-4add-b493-f422c7ea43f9",
   "metadata": {
    "execution": {
     "iopub.execute_input": "2025-02-03T20:01:34.115636Z",
     "iopub.status.busy": "2025-02-03T20:01:34.115522Z",
     "iopub.status.idle": "2025-02-03T20:01:34.141115Z",
     "shell.execute_reply": "2025-02-03T20:01:34.139115Z",
     "shell.execute_reply.started": "2025-02-03T20:01:34.115636Z"
    }
   },
   "outputs": [
    {
     "name": "stdout",
     "output_type": "stream",
     "text": [
      "\\\\Mac\\Documents\\Work\\compound_flooding\\swmm\\greenport\\greenport_detailedsewer_v4_nosub175.inp True\n"
     ]
    }
   ],
   "source": [
    "swmm_path = pl.Path(\"../swmm/greenport/greenport_detailedsewer_v4_nosub175.inp\").resolve()\n",
    "print(swmm_path, swmm_path.is_file())"
   ]
  },
  {
   "cell_type": "code",
   "execution_count": 5,
   "id": "c84c538d-290c-4723-b6e3-a7b3d6868dee",
   "metadata": {
    "execution": {
     "iopub.execute_input": "2025-02-03T20:01:34.144758Z",
     "iopub.status.busy": "2025-02-03T20:01:34.143496Z",
     "iopub.status.idle": "2025-02-03T20:01:34.163207Z",
     "shell.execute_reply": "2025-02-03T20:01:34.159657Z",
     "shell.execute_reply.started": "2025-02-03T20:01:34.144758Z"
    }
   },
   "outputs": [],
   "source": [
    "fpth = swmm_path.with_suffix(\".out\")\n",
    "if fpth.is_file():\n",
    "    print(f\"removing: '{fpth}'\")\n",
    "    fpth.unlink()\n",
    "fpth = swmm_path.with_suffix(\".rpt\")\n",
    "if fpth.is_file():\n",
    "    print(f\"removing: '{fpth}'\")\n",
    "    fpth.unlink()\n"
   ]
  },
  {
   "cell_type": "code",
   "execution_count": 6,
   "id": "bf164c45-36a9-4285-b555-9f3506b1c793",
   "metadata": {
    "execution": {
     "iopub.execute_input": "2025-02-03T20:01:34.174731Z",
     "iopub.status.busy": "2025-02-03T20:01:34.170214Z",
     "iopub.status.idle": "2025-02-03T20:01:34.196778Z",
     "shell.execute_reply": "2025-02-03T20:01:34.193780Z",
     "shell.execute_reply.started": "2025-02-03T20:01:34.174731Z"
    }
   },
   "outputs": [
    {
     "name": "stdout",
     "output_type": "stream",
     "text": [
      "greenport_chd\n"
     ]
    }
   ],
   "source": [
    "mf_grid_name = get_modflow_grid_name()\n",
    "print(mf_grid_name)"
   ]
  },
  {
   "cell_type": "code",
   "execution_count": 7,
   "id": "ee09742e-ba2c-4c98-9aa8-1cba1f1ff4b7",
   "metadata": {
    "execution": {
     "iopub.execute_input": "2025-02-03T20:01:34.199778Z",
     "iopub.status.busy": "2025-02-03T20:01:34.198780Z",
     "iopub.status.idle": "2025-02-03T20:01:34.221388Z",
     "shell.execute_reply": "2025-02-03T20:01:34.221388Z",
     "shell.execute_reply.started": "2025-02-03T20:01:34.199778Z"
    }
   },
   "outputs": [
    {
     "name": "stdout",
     "output_type": "stream",
     "text": [
      "300.0\n"
     ]
    }
   ],
   "source": [
    "dflowfm_dtuser = get_dflow_dtuser(control_path)\n",
    "print(dflowfm_dtuser)"
   ]
  },
  {
   "cell_type": "markdown",
   "id": "a0d7d1d4-576b-46c9-a937-2e7e3f33cf71",
   "metadata": {},
   "source": [
    "#### Set unit conversion factors"
   ]
  },
  {
   "cell_type": "code",
   "execution_count": 8,
   "id": "230cd63b-3abd-4fa5-8c54-faff16f820b7",
   "metadata": {
    "execution": {
     "iopub.execute_input": "2025-02-03T20:01:34.229945Z",
     "iopub.status.busy": "2025-02-03T20:01:34.229945Z",
     "iopub.status.idle": "2025-02-03T20:01:34.237901Z",
     "shell.execute_reply": "2025-02-03T20:01:34.236902Z",
     "shell.execute_reply.started": "2025-02-03T20:01:34.229945Z"
    }
   },
   "outputs": [],
   "source": [
    "d2sec = 24. * 60. * 60.\n",
    "hrs2sec = 60. * 60. \n",
    "m2ft = 3.28081\n",
    "cfd2cms = 1.0 / ((m2ft**3) * 86400.)"
   ]
  },
  {
   "cell_type": "markdown",
   "id": "d04c9972-ddea-4a20-b350-aa7012ed8024",
   "metadata": {},
   "source": [
    "#### Set the MODFLOW coupling frequency\n",
    "\n",
    "Change the `mf_couple_freq_hours` value. Only tested for multiple of the D-Flow FM DtUser variable. Will not work for `mf_couple_freq_hours` values greater than 24."
   ]
  },
  {
   "cell_type": "code",
   "execution_count": 9,
   "id": "5cc0c30d-b34d-4f46-9a3a-be3f1560fe8b",
   "metadata": {
    "execution": {
     "iopub.execute_input": "2025-02-03T20:01:34.240910Z",
     "iopub.status.busy": "2025-02-03T20:01:34.239900Z",
     "iopub.status.idle": "2025-02-03T20:01:34.254770Z",
     "shell.execute_reply": "2025-02-03T20:01:34.254770Z",
     "shell.execute_reply.started": "2025-02-03T20:01:34.240910Z"
    }
   },
   "outputs": [],
   "source": [
    "mf_couple_freq_hours = 24.0  #Change this value to change the coupling frequency\n",
    "mf_couple_freq = mf_couple_freq_hours * hrs2sec\n",
    "dflow_per_mf = int(mf_couple_freq / dflowfm_dtuser)"
   ]
  },
  {
   "cell_type": "code",
   "execution_count": 10,
   "id": "68e05a52-7c7c-4ff5-8065-acba30faa628",
   "metadata": {
    "execution": {
     "iopub.execute_input": "2025-02-03T20:01:34.264456Z",
     "iopub.status.busy": "2025-02-03T20:01:34.261457Z",
     "iopub.status.idle": "2025-02-03T20:01:34.287438Z",
     "shell.execute_reply": "2025-02-03T20:01:34.286456Z",
     "shell.execute_reply.started": "2025-02-03T20:01:34.264456Z"
    }
   },
   "outputs": [
    {
     "name": "stdout",
     "output_type": "stream",
     "text": [
      "MODFLOW coupling frequency 24.0 hours\n",
      "MODFLOW coupled to D-FLOW FM every 288 output time step (300.0 sec.)\n"
     ]
    }
   ],
   "source": [
    "print(f\"MODFLOW coupling frequency {mf_couple_freq_hours} hours\\nMODFLOW coupled to D-FLOW FM every {dflow_per_mf} output time step ({dflowfm_dtuser} sec.)\") "
   ]
  },
  {
   "cell_type": "code",
   "execution_count": 11,
   "id": "5f212449-ea60-48de-925a-0398566ed8ed",
   "metadata": {
    "execution": {
     "iopub.execute_input": "2025-02-03T20:01:34.289791Z",
     "iopub.status.busy": "2025-02-03T20:01:34.287438Z",
     "iopub.status.idle": "2025-02-03T20:01:34.303438Z",
     "shell.execute_reply": "2025-02-03T20:01:34.301829Z",
     "shell.execute_reply.started": "2025-02-03T20:01:34.289791Z"
    }
   },
   "outputs": [
    {
     "name": "stdout",
     "output_type": "stream",
     "text": [
      "MODFLOW coupling tag: 01.00D\n"
     ]
    }
   ],
   "source": [
    "mf_tag = get_modflow_coupling_tag(mf_couple_freq_hours)\n",
    "print(f\"MODFLOW coupling tag: {mf_tag}\")"
   ]
  },
  {
   "cell_type": "code",
   "execution_count": 12,
   "id": "df9e20ec-3c71-43a6-b7f2-e8e6fddcc61c",
   "metadata": {
    "execution": {
     "iopub.execute_input": "2025-02-03T20:01:34.304439Z",
     "iopub.status.busy": "2025-02-03T20:01:34.304439Z",
     "iopub.status.idle": "2025-02-03T20:01:34.318812Z",
     "shell.execute_reply": "2025-02-03T20:01:34.317782Z",
     "shell.execute_reply.started": "2025-02-03T20:01:34.304439Z"
    }
   },
   "outputs": [
    {
     "name": "stdout",
     "output_type": "stream",
     "text": [
      "MODFLOW time steps per day: 1\n"
     ]
    }
   ],
   "source": [
    "nstp = int(86400.0 / (dflow_per_mf * dflowfm_dtuser))\n",
    "print(f\"MODFLOW time steps per day: {nstp}\")"
   ]
  },
  {
   "cell_type": "markdown",
   "id": "09f0ade3-f609-4ee8-bdd5-879ac1d29e8f",
   "metadata": {},
   "source": [
    "#### Set a few variables for controlling coupling"
   ]
  },
  {
   "cell_type": "code",
   "execution_count": 13,
   "id": "d0252aad-644a-48eb-a158-c66b68ed482d",
   "metadata": {
    "execution": {
     "iopub.execute_input": "2025-02-03T20:01:34.320809Z",
     "iopub.status.busy": "2025-02-03T20:01:34.319808Z",
     "iopub.status.idle": "2025-02-03T20:01:34.342542Z",
     "shell.execute_reply": "2025-02-03T20:01:34.341545Z",
     "shell.execute_reply.started": "2025-02-03T20:01:34.320809Z"
    }
   },
   "outputs": [],
   "source": [
    "HDRY = -1e30\n",
    "DEPTH_MIN = 0.1"
   ]
  },
  {
   "cell_type": "markdown",
   "id": "09370d07-81e9-47e3-9b9d-1e46d445f5d0",
   "metadata": {},
   "source": [
    "#### Print the path of the modflow6 shared library"
   ]
  },
  {
   "cell_type": "code",
   "execution_count": 14,
   "id": "978e5390-27ae-4c02-b0e0-e67e6d692277",
   "metadata": {
    "execution": {
     "iopub.execute_input": "2025-02-03T20:01:34.345319Z",
     "iopub.status.busy": "2025-02-03T20:01:34.345319Z",
     "iopub.status.idle": "2025-02-03T20:01:34.381477Z",
     "shell.execute_reply": "2025-02-03T20:01:34.380483Z",
     "shell.execute_reply.started": "2025-02-03T20:01:34.345319Z"
    }
   },
   "outputs": [
    {
     "data": {
      "text/plain": [
       "('C:\\\\Users\\\\jdhughes\\\\miniconda3\\\\envs\\\\liss\\\\Scripts\\\\libmf6.dll', True)"
      ]
     },
     "execution_count": 14,
     "metadata": {},
     "output_type": "execute_result"
    }
   ],
   "source": [
    "str(libmf6), libmf6.is_file()"
   ]
  },
  {
   "cell_type": "markdown",
   "id": "3b7ebaeb-a8f0-4494-b4fc-aeeaf8b378c9",
   "metadata": {},
   "source": [
    "#### Load the D-FLOW to MODFLOW weights\n",
    "\n",
    "GHB weights"
   ]
  },
  {
   "cell_type": "code",
   "execution_count": 15,
   "id": "855420a3-244d-4554-81e1-9a4aa0e12ea2",
   "metadata": {
    "execution": {
     "iopub.execute_input": "2025-02-03T20:01:34.383475Z",
     "iopub.status.busy": "2025-02-03T20:01:34.382485Z",
     "iopub.status.idle": "2025-02-03T20:01:34.458247Z",
     "shell.execute_reply": "2025-02-03T20:01:34.458247Z",
     "shell.execute_reply.started": "2025-02-03T20:01:34.383475Z"
    }
   },
   "outputs": [
    {
     "data": {
      "text/plain": [
       "NpzFile '../mapping/dflow_LIS_modflow_bathy2_net_to_greenport_chd_ghb.npz' with keys: dflow2mfghb, ghbmask, ghb2qext"
      ]
     },
     "execution_count": 15,
     "metadata": {},
     "output_type": "execute_result"
    }
   ],
   "source": [
    "fpath = f\"../mapping/dflow_{grid_name}_to_{mf_grid_name}_ghb.npz\"\n",
    "npzfile = np.load(fpath)\n",
    "npzfile"
   ]
  },
  {
   "cell_type": "code",
   "execution_count": 16,
   "id": "bbab17d3-56e5-45ba-8d50-c25f6c74eaa0",
   "metadata": {
    "execution": {
     "iopub.execute_input": "2025-02-03T20:01:34.461593Z",
     "iopub.status.busy": "2025-02-03T20:01:34.461593Z",
     "iopub.status.idle": "2025-02-03T20:01:34.637690Z",
     "shell.execute_reply": "2025-02-03T20:01:34.634804Z",
     "shell.execute_reply.started": "2025-02-03T20:01:34.461593Z"
    }
   },
   "outputs": [],
   "source": [
    "dflow2mfghb = npzfile[\"dflow2mfghb\"]\n",
    "ghbmask = npzfile[\"ghbmask\"]\n",
    "ghb2qext = npzfile[\"ghb2qext\"]"
   ]
  },
  {
   "cell_type": "markdown",
   "id": "910ac37b-3619-43fd-adb2-d0c27e5c72db",
   "metadata": {},
   "source": [
    "CHD weights"
   ]
  },
  {
   "cell_type": "code",
   "execution_count": 17,
   "id": "f56f40cf-ea3e-4bdd-b2c5-819a5ddb7733",
   "metadata": {
    "execution": {
     "iopub.execute_input": "2025-02-03T20:01:34.639368Z",
     "iopub.status.busy": "2025-02-03T20:01:34.639368Z",
     "iopub.status.idle": "2025-02-03T20:01:34.787143Z",
     "shell.execute_reply": "2025-02-03T20:01:34.785144Z",
     "shell.execute_reply.started": "2025-02-03T20:01:34.639368Z"
    }
   },
   "outputs": [
    {
     "data": {
      "text/plain": [
       "NpzFile '../mapping/dflow_LIS_modflow_bathy2_net_to_greenport_chd_chd.npz' with keys: dflow2mfchd, chdmask, chd2qext"
      ]
     },
     "execution_count": 17,
     "metadata": {},
     "output_type": "execute_result"
    }
   ],
   "source": [
    "fpath = f\"../mapping/dflow_{grid_name}_to_{mf_grid_name}_chd.npz\"\n",
    "npzfile = np.load(fpath)\n",
    "npzfile"
   ]
  },
  {
   "cell_type": "code",
   "execution_count": 18,
   "id": "0c5721e8-3a00-415a-9e33-f7f73a1e4277",
   "metadata": {
    "execution": {
     "iopub.execute_input": "2025-02-03T20:01:34.789143Z",
     "iopub.status.busy": "2025-02-03T20:01:34.789143Z",
     "iopub.status.idle": "2025-02-03T20:01:35.570669Z",
     "shell.execute_reply": "2025-02-03T20:01:35.569668Z",
     "shell.execute_reply.started": "2025-02-03T20:01:34.789143Z"
    }
   },
   "outputs": [],
   "source": [
    "dflow2mfchd = npzfile[\"dflow2mfchd\"]\n",
    "chdmask = npzfile[\"chdmask\"]\n",
    "chd2qext = npzfile[\"chd2qext\"]"
   ]
  },
  {
   "cell_type": "markdown",
   "id": "60dfd775-f516-4903-8918-1d9ab978139c",
   "metadata": {},
   "source": [
    "#### Define paths for the model simulation"
   ]
  },
  {
   "cell_type": "code",
   "execution_count": 19,
   "id": "7ebfe2c1-d396-4aaf-a705-4ad02eb14a5a",
   "metadata": {
    "execution": {
     "iopub.execute_input": "2025-02-03T20:01:35.573670Z",
     "iopub.status.busy": "2025-02-03T20:01:35.571669Z",
     "iopub.status.idle": "2025-02-03T20:01:35.594648Z",
     "shell.execute_reply": "2025-02-03T20:01:35.593467Z",
     "shell.execute_reply.started": "2025-02-03T20:01:35.573670Z"
    }
   },
   "outputs": [],
   "source": [
    "mf_base_path = pl.Path(\"../modflow/greenport_chd/base/\").resolve()\n",
    "mf_run_path = pl.Path(f\"../modflow/greenport_chd/run_{mf_tag}/\").resolve()"
   ]
  },
  {
   "cell_type": "markdown",
   "id": "396b7738-dca7-4918-8b68-a44f314caa50",
   "metadata": {},
   "source": [
    "#### Load the base MODFLOW model"
   ]
  },
  {
   "cell_type": "code",
   "execution_count": 20,
   "id": "dd9add2a-c3a4-4582-a37e-34b2269f225b",
   "metadata": {
    "execution": {
     "iopub.execute_input": "2025-02-03T20:01:35.598948Z",
     "iopub.status.busy": "2025-02-03T20:01:35.597620Z",
     "iopub.status.idle": "2025-02-03T20:01:44.285047Z",
     "shell.execute_reply": "2025-02-03T20:01:44.285047Z",
     "shell.execute_reply.started": "2025-02-03T20:01:35.598948Z"
    }
   },
   "outputs": [],
   "source": [
    "sim = flopy.mf6.MFSimulation.load(sim_ws=mf_base_path, verbosity_level=verbosity())\n",
    "gwf = sim.get_model()"
   ]
  },
  {
   "cell_type": "code",
   "execution_count": 21,
   "id": "e9dcc0eb-f38a-42d5-81f7-a1a64c109b4a",
   "metadata": {
    "execution": {
     "iopub.execute_input": "2025-02-03T20:01:44.285047Z",
     "iopub.status.busy": "2025-02-03T20:01:44.285047Z",
     "iopub.status.idle": "2025-02-03T20:02:22.228614Z",
     "shell.execute_reply": "2025-02-03T20:02:22.228614Z",
     "shell.execute_reply.started": "2025-02-03T20:01:44.285047Z"
    }
   },
   "outputs": [],
   "source": [
    "sim.set_sim_path(mf_run_path)"
   ]
  },
  {
   "cell_type": "markdown",
   "id": "abd805dc-28b5-4bc6-bc62-c401948761ec",
   "metadata": {},
   "source": [
    "#### Change TDIS to defined time steps"
   ]
  },
  {
   "cell_type": "code",
   "execution_count": 22,
   "id": "d82c5062-3520-4c29-8d1e-70c2c319bf7c",
   "metadata": {
    "execution": {
     "iopub.execute_input": "2025-02-03T20:02:22.228614Z",
     "iopub.status.busy": "2025-02-03T20:02:22.228614Z",
     "iopub.status.idle": "2025-02-03T20:02:22.278694Z",
     "shell.execute_reply": "2025-02-03T20:02:22.272692Z",
     "shell.execute_reply.started": "2025-02-03T20:02:22.228614Z"
    }
   },
   "outputs": [],
   "source": [
    "tdis = sim.get_package(\"TDIS\")\n",
    "perioddata = tdis.perioddata.array"
   ]
  },
  {
   "cell_type": "code",
   "execution_count": 23,
   "id": "74a9bdbe-b219-4e8c-b125-0a754ed63820",
   "metadata": {
    "execution": {
     "iopub.execute_input": "2025-02-03T20:02:22.291694Z",
     "iopub.status.busy": "2025-02-03T20:02:22.281693Z",
     "iopub.status.idle": "2025-02-03T20:02:22.318655Z",
     "shell.execute_reply": "2025-02-03T20:02:22.316656Z",
     "shell.execute_reply.started": "2025-02-03T20:02:22.291694Z"
    }
   },
   "outputs": [],
   "source": [
    "perioddata[\"nstp\"] = nstp\n",
    "tdis.perioddata = perioddata"
   ]
  },
  {
   "cell_type": "markdown",
   "id": "bce234b1-108a-4058-8a27-c16af0695ca8",
   "metadata": {},
   "source": [
    "#### Write the new model files"
   ]
  },
  {
   "cell_type": "code",
   "execution_count": 24,
   "id": "83a7eabe-ef97-4004-a3a1-c567a0f0abdf",
   "metadata": {
    "execution": {
     "iopub.execute_input": "2025-02-03T20:02:22.320656Z",
     "iopub.status.busy": "2025-02-03T20:02:22.319655Z",
     "iopub.status.idle": "2025-02-03T20:02:33.851226Z",
     "shell.execute_reply": "2025-02-03T20:02:33.851226Z",
     "shell.execute_reply.started": "2025-02-03T20:02:22.320656Z"
    }
   },
   "outputs": [],
   "source": [
    "sim.write_simulation(silent=silent())"
   ]
  },
  {
   "cell_type": "markdown",
   "id": "dd4234a3-1c0f-4988-93d2-612ffd926367",
   "metadata": {},
   "source": [
    "#### Define base GHB variables"
   ]
  },
  {
   "cell_type": "code",
   "execution_count": 25,
   "id": "99600475-94a7-40af-ad59-af8fafce7737",
   "metadata": {
    "execution": {
     "iopub.execute_input": "2025-02-03T20:02:33.851226Z",
     "iopub.status.busy": "2025-02-03T20:02:33.851226Z",
     "iopub.status.idle": "2025-02-03T20:02:33.880216Z",
     "shell.execute_reply": "2025-02-03T20:02:33.879182Z",
     "shell.execute_reply.started": "2025-02-03T20:02:33.851226Z"
    }
   },
   "outputs": [],
   "source": [
    "ghb_data0 = gwf.ghb.stress_period_data.get_dataframe()[0]\n",
    "print_value(ghb_data0)"
   ]
  },
  {
   "cell_type": "markdown",
   "id": "7cc642f0-edcf-4e88-a140-3ea15dfa772e",
   "metadata": {},
   "source": [
    "#### Define base CHD variables"
   ]
  },
  {
   "cell_type": "code",
   "execution_count": 26,
   "id": "f2f356d0-3005-44d1-a5e4-fee8b89cc282",
   "metadata": {
    "execution": {
     "iopub.execute_input": "2025-02-03T20:02:33.898563Z",
     "iopub.status.busy": "2025-02-03T20:02:33.897559Z",
     "iopub.status.idle": "2025-02-03T20:02:33.915320Z",
     "shell.execute_reply": "2025-02-03T20:02:33.914233Z",
     "shell.execute_reply.started": "2025-02-03T20:02:33.898563Z"
    }
   },
   "outputs": [],
   "source": [
    "chd_surface = gwf.get_package(\"chd_surface\")\n",
    "chd_data0 = chd_surface.stress_period_data.get_dataframe()[0]\n",
    "print_value(chd_data0)"
   ]
  },
  {
   "cell_type": "markdown",
   "id": "decaecdb-93da-44f1-844c-bcd7598c38c5",
   "metadata": {},
   "source": [
    "#### SWMM data"
   ]
  },
  {
   "cell_type": "code",
   "execution_count": 27,
   "id": "8ce67a94-34b2-45f3-9268-8467eff5041e",
   "metadata": {
    "execution": {
     "iopub.execute_input": "2025-02-03T20:02:33.918268Z",
     "iopub.status.busy": "2025-02-03T20:02:33.917267Z",
     "iopub.status.idle": "2025-02-03T20:02:33.936574Z",
     "shell.execute_reply": "2025-02-03T20:02:33.935555Z",
     "shell.execute_reply.started": "2025-02-03T20:02:33.918268Z"
    }
   },
   "outputs": [],
   "source": [
    "# SWMM mappings\n",
    "junctions = (\n",
    "     \"9\",\n",
    "     \"10\",\n",
    "     \"47\",\n",
    "     \"54\",\n",
    "     \"44\",\n",
    "     \"34\",\n",
    "     \"81\",\n",
    "     \"155\",\n",
    "     \"67\",\n",
    "     \"69\",\n",
    "     \"30\",\n",
    "     \"118\",\n",
    ")\n",
    "\n",
    "# these are the junction elevations in the SWMM inp file\n",
    "swmm_inverts = {\n",
    "    \"9\": 5,\n",
    "    \"10\": 2,\n",
    "    \"47\": 2.2,\n",
    "    \"54\": 0.7,\n",
    "    \"44\": 2.5,\n",
    "    \"34\": 6.0,\n",
    "    \"81\": 0.7,\n",
    "    \"155\": 3,\n",
    "    \"67\": -1.0,\n",
    "    \"69\": 1.0,\n",
    "    \"30\":  5.5,\n",
    "    \"118\": 4.6,\n",
    " }\n",
    "\n",
    "# MODFLOW -----------------\n",
    "# map of the junction names and the MODFLOW (row, column)\n",
    "# containing the junction\n",
    "mf6_cells = {\n",
    "    \"9\": (25, 32),\n",
    "    \"10\": (24, 32),\n",
    "    \"47\": (28, 33),\n",
    "    \"54\": (29, 33),\n",
    "    \"44\": (27, 33),\n",
    "    \"34\": (28, 31),\n",
    "    \"81\": (28, 30),\n",
    "    \"155\": (28, 29),\n",
    "    \"67\": (31, 32),\n",
    "    \"69\": (31, 31),\n",
    "    \"30\": (27, 31),\n",
    "    \"118\": (35, 26),\n",
    "}"
   ]
  },
  {
   "cell_type": "markdown",
   "id": "9dfcc61c-3d3c-4fe2-9fb1-56037f753055",
   "metadata": {},
   "source": [
    "#### Setup and initialize D-FLOW FM\n",
    "\n",
    "You will need to set `dflow_dirpath` to the correct directory on your machine."
   ]
  },
  {
   "cell_type": "code",
   "execution_count": 28,
   "id": "dd108498-34c1-437c-9919-a5e66640f711",
   "metadata": {
    "execution": {
     "iopub.execute_input": "2025-02-03T20:02:33.938574Z",
     "iopub.status.busy": "2025-02-03T20:02:33.938574Z",
     "iopub.status.idle": "2025-02-03T20:02:33.958769Z",
     "shell.execute_reply": "2025-02-03T20:02:33.957733Z",
     "shell.execute_reply.started": "2025-02-03T20:02:33.938574Z"
    }
   },
   "outputs": [],
   "source": [
    "# dflow_root_path = pl.Path(r\"C:\\Program Files\\Deltares\\Delft3D FM Suite 2023.02 HM\").resolve()\n",
    "# dll_paths = (\n",
    "#     r\"plugins\\DeltaShell.Dimr\\kernels\\x64\\dflowfm\\bin\",\n",
    "#     r\"plugins\\DeltaShell.Dimr\\kernels\\x64\\share\\bin\",\n",
    "# )"
   ]
  },
  {
   "cell_type": "code",
   "execution_count": 29,
   "id": "3842d972-101f-4b61-b4c8-7350aae1335e",
   "metadata": {
    "execution": {
     "iopub.execute_input": "2025-02-03T20:02:33.963035Z",
     "iopub.status.busy": "2025-02-03T20:02:33.963035Z",
     "iopub.status.idle": "2025-02-03T20:02:33.974034Z",
     "shell.execute_reply": "2025-02-03T20:02:33.973033Z",
     "shell.execute_reply.started": "2025-02-03T20:02:33.963035Z"
    }
   },
   "outputs": [],
   "source": [
    "# # os.environ[\"PATH\"] = (\n",
    "# #     str(dflow_dirpath) + os.pathsep + os.environ[\"PATH\"]\n",
    "# # )\n",
    "# old_path = os.environ[\"PATH\"]\n",
    "# os.environ[\"PATH\"] = \"\"\n",
    "# path = \"\"\n",
    "# for p in dll_paths:\n",
    "#     path += f\"{dflow_root_path / p}\" + os.pathsep\n",
    "# os.environ[\"PATH\"] = path + old_path"
   ]
  },
  {
   "cell_type": "code",
   "execution_count": 30,
   "id": "13aac9d2-a111-4c86-950e-d891d551dfba",
   "metadata": {
    "execution": {
     "iopub.execute_input": "2025-02-03T20:02:33.978033Z",
     "iopub.status.busy": "2025-02-03T20:02:33.976034Z",
     "iopub.status.idle": "2025-02-03T20:02:33.985550Z",
     "shell.execute_reply": "2025-02-03T20:02:33.984549Z",
     "shell.execute_reply.started": "2025-02-03T20:02:33.978033Z"
    }
   },
   "outputs": [],
   "source": [
    "print_path()"
   ]
  },
  {
   "cell_type": "code",
   "execution_count": 31,
   "id": "cb4f28ea-4c6f-4dbc-960b-a03973adca6f",
   "metadata": {
    "execution": {
     "iopub.execute_input": "2025-02-03T20:02:33.990548Z",
     "iopub.status.busy": "2025-02-03T20:02:33.989552Z",
     "iopub.status.idle": "2025-02-03T20:02:34.001136Z",
     "shell.execute_reply": "2025-02-03T20:02:33.999335Z",
     "shell.execute_reply.started": "2025-02-03T20:02:33.990548Z"
    }
   },
   "outputs": [],
   "source": [
    "# dflow_dirpath = dflow_root_path / f\"{dll_paths[0]}\""
   ]
  },
  {
   "cell_type": "code",
   "execution_count": 32,
   "id": "18d44e36-93c3-466a-af26-faf477c1da04",
   "metadata": {
    "execution": {
     "iopub.execute_input": "2025-02-03T20:02:34.003156Z",
     "iopub.status.busy": "2025-02-03T20:02:34.003156Z",
     "iopub.status.idle": "2025-02-03T20:02:34.060549Z",
     "shell.execute_reply": "2025-02-03T20:02:34.059304Z",
     "shell.execute_reply.started": "2025-02-03T20:02:34.003156Z"
    }
   },
   "outputs": [],
   "source": [
    "# dflow_dirpath = os.path.abspath(r\"C:\\Program Files\\Deltares\\Delft3D FM Suite 2023.02 HM\\plugins\\DeltaShell.Dimr\\kernels\\x64\\dflowfm\\bin\")\n",
    "# dflow_deps_dirpath = (\n",
    "#     os.path.abspath(r\"C:\\Program Files\\Deltares\\Delft3D FM Suite 2023.02 HM\\plugins\\DeltaShell.Dimr\\kernels\\x64\\share\\bin\"),\n",
    "# )\n",
    "dflow_dirpath = pl.Path(r\"X:\\Work\\compound_flooding\\dflow-fm\\dflowfm_dll\") \n",
    "dflow_base = pl.Path(r\"X:\\Work\\compound_flooding\\dflow-fm\\coarse\\tides\\base\").resolve()\n",
    "dflow_working = pl.Path(r\"X:\\Work\\compound_flooding\\dflow-fm\\coarse\\tides\\run\").resolve()\n",
    "dflow_config = dflow_working / \"FlowFM.mdu\""
   ]
  },
  {
   "cell_type": "code",
   "execution_count": 33,
   "id": "3f136784-ba27-4254-9d91-75a07aecdeb5",
   "metadata": {
    "execution": {
     "iopub.execute_input": "2025-02-03T20:02:34.060549Z",
     "iopub.status.busy": "2025-02-03T20:02:34.060549Z",
     "iopub.status.idle": "2025-02-03T20:02:34.205422Z",
     "shell.execute_reply": "2025-02-03T20:02:34.205422Z",
     "shell.execute_reply.started": "2025-02-03T20:02:34.060549Z"
    }
   },
   "outputs": [],
   "source": [
    "if dflow_working.is_dir():\n",
    "    shutil.rmtree(dflow_working)\n",
    "shutil.copytree(dflow_base, dflow_working)\n",
    "(dflow_working / \"output\").mkdir(parents=True, exist_ok=True)"
   ]
  },
  {
   "cell_type": "code",
   "execution_count": 34,
   "id": "e8d5632e-bb20-48d3-af09-e9c98f692159",
   "metadata": {
    "execution": {
     "iopub.execute_input": "2025-02-03T20:02:34.205422Z",
     "iopub.status.busy": "2025-02-03T20:02:34.205422Z",
     "iopub.status.idle": "2025-02-03T20:02:34.219709Z",
     "shell.execute_reply": "2025-02-03T20:02:34.217589Z",
     "shell.execute_reply.started": "2025-02-03T20:02:34.205422Z"
    }
   },
   "outputs": [],
   "source": [
    "print_path()"
   ]
  },
  {
   "cell_type": "code",
   "execution_count": 35,
   "id": "1ee3058a-086f-4a68-aa45-968d03ed131d",
   "metadata": {
    "execution": {
     "iopub.execute_input": "2025-02-03T20:02:34.224710Z",
     "iopub.status.busy": "2025-02-03T20:02:34.223711Z",
     "iopub.status.idle": "2025-02-03T20:02:34.233510Z",
     "shell.execute_reply": "2025-02-03T20:02:34.231672Z",
     "shell.execute_reply.started": "2025-02-03T20:02:34.224710Z"
    }
   },
   "outputs": [],
   "source": [
    "# Add dflowfm dll folder to PATH so that it can be found by the BMIWrapper\n",
    "os.environ[\"PATH\"] = (\n",
    "    str(dflow_dirpath) + os.pathsep + os.environ[\"PATH\"]\n",
    ")"
   ]
  },
  {
   "cell_type": "code",
   "execution_count": 36,
   "id": "91ac33b0-1ded-4c02-bc17-641658890f99",
   "metadata": {
    "execution": {
     "iopub.execute_input": "2025-02-03T20:02:34.237509Z",
     "iopub.status.busy": "2025-02-03T20:02:34.237509Z",
     "iopub.status.idle": "2025-02-03T20:02:34.248510Z",
     "shell.execute_reply": "2025-02-03T20:02:34.247511Z",
     "shell.execute_reply.started": "2025-02-03T20:02:34.237509Z"
    }
   },
   "outputs": [],
   "source": [
    "print_path()"
   ]
  },
  {
   "cell_type": "code",
   "execution_count": 37,
   "id": "0b7f2206-8eef-4b0d-93c9-695d58b70d6a",
   "metadata": {
    "execution": {
     "iopub.execute_input": "2025-02-03T20:02:34.251509Z",
     "iopub.status.busy": "2025-02-03T20:02:34.250510Z",
     "iopub.status.idle": "2025-02-03T20:02:34.273305Z",
     "shell.execute_reply": "2025-02-03T20:02:34.272413Z",
     "shell.execute_reply.started": "2025-02-03T20:02:34.251509Z"
    }
   },
   "outputs": [
    {
     "data": {
      "text/plain": [
       "True"
      ]
     },
     "execution_count": 37,
     "metadata": {},
     "output_type": "execute_result"
    }
   ],
   "source": [
    "(pl.Path(dflow_dirpath) / \"dflowfm.dll\").is_file()"
   ]
  },
  {
   "cell_type": "markdown",
   "id": "9a27dd68-0a69-4302-8f8e-32b069769b8e",
   "metadata": {},
   "source": [
    "#### Initialize D-Flow FM"
   ]
  },
  {
   "cell_type": "code",
   "execution_count": 38,
   "id": "70e7cf96-3042-4f49-9d3e-0c7fe8aa8135",
   "metadata": {
    "execution": {
     "iopub.execute_input": "2025-02-03T20:02:34.277306Z",
     "iopub.status.busy": "2025-02-03T20:02:34.275304Z",
     "iopub.status.idle": "2025-02-03T20:02:34.705528Z",
     "shell.execute_reply": "2025-02-03T20:02:34.705528Z",
     "shell.execute_reply.started": "2025-02-03T20:02:34.276308Z"
    }
   },
   "outputs": [],
   "source": [
    "dflowfm = BMIWrapper(\n",
    "    engine=\"dflowfm\",\n",
    "    configfile=str(dflow_config),\n",
    ")"
   ]
  },
  {
   "cell_type": "code",
   "execution_count": 39,
   "id": "3f225632-1513-4358-a3ea-31948858d0e1",
   "metadata": {
    "execution": {
     "iopub.execute_input": "2025-02-03T20:02:34.705528Z",
     "iopub.status.busy": "2025-02-03T20:02:34.705528Z",
     "iopub.status.idle": "2025-02-03T20:02:35.088348Z",
     "shell.execute_reply": "2025-02-03T20:02:35.086884Z",
     "shell.execute_reply.started": "2025-02-03T20:02:34.705528Z"
    }
   },
   "outputs": [],
   "source": [
    "dflowfm.initialize()"
   ]
  },
  {
   "cell_type": "markdown",
   "id": "c934200b-6f36-4115-96fc-7d05f4dbc430",
   "metadata": {},
   "source": [
    "#### Get data from D-FLOW FM"
   ]
  },
  {
   "cell_type": "code",
   "execution_count": 40,
   "id": "c592da26-095b-4b80-8622-98477c7015bf",
   "metadata": {
    "execution": {
     "iopub.execute_input": "2025-02-03T20:02:35.090348Z",
     "iopub.status.busy": "2025-02-03T20:02:35.089350Z",
     "iopub.status.idle": "2025-02-03T20:02:35.112519Z",
     "shell.execute_reply": "2025-02-03T20:02:35.111520Z",
     "shell.execute_reply.started": "2025-02-03T20:02:35.090348Z"
    }
   },
   "outputs": [
    {
     "data": {
      "text/plain": [
       "(8412, 8323, (8412,), (8412,))"
      ]
     },
     "execution_count": 40,
     "metadata": {},
     "output_type": "execute_result"
    }
   ],
   "source": [
    "ndxi = int(dflowfm.get_var(\"ndxi\"))\n",
    "ndx = int(dflowfm.get_var(\"ndx\"))\n",
    "x = dflowfm.get_var(\"xz\")\n",
    "y = dflowfm.get_var(\"yz\")\n",
    "z = dflowfm.get_var(\"bl\")\n",
    "xy = [(xx, yy) for (xx, yy) in zip(x, y)]\n",
    "ndx, ndxi, x.shape, y.shape"
   ]
  },
  {
   "cell_type": "code",
   "execution_count": 41,
   "id": "915d5bc6-4177-427c-97a2-27a7e2d8237e",
   "metadata": {
    "execution": {
     "iopub.execute_input": "2025-02-03T20:02:35.115519Z",
     "iopub.status.busy": "2025-02-03T20:02:35.114521Z",
     "iopub.status.idle": "2025-02-03T20:02:35.129519Z",
     "shell.execute_reply": "2025-02-03T20:02:35.127517Z",
     "shell.execute_reply.started": "2025-02-03T20:02:35.115519Z"
    }
   },
   "outputs": [
    {
     "data": {
      "text/plain": [
       "array([0., 0., 0., ..., 0., 0., 0.])"
      ]
     },
     "execution_count": 41,
     "metadata": {},
     "output_type": "execute_result"
    }
   ],
   "source": [
    "dflowfm.get_var(\"s1\")"
   ]
  },
  {
   "cell_type": "code",
   "execution_count": 42,
   "id": "176b58d3-dc6a-4356-ae10-ea3382656b41",
   "metadata": {
    "execution": {
     "iopub.execute_input": "2025-02-03T20:02:35.132520Z",
     "iopub.status.busy": "2025-02-03T20:02:35.130520Z",
     "iopub.status.idle": "2025-02-03T20:02:35.144836Z",
     "shell.execute_reply": "2025-02-03T20:02:35.142836Z",
     "shell.execute_reply.started": "2025-02-03T20:02:35.132520Z"
    }
   },
   "outputs": [
    {
     "data": {
      "text/plain": [
       "((8412,),\n",
       " array([26.42575318, 24.9297905 , 23.53244183, ..., 18.71800344,\n",
       "        20.31243107, 21.52212007]))"
      ]
     },
     "execution_count": 42,
     "metadata": {},
     "output_type": "execute_result"
    }
   ],
   "source": [
    "v = dflowfm.get_var(\"hs\")\n",
    "v.shape, v"
   ]
  },
  {
   "cell_type": "code",
   "execution_count": 43,
   "id": "e4500627-a871-4b7a-b491-eeffe6e404fb",
   "metadata": {
    "execution": {
     "iopub.execute_input": "2025-02-03T20:02:35.147836Z",
     "iopub.status.busy": "2025-02-03T20:02:35.146836Z",
     "iopub.status.idle": "2025-02-03T20:02:35.168676Z",
     "shell.execute_reply": "2025-02-03T20:02:35.167067Z",
     "shell.execute_reply.started": "2025-02-03T20:02:35.147836Z"
    }
   },
   "outputs": [
    {
     "data": {
      "text/plain": [
       "((8412,), array([0., 0., 0., ..., 0., 0., 0.]))"
      ]
     },
     "execution_count": 43,
     "metadata": {},
     "output_type": "execute_result"
    }
   ],
   "source": [
    "qext = np.zeros(ndx)\n",
    "qext.shape, qext"
   ]
  },
  {
   "cell_type": "code",
   "execution_count": 44,
   "id": "e3af8322-1b6e-481b-8e41-7c2e035a35c8",
   "metadata": {
    "execution": {
     "iopub.execute_input": "2025-02-03T20:02:35.169674Z",
     "iopub.status.busy": "2025-02-03T20:02:35.169674Z",
     "iopub.status.idle": "2025-02-03T20:02:35.177099Z",
     "shell.execute_reply": "2025-02-03T20:02:35.175100Z",
     "shell.execute_reply.started": "2025-02-03T20:02:35.169674Z"
    }
   },
   "outputs": [],
   "source": [
    "# dflowfm.set_var(\"qext\", qext)"
   ]
  },
  {
   "cell_type": "code",
   "execution_count": 45,
   "id": "945847d2-18ff-48e9-998e-b7335f03a654",
   "metadata": {
    "execution": {
     "iopub.execute_input": "2025-02-03T20:02:35.181099Z",
     "iopub.status.busy": "2025-02-03T20:02:35.181099Z",
     "iopub.status.idle": "2025-02-03T20:02:35.201178Z",
     "shell.execute_reply": "2025-02-03T20:02:35.200180Z",
     "shell.execute_reply.started": "2025-02-03T20:02:35.181099Z"
    }
   },
   "outputs": [
    {
     "data": {
      "text/plain": [
       "(8412,)"
      ]
     },
     "execution_count": 45,
     "metadata": {},
     "output_type": "execute_result"
    }
   ],
   "source": [
    "qext_cum = np.zeros(ndx)\n",
    "qext_cum.shape"
   ]
  },
  {
   "cell_type": "code",
   "execution_count": 46,
   "id": "eb181f22-36db-49c3-98fe-2cb02ae0277a",
   "metadata": {
    "execution": {
     "iopub.execute_input": "2025-02-03T20:02:35.204179Z",
     "iopub.status.busy": "2025-02-03T20:02:35.203193Z",
     "iopub.status.idle": "2025-02-03T20:02:35.223347Z",
     "shell.execute_reply": "2025-02-03T20:02:35.222011Z",
     "shell.execute_reply.started": "2025-02-03T20:02:35.204179Z"
    }
   },
   "outputs": [
    {
     "data": {
      "text/plain": [
       "((8412,), array([0., 0., 0., ..., 0., 0., 0.]))"
      ]
     },
     "execution_count": 46,
     "metadata": {},
     "output_type": "execute_result"
    }
   ],
   "source": [
    "vextcum = dflowfm.get_var(\"vextcum\")\n",
    "vextcum.shape, vextcum"
   ]
  },
  {
   "cell_type": "markdown",
   "id": "30a1900f-53d4-4d30-827a-3cc2545b7d47",
   "metadata": {},
   "source": [
    "#### Initialize SWMM"
   ]
  },
  {
   "cell_type": "code",
   "execution_count": 47,
   "id": "6650e95f-6e39-4674-8e08-f56a4d9ce160",
   "metadata": {
    "execution": {
     "iopub.execute_input": "2025-02-03T20:02:35.225379Z",
     "iopub.status.busy": "2025-02-03T20:02:35.225379Z",
     "iopub.status.idle": "2025-02-03T20:02:35.252895Z",
     "shell.execute_reply": "2025-02-03T20:02:35.251635Z",
     "shell.execute_reply.started": "2025-02-03T20:02:35.225379Z"
    }
   },
   "outputs": [],
   "source": [
    "swmm_sim = pyswmm.Simulation(str(swmm_path))\n",
    "\n",
    "# build the swmm_nodes dictionary where the values are the swmm node objects\n",
    "# for example, \"J1 = pyswmm.Nodes(swmm_sim)[\"J1\"]\"\" , where J1 is the key\n",
    "# and the value is pyswmm.Nodes(swmm_sim)[\"J1\"]\n",
    "swmm_nodes = {}\n",
    "for j in junctions:\n",
    "    swmm_nodes[j] = pyswmm.Nodes(swmm_sim)[j]"
   ]
  },
  {
   "cell_type": "code",
   "execution_count": 48,
   "id": "98a02a00-16b0-4172-b479-b9ea56b3c509",
   "metadata": {
    "execution": {
     "iopub.execute_input": "2025-02-03T20:02:35.255931Z",
     "iopub.status.busy": "2025-02-03T20:02:35.254933Z",
     "iopub.status.idle": "2025-02-03T20:02:35.284855Z",
     "shell.execute_reply": "2025-02-03T20:02:35.283858Z",
     "shell.execute_reply.started": "2025-02-03T20:02:35.255931Z"
    }
   },
   "outputs": [],
   "source": [
    "swmm_sim.start()"
   ]
  },
  {
   "cell_type": "markdown",
   "id": "abda6d7b-f5d7-4343-b171-4ef59f7c7a73",
   "metadata": {},
   "source": [
    "#### Initialize MODFLOW using MODFLOW API"
   ]
  },
  {
   "cell_type": "code",
   "execution_count": 49,
   "id": "45a2acde-ae78-4664-a8ce-a7df0ea5bfd2",
   "metadata": {
    "execution": {
     "iopub.execute_input": "2025-02-03T20:02:35.287857Z",
     "iopub.status.busy": "2025-02-03T20:02:35.286856Z",
     "iopub.status.idle": "2025-02-03T20:02:35.317286Z",
     "shell.execute_reply": "2025-02-03T20:02:35.316197Z",
     "shell.execute_reply.started": "2025-02-03T20:02:35.287857Z"
    }
   },
   "outputs": [],
   "source": [
    "mf6 = ModflowApi(str(libmf6), working_directory=mf_run_path)"
   ]
  },
  {
   "cell_type": "code",
   "execution_count": 50,
   "id": "05bac9c9-c9f6-4814-b9cd-d573b66a3cd3",
   "metadata": {
    "execution": {
     "iopub.execute_input": "2025-02-03T20:02:35.318262Z",
     "iopub.status.busy": "2025-02-03T20:02:35.318262Z",
     "iopub.status.idle": "2025-02-03T20:02:36.138161Z",
     "shell.execute_reply": "2025-02-03T20:02:36.138161Z",
     "shell.execute_reply.started": "2025-02-03T20:02:35.318262Z"
    }
   },
   "outputs": [],
   "source": [
    "mf6.initialize()"
   ]
  },
  {
   "cell_type": "markdown",
   "id": "7cfa2db3-d5d1-435a-bf8c-e45b4469f02c",
   "metadata": {},
   "source": [
    "##### use recent modflowapi functionality for accessing data from the api in flopy-like data structures"
   ]
  },
  {
   "cell_type": "code",
   "execution_count": 51,
   "id": "6a85ba16-f336-44bf-a7ba-3d8b26d547bc",
   "metadata": {
    "execution": {
     "iopub.execute_input": "2025-02-03T20:02:36.138161Z",
     "iopub.status.busy": "2025-02-03T20:02:36.138161Z",
     "iopub.status.idle": "2025-02-03T20:02:36.745176Z",
     "shell.execute_reply": "2025-02-03T20:02:36.745176Z",
     "shell.execute_reply.started": "2025-02-03T20:02:36.138161Z"
    }
   },
   "outputs": [],
   "source": [
    "apisim = ApiSimulation.load(mf6)\n",
    "apiml = apisim.get_model()\n",
    "\n",
    "sewer_flow = apiml.get_package(\"SWMM\")\n",
    "swmm_dtype = [(\"nodelist\", \"O\"), (\"q\", float)]"
   ]
  },
  {
   "cell_type": "markdown",
   "id": "5899f825-5c0f-4068-b0ad-e533880868f8",
   "metadata": {},
   "source": [
    "#### Define MODFLOW variable tags and set pointer to MODFLOW variables"
   ]
  },
  {
   "cell_type": "code",
   "execution_count": 52,
   "id": "162fa181-607d-44c3-9bab-3eb9563d0aec",
   "metadata": {
    "execution": {
     "iopub.execute_input": "2025-02-03T20:02:36.745176Z",
     "iopub.status.busy": "2025-02-03T20:02:36.745176Z",
     "iopub.status.idle": "2025-02-03T20:02:36.780332Z",
     "shell.execute_reply": "2025-02-03T20:02:36.779280Z",
     "shell.execute_reply.started": "2025-02-03T20:02:36.745176Z"
    }
   },
   "outputs": [],
   "source": [
    "ghb_bhead_tag = mf6.get_var_address(\"BHEAD\", \"GWF\", \"GHB\")\n",
    "ghb_cond_tag = mf6.get_var_address(\"COND\", \"GWF\", \"GHB\")\n",
    "ghb_flow_tag = mf6.get_var_address(\"SIMVALS\", \"GWF\", \"GHB\")"
   ]
  },
  {
   "cell_type": "code",
   "execution_count": 53,
   "id": "3ba6a3ec-1913-4ac7-997a-1aa4146326ee",
   "metadata": {
    "execution": {
     "iopub.execute_input": "2025-02-03T20:02:36.782328Z",
     "iopub.status.busy": "2025-02-03T20:02:36.782328Z",
     "iopub.status.idle": "2025-02-03T20:02:36.797160Z",
     "shell.execute_reply": "2025-02-03T20:02:36.795352Z",
     "shell.execute_reply.started": "2025-02-03T20:02:36.782328Z"
    }
   },
   "outputs": [],
   "source": [
    "ghb_bhead_ptr = mf6.get_value_ptr(ghb_bhead_tag)\n",
    "ghb_cond_ptr = mf6.get_value_ptr(ghb_cond_tag)\n",
    "ghb_flow = np.zeros(ghb_bhead_ptr.shape)"
   ]
  },
  {
   "cell_type": "code",
   "execution_count": 54,
   "id": "3d270c2c-fa40-4f8f-9080-d8c218e8d4e7",
   "metadata": {
    "execution": {
     "iopub.execute_input": "2025-02-03T20:02:36.800162Z",
     "iopub.status.busy": "2025-02-03T20:02:36.799160Z",
     "iopub.status.idle": "2025-02-03T20:02:36.817965Z",
     "shell.execute_reply": "2025-02-03T20:02:36.816966Z",
     "shell.execute_reply.started": "2025-02-03T20:02:36.800162Z"
    }
   },
   "outputs": [],
   "source": [
    "chd_head_tag = mf6.get_var_address(\"HEAD\", \"GWF\", \"CHD_SURFACE\")\n",
    "chd_flow_tag = mf6.get_var_address(\"SIMVALS\", \"GWF\", \"CHD_SURFACE\")"
   ]
  },
  {
   "cell_type": "code",
   "execution_count": 55,
   "id": "b24c3aa0-44f7-41ec-93d2-3e9e43a54387",
   "metadata": {
    "execution": {
     "iopub.execute_input": "2025-02-03T20:02:36.821965Z",
     "iopub.status.busy": "2025-02-03T20:02:36.819967Z",
     "iopub.status.idle": "2025-02-03T20:02:36.833257Z",
     "shell.execute_reply": "2025-02-03T20:02:36.832257Z",
     "shell.execute_reply.started": "2025-02-03T20:02:36.821965Z"
    }
   },
   "outputs": [],
   "source": [
    "chd_head_ptr = mf6.get_value_ptr(chd_head_tag)\n",
    "chd_flow = np.zeros(chd_head_ptr.shape)"
   ]
  },
  {
   "cell_type": "markdown",
   "id": "871bbbe5-7bb3-45a7-a949-0c12ff1047c0",
   "metadata": {},
   "source": [
    "#### Create dictionaries for saving modified GHB data"
   ]
  },
  {
   "cell_type": "code",
   "execution_count": 56,
   "id": "c9c253c7-87d7-4c19-b24a-a2a6ff839499",
   "metadata": {
    "execution": {
     "iopub.execute_input": "2025-02-03T20:02:36.837401Z",
     "iopub.status.busy": "2025-02-03T20:02:36.835964Z",
     "iopub.status.idle": "2025-02-03T20:02:36.849813Z",
     "shell.execute_reply": "2025-02-03T20:02:36.847813Z",
     "shell.execute_reply.started": "2025-02-03T20:02:36.837401Z"
    }
   },
   "outputs": [],
   "source": [
    "ghb_elev_dict = {}\n",
    "ghb_cond_dict = {}\n",
    "chd_elev_dict = {}\n",
    "qext_dict = {}\n",
    "swmm_q_dict = {}"
   ]
  },
  {
   "cell_type": "markdown",
   "id": "2fb79760-ec43-41ff-8c69-d0cec5310575",
   "metadata": {},
   "source": [
    "#### Function to update MODFLOW GHB data"
   ]
  },
  {
   "cell_type": "code",
   "execution_count": 57,
   "id": "ab2c4365-1212-498b-862a-48d16a09dfc7",
   "metadata": {
    "execution": {
     "iopub.execute_input": "2025-02-03T20:02:36.853795Z",
     "iopub.status.busy": "2025-02-03T20:02:36.852034Z",
     "iopub.status.idle": "2025-02-03T20:02:36.871299Z",
     "shell.execute_reply": "2025-02-03T20:02:36.870301Z",
     "shell.execute_reply.started": "2025-02-03T20:02:36.853047Z"
    }
   },
   "outputs": [],
   "source": [
    "def update_mf(key, s, d):\n",
    "    mask = d == 0.0\n",
    "    s[mask] = 0.0\n",
    "    mult = np.full(d.shape, 1.0)\n",
    "    mult[mask] = 0.0\n",
    "\n",
    "    ghb_head = ghb_data0[\"bhead\"].to_numpy()\n",
    "    ghb_head[ghbmask] = dflow2mfghb.dot(s)[ghbmask] * m2ft\n",
    "    ghb_cond = ghb_data0[\"cond\"].to_numpy()\n",
    "    ghb_cond[ghbmask] = ghb_cond[ghbmask] * dflow2mfghb.dot(mult)[ghbmask]\n",
    "    \n",
    "    ghb_bhead_ptr[:] = ghb_head[:]\n",
    "    ghb_cond_ptr[:] = ghb_cond[:]\n",
    "\n",
    "    chd_head = chd_data0[\"head\"].to_numpy()\n",
    "    chd_head[chdmask] = dflow2mfchd.dot(s)[chdmask] * m2ft\n",
    "    \n",
    "    chd_head_ptr[:] = chd_head[:]\n",
    "   \n",
    "    # update results dictionary\n",
    "    ghb_elev_dict[key] = ghb_head.copy()\n",
    "    ghb_cond_dict[key] = ghb_cond.copy()\n",
    "    chd_elev_dict[key] = chd_head.copy()"
   ]
  },
  {
   "cell_type": "markdown",
   "id": "09571819-83a5-4dca-bfa8-0b3cd6dd4f11",
   "metadata": {},
   "source": [
    "#### Function to update D-Flow FM Qext data"
   ]
  },
  {
   "cell_type": "code",
   "execution_count": 58,
   "id": "329ba1b7-098d-4ed4-a1e0-00e4e74e293d",
   "metadata": {
    "execution": {
     "iopub.execute_input": "2025-02-03T20:02:36.874300Z",
     "iopub.status.busy": "2025-02-03T20:02:36.873300Z",
     "iopub.status.idle": "2025-02-03T20:02:36.886974Z",
     "shell.execute_reply": "2025-02-03T20:02:36.884891Z",
     "shell.execute_reply.started": "2025-02-03T20:02:36.874300Z"
    }
   },
   "outputs": [],
   "source": [
    "def update_dflow(key, d):\n",
    "    ghb_flow = -mf6.get_value(ghb_flow_tag) * cfd2cms\n",
    "    dflow_qext_ghb = ghb2qext.dot(ghb_flow)\n",
    "    dflow_qext_ghb[d == 0.0] = 0.0\n",
    "    \n",
    "    chd_flow = -mf6.get_value(chd_flow_tag) * cfd2cms\n",
    "    dflow_qext_chd = chd2qext.dot(chd_flow)\n",
    "    dflow_qext_chd[d == 0.0] = 0.0\n",
    "\n",
    "    dflow_qext = dflow_qext_ghb + dflow_qext_chd\n",
    "    \n",
    "    qext_cum[:ndxi] += dflow_qext[:ndxi]\n",
    "    qext[:ndxi] = dflow_qext[:ndxi]\n",
    "    dflowfm.set_var(\"qext\", qext)\n",
    "\n",
    "    # update results dictionaries\n",
    "    qext_dict[key] = qext[:ndxi].copy()\n"
   ]
  },
  {
   "cell_type": "markdown",
   "id": "0f00be55-21ab-4fea-b5e1-dc885a1a88c5",
   "metadata": {},
   "source": [
    "#### Function to update SWMM and the MODFLOW SWMM well"
   ]
  },
  {
   "cell_type": "code",
   "execution_count": 59,
   "id": "8081685c-cc0b-41a1-b8ae-25835da044d9",
   "metadata": {
    "execution": {
     "iopub.execute_input": "2025-02-03T20:02:36.890973Z",
     "iopub.status.busy": "2025-02-03T20:02:36.889973Z",
     "iopub.status.idle": "2025-02-03T20:02:36.904686Z",
     "shell.execute_reply": "2025-02-03T20:02:36.903652Z",
     "shell.execute_reply.started": "2025-02-03T20:02:36.890973Z"
    }
   },
   "outputs": [],
   "source": [
    "def update_swmm(key):\n",
    "    heads = apiml.X\n",
    "    mf6_spd = []\n",
    "    for key, value in swmm_nodes.items():\n",
    "        row, col = mf6_cells[key]\n",
    "        head = heads[0, row, col]\n",
    "        # might be nice to use the simulated swmm water-level\n",
    "        # in the junctions instead of the invert elevation\n",
    "        pot = head - swmm_inverts[key] * m2ft\n",
    "        if pot > 0.0:\n",
    "            Q = pot * 0.001\n",
    "        else:\n",
    "            Q = pot * 0.0002\n",
    "        value.generated_inflow(Q * cfd2cms)  # convert to CMS\n",
    "        mf6_spd.append(((0, row, col), -Q)) # unit conversion needed\n",
    "\n",
    "    # update gwf_swmm well file with new flux data - will be used next time step\n",
    "    mf6_spd = np.array(mf6_spd, dtype=swmm_dtype)\n",
    "    sewer_flow.stress_period_data.values = mf6_spd\n",
    "\n",
    "    # update results dictionary\n",
    "    swmm_q_dict[key] = mf6_spd[\"q\"].copy()\n"
   ]
  },
  {
   "cell_type": "markdown",
   "id": "cd2fe2d7-4b4e-4018-a9ab-6e624c316725",
   "metadata": {},
   "source": [
    "#### Run each time step"
   ]
  },
  {
   "cell_type": "code",
   "execution_count": 60,
   "id": "8c28d312-5e6d-4130-8668-4d7fdfd0e278",
   "metadata": {
    "execution": {
     "iopub.execute_input": "2025-02-03T20:02:36.910685Z",
     "iopub.status.busy": "2025-02-03T20:02:36.908686Z",
     "iopub.status.idle": "2025-02-03T20:02:36.930244Z",
     "shell.execute_reply": "2025-02-03T20:02:36.929244Z",
     "shell.execute_reply.started": "2025-02-03T20:02:36.909686Z"
    }
   },
   "outputs": [
    {
     "name": "stdout",
     "output_type": "stream",
     "text": [
      "DFLOWFM current_time:             0.0 sec. (            0.0 days)\n",
      "DFLOWFM end_time:         7,776,000.0 sec. (           90.0 days)\n"
     ]
    }
   ],
   "source": [
    "print(\n",
    "    f\"DFLOWFM current_time: {dflowfm.get_current_time():15,.1f} sec. ({dflowfm.get_current_time()/86400.:15,.1f} days)\\n\"\n",
    "     + f\"DFLOWFM end_time:     {dflowfm.get_end_time():15,.1f} sec. ({dflowfm.get_end_time()/86400.:15,.1f} days)\"\n",
    ")"
   ]
  },
  {
   "cell_type": "code",
   "execution_count": 61,
   "id": "68ee61c0-d3dc-470f-849d-441360c70290",
   "metadata": {
    "execution": {
     "iopub.execute_input": "2025-02-03T20:02:36.933242Z",
     "iopub.status.busy": "2025-02-03T20:02:36.932244Z",
     "iopub.status.idle": "2025-02-03T20:59:01.357516Z",
     "shell.execute_reply": "2025-02-03T20:59:01.354066Z",
     "shell.execute_reply.started": "2025-02-03T20:02:36.933242Z"
    }
   },
   "outputs": [
    {
     "name": "stdout",
     "output_type": "stream",
     "text": [
      "Current time:     7,776,000.0 (    89.997 days) - 100.00% complete - (288) ***\n",
      "run time: 56.40523425416662 min\n"
     ]
    }
   ],
   "source": [
    "idx = 0\n",
    "jdx = 0\n",
    "t0 = time.perf_counter()\n",
    "current_time = dflowfm.get_current_time()\n",
    "end_time = dflowfm.get_end_time()\n",
    "while current_time <= end_time:\n",
    "    idx += 1\n",
    "    ontime = dflowfm.get_current_time()\n",
    "    onday = ontime / 86400.\n",
    "    frac_comp = current_time / end_time\n",
    "    print(f\"Current time: {current_time:15,.1f} ({onday:10.3f} days) - {frac_comp:6.2%} complete - ({idx:03d})    \", end=\"\\r\")\n",
    "    dflowfm.update()\n",
    "\n",
    "    current_time = dflowfm.get_current_time()\n",
    "    if idx == int(dflow_per_mf):\n",
    "        print(f\"Current time: {current_time:15,.1f} ({onday:10.3f} days) - {frac_comp:6.2%} complete - ({idx:03d}) ***\", end=\"\\r\")\n",
    "        s = dflowfm.get_var(\"s1\")[:ndxi]\n",
    "        d = dflowfm.get_var(\"hs\")[:ndxi]\n",
    "\n",
    "        mf6.prepare_time_step(mf6.get_time_step())\n",
    "        update_mf(str(jdx), s, d)\n",
    "        mf6.do_time_step()\n",
    "        mf6.finalize_time_step()\n",
    "        update_dflow(str(jdx), d)\n",
    "        \n",
    "        # advance SWMM\n",
    "        update_swmm(str(jdx))\n",
    "        dt_sec = mf6.get_time_step() * d2sec\n",
    "        swmm_sim.step_advance(int(dt_sec))\n",
    "        try:\n",
    "            swmm_sim.__next__()  \n",
    "        except StopIteration:\n",
    "            break        \n",
    "\n",
    "        # update counters\n",
    "        idx = 0\n",
    "        jdx += 1\n",
    "    \n",
    "    if current_time == end_time:\n",
    "        break\n",
    "\n",
    "vextcum = dflowfm.get_var(\"vextcum\")\n",
    "\n",
    "t1 = time.perf_counter()\n",
    "print(f\"\\nrun time: {(t1 - t0) / 60.} min\")"
   ]
  },
  {
   "cell_type": "markdown",
   "id": "1151e94a-f387-47e0-a43b-04f1b2b32ea7",
   "metadata": {},
   "source": [
    "#### Finalize models"
   ]
  },
  {
   "cell_type": "code",
   "execution_count": 62,
   "id": "ba758e06-8665-4984-b646-851d4ed48e49",
   "metadata": {
    "execution": {
     "iopub.execute_input": "2025-02-03T20:59:01.362516Z",
     "iopub.status.busy": "2025-02-03T20:59:01.360532Z",
     "iopub.status.idle": "2025-02-03T20:59:04.053775Z",
     "shell.execute_reply": "2025-02-03T20:59:04.052592Z",
     "shell.execute_reply.started": "2025-02-03T20:59:01.362516Z"
    }
   },
   "outputs": [],
   "source": [
    "mf6.finalize()"
   ]
  },
  {
   "cell_type": "code",
   "execution_count": 64,
   "id": "1dd670aa-6138-4c38-91ab-9afeddd0c602",
   "metadata": {
    "execution": {
     "iopub.execute_input": "2025-02-03T21:23:03.736516Z",
     "iopub.status.busy": "2025-02-03T21:23:03.736516Z",
     "iopub.status.idle": "2025-02-03T21:23:10.378392Z",
     "shell.execute_reply": "2025-02-03T21:23:10.378392Z",
     "shell.execute_reply.started": "2025-02-03T21:23:03.736516Z"
    }
   },
   "outputs": [],
   "source": [
    "swmm_sim.terminate_simulation()\n",
    "swmm_sim.report()\n",
    "swmm_sim.close()"
   ]
  },
  {
   "cell_type": "code",
   "execution_count": 65,
   "id": "fb819b57-d15b-4c1a-9886-a422a789a2f8",
   "metadata": {
    "execution": {
     "iopub.execute_input": "2025-02-03T21:23:23.888741Z",
     "iopub.status.busy": "2025-02-03T21:23:23.885742Z",
     "iopub.status.idle": "2025-02-03T21:23:24.128528Z",
     "shell.execute_reply": "2025-02-03T21:23:24.127527Z",
     "shell.execute_reply.started": "2025-02-03T21:23:23.888741Z"
    }
   },
   "outputs": [],
   "source": [
    "dflowfm.finalize()"
   ]
  },
  {
   "cell_type": "markdown",
   "id": "2ac33056-7abc-464c-a545-b3f76e1adc20",
   "metadata": {},
   "source": [
    "#### Save ghb elevation and conductance data to compressed files"
   ]
  },
  {
   "cell_type": "code",
   "execution_count": 66,
   "id": "5a7e1534-3aec-4d0b-ad05-e4abb8a1ef23",
   "metadata": {
    "execution": {
     "iopub.execute_input": "2025-02-03T21:23:24.132069Z",
     "iopub.status.busy": "2025-02-03T21:23:24.131068Z",
     "iopub.status.idle": "2025-02-03T21:23:24.234617Z",
     "shell.execute_reply": "2025-02-03T21:23:24.233623Z",
     "shell.execute_reply.started": "2025-02-03T21:23:24.132069Z"
    }
   },
   "outputs": [],
   "source": [
    "np.savez_compressed(f\"{mf_run_path}/ghb_elev.npz\", **ghb_elev_dict)\n",
    "np.savez_compressed(f\"{mf_run_path}/ghb_cond.npz\", **ghb_cond_dict)"
   ]
  },
  {
   "cell_type": "markdown",
   "id": "7a910bfd-8e85-4999-a500-49bf087e1366",
   "metadata": {},
   "source": [
    "#### Save chd elevation to compressed file"
   ]
  },
  {
   "cell_type": "code",
   "execution_count": 67,
   "id": "8abb9593-9b14-4cc0-adf9-5ff3e690b11f",
   "metadata": {
    "execution": {
     "iopub.execute_input": "2025-02-03T21:23:24.237242Z",
     "iopub.status.busy": "2025-02-03T21:23:24.236242Z",
     "iopub.status.idle": "2025-02-03T21:23:24.319529Z",
     "shell.execute_reply": "2025-02-03T21:23:24.317877Z",
     "shell.execute_reply.started": "2025-02-03T21:23:24.237242Z"
    }
   },
   "outputs": [],
   "source": [
    "np.savez_compressed(f\"{mf_run_path}/chd_elev.npz\", **chd_elev_dict)"
   ]
  },
  {
   "cell_type": "markdown",
   "id": "dfcd3df1-07cb-4bdb-b3a9-30d119d72ea5",
   "metadata": {},
   "source": [
    "#### Save qext data to compressed file"
   ]
  },
  {
   "cell_type": "code",
   "execution_count": 68,
   "id": "6ef06c87-5759-4212-8280-0d0c14796d0c",
   "metadata": {
    "execution": {
     "iopub.execute_input": "2025-02-03T21:23:24.321529Z",
     "iopub.status.busy": "2025-02-03T21:23:24.321529Z",
     "iopub.status.idle": "2025-02-03T21:23:24.482745Z",
     "shell.execute_reply": "2025-02-03T21:23:24.481830Z",
     "shell.execute_reply.started": "2025-02-03T21:23:24.321529Z"
    }
   },
   "outputs": [],
   "source": [
    "np.savez_compressed(f\"{mf_run_path}/qext.npz\", **qext_dict)"
   ]
  },
  {
   "cell_type": "markdown",
   "id": "b56548a6-a935-4e71-8eaa-6b15898d6bbd",
   "metadata": {},
   "source": [
    "#### Save SWMM flux data to compressed file"
   ]
  },
  {
   "cell_type": "code",
   "execution_count": 69,
   "id": "02e595cc-734b-4749-b680-e450d4a2ecd6",
   "metadata": {
    "execution": {
     "iopub.execute_input": "2025-02-03T21:23:24.483742Z",
     "iopub.status.busy": "2025-02-03T21:23:24.483742Z",
     "iopub.status.idle": "2025-02-03T21:23:24.499501Z",
     "shell.execute_reply": "2025-02-03T21:23:24.498541Z",
     "shell.execute_reply.started": "2025-02-03T21:23:24.483742Z"
    }
   },
   "outputs": [],
   "source": [
    "np.savez_compressed(f\"{mf_run_path}/swmm_q.npz\", **swmm_q_dict)"
   ]
  }
 ],
 "metadata": {
  "kernelspec": {
   "display_name": "Python 3 (ipykernel)",
   "language": "python",
   "name": "python3"
  },
  "language_info": {
   "codemirror_mode": {
    "name": "ipython",
    "version": 3
   },
   "file_extension": ".py",
   "mimetype": "text/x-python",
   "name": "python",
   "nbconvert_exporter": "python",
   "pygments_lexer": "ipython3",
   "version": "3.10.0"
  }
 },
 "nbformat": 4,
 "nbformat_minor": 5
}
