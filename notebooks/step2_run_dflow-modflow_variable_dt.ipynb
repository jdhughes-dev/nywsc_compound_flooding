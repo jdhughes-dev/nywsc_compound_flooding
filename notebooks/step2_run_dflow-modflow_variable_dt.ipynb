{
 "cells": [
  {
   "cell_type": "code",
   "execution_count": 1,
   "id": "8068fc3e-fb3d-4928-ae9e-de86d2bdf27a",
   "metadata": {},
   "outputs": [
    {
     "name": "stderr",
     "output_type": "stream",
     "text": [
      "C:\\Users\\jdhughes\\miniconda3\\envs\\liss\\lib\\site-packages\\bmi\\__init__.py:2: DeprecationWarning: pkg_resources is deprecated as an API. See https://setuptools.pypa.io/en/latest/pkg_resources.html\n",
      "  import pkg_resources\n",
      "C:\\Users\\jdhughes\\miniconda3\\envs\\liss\\lib\\site-packages\\pkg_resources\\__init__.py:2832: DeprecationWarning: Deprecated call to `pkg_resources.declare_namespace('pydap')`.\n",
      "Implementing implicit namespace packages (as specified in PEP 420) is preferred to `pkg_resources.declare_namespace`. See https://setuptools.pypa.io/en/latest/references/keywords.html#keyword-namespace-packages\n",
      "  declare_namespace(pkg)\n",
      "C:\\Users\\jdhughes\\miniconda3\\envs\\liss\\lib\\site-packages\\pkg_resources\\__init__.py:2832: DeprecationWarning: Deprecated call to `pkg_resources.declare_namespace('pydap.responses')`.\n",
      "Implementing implicit namespace packages (as specified in PEP 420) is preferred to `pkg_resources.declare_namespace`. See https://setuptools.pypa.io/en/latest/references/keywords.html#keyword-namespace-packages\n",
      "  declare_namespace(pkg)\n",
      "C:\\Users\\jdhughes\\miniconda3\\envs\\liss\\lib\\site-packages\\pkg_resources\\__init__.py:2317: DeprecationWarning: Deprecated call to `pkg_resources.declare_namespace('pydap')`.\n",
      "Implementing implicit namespace packages (as specified in PEP 420) is preferred to `pkg_resources.declare_namespace`. See https://setuptools.pypa.io/en/latest/references/keywords.html#keyword-namespace-packages\n",
      "  declare_namespace(parent)\n",
      "C:\\Users\\jdhughes\\miniconda3\\envs\\liss\\lib\\site-packages\\pkg_resources\\__init__.py:2832: DeprecationWarning: Deprecated call to `pkg_resources.declare_namespace('pydap.handlers')`.\n",
      "Implementing implicit namespace packages (as specified in PEP 420) is preferred to `pkg_resources.declare_namespace`. See https://setuptools.pypa.io/en/latest/references/keywords.html#keyword-namespace-packages\n",
      "  declare_namespace(pkg)\n",
      "C:\\Users\\jdhughes\\miniconda3\\envs\\liss\\lib\\site-packages\\pkg_resources\\__init__.py:2317: DeprecationWarning: Deprecated call to `pkg_resources.declare_namespace('pydap')`.\n",
      "Implementing implicit namespace packages (as specified in PEP 420) is preferred to `pkg_resources.declare_namespace`. See https://setuptools.pypa.io/en/latest/references/keywords.html#keyword-namespace-packages\n",
      "  declare_namespace(parent)\n",
      "C:\\Users\\jdhughes\\miniconda3\\envs\\liss\\lib\\site-packages\\pkg_resources\\__init__.py:2832: DeprecationWarning: Deprecated call to `pkg_resources.declare_namespace('pydap.tests')`.\n",
      "Implementing implicit namespace packages (as specified in PEP 420) is preferred to `pkg_resources.declare_namespace`. See https://setuptools.pypa.io/en/latest/references/keywords.html#keyword-namespace-packages\n",
      "  declare_namespace(pkg)\n",
      "C:\\Users\\jdhughes\\miniconda3\\envs\\liss\\lib\\site-packages\\pkg_resources\\__init__.py:2317: DeprecationWarning: Deprecated call to `pkg_resources.declare_namespace('pydap')`.\n",
      "Implementing implicit namespace packages (as specified in PEP 420) is preferred to `pkg_resources.declare_namespace`. See https://setuptools.pypa.io/en/latest/references/keywords.html#keyword-namespace-packages\n",
      "  declare_namespace(parent)\n"
     ]
    }
   ],
   "source": [
    "import os\n",
    "import time\n",
    "import matplotlib.pyplot as plt\n",
    "import numpy as np\n",
    "import pathlib as pl\n",
    "import shutil\n",
    "\n",
    "import flopy\n",
    "from modflowapi import ModflowApi\n",
    "\n",
    "from bmi.wrapper import BMIWrapper\n",
    "\n",
    "from liss_settings import libmf6, get_dflow_grid_name, get_dflow_dtuser, get_modflow_coupling_tag"
   ]
  },
  {
   "cell_type": "code",
   "execution_count": 2,
   "id": "0ab50c8a-749d-4167-acd5-399b3891059e",
   "metadata": {},
   "outputs": [
    {
     "name": "stdout",
     "output_type": "stream",
     "text": [
      "LIS_modflow_bathy2_net\n"
     ]
    }
   ],
   "source": [
    "control_path = pl.Path(\"../dflow-fm/coarse/tides/base/FlowFM.mdu\") # change this if using a different D-Flow FM control file\n",
    "grid_name = get_dflow_grid_name(control_path)\n",
    "print(grid_name)"
   ]
  },
  {
   "cell_type": "code",
   "execution_count": 3,
   "id": "ee09742e-ba2c-4c98-9aa8-1cba1f1ff4b7",
   "metadata": {},
   "outputs": [
    {
     "name": "stdout",
     "output_type": "stream",
     "text": [
      "300.0\n"
     ]
    }
   ],
   "source": [
    "dflowfm_dtuser = get_dflow_dtuser(control_path)\n",
    "print(dflowfm_dtuser)"
   ]
  },
  {
   "cell_type": "markdown",
   "id": "a0d7d1d4-576b-46c9-a937-2e7e3f33cf71",
   "metadata": {},
   "source": [
    "#### Set unit conversion factors"
   ]
  },
  {
   "cell_type": "code",
   "execution_count": 4,
   "id": "230cd63b-3abd-4fa5-8c54-faff16f820b7",
   "metadata": {},
   "outputs": [],
   "source": [
    "d2sec = 24. * 60. * 60.\n",
    "hrs2sec = 60. * 60. \n",
    "m2ft = 3.28081\n",
    "cfd2cms = 1.0 / ((3.28082**3) * 86400.)"
   ]
  },
  {
   "cell_type": "markdown",
   "id": "d04c9972-ddea-4a20-b350-aa7012ed8024",
   "metadata": {},
   "source": [
    "#### Set the MODFLOW coupling frequency\n",
    "\n",
    "Change the `mf_couple_freq_hours` value. Only tested for multiple of the D-Flow FM DtUser variable. Will not work for `mf_couple_freq_hours` values greater than 24."
   ]
  },
  {
   "cell_type": "code",
   "execution_count": 5,
   "id": "5cc0c30d-b34d-4f46-9a3a-be3f1560fe8b",
   "metadata": {},
   "outputs": [],
   "source": [
    "mf_couple_freq_hours = 0.25  #Change this value to change the coupling frequency\n",
    "mf_couple_freq = mf_couple_freq_hours * hrs2sec\n",
    "dflow_per_mf = int(mf_couple_freq / dflowfm_dtuser)"
   ]
  },
  {
   "cell_type": "code",
   "execution_count": 6,
   "id": "68e05a52-7c7c-4ff5-8065-acba30faa628",
   "metadata": {},
   "outputs": [
    {
     "name": "stdout",
     "output_type": "stream",
     "text": [
      "MODFLOW coupling frequency 0.25 hours\n",
      "MODFLOW coupled to D-FLOW FM every 3.0 output time step (300.0 sec.)\n"
     ]
    }
   ],
   "source": [
    "print(f\"MODFLOW coupling frequency {mf_couple_freq_hours} hours\\nMODFLOW coupled to D-FLOW FM every {dflow_per_mf} output time step ({dflowfm_dtuser} sec.)\") "
   ]
  },
  {
   "cell_type": "code",
   "execution_count": 7,
   "id": "5f212449-ea60-48de-925a-0398566ed8ed",
   "metadata": {},
   "outputs": [
    {
     "name": "stdout",
     "output_type": "stream",
     "text": [
      "MODFLOW coupling tag: 15.00M\n"
     ]
    }
   ],
   "source": [
    "mf_tag = get_modflow_coupling_tag(mf_couple_freq_hours)\n",
    "print(f\"MODFLOW coupling tag: {mf_tag}\")"
   ]
  },
  {
   "cell_type": "code",
   "execution_count": 8,
   "id": "df9e20ec-3c71-43a6-b7f2-e8e6fddcc61c",
   "metadata": {},
   "outputs": [
    {
     "name": "stdout",
     "output_type": "stream",
     "text": [
      "MODFLOW time steps per day: 96\n"
     ]
    }
   ],
   "source": [
    "nstp = int(86400.0 / (dflow_per_mf * dflowfm_dtuser))\n",
    "print(f\"MODFLOW time steps per day: {nstp}\")"
   ]
  },
  {
   "cell_type": "markdown",
   "id": "09f0ade3-f609-4ee8-bdd5-879ac1d29e8f",
   "metadata": {},
   "source": [
    "#### Set a few variables for controlling coupling"
   ]
  },
  {
   "cell_type": "code",
   "execution_count": 9,
   "id": "d0252aad-644a-48eb-a158-c66b68ed482d",
   "metadata": {},
   "outputs": [],
   "source": [
    "HDRY = -1e30\n",
    "DEPTH_MIN = 0.1"
   ]
  },
  {
   "cell_type": "markdown",
   "id": "09370d07-81e9-47e3-9b9d-1e46d445f5d0",
   "metadata": {},
   "source": [
    "#### Print the path of the modflow6 shared library"
   ]
  },
  {
   "cell_type": "code",
   "execution_count": 10,
   "id": "978e5390-27ae-4c02-b0e0-e67e6d692277",
   "metadata": {},
   "outputs": [
    {
     "data": {
      "text/plain": [
       "('C:\\\\Users\\\\jdhughes\\\\miniconda3\\\\envs\\\\liss\\\\Scripts\\\\libmf6.dll', True)"
      ]
     },
     "execution_count": 10,
     "metadata": {},
     "output_type": "execute_result"
    }
   ],
   "source": [
    "str(libmf6), libmf6.is_file()"
   ]
  },
  {
   "cell_type": "markdown",
   "id": "3b7ebaeb-a8f0-4494-b4fc-aeeaf8b378c9",
   "metadata": {},
   "source": [
    "#### Load the D-FLOW to MODFLOW weights"
   ]
  },
  {
   "cell_type": "code",
   "execution_count": 11,
   "id": "855420a3-244d-4554-81e1-9a4aa0e12ea2",
   "metadata": {},
   "outputs": [
    {
     "data": {
      "text/plain": [
       "NpzFile '../mapping/dflow2mfghb_LIS_modflow_bathy2_net.npz' with keys: dflow2mfghb, ghbmask, ghb2qext"
      ]
     },
     "execution_count": 11,
     "metadata": {},
     "output_type": "execute_result"
    }
   ],
   "source": [
    "npzfile = np.load(f\"../mapping/dflow2mfghb_{grid_name}.npz\")\n",
    "npzfile"
   ]
  },
  {
   "cell_type": "code",
   "execution_count": 12,
   "id": "bbab17d3-56e5-45ba-8d50-c25f6c74eaa0",
   "metadata": {},
   "outputs": [],
   "source": [
    "dflow2mfghb = npzfile[\"dflow2mfghb\"]\n",
    "ghbmask = npzfile[\"ghbmask\"]\n",
    "ghb2qext = npzfile[\"ghb2qext\"]"
   ]
  },
  {
   "cell_type": "markdown",
   "id": "60dfd775-f516-4903-8918-1d9ab978139c",
   "metadata": {},
   "source": [
    "#### Define paths for the model simulation"
   ]
  },
  {
   "cell_type": "code",
   "execution_count": 13,
   "id": "7ebfe2c1-d396-4aaf-a705-4ad02eb14a5a",
   "metadata": {},
   "outputs": [],
   "source": [
    "mf_base_path = pl.Path(\"../modflow/greenport500ft/base/\").resolve()\n",
    "mf_run_path = pl.Path(f\"../modflow/greenport500ft/run_{mf_tag}/\").resolve()"
   ]
  },
  {
   "cell_type": "markdown",
   "id": "396b7738-dca7-4918-8b68-a44f314caa50",
   "metadata": {},
   "source": [
    "#### Load the base MODFLOW model"
   ]
  },
  {
   "cell_type": "code",
   "execution_count": 14,
   "id": "dd9add2a-c3a4-4582-a37e-34b2269f225b",
   "metadata": {},
   "outputs": [
    {
     "name": "stdout",
     "output_type": "stream",
     "text": [
      "loading simulation...\n",
      "  loading simulation name file...\n",
      "  loading tdis package...\n",
      "  loading model gwf6...\n",
      "    loading package dis...\n",
      "    loading package ic...\n",
      "WARNING: Block \"options\" is not a valid block name for file type ic.\n",
      "    loading package npf...\n",
      "    loading package obs...\n",
      "    loading package sto...\n",
      "    loading package oc...\n",
      "    loading package ghb...\n",
      "    loading package wel...\n",
      "    loading package drn...\n",
      "    loading package rch...\n",
      "  loading solution package modflow...\n"
     ]
    }
   ],
   "source": [
    "sim = flopy.mf6.MFSimulation.load(sim_ws=mf_base_path)\n",
    "gwf = sim.get_model()"
   ]
  },
  {
   "cell_type": "code",
   "execution_count": 15,
   "id": "e9dcc0eb-f38a-42d5-81f7-a1a64c109b4a",
   "metadata": {},
   "outputs": [],
   "source": [
    "sim.set_sim_path(mf_run_path)"
   ]
  },
  {
   "cell_type": "markdown",
   "id": "abd805dc-28b5-4bc6-bc62-c401948761ec",
   "metadata": {},
   "source": [
    "#### Change TDIS to hourly time steps"
   ]
  },
  {
   "cell_type": "code",
   "execution_count": 16,
   "id": "d82c5062-3520-4c29-8d1e-70c2c319bf7c",
   "metadata": {},
   "outputs": [],
   "source": [
    "tdis = sim.get_package(\"TDIS\")\n",
    "perioddata = tdis.perioddata.array"
   ]
  },
  {
   "cell_type": "code",
   "execution_count": 17,
   "id": "74a9bdbe-b219-4e8c-b125-0a754ed63820",
   "metadata": {},
   "outputs": [],
   "source": [
    "perioddata[\"nstp\"] = nstp\n",
    "tdis.perioddata = perioddata"
   ]
  },
  {
   "cell_type": "markdown",
   "id": "bce234b1-108a-4058-8a27-c16af0695ca8",
   "metadata": {},
   "source": [
    "#### Write the new model files"
   ]
  },
  {
   "cell_type": "code",
   "execution_count": 18,
   "id": "83a7eabe-ef97-4004-a3a1-c567a0f0abdf",
   "metadata": {},
   "outputs": [
    {
     "name": "stdout",
     "output_type": "stream",
     "text": [
      "writing simulation...\n",
      "  writing simulation name file...\n",
      "  writing simulation tdis package...\n",
      "  writing solution package modflow...\n",
      "  writing model modflow...\n",
      "    writing model name file...\n",
      "    writing package dis...\n",
      "    writing package ic...\n",
      "    writing package npf...\n",
      "    writing package obs-1...\n",
      "    writing package sto...\n",
      "    writing package oc...\n",
      "    writing package ghb-1...\n",
      "    writing package wel-1...\n",
      "    writing package drn_obs...\n",
      "    writing package drn-1...\n",
      "    writing package rch-1...\n"
     ]
    }
   ],
   "source": [
    "sim.write_simulation()"
   ]
  },
  {
   "cell_type": "markdown",
   "id": "dd4234a3-1c0f-4988-93d2-612ffd926367",
   "metadata": {},
   "source": [
    "#### Define base GHB variables"
   ]
  },
  {
   "cell_type": "code",
   "execution_count": 19,
   "id": "99600475-94a7-40af-ad59-af8fafce7737",
   "metadata": {},
   "outputs": [
    {
     "data": {
      "text/html": [
       "<div>\n",
       "<style scoped>\n",
       "    .dataframe tbody tr th:only-of-type {\n",
       "        vertical-align: middle;\n",
       "    }\n",
       "\n",
       "    .dataframe tbody tr th {\n",
       "        vertical-align: top;\n",
       "    }\n",
       "\n",
       "    .dataframe thead th {\n",
       "        text-align: right;\n",
       "    }\n",
       "</style>\n",
       "<table border=\"1\" class=\"dataframe\">\n",
       "  <thead>\n",
       "    <tr style=\"text-align: right;\">\n",
       "      <th></th>\n",
       "      <th>layer</th>\n",
       "      <th>row</th>\n",
       "      <th>column</th>\n",
       "      <th>bhead</th>\n",
       "      <th>cond</th>\n",
       "      <th>iface</th>\n",
       "      <th>boundname</th>\n",
       "    </tr>\n",
       "  </thead>\n",
       "  <tbody>\n",
       "    <tr>\n",
       "      <th>0</th>\n",
       "      <td>0</td>\n",
       "      <td>26</td>\n",
       "      <td>0</td>\n",
       "      <td>0.0</td>\n",
       "      <td>24999.999994</td>\n",
       "      <td>0</td>\n",
       "      <td>'sound'</td>\n",
       "    </tr>\n",
       "    <tr>\n",
       "      <th>1</th>\n",
       "      <td>0</td>\n",
       "      <td>27</td>\n",
       "      <td>0</td>\n",
       "      <td>0.0</td>\n",
       "      <td>25000.000000</td>\n",
       "      <td>0</td>\n",
       "      <td>'sound'</td>\n",
       "    </tr>\n",
       "    <tr>\n",
       "      <th>2</th>\n",
       "      <td>0</td>\n",
       "      <td>28</td>\n",
       "      <td>0</td>\n",
       "      <td>0.0</td>\n",
       "      <td>24999.999994</td>\n",
       "      <td>0</td>\n",
       "      <td>'sound'</td>\n",
       "    </tr>\n",
       "    <tr>\n",
       "      <th>3</th>\n",
       "      <td>0</td>\n",
       "      <td>29</td>\n",
       "      <td>0</td>\n",
       "      <td>0.0</td>\n",
       "      <td>24231.956659</td>\n",
       "      <td>0</td>\n",
       "      <td>'sound'</td>\n",
       "    </tr>\n",
       "    <tr>\n",
       "      <th>4</th>\n",
       "      <td>0</td>\n",
       "      <td>25</td>\n",
       "      <td>1</td>\n",
       "      <td>0.0</td>\n",
       "      <td>25000.000006</td>\n",
       "      <td>0</td>\n",
       "      <td>'sound'</td>\n",
       "    </tr>\n",
       "    <tr>\n",
       "      <th>...</th>\n",
       "      <td>...</td>\n",
       "      <td>...</td>\n",
       "      <td>...</td>\n",
       "      <td>...</td>\n",
       "      <td>...</td>\n",
       "      <td>...</td>\n",
       "      <td>...</td>\n",
       "    </tr>\n",
       "    <tr>\n",
       "      <th>730</th>\n",
       "      <td>0</td>\n",
       "      <td>14</td>\n",
       "      <td>56</td>\n",
       "      <td>0.0</td>\n",
       "      <td>22494.219708</td>\n",
       "      <td>0</td>\n",
       "      <td>'peconic'</td>\n",
       "    </tr>\n",
       "    <tr>\n",
       "      <th>731</th>\n",
       "      <td>0</td>\n",
       "      <td>15</td>\n",
       "      <td>56</td>\n",
       "      <td>0.0</td>\n",
       "      <td>25000.000006</td>\n",
       "      <td>0</td>\n",
       "      <td>'peconic'</td>\n",
       "    </tr>\n",
       "    <tr>\n",
       "      <th>732</th>\n",
       "      <td>0</td>\n",
       "      <td>16</td>\n",
       "      <td>56</td>\n",
       "      <td>0.0</td>\n",
       "      <td>24999.999994</td>\n",
       "      <td>0</td>\n",
       "      <td>'peconic'</td>\n",
       "    </tr>\n",
       "    <tr>\n",
       "      <th>733</th>\n",
       "      <td>0</td>\n",
       "      <td>17</td>\n",
       "      <td>56</td>\n",
       "      <td>0.0</td>\n",
       "      <td>25000.000000</td>\n",
       "      <td>0</td>\n",
       "      <td>'peconic'</td>\n",
       "    </tr>\n",
       "    <tr>\n",
       "      <th>734</th>\n",
       "      <td>0</td>\n",
       "      <td>18</td>\n",
       "      <td>56</td>\n",
       "      <td>0.0</td>\n",
       "      <td>24999.999994</td>\n",
       "      <td>0</td>\n",
       "      <td>'peconic'</td>\n",
       "    </tr>\n",
       "  </tbody>\n",
       "</table>\n",
       "<p>735 rows × 7 columns</p>\n",
       "</div>"
      ],
      "text/plain": [
       "     layer  row  column  bhead          cond  iface  boundname\n",
       "0        0   26       0    0.0  24999.999994      0    'sound'\n",
       "1        0   27       0    0.0  25000.000000      0    'sound'\n",
       "2        0   28       0    0.0  24999.999994      0    'sound'\n",
       "3        0   29       0    0.0  24231.956659      0    'sound'\n",
       "4        0   25       1    0.0  25000.000006      0    'sound'\n",
       "..     ...  ...     ...    ...           ...    ...        ...\n",
       "730      0   14      56    0.0  22494.219708      0  'peconic'\n",
       "731      0   15      56    0.0  25000.000006      0  'peconic'\n",
       "732      0   16      56    0.0  24999.999994      0  'peconic'\n",
       "733      0   17      56    0.0  25000.000000      0  'peconic'\n",
       "734      0   18      56    0.0  24999.999994      0  'peconic'\n",
       "\n",
       "[735 rows x 7 columns]"
      ]
     },
     "execution_count": 19,
     "metadata": {},
     "output_type": "execute_result"
    }
   ],
   "source": [
    "ghb_data0 = gwf.ghb.stress_period_data.get_dataframe()[0]\n",
    "ghb_data0"
   ]
  },
  {
   "cell_type": "markdown",
   "id": "9dfcc61c-3d3c-4fe2-9fb1-56037f753055",
   "metadata": {},
   "source": [
    "#### Setup and initialize D-FLOW FM\n",
    "\n",
    "You will need to set `dflow_dirpath` to the correct directory on your machine."
   ]
  },
  {
   "cell_type": "code",
   "execution_count": 20,
   "id": "18d44e36-93c3-466a-af26-faf477c1da04",
   "metadata": {},
   "outputs": [],
   "source": [
    "# dflow_dirpath = os.path.abspath(r\"C:\\Program Files\\Deltares\\Delft3D FM Suite 2023.02 HM\\plugins\\DeltaShell.Dimr\\kernels\\x64\\dflowfm\\bin\")\n",
    "# dflow_deps_dirpath = (\n",
    "#     os.path.abspath(r\"C:\\Program Files\\Deltares\\Delft3D FM Suite 2023.02 HM\\plugins\\DeltaShell.Dimr\\kernels\\x64\\share\\bin\"),\n",
    "# )\n",
    "dflow_dirpath = pl.Path(r\"X:\\Work\\new_york\\dflow-fm\\dflowfm_dll\") \n",
    "dflow_base = pl.Path(r\"X:\\Work\\new_york\\dflow-fm\\coarse\\tides\\base\")\n",
    "dflow_working = pl.Path(r\"X:\\Work\\new_york\\dflow-fm\\coarse\\tides\\run\")\n",
    "dflow_config = dflow_working / \"FlowFM.mdu\""
   ]
  },
  {
   "cell_type": "code",
   "execution_count": 21,
   "id": "3f136784-ba27-4254-9d91-75a07aecdeb5",
   "metadata": {},
   "outputs": [
    {
     "data": {
      "text/plain": [
       "WindowsPath('X:/Work/new_york/dflow-fm/coarse/tides/run')"
      ]
     },
     "execution_count": 21,
     "metadata": {},
     "output_type": "execute_result"
    }
   ],
   "source": [
    "if dflow_working.is_dir():\n",
    "    shutil.rmtree(dflow_working)\n",
    "shutil.copytree(dflow_base, dflow_working)"
   ]
  },
  {
   "cell_type": "code",
   "execution_count": 22,
   "id": "e8d5632e-bb20-48d3-af09-e9c98f692159",
   "metadata": {},
   "outputs": [
    {
     "data": {
      "text/plain": [
       "'C:\\\\Users\\\\jdhughes\\\\miniconda3\\\\envs\\\\liss;C:\\\\Users\\\\jdhughes\\\\miniconda3\\\\envs\\\\liss\\\\Library\\\\mingw-w64\\\\bin;C:\\\\Users\\\\jdhughes\\\\miniconda3\\\\envs\\\\liss\\\\Library\\\\usr\\\\bin;C:\\\\Users\\\\jdhughes\\\\miniconda3\\\\envs\\\\liss\\\\Library\\\\bin;C:\\\\Users\\\\jdhughes\\\\miniconda3\\\\envs\\\\liss\\\\Scripts;C:\\\\Users\\\\jdhughes\\\\miniconda3\\\\envs\\\\liss\\\\bin;C:\\\\Users\\\\jdhughes\\\\miniconda3\\\\condabin;C:\\\\Program Files\\\\Parallels\\\\Parallels Tools\\\\Applications;C:\\\\Program Files (x86)\\\\Intel\\\\oneAPI\\\\mpi\\\\latest\\\\bin;C:\\\\Program Files (x86)\\\\Intel\\\\oneAPI\\\\mpi\\\\latest\\\\bin\\\\release;C:\\\\Program Files (x86)\\\\Intel\\\\oneAPI\\\\mpi\\\\latest\\\\libfabric\\\\bin;C:\\\\Program Files (x86)\\\\Intel\\\\oneAPI\\\\mpi\\\\latest\\\\libfabric\\\\bin\\\\utils;C:\\\\Program Files (x86)\\\\Intel\\\\oneAPI\\\\compiler\\\\latest\\\\windows\\\\redist\\\\intel64_win\\\\compiler;C:\\\\Program Files (x86)\\\\Intel\\\\oneAPI\\\\compiler\\\\latest\\\\windows\\\\redist\\\\ia32_win\\\\compiler;C:\\\\Program Files (x86)\\\\Intel\\\\oneAPI\\\\tbb\\\\latest\\\\redist\\\\intel64\\\\vc_mt;C:\\\\Program Files (x86)\\\\Intel\\\\oneAPI\\\\tbb\\\\latest\\\\redist\\\\ia32\\\\vc_mt;C:\\\\Windows\\\\system32;C:\\\\Windows;C:\\\\Windows\\\\System32\\\\Wbem;C:\\\\Windows\\\\System32\\\\WindowsPowerShell\\\\v1.0;C:\\\\Windows\\\\System32\\\\OpenSSH;C:\\\\ProgramData\\\\chocolatey\\\\bin;C:\\\\Users\\\\jdhughes\\\\.pixi\\\\bin;C:\\\\Users\\\\jdhughes\\\\AppData\\\\Local\\\\Microsoft\\\\WindowsApps;C:\\\\Users\\\\jdhughes\\\\miniconda3;C:\\\\Users\\\\jdhughes\\\\AppData\\\\Local\\\\pixi\\\\bin;C:\\\\Users\\\\jdhughes\\\\.pixi\\\\bin;C:\\\\ProgramData\\\\mingw64\\\\mingw64\\\\bin;C:\\\\texlive\\\\2024\\\\bin\\\\windows;C:\\\\Users\\\\jdhughes\\\\AppData\\\\Local\\\\flopy\\\\bin'"
      ]
     },
     "execution_count": 22,
     "metadata": {},
     "output_type": "execute_result"
    }
   ],
   "source": [
    "os.environ[\"PATH\"]"
   ]
  },
  {
   "cell_type": "code",
   "execution_count": 23,
   "id": "1ee3058a-086f-4a68-aa45-968d03ed131d",
   "metadata": {},
   "outputs": [],
   "source": [
    "# Add dflowfm dll folder to PATH so that it can be found by the BMIWrapper\n",
    "os.environ[\"PATH\"] = (\n",
    "    str(dflow_dirpath) + os.pathsep + os.environ[\"PATH\"]\n",
    ")"
   ]
  },
  {
   "cell_type": "code",
   "execution_count": 24,
   "id": "91ac33b0-1ded-4c02-bc17-641658890f99",
   "metadata": {},
   "outputs": [
    {
     "data": {
      "text/plain": [
       "'X:\\\\Work\\\\new_york\\\\dflow-fm\\\\dflowfm_dll;C:\\\\Users\\\\jdhughes\\\\miniconda3\\\\envs\\\\liss;C:\\\\Users\\\\jdhughes\\\\miniconda3\\\\envs\\\\liss\\\\Library\\\\mingw-w64\\\\bin;C:\\\\Users\\\\jdhughes\\\\miniconda3\\\\envs\\\\liss\\\\Library\\\\usr\\\\bin;C:\\\\Users\\\\jdhughes\\\\miniconda3\\\\envs\\\\liss\\\\Library\\\\bin;C:\\\\Users\\\\jdhughes\\\\miniconda3\\\\envs\\\\liss\\\\Scripts;C:\\\\Users\\\\jdhughes\\\\miniconda3\\\\envs\\\\liss\\\\bin;C:\\\\Users\\\\jdhughes\\\\miniconda3\\\\condabin;C:\\\\Program Files\\\\Parallels\\\\Parallels Tools\\\\Applications;C:\\\\Program Files (x86)\\\\Intel\\\\oneAPI\\\\mpi\\\\latest\\\\bin;C:\\\\Program Files (x86)\\\\Intel\\\\oneAPI\\\\mpi\\\\latest\\\\bin\\\\release;C:\\\\Program Files (x86)\\\\Intel\\\\oneAPI\\\\mpi\\\\latest\\\\libfabric\\\\bin;C:\\\\Program Files (x86)\\\\Intel\\\\oneAPI\\\\mpi\\\\latest\\\\libfabric\\\\bin\\\\utils;C:\\\\Program Files (x86)\\\\Intel\\\\oneAPI\\\\compiler\\\\latest\\\\windows\\\\redist\\\\intel64_win\\\\compiler;C:\\\\Program Files (x86)\\\\Intel\\\\oneAPI\\\\compiler\\\\latest\\\\windows\\\\redist\\\\ia32_win\\\\compiler;C:\\\\Program Files (x86)\\\\Intel\\\\oneAPI\\\\tbb\\\\latest\\\\redist\\\\intel64\\\\vc_mt;C:\\\\Program Files (x86)\\\\Intel\\\\oneAPI\\\\tbb\\\\latest\\\\redist\\\\ia32\\\\vc_mt;C:\\\\Windows\\\\system32;C:\\\\Windows;C:\\\\Windows\\\\System32\\\\Wbem;C:\\\\Windows\\\\System32\\\\WindowsPowerShell\\\\v1.0;C:\\\\Windows\\\\System32\\\\OpenSSH;C:\\\\ProgramData\\\\chocolatey\\\\bin;C:\\\\Users\\\\jdhughes\\\\.pixi\\\\bin;C:\\\\Users\\\\jdhughes\\\\AppData\\\\Local\\\\Microsoft\\\\WindowsApps;C:\\\\Users\\\\jdhughes\\\\miniconda3;C:\\\\Users\\\\jdhughes\\\\AppData\\\\Local\\\\pixi\\\\bin;C:\\\\Users\\\\jdhughes\\\\.pixi\\\\bin;C:\\\\ProgramData\\\\mingw64\\\\mingw64\\\\bin;C:\\\\texlive\\\\2024\\\\bin\\\\windows;C:\\\\Users\\\\jdhughes\\\\AppData\\\\Local\\\\flopy\\\\bin'"
      ]
     },
     "execution_count": 24,
     "metadata": {},
     "output_type": "execute_result"
    }
   ],
   "source": [
    "os.environ[\"PATH\"]"
   ]
  },
  {
   "cell_type": "code",
   "execution_count": 25,
   "id": "0b7f2206-8eef-4b0d-93c9-695d58b70d6a",
   "metadata": {},
   "outputs": [
    {
     "data": {
      "text/plain": [
       "True"
      ]
     },
     "execution_count": 25,
     "metadata": {},
     "output_type": "execute_result"
    }
   ],
   "source": [
    "(pl.Path(dflow_dirpath) / \"dflowfm.dll\").is_file()"
   ]
  },
  {
   "cell_type": "markdown",
   "id": "9a27dd68-0a69-4302-8f8e-32b069769b8e",
   "metadata": {},
   "source": [
    "#### Initialize D-Flow FM"
   ]
  },
  {
   "cell_type": "code",
   "execution_count": 26,
   "id": "70e7cf96-3042-4f49-9d3e-0c7fe8aa8135",
   "metadata": {},
   "outputs": [],
   "source": [
    "dflowfm = BMIWrapper(\n",
    "    engine=\"dflowfm\",\n",
    "    configfile=os.path.abspath(dflow_config),\n",
    ")"
   ]
  },
  {
   "cell_type": "code",
   "execution_count": 27,
   "id": "3f225632-1513-4358-a3ea-31948858d0e1",
   "metadata": {},
   "outputs": [],
   "source": [
    "dflowfm.initialize()"
   ]
  },
  {
   "cell_type": "markdown",
   "id": "c934200b-6f36-4115-96fc-7d05f4dbc430",
   "metadata": {},
   "source": [
    "#### Get data from D-FLOW FM"
   ]
  },
  {
   "cell_type": "code",
   "execution_count": 28,
   "id": "c592da26-095b-4b80-8622-98477c7015bf",
   "metadata": {},
   "outputs": [
    {
     "data": {
      "text/plain": [
       "(8412, 8323, (8412,), (8412,), 300.0)"
      ]
     },
     "execution_count": 28,
     "metadata": {},
     "output_type": "execute_result"
    }
   ],
   "source": [
    "ndxi = int(dflowfm.get_var(\"ndxi\"))\n",
    "ndx = int(dflowfm.get_var(\"ndx\"))\n",
    "x = dflowfm.get_var(\"xz\")\n",
    "y = dflowfm.get_var(\"yz\")\n",
    "z = dflowfm.get_var(\"bl\")\n",
    "xy = [(xx, yy) for (xx, yy) in zip(x, y)]\n",
    "ndx, ndxi, x.shape, y.shape"
   ]
  },
  {
   "cell_type": "code",
   "execution_count": 29,
   "id": "915d5bc6-4177-427c-97a2-27a7e2d8237e",
   "metadata": {},
   "outputs": [
    {
     "data": {
      "text/plain": [
       "array([0., 0., 0., ..., 0., 0., 0.])"
      ]
     },
     "execution_count": 29,
     "metadata": {},
     "output_type": "execute_result"
    }
   ],
   "source": [
    "dflowfm.get_var(\"s1\")"
   ]
  },
  {
   "cell_type": "code",
   "execution_count": 30,
   "id": "176b58d3-dc6a-4356-ae10-ea3382656b41",
   "metadata": {},
   "outputs": [
    {
     "data": {
      "text/plain": [
       "((8412,),\n",
       " array([26.42575318, 24.9297905 , 23.53244183, ..., 18.71800344,\n",
       "        20.31243107, 21.52212007]))"
      ]
     },
     "execution_count": 30,
     "metadata": {},
     "output_type": "execute_result"
    }
   ],
   "source": [
    "v = dflowfm.get_var(\"hs\")\n",
    "v.shape, v"
   ]
  },
  {
   "cell_type": "code",
   "execution_count": 31,
   "id": "e4500627-a871-4b7a-b491-eeffe6e404fb",
   "metadata": {},
   "outputs": [
    {
     "data": {
      "text/plain": [
       "((8412,), array([0., 0., 0., ..., 0., 0., 0.]))"
      ]
     },
     "execution_count": 31,
     "metadata": {},
     "output_type": "execute_result"
    }
   ],
   "source": [
    "qext = np.zeros(ndx)\n",
    "qext.shape, qext"
   ]
  },
  {
   "cell_type": "code",
   "execution_count": 32,
   "id": "e3af8322-1b6e-481b-8e41-7c2e035a35c8",
   "metadata": {},
   "outputs": [],
   "source": [
    "# dflowfm.set_var(\"qext\", qext)"
   ]
  },
  {
   "cell_type": "code",
   "execution_count": 33,
   "id": "945847d2-18ff-48e9-998e-b7335f03a654",
   "metadata": {},
   "outputs": [
    {
     "data": {
      "text/plain": [
       "(8412,)"
      ]
     },
     "execution_count": 33,
     "metadata": {},
     "output_type": "execute_result"
    }
   ],
   "source": [
    "qext_cum = np.zeros(ndx)\n",
    "qext_cum.shape"
   ]
  },
  {
   "cell_type": "code",
   "execution_count": 34,
   "id": "eb181f22-36db-49c3-98fe-2cb02ae0277a",
   "metadata": {},
   "outputs": [
    {
     "data": {
      "text/plain": [
       "((8412,), array([0., 0., 0., ..., 0., 0., 0.]))"
      ]
     },
     "execution_count": 34,
     "metadata": {},
     "output_type": "execute_result"
    }
   ],
   "source": [
    "vextcum = dflowfm.get_var(\"vextcum\")\n",
    "vextcum.shape, vextcum"
   ]
  },
  {
   "cell_type": "markdown",
   "id": "abda6d7b-f5d7-4343-b171-4ef59f7c7a73",
   "metadata": {},
   "source": [
    "#### Initialize MODFLOW using MODFLOW API"
   ]
  },
  {
   "cell_type": "code",
   "execution_count": 35,
   "id": "45a2acde-ae78-4664-a8ce-a7df0ea5bfd2",
   "metadata": {},
   "outputs": [],
   "source": [
    "mf6 = ModflowApi(str(libmf6), working_directory=mf_run_path)"
   ]
  },
  {
   "cell_type": "code",
   "execution_count": 36,
   "id": "05bac9c9-c9f6-4814-b9cd-d573b66a3cd3",
   "metadata": {},
   "outputs": [],
   "source": [
    "mf6.initialize()"
   ]
  },
  {
   "cell_type": "markdown",
   "id": "5899f825-5c0f-4068-b0ad-e533880868f8",
   "metadata": {},
   "source": [
    "#### Define MODFLOW variable tags and set pointer to MODFLOW variables"
   ]
  },
  {
   "cell_type": "code",
   "execution_count": 37,
   "id": "162fa181-607d-44c3-9bab-3eb9563d0aec",
   "metadata": {},
   "outputs": [],
   "source": [
    "ghb_bhead_tag = mf6.get_var_address(\"BHEAD\", \"MODFLOW\", \"GHB-1\")\n",
    "ghb_cond_tag = mf6.get_var_address(\"COND\", \"MODFLOW\", \"GHB-1\")\n",
    "ghb_flow_tag = mf6.get_var_address(\"SIMVALS\", \"MODFLOW\", \"GHB-1\")"
   ]
  },
  {
   "cell_type": "code",
   "execution_count": 38,
   "id": "3ba6a3ec-1913-4ac7-997a-1aa4146326ee",
   "metadata": {},
   "outputs": [],
   "source": [
    "ghb_bhead_ptr = mf6.get_value_ptr(ghb_bhead_tag)\n",
    "ghb_cond_ptr = mf6.get_value_ptr(ghb_cond_tag)\n",
    "ghb_flow = np.zeros(ghb_bhead_ptr.shape)"
   ]
  },
  {
   "cell_type": "markdown",
   "id": "871bbbe5-7bb3-45a7-a949-0c12ff1047c0",
   "metadata": {},
   "source": [
    "#### Create dictionaries for saving modified GHB data"
   ]
  },
  {
   "cell_type": "code",
   "execution_count": 39,
   "id": "c9c253c7-87d7-4c19-b24a-a2a6ff839499",
   "metadata": {},
   "outputs": [],
   "source": [
    "elev_dict = {}\n",
    "cond_dict = {}\n",
    "qext_dict = {}"
   ]
  },
  {
   "cell_type": "markdown",
   "id": "2fb79760-ec43-41ff-8c69-d0cec5310575",
   "metadata": {},
   "source": [
    "#### Function to update MODFLOW GHB data"
   ]
  },
  {
   "cell_type": "code",
   "execution_count": 40,
   "id": "ab2c4365-1212-498b-862a-48d16a09dfc7",
   "metadata": {},
   "outputs": [],
   "source": [
    "def update_mf(key, s, d):\n",
    "    mask = d == 0.0\n",
    "    s[mask] = 0.0\n",
    "    mult = np.full(d.shape, 1.0)\n",
    "    mult[mask] = 0.0\n",
    "\n",
    "    ghb_head = ghb_data0[\"bhead\"].to_numpy()\n",
    "    ghb_head[ghbmask] = dflow2mfghb.dot(s)[ghbmask] * m2ft\n",
    "    ghb_cond = ghb_data0[\"cond\"].to_numpy()\n",
    "    ghb_cond[ghbmask] = ghb_cond[ghbmask] * dflow2mfghb.dot(mult)[ghbmask]\n",
    "    \n",
    "    ghb_bhead_ptr[:] = ghb_head[:]\n",
    "    ghb_cond_ptr[:] = ghb_cond[:]\n",
    "\n",
    "    # update results dictionary\n",
    "    elev_dict[key] = ghb_head.copy()\n",
    "    cond_dict[key] = ghb_cond.copy()"
   ]
  },
  {
   "cell_type": "markdown",
   "id": "09571819-83a5-4dca-bfa8-0b3cd6dd4f11",
   "metadata": {},
   "source": [
    "#### Function to update D-Flow FM Qext data"
   ]
  },
  {
   "cell_type": "code",
   "execution_count": 41,
   "id": "329ba1b7-098d-4ed4-a1e0-00e4e74e293d",
   "metadata": {},
   "outputs": [],
   "source": [
    "def update_dflow(key, d):\n",
    "    ghb_flow = -mf6.get_value(ghb_flow_tag) * cfd2cms\n",
    "    dflow_qext = ghb2qext.dot(ghb_flow)\n",
    "    dflow_qext[d == 0.0] = 0.0\n",
    "    qext_cum[:ndxi] += dflow_qext[:ndxi]\n",
    "\n",
    "    qext[:ndxi] = dflow_qext[:ndxi]\n",
    "    dflowfm.set_var(\"qext\", qext)\n",
    "\n",
    "    # update results dictionaries\n",
    "    qext_dict[key] = qext[:ndxi].copy()\n"
   ]
  },
  {
   "cell_type": "markdown",
   "id": "cd2fe2d7-4b4e-4018-a9ab-6e624c316725",
   "metadata": {},
   "source": [
    "#### Run each time step"
   ]
  },
  {
   "cell_type": "code",
   "execution_count": 42,
   "id": "8c28d312-5e6d-4130-8668-4d7fdfd0e278",
   "metadata": {},
   "outputs": [
    {
     "name": "stdout",
     "output_type": "stream",
     "text": [
      "DFLOWFM current_time:             0.0 sec. (            0.0 days)\n",
      "DFLOWFM end_time:         7,776,000.0 sec. (           90.0 days)\n"
     ]
    }
   ],
   "source": [
    "print(\n",
    "    f\"DFLOWFM current_time: {dflowfm.get_current_time():15,.1f} sec. ({dflowfm.get_current_time()/86400.:15,.1f} days)\\n\"\n",
    "     + f\"DFLOWFM end_time:     {dflowfm.get_end_time():15,.1f} sec. ({dflowfm.get_end_time()/86400.:15,.1f} days)\"\n",
    ")"
   ]
  },
  {
   "cell_type": "code",
   "execution_count": 43,
   "id": "68ee61c0-d3dc-470f-849d-441360c70290",
   "metadata": {},
   "outputs": [
    {
     "name": "stdout",
     "output_type": "stream",
     "text": [
      "Current time:     7,776,000.0 (    89.997 days) - 100.00% complete - (8639) ***\n",
      "run time: 81.27547328333337 min\n"
     ]
    }
   ],
   "source": [
    "idx = 0\n",
    "t0 = time.perf_counter()\n",
    "current_time = dflowfm.get_current_time()\n",
    "end_time = dflowfm.get_end_time()\n",
    "while current_time <= end_time:\n",
    "    ontime = dflowfm.get_current_time()\n",
    "    onday = ontime / 86400.\n",
    "    frac_comp = current_time / end_time\n",
    "    print(f\"Current time: {current_time:15,.1f} ({onday:10.3f} days) - {frac_comp:6.2%} complete - ({idx:03d})    \", end=\"\\r\")\n",
    "    dflowfm.update()\n",
    "\n",
    "    current_time = dflowfm.get_current_time()\n",
    "    if current_time % mf_couple_freq == 0.0:\n",
    "        print(f\"Current time: {current_time:15,.1f} ({onday:10.3f} days) - {frac_comp:6.2%} complete - ({idx:03d}) ***\", end=\"\\r\")\n",
    "        s = dflowfm.get_var(\"s1\")[:ndxi]\n",
    "        d = dflowfm.get_var(\"hs\")[:ndxi]\n",
    "\n",
    "        mf6.prepare_time_step(mf6.get_time_step())\n",
    "        update_mf(str(idx), s, d)\n",
    "        mf6.do_time_step()\n",
    "        mf6.finalize_time_step()\n",
    "        update_dflow(str(idx), d)\n",
    "\n",
    "        idx += 1\n",
    "\n",
    "    \n",
    "    if current_time == end_time:\n",
    "        break\n",
    "\n",
    "vextcum = dflowfm.get_var(\"vextcum\")\n",
    "\n",
    "t1 = time.perf_counter()\n",
    "print(f\"\\nrun time: {(t1 - t0) / 60.} min\")"
   ]
  },
  {
   "cell_type": "code",
   "execution_count": 44,
   "id": "ba758e06-8665-4984-b646-851d4ed48e49",
   "metadata": {},
   "outputs": [],
   "source": [
    "# Finalize\n",
    "mf6.finalize()"
   ]
  },
  {
   "cell_type": "code",
   "execution_count": 45,
   "id": "fb819b57-d15b-4c1a-9886-a422a789a2f8",
   "metadata": {},
   "outputs": [],
   "source": [
    "dflowfm.finalize()"
   ]
  },
  {
   "cell_type": "markdown",
   "id": "2ac33056-7abc-464c-a545-b3f76e1adc20",
   "metadata": {},
   "source": [
    "#### Save ghb elevation and conductance data to compressed files"
   ]
  },
  {
   "cell_type": "code",
   "execution_count": 46,
   "id": "5a7e1534-3aec-4d0b-ad05-e4abb8a1ef23",
   "metadata": {},
   "outputs": [],
   "source": [
    "np.savez_compressed(f\"{mf_run_path}/ghb_elev.npz\", **elev_dict)\n",
    "np.savez_compressed(f\"{mf_run_path}/ghb_cond.npz\", **cond_dict)\n",
    "np.savez_compressed(f\"{mf_run_path}/qext.npz\", **qext_dict)"
   ]
  },
  {
   "cell_type": "code",
   "execution_count": null,
   "id": "eb9019ce-a766-4ed7-bbb9-c540364c2479",
   "metadata": {},
   "outputs": [],
   "source": []
  }
 ],
 "metadata": {
  "kernelspec": {
   "display_name": "Python 3 (ipykernel)",
   "language": "python",
   "name": "python3"
  },
  "language_info": {
   "codemirror_mode": {
    "name": "ipython",
    "version": 3
   },
   "file_extension": ".py",
   "mimetype": "text/x-python",
   "name": "python",
   "nbconvert_exporter": "python",
   "pygments_lexer": "ipython3",
   "version": "3.10.0"
  }
 },
 "nbformat": 4,
 "nbformat_minor": 5
}
