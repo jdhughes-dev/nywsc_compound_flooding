{
 "cells": [
  {
   "cell_type": "code",
   "execution_count": null,
   "id": "cbaa1a27-5304-46d6-9c9f-038a68cd0114",
   "metadata": {},
   "outputs": [],
   "source": [
    "import os\n",
    "import time\n",
    "import matplotlib.pyplot as plt\n",
    "import numpy as np\n",
    "import pathlib as pl\n",
    "import shutil\n",
    "import sys\n",
    "\n",
    "import flopy\n",
    "from modflowapi import ModflowApi\n",
    "\n",
    "from bmi.wrapper import BMIWrapper"
   ]
  },
  {
   "cell_type": "code",
   "execution_count": null,
   "id": "bb24b9fa-754b-4852-957e-7bd804808434",
   "metadata": {},
   "outputs": [],
   "source": [
    "sys.path.append(\"../common\")\n",
    "from liss_settings import libmf6, get_dflow_grid_name, get_dflow_dtuser, get_modflow_coupling_tag"
   ]
  },
  {
   "cell_type": "code",
   "execution_count": null,
   "id": "0ab50c8a-749d-4167-acd5-399b3891059e",
   "metadata": {},
   "outputs": [],
   "source": [
    "control_path = pl.Path(\"../dflow-fm/coarse/tides/base/FlowFM.mdu\") # change this if using a different D-Flow FM control file\n",
    "grid_name = get_dflow_grid_name(control_path)\n",
    "print(grid_name)"
   ]
  },
  {
   "cell_type": "code",
   "execution_count": null,
   "id": "ee09742e-ba2c-4c98-9aa8-1cba1f1ff4b7",
   "metadata": {},
   "outputs": [],
   "source": [
    "dflowfm_dtuser = get_dflow_dtuser(control_path)\n",
    "print(dflowfm_dtuser)"
   ]
  },
  {
   "cell_type": "markdown",
   "id": "a0d7d1d4-576b-46c9-a937-2e7e3f33cf71",
   "metadata": {},
   "source": [
    "#### Set unit conversion factors"
   ]
  },
  {
   "cell_type": "code",
   "execution_count": null,
   "id": "230cd63b-3abd-4fa5-8c54-faff16f820b7",
   "metadata": {},
   "outputs": [],
   "source": [
    "d2sec = 24. * 60. * 60.\n",
    "hrs2sec = 60. * 60. \n",
    "m2ft = 3.28081\n",
    "cfd2cms = 1.0 / ((3.28082**3) * 86400.)"
   ]
  },
  {
   "cell_type": "markdown",
   "id": "d04c9972-ddea-4a20-b350-aa7012ed8024",
   "metadata": {},
   "source": [
    "#### Set the MODFLOW coupling frequency\n",
    "\n",
    "Change the `mf_couple_freq_hours` value. Only tested for multiple of the D-Flow FM DtUser variable. Will not work for `mf_couple_freq_hours` values greater than 24."
   ]
  },
  {
   "cell_type": "code",
   "execution_count": null,
   "id": "5cc0c30d-b34d-4f46-9a3a-be3f1560fe8b",
   "metadata": {},
   "outputs": [],
   "source": [
    "mf_couple_freq_hours = 1.0  #Change this value to change the coupling frequency\n",
    "mf_couple_freq = mf_couple_freq_hours * hrs2sec\n",
    "dflow_per_mf = int(mf_couple_freq / dflowfm_dtuser)"
   ]
  },
  {
   "cell_type": "code",
   "execution_count": null,
   "id": "68e05a52-7c7c-4ff5-8065-acba30faa628",
   "metadata": {},
   "outputs": [],
   "source": [
    "print(f\"MODFLOW coupling frequency {mf_couple_freq_hours} hours\\nMODFLOW coupled to D-FLOW FM every {dflow_per_mf} output time step ({dflowfm_dtuser} sec.)\") "
   ]
  },
  {
   "cell_type": "code",
   "execution_count": null,
   "id": "5f212449-ea60-48de-925a-0398566ed8ed",
   "metadata": {},
   "outputs": [],
   "source": [
    "mf_tag = get_modflow_coupling_tag(mf_couple_freq_hours)\n",
    "print(f\"MODFLOW coupling tag: {mf_tag}\")"
   ]
  },
  {
   "cell_type": "code",
   "execution_count": null,
   "id": "df9e20ec-3c71-43a6-b7f2-e8e6fddcc61c",
   "metadata": {},
   "outputs": [],
   "source": [
    "nstp = int(86400.0 / (dflow_per_mf * dflowfm_dtuser))\n",
    "print(f\"MODFLOW time steps per day: {nstp}\")"
   ]
  },
  {
   "cell_type": "markdown",
   "id": "09f0ade3-f609-4ee8-bdd5-879ac1d29e8f",
   "metadata": {},
   "source": [
    "#### Set a few variables for controlling coupling"
   ]
  },
  {
   "cell_type": "code",
   "execution_count": null,
   "id": "d0252aad-644a-48eb-a158-c66b68ed482d",
   "metadata": {},
   "outputs": [],
   "source": [
    "HDRY = -1e30\n",
    "DEPTH_MIN = 0.1"
   ]
  },
  {
   "cell_type": "markdown",
   "id": "09370d07-81e9-47e3-9b9d-1e46d445f5d0",
   "metadata": {},
   "source": [
    "#### Print the path of the modflow6 shared library"
   ]
  },
  {
   "cell_type": "code",
   "execution_count": null,
   "id": "978e5390-27ae-4c02-b0e0-e67e6d692277",
   "metadata": {},
   "outputs": [],
   "source": [
    "str(libmf6), libmf6.is_file()"
   ]
  },
  {
   "cell_type": "markdown",
   "id": "3b7ebaeb-a8f0-4494-b4fc-aeeaf8b378c9",
   "metadata": {},
   "source": [
    "#### Load the D-FLOW to MODFLOW weights"
   ]
  },
  {
   "cell_type": "code",
   "execution_count": null,
   "id": "855420a3-244d-4554-81e1-9a4aa0e12ea2",
   "metadata": {},
   "outputs": [],
   "source": [
    "npzfile = np.load(f\"../mapping/dflow2mfghb_{grid_name}.npz\")\n",
    "npzfile"
   ]
  },
  {
   "cell_type": "code",
   "execution_count": null,
   "id": "bbab17d3-56e5-45ba-8d50-c25f6c74eaa0",
   "metadata": {},
   "outputs": [],
   "source": [
    "dflow2mfghb = npzfile[\"dflow2mfghb\"]\n",
    "ghbmask = npzfile[\"ghbmask\"]\n",
    "ghb2qext = npzfile[\"ghb2qext\"]"
   ]
  },
  {
   "cell_type": "markdown",
   "id": "60dfd775-f516-4903-8918-1d9ab978139c",
   "metadata": {},
   "source": [
    "#### Define paths for the model simulation"
   ]
  },
  {
   "cell_type": "code",
   "execution_count": null,
   "id": "7ebfe2c1-d396-4aaf-a705-4ad02eb14a5a",
   "metadata": {},
   "outputs": [],
   "source": [
    "mf_base_path = pl.Path(\"../modflow/greenport500ft/base/\").resolve()\n",
    "mf_run_path = pl.Path(f\"../modflow/greenport500ft/run_{mf_tag}/\").resolve()"
   ]
  },
  {
   "cell_type": "markdown",
   "id": "396b7738-dca7-4918-8b68-a44f314caa50",
   "metadata": {},
   "source": [
    "#### Load the base MODFLOW model"
   ]
  },
  {
   "cell_type": "code",
   "execution_count": null,
   "id": "dd9add2a-c3a4-4582-a37e-34b2269f225b",
   "metadata": {},
   "outputs": [],
   "source": [
    "sim = flopy.mf6.MFSimulation.load(sim_ws=mf_base_path)\n",
    "gwf = sim.get_model()"
   ]
  },
  {
   "cell_type": "code",
   "execution_count": null,
   "id": "e9dcc0eb-f38a-42d5-81f7-a1a64c109b4a",
   "metadata": {},
   "outputs": [],
   "source": [
    "sim.set_sim_path(mf_run_path)"
   ]
  },
  {
   "cell_type": "markdown",
   "id": "abd805dc-28b5-4bc6-bc62-c401948761ec",
   "metadata": {},
   "source": [
    "#### Change TDIS to defined time steps"
   ]
  },
  {
   "cell_type": "code",
   "execution_count": null,
   "id": "d82c5062-3520-4c29-8d1e-70c2c319bf7c",
   "metadata": {},
   "outputs": [],
   "source": [
    "tdis = sim.get_package(\"TDIS\")\n",
    "perioddata = tdis.perioddata.array"
   ]
  },
  {
   "cell_type": "code",
   "execution_count": null,
   "id": "74a9bdbe-b219-4e8c-b125-0a754ed63820",
   "metadata": {},
   "outputs": [],
   "source": [
    "perioddata[\"nstp\"] = nstp\n",
    "tdis.perioddata = perioddata"
   ]
  },
  {
   "cell_type": "markdown",
   "id": "bce234b1-108a-4058-8a27-c16af0695ca8",
   "metadata": {},
   "source": [
    "#### Write the new model files"
   ]
  },
  {
   "cell_type": "code",
   "execution_count": null,
   "id": "83a7eabe-ef97-4004-a3a1-c567a0f0abdf",
   "metadata": {},
   "outputs": [],
   "source": [
    "sim.write_simulation()"
   ]
  },
  {
   "cell_type": "markdown",
   "id": "dd4234a3-1c0f-4988-93d2-612ffd926367",
   "metadata": {},
   "source": [
    "#### Define base GHB variables"
   ]
  },
  {
   "cell_type": "code",
   "execution_count": null,
   "id": "99600475-94a7-40af-ad59-af8fafce7737",
   "metadata": {},
   "outputs": [],
   "source": [
    "ghb_data0 = gwf.ghb.stress_period_data.get_dataframe()[0]\n",
    "ghb_data0"
   ]
  },
  {
   "cell_type": "markdown",
   "id": "9dfcc61c-3d3c-4fe2-9fb1-56037f753055",
   "metadata": {},
   "source": [
    "#### Setup and initialize D-FLOW FM\n",
    "\n",
    "You will need to set `dflow_dirpath` to the correct directory on your machine."
   ]
  },
  {
   "cell_type": "code",
   "execution_count": null,
   "id": "dd108498-34c1-437c-9919-a5e66640f711",
   "metadata": {},
   "outputs": [],
   "source": [
    "# dflow_root_path = pl.Path(r\"C:\\Program Files\\Deltares\\Delft3D FM Suite 2023.02 HM\").resolve()\n",
    "# dll_paths = (\n",
    "#     r\"plugins\\DeltaShell.Dimr\\kernels\\x64\\dflowfm\\bin\",\n",
    "#     r\"plugins\\DeltaShell.Dimr\\kernels\\x64\\share\\bin\",\n",
    "# )"
   ]
  },
  {
   "cell_type": "code",
   "execution_count": null,
   "id": "3842d972-101f-4b61-b4c8-7350aae1335e",
   "metadata": {},
   "outputs": [],
   "source": [
    "# # os.environ[\"PATH\"] = (\n",
    "# #     str(dflow_dirpath) + os.pathsep + os.environ[\"PATH\"]\n",
    "# # )\n",
    "# old_path = os.environ[\"PATH\"]\n",
    "# os.environ[\"PATH\"] = \"\"\n",
    "# path = \"\"\n",
    "# for p in dll_paths:\n",
    "#     path += f\"{dflow_root_path / p}\" + os.pathsep\n",
    "# os.environ[\"PATH\"] = path + old_path"
   ]
  },
  {
   "cell_type": "code",
   "execution_count": null,
   "id": "13aac9d2-a111-4c86-950e-d891d551dfba",
   "metadata": {},
   "outputs": [],
   "source": [
    "os.environ[\"PATH\"]"
   ]
  },
  {
   "cell_type": "code",
   "execution_count": null,
   "id": "cb4f28ea-4c6f-4dbc-960b-a03973adca6f",
   "metadata": {},
   "outputs": [],
   "source": [
    "# dflow_dirpath = dflow_root_path / f\"{dll_paths[0]}\""
   ]
  },
  {
   "cell_type": "code",
   "execution_count": null,
   "id": "18d44e36-93c3-466a-af26-faf477c1da04",
   "metadata": {},
   "outputs": [],
   "source": [
    "# dflow_dirpath = os.path.abspath(r\"C:\\Program Files\\Deltares\\Delft3D FM Suite 2023.02 HM\\plugins\\DeltaShell.Dimr\\kernels\\x64\\dflowfm\\bin\")\n",
    "# dflow_deps_dirpath = (\n",
    "#     os.path.abspath(r\"C:\\Program Files\\Deltares\\Delft3D FM Suite 2023.02 HM\\plugins\\DeltaShell.Dimr\\kernels\\x64\\share\\bin\"),\n",
    "# )\n",
    "dflow_dirpath = pl.Path(r\"X:\\Work\\compound_flooding\\dflow-fm\\dflowfm_dll\") \n",
    "dflow_base = pl.Path(r\"X:\\Work\\compound_flooding\\dflow-fm\\coarse\\tides\\base\").resolve()\n",
    "dflow_working = pl.Path(r\"X:\\Work\\compound_flooding\\dflow-fm\\coarse\\tides\\run\").resolve()\n",
    "dflow_config = dflow_working / \"FlowFM.mdu\""
   ]
  },
  {
   "cell_type": "code",
   "execution_count": null,
   "id": "3f136784-ba27-4254-9d91-75a07aecdeb5",
   "metadata": {},
   "outputs": [],
   "source": [
    "if dflow_working.is_dir():\n",
    "    shutil.rmtree(dflow_working)\n",
    "shutil.copytree(dflow_base, dflow_working)\n",
    "(dflow_working / \"output\").mkdir(parents=True, exist_ok=True)"
   ]
  },
  {
   "cell_type": "code",
   "execution_count": null,
   "id": "e8d5632e-bb20-48d3-af09-e9c98f692159",
   "metadata": {},
   "outputs": [],
   "source": [
    "os.environ[\"PATH\"]"
   ]
  },
  {
   "cell_type": "code",
   "execution_count": null,
   "id": "1ee3058a-086f-4a68-aa45-968d03ed131d",
   "metadata": {},
   "outputs": [],
   "source": [
    "# Add dflowfm dll folder to PATH so that it can be found by the BMIWrapper\n",
    "os.environ[\"PATH\"] = (\n",
    "    str(dflow_dirpath) + os.pathsep + os.environ[\"PATH\"]\n",
    ")"
   ]
  },
  {
   "cell_type": "code",
   "execution_count": null,
   "id": "91ac33b0-1ded-4c02-bc17-641658890f99",
   "metadata": {},
   "outputs": [],
   "source": [
    "# os.environ[\"PATH\"]"
   ]
  },
  {
   "cell_type": "code",
   "execution_count": null,
   "id": "0b7f2206-8eef-4b0d-93c9-695d58b70d6a",
   "metadata": {},
   "outputs": [],
   "source": [
    "(pl.Path(dflow_dirpath) / \"dflowfm.dll\").is_file()"
   ]
  },
  {
   "cell_type": "markdown",
   "id": "9a27dd68-0a69-4302-8f8e-32b069769b8e",
   "metadata": {},
   "source": [
    "#### Initialize D-Flow FM"
   ]
  },
  {
   "cell_type": "code",
   "execution_count": null,
   "id": "70e7cf96-3042-4f49-9d3e-0c7fe8aa8135",
   "metadata": {},
   "outputs": [],
   "source": [
    "dflowfm = BMIWrapper(\n",
    "    engine=\"dflowfm\",\n",
    "    configfile=str(dflow_config),\n",
    ")"
   ]
  },
  {
   "cell_type": "code",
   "execution_count": null,
   "id": "3f225632-1513-4358-a3ea-31948858d0e1",
   "metadata": {},
   "outputs": [],
   "source": [
    "dflowfm.initialize()"
   ]
  },
  {
   "cell_type": "markdown",
   "id": "c934200b-6f36-4115-96fc-7d05f4dbc430",
   "metadata": {},
   "source": [
    "#### Get data from D-FLOW FM"
   ]
  },
  {
   "cell_type": "code",
   "execution_count": null,
   "id": "c592da26-095b-4b80-8622-98477c7015bf",
   "metadata": {},
   "outputs": [],
   "source": [
    "ndxi = int(dflowfm.get_var(\"ndxi\"))\n",
    "ndx = int(dflowfm.get_var(\"ndx\"))\n",
    "x = dflowfm.get_var(\"xz\")\n",
    "y = dflowfm.get_var(\"yz\")\n",
    "z = dflowfm.get_var(\"bl\")\n",
    "xy = [(xx, yy) for (xx, yy) in zip(x, y)]\n",
    "ndx, ndxi, x.shape, y.shape"
   ]
  },
  {
   "cell_type": "code",
   "execution_count": null,
   "id": "915d5bc6-4177-427c-97a2-27a7e2d8237e",
   "metadata": {},
   "outputs": [],
   "source": [
    "dflowfm.get_var(\"s1\")"
   ]
  },
  {
   "cell_type": "code",
   "execution_count": null,
   "id": "176b58d3-dc6a-4356-ae10-ea3382656b41",
   "metadata": {},
   "outputs": [],
   "source": [
    "v = dflowfm.get_var(\"hs\")\n",
    "v.shape, v"
   ]
  },
  {
   "cell_type": "code",
   "execution_count": null,
   "id": "e4500627-a871-4b7a-b491-eeffe6e404fb",
   "metadata": {},
   "outputs": [],
   "source": [
    "qext = np.zeros(ndx)\n",
    "qext.shape, qext"
   ]
  },
  {
   "cell_type": "code",
   "execution_count": null,
   "id": "e3af8322-1b6e-481b-8e41-7c2e035a35c8",
   "metadata": {},
   "outputs": [],
   "source": [
    "# dflowfm.set_var(\"qext\", qext)"
   ]
  },
  {
   "cell_type": "code",
   "execution_count": null,
   "id": "945847d2-18ff-48e9-998e-b7335f03a654",
   "metadata": {},
   "outputs": [],
   "source": [
    "qext_cum = np.zeros(ndx)\n",
    "qext_cum.shape"
   ]
  },
  {
   "cell_type": "code",
   "execution_count": null,
   "id": "eb181f22-36db-49c3-98fe-2cb02ae0277a",
   "metadata": {},
   "outputs": [],
   "source": [
    "vextcum = dflowfm.get_var(\"vextcum\")\n",
    "vextcum.shape, vextcum"
   ]
  },
  {
   "cell_type": "markdown",
   "id": "abda6d7b-f5d7-4343-b171-4ef59f7c7a73",
   "metadata": {},
   "source": [
    "#### Initialize MODFLOW using MODFLOW API"
   ]
  },
  {
   "cell_type": "code",
   "execution_count": null,
   "id": "45a2acde-ae78-4664-a8ce-a7df0ea5bfd2",
   "metadata": {},
   "outputs": [],
   "source": [
    "mf6 = ModflowApi(str(libmf6), working_directory=mf_run_path)"
   ]
  },
  {
   "cell_type": "code",
   "execution_count": null,
   "id": "05bac9c9-c9f6-4814-b9cd-d573b66a3cd3",
   "metadata": {},
   "outputs": [],
   "source": [
    "mf6.initialize()"
   ]
  },
  {
   "cell_type": "markdown",
   "id": "5899f825-5c0f-4068-b0ad-e533880868f8",
   "metadata": {},
   "source": [
    "#### Define MODFLOW variable tags and set pointer to MODFLOW variables"
   ]
  },
  {
   "cell_type": "code",
   "execution_count": null,
   "id": "162fa181-607d-44c3-9bab-3eb9563d0aec",
   "metadata": {},
   "outputs": [],
   "source": [
    "ghb_bhead_tag = mf6.get_var_address(\"BHEAD\", \"MODFLOW\", \"GHB-1\")\n",
    "ghb_cond_tag = mf6.get_var_address(\"COND\", \"MODFLOW\", \"GHB-1\")\n",
    "ghb_flow_tag = mf6.get_var_address(\"SIMVALS\", \"MODFLOW\", \"GHB-1\")"
   ]
  },
  {
   "cell_type": "code",
   "execution_count": null,
   "id": "3ba6a3ec-1913-4ac7-997a-1aa4146326ee",
   "metadata": {},
   "outputs": [],
   "source": [
    "ghb_bhead_ptr = mf6.get_value_ptr(ghb_bhead_tag)\n",
    "ghb_cond_ptr = mf6.get_value_ptr(ghb_cond_tag)\n",
    "ghb_flow = np.zeros(ghb_bhead_ptr.shape)"
   ]
  },
  {
   "cell_type": "markdown",
   "id": "871bbbe5-7bb3-45a7-a949-0c12ff1047c0",
   "metadata": {},
   "source": [
    "#### Create dictionaries for saving modified GHB data"
   ]
  },
  {
   "cell_type": "code",
   "execution_count": null,
   "id": "c9c253c7-87d7-4c19-b24a-a2a6ff839499",
   "metadata": {},
   "outputs": [],
   "source": [
    "elev_dict = {}\n",
    "cond_dict = {}\n",
    "qext_dict = {}"
   ]
  },
  {
   "cell_type": "markdown",
   "id": "2fb79760-ec43-41ff-8c69-d0cec5310575",
   "metadata": {},
   "source": [
    "#### Function to update MODFLOW GHB data"
   ]
  },
  {
   "cell_type": "code",
   "execution_count": null,
   "id": "ab2c4365-1212-498b-862a-48d16a09dfc7",
   "metadata": {},
   "outputs": [],
   "source": [
    "def update_mf(key, s, d):\n",
    "    mask = d == 0.0\n",
    "    s[mask] = 0.0\n",
    "    mult = np.full(d.shape, 1.0)\n",
    "    mult[mask] = 0.0\n",
    "\n",
    "    ghb_head = ghb_data0[\"bhead\"].to_numpy()\n",
    "    ghb_head[ghbmask] = dflow2mfghb.dot(s)[ghbmask] * m2ft\n",
    "    ghb_cond = ghb_data0[\"cond\"].to_numpy()\n",
    "    ghb_cond[ghbmask] = ghb_cond[ghbmask] * dflow2mfghb.dot(mult)[ghbmask]\n",
    "    \n",
    "    ghb_bhead_ptr[:] = ghb_head[:]\n",
    "    ghb_cond_ptr[:] = ghb_cond[:]\n",
    "\n",
    "    # update results dictionary\n",
    "    elev_dict[key] = ghb_head.copy()\n",
    "    cond_dict[key] = ghb_cond.copy()"
   ]
  },
  {
   "cell_type": "markdown",
   "id": "09571819-83a5-4dca-bfa8-0b3cd6dd4f11",
   "metadata": {},
   "source": [
    "#### Function to update D-Flow FM Qext data"
   ]
  },
  {
   "cell_type": "code",
   "execution_count": null,
   "id": "329ba1b7-098d-4ed4-a1e0-00e4e74e293d",
   "metadata": {},
   "outputs": [],
   "source": [
    "def update_dflow(key, d):\n",
    "    ghb_flow = -mf6.get_value(ghb_flow_tag) * cfd2cms\n",
    "    dflow_qext = ghb2qext.dot(ghb_flow)\n",
    "    dflow_qext[d == 0.0] = 0.0\n",
    "    qext_cum[:ndxi] += dflow_qext[:ndxi]\n",
    "\n",
    "    qext[:ndxi] = dflow_qext[:ndxi]\n",
    "    dflowfm.set_var(\"qext\", qext)\n",
    "\n",
    "    # update results dictionaries\n",
    "    qext_dict[key] = qext[:ndxi].copy()\n"
   ]
  },
  {
   "cell_type": "markdown",
   "id": "cd2fe2d7-4b4e-4018-a9ab-6e624c316725",
   "metadata": {},
   "source": [
    "#### Run each time step"
   ]
  },
  {
   "cell_type": "code",
   "execution_count": null,
   "id": "8c28d312-5e6d-4130-8668-4d7fdfd0e278",
   "metadata": {},
   "outputs": [],
   "source": [
    "print(\n",
    "    f\"DFLOWFM current_time: {dflowfm.get_current_time():15,.1f} sec. ({dflowfm.get_current_time()/86400.:15,.1f} days)\\n\"\n",
    "     + f\"DFLOWFM end_time:     {dflowfm.get_end_time():15,.1f} sec. ({dflowfm.get_end_time()/86400.:15,.1f} days)\"\n",
    ")"
   ]
  },
  {
   "cell_type": "code",
   "execution_count": null,
   "id": "68ee61c0-d3dc-470f-849d-441360c70290",
   "metadata": {},
   "outputs": [],
   "source": [
    "idx = 0\n",
    "jdx = 0\n",
    "t0 = time.perf_counter()\n",
    "current_time = dflowfm.get_current_time()\n",
    "end_time = dflowfm.get_end_time()\n",
    "while current_time <= end_time:\n",
    "    idx += 1\n",
    "    ontime = dflowfm.get_current_time()\n",
    "    onday = ontime / 86400.\n",
    "    frac_comp = current_time / end_time\n",
    "    print(f\"Current time: {current_time:15,.1f} ({onday:10.3f} days) - {frac_comp:6.2%} complete - ({idx:03d})    \", end=\"\\r\")\n",
    "    dflowfm.update()\n",
    "\n",
    "    current_time = dflowfm.get_current_time()\n",
    "    if idx == int(dflow_per_mf):\n",
    "        print(f\"Current time: {current_time:15,.1f} ({onday:10.3f} days) - {frac_comp:6.2%} complete - ({idx:03d}) ***\", end=\"\\r\")\n",
    "        s = dflowfm.get_var(\"s1\")[:ndxi]\n",
    "        d = dflowfm.get_var(\"hs\")[:ndxi]\n",
    "\n",
    "        mf6.prepare_time_step(mf6.get_time_step())\n",
    "        update_mf(str(jdx), s, d)\n",
    "        mf6.do_time_step()\n",
    "        mf6.finalize_time_step()\n",
    "        update_dflow(str(jdx), d)\n",
    "\n",
    "        idx = 0\n",
    "        jdx += 1\n",
    "\n",
    "    \n",
    "    if current_time == end_time:\n",
    "        break\n",
    "\n",
    "vextcum = dflowfm.get_var(\"vextcum\")\n",
    "\n",
    "t1 = time.perf_counter()\n",
    "print(f\"\\nrun time: {(t1 - t0) / 60.} min\")"
   ]
  },
  {
   "cell_type": "code",
   "execution_count": null,
   "id": "ba758e06-8665-4984-b646-851d4ed48e49",
   "metadata": {},
   "outputs": [],
   "source": [
    "# Finalize\n",
    "mf6.finalize()"
   ]
  },
  {
   "cell_type": "code",
   "execution_count": null,
   "id": "fb819b57-d15b-4c1a-9886-a422a789a2f8",
   "metadata": {},
   "outputs": [],
   "source": [
    "dflowfm.finalize()"
   ]
  },
  {
   "cell_type": "markdown",
   "id": "2ac33056-7abc-464c-a545-b3f76e1adc20",
   "metadata": {},
   "source": [
    "#### Save ghb elevation and conductance data to compressed files"
   ]
  },
  {
   "cell_type": "code",
   "execution_count": null,
   "id": "5a7e1534-3aec-4d0b-ad05-e4abb8a1ef23",
   "metadata": {},
   "outputs": [],
   "source": [
    "np.savez_compressed(f\"{mf_run_path}/ghb_elev.npz\", **elev_dict)\n",
    "np.savez_compressed(f\"{mf_run_path}/ghb_cond.npz\", **cond_dict)\n",
    "np.savez_compressed(f\"{mf_run_path}/qext.npz\", **qext_dict)"
   ]
  },
  {
   "cell_type": "code",
   "execution_count": null,
   "id": "eb9019ce-a766-4ed7-bbb9-c540364c2479",
   "metadata": {},
   "outputs": [],
   "source": []
  }
 ],
 "metadata": {
  "kernelspec": {
   "display_name": "Python 3 (ipykernel)",
   "language": "python",
   "name": "python3"
  },
  "language_info": {
   "codemirror_mode": {
    "name": "ipython",
    "version": 3
   },
   "file_extension": ".py",
   "mimetype": "text/x-python",
   "name": "python",
   "nbconvert_exporter": "python",
   "pygments_lexer": "ipython3",
   "version": "3.10.0"
  }
 },
 "nbformat": 4,
 "nbformat_minor": 5
}
