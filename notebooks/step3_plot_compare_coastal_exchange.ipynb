{
 "cells": [
  {
   "cell_type": "code",
   "execution_count": 2,
   "id": "a0bc53f1-f5bc-4d1a-a130-9472ef4480b4",
   "metadata": {
    "execution": {
     "iopub.execute_input": "2024-09-07T22:18:03.844121Z",
     "iopub.status.busy": "2024-09-07T22:18:03.843519Z",
     "iopub.status.idle": "2024-09-07T22:18:03.869840Z",
     "shell.execute_reply": "2024-09-07T22:18:03.869184Z",
     "shell.execute_reply.started": "2024-09-07T22:18:03.844088Z"
    }
   },
   "outputs": [
    {
     "name": "stderr",
     "output_type": "stream",
     "text": [
      "/Users/jdhughes/miniforge3/envs/liss/lib/python3.10/site-packages/IPython/core/pylabtools.py:77: DeprecationWarning: backends is deprecated since IPython 8.24, backends are managed in matplotlib and can be externally registered.\n",
      "  warnings.warn(\n"
     ]
    }
   ],
   "source": [
    "%matplotlib inline\n",
    "import flopy\n",
    "import matplotlib.pyplot as plt\n",
    "import numpy as np\n",
    "import pathlib as pl\n",
    "import pandas as pd\n",
    "from liss_settings import cx, cx_provider, extent, boxx, boxy, extentmax, fig_ext, transparent"
   ]
  },
  {
   "cell_type": "code",
   "execution_count": 25,
   "id": "a8bc16b6-2887-43b4-be86-22d4037e566f",
   "metadata": {
    "execution": {
     "iopub.execute_input": "2024-09-07T22:30:07.632986Z",
     "iopub.status.busy": "2024-09-07T22:30:07.632551Z",
     "iopub.status.idle": "2024-09-07T22:30:07.638156Z",
     "shell.execute_reply": "2024-09-07T22:30:07.636902Z",
     "shell.execute_reply.started": "2024-09-07T22:30:07.632955Z"
    }
   },
   "outputs": [],
   "source": [
    "mf_ws = pl.Path(\"../modflow/greenport500ft/run\")\n",
    "mf_dflow_ws = pl.Path(\"../modflow/greenport500ft/run_dflow\")\n",
    "mf_sfincs_ws = pl.Path(\"../modflow/greenport500ft/run_sfincs\")"
   ]
  },
  {
   "cell_type": "code",
   "execution_count": 34,
   "id": "d008c77f-31b7-4aac-a974-1dc9f3bcb170",
   "metadata": {
    "execution": {
     "iopub.execute_input": "2024-09-07T22:33:00.573527Z",
     "iopub.status.busy": "2024-09-07T22:33:00.572625Z",
     "iopub.status.idle": "2024-09-07T22:33:00.685615Z",
     "shell.execute_reply": "2024-09-07T22:33:00.685321Z",
     "shell.execute_reply.started": "2024-09-07T22:33:00.573463Z"
    }
   },
   "outputs": [],
   "source": [
    "cobj = flopy.utils.CellBudgetFile(mf_ws / \"green2010_v3.cbc\")"
   ]
  },
  {
   "cell_type": "code",
   "execution_count": 35,
   "id": "d29aba68-fe15-4d5f-8e04-0f97e2fde1b3",
   "metadata": {
    "execution": {
     "iopub.execute_input": "2024-09-07T22:33:02.338860Z",
     "iopub.status.busy": "2024-09-07T22:33:02.337682Z",
     "iopub.status.idle": "2024-09-07T22:33:02.348089Z",
     "shell.execute_reply": "2024-09-07T22:33:02.347074Z",
     "shell.execute_reply.started": "2024-09-07T22:33:02.338797Z"
    }
   },
   "outputs": [
    {
     "data": {
      "text/plain": [
       "90"
      ]
     },
     "execution_count": 35,
     "metadata": {},
     "output_type": "execute_result"
    }
   ],
   "source": [
    "times = cobj.get_times()\n",
    "len(times)"
   ]
  },
  {
   "cell_type": "code",
   "execution_count": 36,
   "id": "2b5d0d92-cf55-409f-93d3-80cde1d8dcca",
   "metadata": {
    "execution": {
     "iopub.execute_input": "2024-09-07T22:33:03.240764Z",
     "iopub.status.busy": "2024-09-07T22:33:03.240336Z",
     "iopub.status.idle": "2024-09-07T22:33:03.247104Z",
     "shell.execute_reply": "2024-09-07T22:33:03.245777Z",
     "shell.execute_reply.started": "2024-09-07T22:33:03.240734Z"
    }
   },
   "outputs": [
    {
     "data": {
      "text/plain": [
       "[b'          STO-SS',\n",
       " b'          STO-SY',\n",
       " b'    FLOW-JA-FACE',\n",
       " b'      DATA-SPDIS',\n",
       " b'        DATA-SAT',\n",
       " b'             WEL',\n",
       " b'             DRN',\n",
       " b'             GHB',\n",
       " b'             RCH']"
      ]
     },
     "execution_count": 36,
     "metadata": {},
     "output_type": "execute_result"
    }
   ],
   "source": [
    "cobj.get_unique_record_names()"
   ]
  },
  {
   "cell_type": "code",
   "execution_count": 37,
   "id": "e455e79d-2834-43f6-9c49-7adb2c192baa",
   "metadata": {
    "execution": {
     "iopub.execute_input": "2024-09-07T22:33:04.073904Z",
     "iopub.status.busy": "2024-09-07T22:33:04.073457Z",
     "iopub.status.idle": "2024-09-07T22:33:04.081371Z",
     "shell.execute_reply": "2024-09-07T22:33:04.080468Z",
     "shell.execute_reply.started": "2024-09-07T22:33:04.073849Z"
    }
   },
   "outputs": [
    {
     "data": {
      "text/plain": [
       "183750000.0"
      ]
     },
     "execution_count": 37,
     "metadata": {},
     "output_type": "execute_result"
    }
   ],
   "source": [
    "area = 500.0 * 500.0 * float(cobj.get_data(text=\"GHB\", totim=times[0])[0].shape[0])\n",
    "area"
   ]
  },
  {
   "cell_type": "code",
   "execution_count": 38,
   "id": "e4d29173-8bc5-4b7e-b199-d09c2565674f",
   "metadata": {
    "execution": {
     "iopub.execute_input": "2024-09-07T22:33:05.207224Z",
     "iopub.status.busy": "2024-09-07T22:33:05.206822Z",
     "iopub.status.idle": "2024-09-07T22:33:05.212836Z",
     "shell.execute_reply": "2024-09-07T22:33:05.211788Z",
     "shell.execute_reply.started": "2024-09-07T22:33:05.207193Z"
    }
   },
   "outputs": [],
   "source": [
    "def get_ghb_flux(ws, area):\n",
    "    obj = flopy.utils.CellBudgetFile(ws / \"green2010_v3.cbc\")\n",
    "    arr = []\n",
    "    for time in times:\n",
    "        arr.append(-obj.get_data(text=\"GHB\", totim=time)[0][\"q\"].sum() * 12.0 / area)\n",
    "    return np.array(arr)"
   ]
  },
  {
   "cell_type": "code",
   "execution_count": 39,
   "id": "fe1cdd8f-7fff-4938-aa00-1c7c3fef92bd",
   "metadata": {
    "execution": {
     "iopub.execute_input": "2024-09-07T22:33:06.051329Z",
     "iopub.status.busy": "2024-09-07T22:33:06.050877Z",
     "iopub.status.idle": "2024-09-07T22:33:06.189864Z",
     "shell.execute_reply": "2024-09-07T22:33:06.189587Z",
     "shell.execute_reply.started": "2024-09-07T22:33:06.051299Z"
    }
   },
   "outputs": [
    {
     "data": {
      "text/plain": [
       "array([0.34901833, 0.28382869, 0.23308126, 0.19692   , 0.17338279,\n",
       "       0.15588384, 0.14235952, 0.14618281, 0.12879892, 0.12029402,\n",
       "       0.11316409, 0.1070271 , 0.10165159, 0.09687725, 0.09258889,\n",
       "       0.08870165, 0.10139872, 0.23716984, 0.15099226, 0.13469974,\n",
       "       0.12415991, 0.1158415 , 0.10901468, 0.10324065, 0.28160565,\n",
       "       0.17500489, 0.15588546, 0.14326924, 0.13331182, 0.12514743,\n",
       "       0.1182526 , 0.11229311, 0.10704755, 0.1148279 , 0.10352757,\n",
       "       0.09882581, 0.09469699, 0.09098347, 0.08760049, 0.0844892 ,\n",
       "       0.17981856, 0.17409749, 0.1350715 , 0.12449061, 0.11628461,\n",
       "       0.10958374, 0.14616305, 0.11733814, 0.11016904, 0.10432601,\n",
       "       0.09934025, 0.09498216, 0.09110272, 0.11390241, 0.3767144 ,\n",
       "       0.40012947, 0.50289691, 0.34713911, 0.30654242, 0.27795383,\n",
       "       0.25528218, 0.23682764, 0.22120039, 0.2078568 , 0.19621084,\n",
       "       0.18592682, 0.17674047, 0.16845974, 0.1609388 , 0.15406441,\n",
       "       0.14777783, 0.14294389, 0.13797579, 0.13267094, 0.12782271,\n",
       "       0.1233501 , 0.11914634, 0.11519029, 0.11146155, 0.10794097,\n",
       "       0.10468214, 0.10249843, 0.09914273, 0.09621061, 0.09350193,\n",
       "       0.09085452, 0.08834431, 0.08724588, 0.08755794, 0.08385432])"
      ]
     },
     "execution_count": 39,
     "metadata": {},
     "output_type": "execute_result"
    }
   ],
   "source": [
    "mf_ghb = get_ghb_flux(mf_ws, area)\n",
    "mf_ghb"
   ]
  },
  {
   "cell_type": "code",
   "execution_count": 40,
   "id": "f46b387f-ab25-4794-8fdb-afad95131607",
   "metadata": {
    "execution": {
     "iopub.execute_input": "2024-09-07T22:33:07.378905Z",
     "iopub.status.busy": "2024-09-07T22:33:07.378473Z",
     "iopub.status.idle": "2024-09-07T22:33:07.505665Z",
     "shell.execute_reply": "2024-09-07T22:33:07.505361Z",
     "shell.execute_reply.started": "2024-09-07T22:33:07.378875Z"
    }
   },
   "outputs": [
    {
     "data": {
      "text/plain": [
       "array([ 0.5140774 ,  0.51908314,  0.48218311,  0.36987067,  0.20580158,\n",
       "        0.03823254, -0.08966687, -0.12253255, -0.09545315, -0.02171142,\n",
       "        0.06261963,  0.1394423 ,  0.19434274,  0.22398219,  0.23688255,\n",
       "        0.25422106,  0.28179157,  0.39680721,  0.25815009,  0.18264615,\n",
       "        0.11522772,  0.04468155, -0.04393542, -0.12436576,  0.03300929,\n",
       "       -0.0194277 ,  0.0598071 ,  0.1490107 ,  0.22525701,  0.28171383,\n",
       "        0.33737924,  0.38115994,  0.3391315 ,  0.2262637 ,  0.06246006,\n",
       "       -0.07218802, -0.14797651, -0.14250938, -0.08329635, -0.00769817,\n",
       "        0.15796481,  0.21312891,  0.21876014,  0.23746093,  0.2499477 ,\n",
       "        0.26833362,  0.31758076,  0.26590822,  0.21332897,  0.15544202,\n",
       "        0.08655684, -0.00895355, -0.12113405, -0.16065247,  0.12368252,\n",
       "        0.23112707,  0.43149784,  0.37144072,  0.41467083,  0.45217162,\n",
       "        0.49487886,  0.48338151,  0.38296048,  0.22772546,  0.07647597,\n",
       "       -0.03044218, -0.06508488, -0.03877358,  0.0119739 ,  0.06634831,\n",
       "        0.12128517,  0.17378783,  0.2119918 ,  0.23838062,  0.26067588,\n",
       "        0.28419853,  0.29188146,  0.26302891,  0.21035433,  0.13458069,\n",
       "        0.02888088, -0.099199  , -0.19156974, -0.19437133, -0.12334678,\n",
       "       -0.02360904,  0.08192715,  0.17840639,  0.25324896,  0.30534616])"
      ]
     },
     "execution_count": 40,
     "metadata": {},
     "output_type": "execute_result"
    }
   ],
   "source": [
    "mf_dflow_ghb = get_ghb_flux(mf_dflow_ws, area)\n",
    "mf_dflow_ghb"
   ]
  },
  {
   "cell_type": "code",
   "execution_count": 41,
   "id": "36c31781-3ab0-4902-b8a0-f801ba71fa57",
   "metadata": {
    "execution": {
     "iopub.execute_input": "2024-09-07T22:33:08.348041Z",
     "iopub.status.busy": "2024-09-07T22:33:08.347610Z",
     "iopub.status.idle": "2024-09-07T22:33:08.473828Z",
     "shell.execute_reply": "2024-09-07T22:33:08.473514Z",
     "shell.execute_reply.started": "2024-09-07T22:33:08.348010Z"
    }
   },
   "outputs": [
    {
     "data": {
      "text/plain": [
       "array([ 0.35068748,  0.39142828,  0.3899745 ,  0.32350296,  0.21586472,\n",
       "        0.09786837, -0.00657617, -0.05968253, -0.09047177, -0.07416407,\n",
       "       -0.03473942,  0.02428485,  0.08090708,  0.12631427,  0.15900291,\n",
       "        0.18902399,  0.22866905,  0.34082043,  0.23963522,  0.19191613,\n",
       "        0.14513244,  0.0965573 ,  0.03089505, -0.04458097,  0.0359666 ,\n",
       "       -0.0783703 , -0.06803742, -0.0198786 ,  0.05564923,  0.14430976,\n",
       "        0.23160168,  0.29892606,  0.29481256,  0.23655535,  0.12921705,\n",
       "        0.02987821, -0.04933311, -0.08792221, -0.09461598, -0.07506316,\n",
       "        0.03836025,  0.07820753,  0.09390633,  0.12885551,  0.15898405,\n",
       "        0.19284558,  0.25144718,  0.23146568,  0.20813536,  0.17297623,\n",
       "        0.1291899 ,  0.06436084, -0.024911  , -0.09437239,  0.04998539,\n",
       "        0.05224296,  0.16443973,  0.11335833,  0.1991484 ,  0.28666914,\n",
       "        0.36169361,  0.39100277,  0.34502863,  0.24837769,  0.14245163,\n",
       "        0.04751365, -0.01382137, -0.04498475, -0.04623945, -0.03435468,\n",
       "       -0.00201077,  0.04252017,  0.08723055,  0.12796012,  0.1677249 ,\n",
       "        0.20804333,  0.23739565,  0.24039145,  0.21535101,  0.16888213,\n",
       "        0.0969828 , -0.00250627, -0.10462005, -0.18405321, -0.20854102,\n",
       "       -0.1863492 , -0.10851552,  0.00613619,  0.12888308,  0.21823221])"
      ]
     },
     "execution_count": 41,
     "metadata": {},
     "output_type": "execute_result"
    }
   ],
   "source": [
    "mf_sfincs_ghb = get_ghb_flux(mf_sfincs_ws, area)\n",
    "mf_sfincs_ghb"
   ]
  },
  {
   "cell_type": "code",
   "execution_count": 47,
   "id": "40cf0563-7416-4a3a-a61b-3820dfa5a136",
   "metadata": {
    "execution": {
     "iopub.execute_input": "2024-09-07T22:41:37.444066Z",
     "iopub.status.busy": "2024-09-07T22:41:37.443636Z",
     "iopub.status.idle": "2024-09-07T22:41:37.452648Z",
     "shell.execute_reply": "2024-09-07T22:41:37.450174Z",
     "shell.execute_reply.started": "2024-09-07T22:41:37.444035Z"
    }
   },
   "outputs": [],
   "source": [
    "data = np.empty(mf_ghb.shape, dtype=[(\"mf\", float), (\"mf_dflow\", float), (\"mf_sfincs\", float), (\"mf_cum\", float), (\"mf_dflow_cum\", float), (\"mf_sfincs_cum\", float)])\n",
    "data[\"mf\"] = mf_ghb[:]\n",
    "data[\"mf_dflow\"] = mf_dflow_ghb[:]\n",
    "data[\"mf_sfincs\"] = mf_sfincs_ghb[:]\n",
    "data[\"mf_cum\"] = mf_ghb[:].cumsum()\n",
    "data[\"mf_dflow_cum\"] = mf_dflow_ghb[:].cumsum()\n",
    "data[\"mf_sfincs_cum\"] = mf_sfincs_ghb[:].cumsum()"
   ]
  },
  {
   "cell_type": "code",
   "execution_count": 52,
   "id": "d5c451c3-7ac6-4a79-bec0-f9503fd662ee",
   "metadata": {
    "execution": {
     "iopub.execute_input": "2024-09-07T22:47:04.236276Z",
     "iopub.status.busy": "2024-09-07T22:47:04.235525Z",
     "iopub.status.idle": "2024-09-07T22:47:04.244337Z",
     "shell.execute_reply": "2024-09-07T22:47:04.242731Z",
     "shell.execute_reply.started": "2024-09-07T22:47:04.236216Z"
    }
   },
   "outputs": [],
   "source": [
    "df = pd.DataFrame(\n",
    "    data=data,\n",
    "    columns=data.dtype.names\n",
    ")"
   ]
  },
  {
   "cell_type": "code",
   "execution_count": 53,
   "id": "12d79083-8087-48be-87b9-5c7fdbc2da88",
   "metadata": {
    "execution": {
     "iopub.execute_input": "2024-09-07T22:47:05.335236Z",
     "iopub.status.busy": "2024-09-07T22:47:05.334812Z",
     "iopub.status.idle": "2024-09-07T22:47:05.341818Z",
     "shell.execute_reply": "2024-09-07T22:47:05.340318Z",
     "shell.execute_reply.started": "2024-09-07T22:47:05.335206Z"
    }
   },
   "outputs": [],
   "source": [
    "df[\"datetime\"] = pd.date_range('2010-01-02 00:00:00', periods=90, freq='D')"
   ]
  },
  {
   "cell_type": "code",
   "execution_count": 55,
   "id": "097d9b1d-c549-4344-9b0d-8f957730649c",
   "metadata": {
    "execution": {
     "iopub.execute_input": "2024-09-07T22:47:29.462426Z",
     "iopub.status.busy": "2024-09-07T22:47:29.462002Z",
     "iopub.status.idle": "2024-09-07T22:47:29.468986Z",
     "shell.execute_reply": "2024-09-07T22:47:29.466733Z",
     "shell.execute_reply.started": "2024-09-07T22:47:29.462396Z"
    }
   },
   "outputs": [],
   "source": [
    "df = df.set_index('datetime')"
   ]
  },
  {
   "cell_type": "code",
   "execution_count": 84,
   "id": "2d5397cb-4dca-49da-97b2-e0081328f906",
   "metadata": {
    "execution": {
     "iopub.execute_input": "2024-09-07T23:08:18.369148Z",
     "iopub.status.busy": "2024-09-07T23:08:18.368722Z",
     "iopub.status.idle": "2024-09-07T23:08:18.374983Z",
     "shell.execute_reply": "2024-09-07T23:08:18.373459Z",
     "shell.execute_reply.started": "2024-09-07T23:08:18.369117Z"
    }
   },
   "outputs": [],
   "source": [
    "df[\"zero\"] = 0.0"
   ]
  },
  {
   "cell_type": "code",
   "execution_count": 85,
   "id": "7d1aebb7-4757-4f20-bf42-a2d7b974a304",
   "metadata": {
    "execution": {
     "iopub.execute_input": "2024-09-07T23:08:19.243600Z",
     "iopub.status.busy": "2024-09-07T23:08:19.242866Z",
     "iopub.status.idle": "2024-09-07T23:08:19.265051Z",
     "shell.execute_reply": "2024-09-07T23:08:19.264270Z",
     "shell.execute_reply.started": "2024-09-07T23:08:19.243561Z"
    }
   },
   "outputs": [
    {
     "data": {
      "text/html": [
       "<div>\n",
       "<style scoped>\n",
       "    .dataframe tbody tr th:only-of-type {\n",
       "        vertical-align: middle;\n",
       "    }\n",
       "\n",
       "    .dataframe tbody tr th {\n",
       "        vertical-align: top;\n",
       "    }\n",
       "\n",
       "    .dataframe thead th {\n",
       "        text-align: right;\n",
       "    }\n",
       "</style>\n",
       "<table border=\"1\" class=\"dataframe\">\n",
       "  <thead>\n",
       "    <tr style=\"text-align: right;\">\n",
       "      <th></th>\n",
       "      <th>mf</th>\n",
       "      <th>mf_dflow</th>\n",
       "      <th>mf_sfincs</th>\n",
       "      <th>mf_cum</th>\n",
       "      <th>mf_dflow_cum</th>\n",
       "      <th>mf_sfincs_cum</th>\n",
       "      <th>zero</th>\n",
       "    </tr>\n",
       "    <tr>\n",
       "      <th>datetime</th>\n",
       "      <th></th>\n",
       "      <th></th>\n",
       "      <th></th>\n",
       "      <th></th>\n",
       "      <th></th>\n",
       "      <th></th>\n",
       "      <th></th>\n",
       "    </tr>\n",
       "  </thead>\n",
       "  <tbody>\n",
       "    <tr>\n",
       "      <th>2010-01-02</th>\n",
       "      <td>0.349018</td>\n",
       "      <td>0.514077</td>\n",
       "      <td>0.350687</td>\n",
       "      <td>0.349018</td>\n",
       "      <td>0.514077</td>\n",
       "      <td>0.350687</td>\n",
       "      <td>0.0</td>\n",
       "    </tr>\n",
       "    <tr>\n",
       "      <th>2010-01-03</th>\n",
       "      <td>0.283829</td>\n",
       "      <td>0.519083</td>\n",
       "      <td>0.391428</td>\n",
       "      <td>0.632847</td>\n",
       "      <td>1.033161</td>\n",
       "      <td>0.742116</td>\n",
       "      <td>0.0</td>\n",
       "    </tr>\n",
       "    <tr>\n",
       "      <th>2010-01-04</th>\n",
       "      <td>0.233081</td>\n",
       "      <td>0.482183</td>\n",
       "      <td>0.389975</td>\n",
       "      <td>0.865928</td>\n",
       "      <td>1.515344</td>\n",
       "      <td>1.132090</td>\n",
       "      <td>0.0</td>\n",
       "    </tr>\n",
       "    <tr>\n",
       "      <th>2010-01-05</th>\n",
       "      <td>0.196920</td>\n",
       "      <td>0.369871</td>\n",
       "      <td>0.323503</td>\n",
       "      <td>1.062848</td>\n",
       "      <td>1.885214</td>\n",
       "      <td>1.455593</td>\n",
       "      <td>0.0</td>\n",
       "    </tr>\n",
       "    <tr>\n",
       "      <th>2010-01-06</th>\n",
       "      <td>0.173383</td>\n",
       "      <td>0.205802</td>\n",
       "      <td>0.215865</td>\n",
       "      <td>1.236231</td>\n",
       "      <td>2.091016</td>\n",
       "      <td>1.671458</td>\n",
       "      <td>0.0</td>\n",
       "    </tr>\n",
       "    <tr>\n",
       "      <th>...</th>\n",
       "      <td>...</td>\n",
       "      <td>...</td>\n",
       "      <td>...</td>\n",
       "      <td>...</td>\n",
       "      <td>...</td>\n",
       "      <td>...</td>\n",
       "      <td>...</td>\n",
       "    </tr>\n",
       "    <tr>\n",
       "      <th>2010-03-28</th>\n",
       "      <td>0.090855</td>\n",
       "      <td>-0.023609</td>\n",
       "      <td>-0.186349</td>\n",
       "      <td>13.377772</td>\n",
       "      <td>12.959132</td>\n",
       "      <td>9.092330</td>\n",
       "      <td>0.0</td>\n",
       "    </tr>\n",
       "    <tr>\n",
       "      <th>2010-03-29</th>\n",
       "      <td>0.088344</td>\n",
       "      <td>0.081927</td>\n",
       "      <td>-0.108516</td>\n",
       "      <td>13.466117</td>\n",
       "      <td>13.041059</td>\n",
       "      <td>8.983815</td>\n",
       "      <td>0.0</td>\n",
       "    </tr>\n",
       "    <tr>\n",
       "      <th>2010-03-30</th>\n",
       "      <td>0.087246</td>\n",
       "      <td>0.178406</td>\n",
       "      <td>0.006136</td>\n",
       "      <td>13.553363</td>\n",
       "      <td>13.219465</td>\n",
       "      <td>8.989951</td>\n",
       "      <td>0.0</td>\n",
       "    </tr>\n",
       "    <tr>\n",
       "      <th>2010-03-31</th>\n",
       "      <td>0.087558</td>\n",
       "      <td>0.253249</td>\n",
       "      <td>0.128883</td>\n",
       "      <td>13.640921</td>\n",
       "      <td>13.472714</td>\n",
       "      <td>9.118834</td>\n",
       "      <td>0.0</td>\n",
       "    </tr>\n",
       "    <tr>\n",
       "      <th>2010-04-01</th>\n",
       "      <td>0.083854</td>\n",
       "      <td>0.305346</td>\n",
       "      <td>0.218232</td>\n",
       "      <td>13.724775</td>\n",
       "      <td>13.778060</td>\n",
       "      <td>9.337066</td>\n",
       "      <td>0.0</td>\n",
       "    </tr>\n",
       "  </tbody>\n",
       "</table>\n",
       "<p>90 rows × 7 columns</p>\n",
       "</div>"
      ],
      "text/plain": [
       "                  mf  mf_dflow  mf_sfincs     mf_cum  mf_dflow_cum  \\\n",
       "datetime                                                             \n",
       "2010-01-02  0.349018  0.514077   0.350687   0.349018      0.514077   \n",
       "2010-01-03  0.283829  0.519083   0.391428   0.632847      1.033161   \n",
       "2010-01-04  0.233081  0.482183   0.389975   0.865928      1.515344   \n",
       "2010-01-05  0.196920  0.369871   0.323503   1.062848      1.885214   \n",
       "2010-01-06  0.173383  0.205802   0.215865   1.236231      2.091016   \n",
       "...              ...       ...        ...        ...           ...   \n",
       "2010-03-28  0.090855 -0.023609  -0.186349  13.377772     12.959132   \n",
       "2010-03-29  0.088344  0.081927  -0.108516  13.466117     13.041059   \n",
       "2010-03-30  0.087246  0.178406   0.006136  13.553363     13.219465   \n",
       "2010-03-31  0.087558  0.253249   0.128883  13.640921     13.472714   \n",
       "2010-04-01  0.083854  0.305346   0.218232  13.724775     13.778060   \n",
       "\n",
       "            mf_sfincs_cum  zero  \n",
       "datetime                         \n",
       "2010-01-02       0.350687   0.0  \n",
       "2010-01-03       0.742116   0.0  \n",
       "2010-01-04       1.132090   0.0  \n",
       "2010-01-05       1.455593   0.0  \n",
       "2010-01-06       1.671458   0.0  \n",
       "...                   ...   ...  \n",
       "2010-03-28       9.092330   0.0  \n",
       "2010-03-29       8.983815   0.0  \n",
       "2010-03-30       8.989951   0.0  \n",
       "2010-03-31       9.118834   0.0  \n",
       "2010-04-01       9.337066   0.0  \n",
       "\n",
       "[90 rows x 7 columns]"
      ]
     },
     "execution_count": 85,
     "metadata": {},
     "output_type": "execute_result"
    }
   ],
   "source": [
    "df"
   ]
  },
  {
   "cell_type": "code",
   "execution_count": 57,
   "id": "202997cd-d54b-4243-aa51-488e030b85ee",
   "metadata": {
    "execution": {
     "iopub.execute_input": "2024-09-07T22:48:15.091259Z",
     "iopub.status.busy": "2024-09-07T22:48:15.090782Z",
     "iopub.status.idle": "2024-09-07T22:48:15.096930Z",
     "shell.execute_reply": "2024-09-07T22:48:15.095918Z",
     "shell.execute_reply.started": "2024-09-07T22:48:15.091226Z"
    }
   },
   "outputs": [],
   "source": [
    "ws = pl.Path(\"figures\")\n",
    "ws.mkdir(exist_ok=True, parents=True)"
   ]
  },
  {
   "cell_type": "code",
   "execution_count": 88,
   "id": "1ef05dee-6cc2-486e-b83e-28672a48fa31",
   "metadata": {
    "execution": {
     "iopub.execute_input": "2024-09-07T23:15:01.592989Z",
     "iopub.status.busy": "2024-09-07T23:15:01.592559Z",
     "iopub.status.idle": "2024-09-07T23:15:02.432900Z",
     "shell.execute_reply": "2024-09-07T23:15:02.432627Z",
     "shell.execute_reply.started": "2024-09-07T23:15:01.592958Z"
    }
   },
   "outputs": [
    {
     "data": {
      "image/png": "[encoded data removed]",
      "text/plain": [
       "<Figure size 1500x200 with 2 Axes>"
      ]
     },
     "metadata": {},
     "output_type": "display_data"
    }
   ],
   "source": [
    "with flopy.plot.styles.USGSMap():\n",
    "    fig, axs = plt.subplots(\n",
    "        ncols=2,\n",
    "        nrows=1,\n",
    "        layout=\"constrained\",\n",
    "        figsize=(15, 2),\n",
    "        )\n",
    "    ax = axs[0]\n",
    "    ax.set_ylim(-0.6,0.6)\n",
    "    df[\"zero\"].plot(ax=ax, lw=0.5, ls=\"--\", color=\"black\")\n",
    "    df[\"mf\"].plot(ax=ax, lw=0.75, color=\"black\")\n",
    "    df[\"mf_dflow\"].plot(ax=ax, lw=0.75, color=\"red\")\n",
    "    df[\"mf_sfincs\"].plot(ax=ax, lw=0.75, color=\"blue\")\n",
    "    ax.set_ylabel(\"Coastal exchange, in\")\n",
    "    ax.set_xlabel(\"\")\n",
    "\n",
    "    ax = axs[1]\n",
    "    ax.set_ylim(0,15)\n",
    "    df[\"mf_cum\"].plot(ax=ax, lw=0.75, color=\"black\")\n",
    "    df[\"mf_dflow_cum\"].plot(ax=ax, lw=0.75, color=\"red\")\n",
    "    df[\"mf_sfincs_cum\"].plot(ax=ax, lw=0.75, color=\"blue\")\n",
    "    ax.set_ylabel(\"Cumulative coastal\\nexchange, in\")\n",
    "    ax.set_xlabel(\"\")\n",
    "    leg = flopy.plot.styles.graph_legend(ax=ax, loc=\"lower right\", title=\"none\")\n",
    "    handles, previous_labels = ax.get_legend_handles_labels()\n",
    "    ax.legend(handles=handles, labels=[\"MODFLOW only\", \"MODFLOW/D-Flow FM\", \"MODFLOW/SFINCS\"])\n",
    "\n",
    "    fig.savefig(ws / f\"coastal_flux_summary{fig_ext}\", dpi=300, transparent=transparent)\n"
   ]
  },
  {
   "cell_type": "code",
   "execution_count": null,
   "id": "dc6ae1de-c7af-4354-8194-395898bd3ab4",
   "metadata": {},
   "outputs": [],
   "source": []
  }
 ],
 "metadata": {
  "kernelspec": {
   "display_name": "Python 3 (ipykernel)",
   "language": "python",
   "name": "python3"
  },
  "language_info": {
   "codemirror_mode": {
    "name": "ipython",
    "version": 3
   },
   "file_extension": ".py",
   "mimetype": "text/x-python",
   "name": "python",
   "nbconvert_exporter": "python",
   "pygments_lexer": "ipython3",
   "version": "3.10.0"
  }
 },
 "nbformat": 4,
 "nbformat_minor": 5
}
