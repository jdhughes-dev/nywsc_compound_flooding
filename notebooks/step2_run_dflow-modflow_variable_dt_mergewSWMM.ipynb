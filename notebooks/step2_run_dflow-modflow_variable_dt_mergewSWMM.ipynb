{
 "cells": [
  {
   "cell_type": "code",
   "execution_count": 1,
   "id": "8068fc3e-fb3d-4928-ae9e-de86d2bdf27a",
   "metadata": {
    "execution": {
     "iopub.execute_input": "2024-11-19T21:45:05.938187Z",
     "iopub.status.busy": "2024-11-19T21:45:05.938187Z",
     "iopub.status.idle": "2024-11-19T21:45:08.118321Z",
     "shell.execute_reply": "2024-11-19T21:45:08.118321Z",
     "shell.execute_reply.started": "2024-11-19T21:45:05.938187Z"
    }
   },
   "outputs": [
    {
     "name": "stderr",
     "output_type": "stream",
     "text": [
      "c:\\Users\\lherdman\\AppData\\Local\\anaconda3\\envs\\liss\\lib\\site-packages\\bmi\\__init__.py:2: DeprecationWarning: pkg_resources is deprecated as an API. See https://setuptools.pypa.io/en/latest/pkg_resources.html\n",
      "  import pkg_resources\n"
     ]
    }
   ],
   "source": [
    "import os\n",
    "import time\n",
    "import matplotlib.pyplot as plt\n",
    "import numpy as np\n",
    "import pathlib as pl\n",
    "import shutil\n",
    "\n",
    "import flopy\n",
    "from modflowapi import ModflowApi\n",
    "\n",
    "from bmi.wrapper import BMIWrapper\n",
    "\n",
    "from liss_settings import libmf6, get_dflow_grid_name, get_dflow_dtuser, get_modflow_coupling_tag\n",
    "\n",
    "\n",
    "# SWMM Package imports\n",
    "import platform\n",
    "import flopy.utils.binaryfile as bf\n",
    "from flopy.utils.postprocessing import (\n",
    "    get_gradients,\n",
    "    get_transmissivities,\n",
    "    get_water_table,\n",
    ")\n",
    "\n",
    "from modflowapi.extensions import ApiSimulation\n",
    "import pyswmm\n",
    "from pyswmm import Simulation, Nodes\n",
    "from pyswmm import Output"
   ]
  },
  {
   "cell_type": "code",
   "execution_count": 2,
   "id": "87e8b609",
   "metadata": {},
   "outputs": [
    {
     "name": "stdout",
     "output_type": "stream",
     "text": [
      "LIS_modflow_bathy2_net\n"
     ]
    }
   ],
   "source": [
    "control_path = pl.Path(\"../dflow-fm/coarse/tides/base/FlowFM.mdu\") # change this if using a different D-Flow FM control file\n",
    "grid_name = get_dflow_grid_name(control_path)\n",
    "print(grid_name)"
   ]
  },
  {
   "cell_type": "code",
   "execution_count": 3,
   "id": "ee09742e-ba2c-4c98-9aa8-1cba1f1ff4b7",
   "metadata": {
    "execution": {
     "iopub.execute_input": "2024-11-19T21:45:08.142996Z",
     "iopub.status.busy": "2024-11-19T21:45:08.142224Z",
     "iopub.status.idle": "2024-11-19T21:45:08.158625Z",
     "shell.execute_reply": "2024-11-19T21:45:08.158625Z",
     "shell.execute_reply.started": "2024-11-19T21:45:08.142910Z"
    }
   },
   "outputs": [
    {
     "name": "stdout",
     "output_type": "stream",
     "text": [
      "300.0\n"
     ]
    }
   ],
   "source": [
    "dflowfm_dtuser = get_dflow_dtuser(control_path)\n",
    "print(dflowfm_dtuser)"
   ]
  },
  {
   "cell_type": "markdown",
   "id": "a0d7d1d4-576b-46c9-a937-2e7e3f33cf71",
   "metadata": {},
   "source": [
    "#### Set unit conversion factors"
   ]
  },
  {
   "cell_type": "code",
   "execution_count": 4,
   "id": "230cd63b-3abd-4fa5-8c54-faff16f820b7",
   "metadata": {
    "execution": {
     "iopub.execute_input": "2024-11-19T21:45:08.158625Z",
     "iopub.status.busy": "2024-11-19T21:45:08.158625Z",
     "iopub.status.idle": "2024-11-19T21:45:08.166313Z",
     "shell.execute_reply": "2024-11-19T21:45:08.166313Z",
     "shell.execute_reply.started": "2024-11-19T21:45:08.158625Z"
    }
   },
   "outputs": [],
   "source": [
    "d2sec = 24. * 60. * 60.\n",
    "hrs2sec = 60. * 60. \n",
    "m2ft = 3.28081\n",
    "cfd2cms = 1.0 / ((3.28082**3) * 86400.)"
   ]
  },
  {
   "cell_type": "markdown",
   "id": "d04c9972-ddea-4a20-b350-aa7012ed8024",
   "metadata": {},
   "source": [
    "#### Set the MODFLOW coupling frequency\n",
    "\n",
    "Change the `mf_couple_freq_hours` value. Only tested for multiple of the D-Flow FM DtUser variable. Will not work for `mf_couple_freq_hours` values greater than 24."
   ]
  },
  {
   "cell_type": "code",
   "execution_count": 5,
   "id": "5cc0c30d-b34d-4f46-9a3a-be3f1560fe8b",
   "metadata": {
    "execution": {
     "iopub.execute_input": "2024-11-19T21:45:08.166313Z",
     "iopub.status.busy": "2024-11-19T21:45:08.166313Z",
     "iopub.status.idle": "2024-11-19T21:45:08.181324Z",
     "shell.execute_reply": "2024-11-19T21:45:08.181324Z",
     "shell.execute_reply.started": "2024-11-19T21:45:08.166313Z"
    }
   },
   "outputs": [],
   "source": [
    "mf_couple_freq_hours = 0.5  #Change this value to change the coupling frequency\n",
    "mf_couple_freq = mf_couple_freq_hours * hrs2sec\n",
    "dflow_per_mf = int(mf_couple_freq / dflowfm_dtuser)"
   ]
  },
  {
   "cell_type": "code",
   "execution_count": 6,
   "id": "68e05a52-7c7c-4ff5-8065-acba30faa628",
   "metadata": {
    "execution": {
     "iopub.execute_input": "2024-11-19T21:45:08.181324Z",
     "iopub.status.busy": "2024-11-19T21:45:08.181324Z",
     "iopub.status.idle": "2024-11-19T21:45:08.196951Z",
     "shell.execute_reply": "2024-11-19T21:45:08.196855Z",
     "shell.execute_reply.started": "2024-11-19T21:45:08.181324Z"
    }
   },
   "outputs": [
    {
     "name": "stdout",
     "output_type": "stream",
     "text": [
      "MODFLOW coupling frequency 0.5 hours\n",
      "MODFLOW coupled to D-FLOW FM every 6 output time step (300.0 sec.)\n"
     ]
    }
   ],
   "source": [
    "print(f\"MODFLOW coupling frequency {mf_couple_freq_hours} hours\\nMODFLOW coupled to D-FLOW FM every {dflow_per_mf} output time step ({dflowfm_dtuser} sec.)\") "
   ]
  },
  {
   "cell_type": "code",
   "execution_count": 7,
   "id": "5f212449-ea60-48de-925a-0398566ed8ed",
   "metadata": {
    "execution": {
     "iopub.execute_input": "2024-11-19T21:45:08.196951Z",
     "iopub.status.busy": "2024-11-19T21:45:08.196951Z",
     "iopub.status.idle": "2024-11-19T21:45:08.212641Z",
     "shell.execute_reply": "2024-11-19T21:45:08.212641Z",
     "shell.execute_reply.started": "2024-11-19T21:45:08.196951Z"
    }
   },
   "outputs": [
    {
     "name": "stdout",
     "output_type": "stream",
     "text": [
      "MODFLOW coupling tag: 30.00M\n"
     ]
    }
   ],
   "source": [
    "mf_tag = get_modflow_coupling_tag(mf_couple_freq_hours)\n",
    "print(f\"MODFLOW coupling tag: {mf_tag}\")"
   ]
  },
  {
   "cell_type": "code",
   "execution_count": 8,
   "id": "df9e20ec-3c71-43a6-b7f2-e8e6fddcc61c",
   "metadata": {
    "execution": {
     "iopub.execute_input": "2024-11-19T21:45:08.212641Z",
     "iopub.status.busy": "2024-11-19T21:45:08.212641Z",
     "iopub.status.idle": "2024-11-19T21:45:08.228172Z",
     "shell.execute_reply": "2024-11-19T21:45:08.228172Z",
     "shell.execute_reply.started": "2024-11-19T21:45:08.212641Z"
    }
   },
   "outputs": [
    {
     "name": "stdout",
     "output_type": "stream",
     "text": [
      "MODFLOW time steps per day: 48\n"
     ]
    }
   ],
   "source": [
    "nstp = int(86400.0 / (dflow_per_mf * dflowfm_dtuser))\n",
    "print(f\"MODFLOW time steps per day: {nstp}\")"
   ]
  },
  {
   "cell_type": "markdown",
   "id": "09f0ade3-f609-4ee8-bdd5-879ac1d29e8f",
   "metadata": {},
   "source": [
    "#### Set a few variables for controlling coupling"
   ]
  },
  {
   "cell_type": "code",
   "execution_count": 9,
   "id": "d0252aad-644a-48eb-a158-c66b68ed482d",
   "metadata": {
    "execution": {
     "iopub.execute_input": "2024-11-19T21:45:08.228172Z",
     "iopub.status.busy": "2024-11-19T21:45:08.228172Z",
     "iopub.status.idle": "2024-11-19T21:45:08.243253Z",
     "shell.execute_reply": "2024-11-19T21:45:08.243253Z",
     "shell.execute_reply.started": "2024-11-19T21:45:08.228172Z"
    }
   },
   "outputs": [],
   "source": [
    "HDRY = -1e30\n",
    "DEPTH_MIN = 0.1"
   ]
  },
  {
   "cell_type": "markdown",
   "id": "09370d07-81e9-47e3-9b9d-1e46d445f5d0",
   "metadata": {},
   "source": [
    "#### Print the path of the modflow6 shared library"
   ]
  },
  {
   "cell_type": "code",
   "execution_count": 10,
   "id": "978e5390-27ae-4c02-b0e0-e67e6d692277",
   "metadata": {
    "execution": {
     "iopub.execute_input": "2024-11-19T21:45:08.243253Z",
     "iopub.status.busy": "2024-11-19T21:45:08.243253Z",
     "iopub.status.idle": "2024-11-19T21:45:08.259288Z",
     "shell.execute_reply": "2024-11-19T21:45:08.258289Z",
     "shell.execute_reply.started": "2024-11-19T21:45:08.243253Z"
    }
   },
   "outputs": [
    {
     "data": {
      "text/plain": [
       "('E:\\\\LIS\\\\Code\\\\nywsc_compound_flooding\\\\modflow\\\\mf6dll\\\\libmf6.dll', True)"
      ]
     },
     "execution_count": 10,
     "metadata": {},
     "output_type": "execute_result"
    }
   ],
   "source": [
    "str(libmf6), libmf6.is_file()"
   ]
  },
  {
   "cell_type": "markdown",
   "id": "3b7ebaeb-a8f0-4494-b4fc-aeeaf8b378c9",
   "metadata": {},
   "source": [
    "#### Load the D-FLOW to MODFLOW weights"
   ]
  },
  {
   "cell_type": "code",
   "execution_count": 11,
   "id": "855420a3-244d-4554-81e1-9a4aa0e12ea2",
   "metadata": {
    "execution": {
     "iopub.execute_input": "2024-11-19T21:45:08.259558Z",
     "iopub.status.busy": "2024-11-19T21:45:08.259558Z",
     "iopub.status.idle": "2024-11-19T21:45:08.275250Z",
     "shell.execute_reply": "2024-11-19T21:45:08.275250Z",
     "shell.execute_reply.started": "2024-11-19T21:45:08.259558Z"
    }
   },
   "outputs": [
    {
     "data": {
      "text/plain": [
       "NpzFile '../mapping/dflow2mfghb_LIS_modflow_bathy2_net.npz' with keys: dflow2mfghb, ghbmask, ghb2qext"
      ]
     },
     "execution_count": 11,
     "metadata": {},
     "output_type": "execute_result"
    }
   ],
   "source": [
    "npzfile = np.load(f\"../mapping/dflow2mfghb_{grid_name}.npz\")\n",
    "npzfile"
   ]
  },
  {
   "cell_type": "code",
   "execution_count": 12,
   "id": "bbab17d3-56e5-45ba-8d50-c25f6c74eaa0",
   "metadata": {
    "execution": {
     "iopub.execute_input": "2024-11-19T21:45:08.275250Z",
     "iopub.status.busy": "2024-11-19T21:45:08.275250Z",
     "iopub.status.idle": "2024-11-19T21:45:08.444006Z",
     "shell.execute_reply": "2024-11-19T21:45:08.444006Z",
     "shell.execute_reply.started": "2024-11-19T21:45:08.275250Z"
    }
   },
   "outputs": [],
   "source": [
    "dflow2mfghb = npzfile[\"dflow2mfghb\"]\n",
    "ghbmask = npzfile[\"ghbmask\"]\n",
    "ghb2qext = npzfile[\"ghb2qext\"]"
   ]
  },
  {
   "cell_type": "markdown",
   "id": "60dfd775-f516-4903-8918-1d9ab978139c",
   "metadata": {},
   "source": [
    "#### Define paths for the model simulation"
   ]
  },
  {
   "cell_type": "code",
   "execution_count": 13,
   "id": "7ebfe2c1-d396-4aaf-a705-4ad02eb14a5a",
   "metadata": {
    "execution": {
     "iopub.execute_input": "2024-11-19T21:45:08.444006Z",
     "iopub.status.busy": "2024-11-19T21:45:08.444006Z",
     "iopub.status.idle": "2024-11-19T21:45:08.463712Z",
     "shell.execute_reply": "2024-11-19T21:45:08.462699Z",
     "shell.execute_reply.started": "2024-11-19T21:45:08.444006Z"
    }
   },
   "outputs": [],
   "source": [
    "mf_base_path = pl.Path(\"../modflow/greenport500ft/base/\").resolve()\n",
    "mf_run_path = pl.Path(f\"../modflow/greenport500ft/run_{mf_tag}/\").resolve()"
   ]
  },
  {
   "cell_type": "markdown",
   "id": "396b7738-dca7-4918-8b68-a44f314caa50",
   "metadata": {},
   "source": [
    "#### Load the base MODFLOW model"
   ]
  },
  {
   "cell_type": "code",
   "execution_count": 14,
   "id": "dd9add2a-c3a4-4582-a37e-34b2269f225b",
   "metadata": {
    "execution": {
     "iopub.execute_input": "2024-11-19T21:45:08.464711Z",
     "iopub.status.busy": "2024-11-19T21:45:08.464711Z",
     "iopub.status.idle": "2024-11-19T21:45:15.069927Z",
     "shell.execute_reply": "2024-11-19T21:45:15.069139Z",
     "shell.execute_reply.started": "2024-11-19T21:45:08.464711Z"
    }
   },
   "outputs": [
    {
     "name": "stdout",
     "output_type": "stream",
     "text": [
      "loading simulation...\n",
      "  loading simulation name file...\n",
      "  loading tdis package...\n",
      "  loading model gwf6...\n",
      "    loading package dis...\n",
      "    loading package ic...\n",
      "    loading package npf...\n",
      "    loading package obs...\n",
      "    loading package sto...\n",
      "    loading package oc...\n",
      "    loading package ghb...\n",
      "    loading package wel...\n",
      "    loading package drn...\n",
      "    loading package rch...\n",
      "    loading package wel...\n",
      "  loading solution package modflow...\n"
     ]
    }
   ],
   "source": [
    "sim = flopy.mf6.MFSimulation.load(sim_ws=mf_base_path)\n",
    "gwf = sim.get_model()"
   ]
  },
  {
   "cell_type": "code",
   "execution_count": 15,
   "id": "e9dcc0eb-f38a-42d5-81f7-a1a64c109b4a",
   "metadata": {
    "execution": {
     "iopub.execute_input": "2024-11-19T21:45:15.071438Z",
     "iopub.status.busy": "2024-11-19T21:45:15.070477Z",
     "iopub.status.idle": "2024-11-19T21:45:15.086654Z",
     "shell.execute_reply": "2024-11-19T21:45:15.086654Z",
     "shell.execute_reply.started": "2024-11-19T21:45:15.071438Z"
    }
   },
   "outputs": [],
   "source": [
    "sim.set_sim_path(mf_run_path)"
   ]
  },
  {
   "cell_type": "markdown",
   "id": "abd805dc-28b5-4bc6-bc62-c401948761ec",
   "metadata": {},
   "source": [
    "#### Change TDIS to hourly time steps"
   ]
  },
  {
   "cell_type": "code",
   "execution_count": 16,
   "id": "d82c5062-3520-4c29-8d1e-70c2c319bf7c",
   "metadata": {
    "execution": {
     "iopub.execute_input": "2024-11-19T21:45:15.088652Z",
     "iopub.status.busy": "2024-11-19T21:45:15.088652Z",
     "iopub.status.idle": "2024-11-19T21:45:15.101338Z",
     "shell.execute_reply": "2024-11-19T21:45:15.101282Z",
     "shell.execute_reply.started": "2024-11-19T21:45:15.088652Z"
    }
   },
   "outputs": [],
   "source": [
    "tdis = sim.get_package(\"TDIS\")\n",
    "perioddata = tdis.perioddata.array"
   ]
  },
  {
   "cell_type": "code",
   "execution_count": 17,
   "id": "74a9bdbe-b219-4e8c-b125-0a754ed63820",
   "metadata": {
    "execution": {
     "iopub.execute_input": "2024-11-19T21:45:15.103344Z",
     "iopub.status.busy": "2024-11-19T21:45:15.102345Z",
     "iopub.status.idle": "2024-11-19T21:45:15.119489Z",
     "shell.execute_reply": "2024-11-19T21:45:15.119489Z",
     "shell.execute_reply.started": "2024-11-19T21:45:15.103344Z"
    }
   },
   "outputs": [],
   "source": [
    "perioddata[\"nstp\"] = nstp\n",
    "tdis.perioddata = perioddata"
   ]
  },
  {
   "cell_type": "markdown",
   "id": "bce234b1-108a-4058-8a27-c16af0695ca8",
   "metadata": {},
   "source": [
    "#### Write the new model files"
   ]
  },
  {
   "cell_type": "code",
   "execution_count": 18,
   "id": "83a7eabe-ef97-4004-a3a1-c567a0f0abdf",
   "metadata": {
    "execution": {
     "iopub.execute_input": "2024-11-19T21:45:15.119489Z",
     "iopub.status.busy": "2024-11-19T21:45:15.119489Z",
     "iopub.status.idle": "2024-11-19T21:45:23.859207Z",
     "shell.execute_reply": "2024-11-19T21:45:23.859207Z",
     "shell.execute_reply.started": "2024-11-19T21:45:15.119489Z"
    }
   },
   "outputs": [
    {
     "name": "stdout",
     "output_type": "stream",
     "text": [
      "writing simulation...\n",
      "  writing simulation name file...\n",
      "  writing simulation tdis package...\n",
      "  writing solution package modflow...\n",
      "  writing model modflow...\n",
      "    writing model name file...\n",
      "    writing package dis...\n",
      "    writing package ic...\n",
      "    writing package npf...\n",
      "    writing package obs-1...\n",
      "    writing package sto...\n",
      "    writing package oc...\n",
      "    writing package ghb_obs...\n",
      "    writing package ghb-1...\n",
      "    writing package wel-1...\n",
      "    writing package drn_obs...\n",
      "    writing package drn-1...\n",
      "    writing package rch-1...\n",
      "    writing package swmm...\n"
     ]
    }
   ],
   "source": [
    "sim.write_simulation()"
   ]
  },
  {
   "cell_type": "markdown",
   "id": "dd4234a3-1c0f-4988-93d2-612ffd926367",
   "metadata": {},
   "source": [
    "#### Define base GHB variables"
   ]
  },
  {
   "cell_type": "code",
   "execution_count": 19,
   "id": "99600475-94a7-40af-ad59-af8fafce7737",
   "metadata": {
    "execution": {
     "iopub.execute_input": "2024-11-19T21:45:23.861716Z",
     "iopub.status.busy": "2024-11-19T21:45:23.859207Z",
     "iopub.status.idle": "2024-11-19T21:45:23.883872Z",
     "shell.execute_reply": "2024-11-19T21:45:23.882870Z",
     "shell.execute_reply.started": "2024-11-19T21:45:23.861716Z"
    }
   },
   "outputs": [
    {
     "data": {
      "text/html": [
       "<div>\n",
       "<style scoped>\n",
       "    .dataframe tbody tr th:only-of-type {\n",
       "        vertical-align: middle;\n",
       "    }\n",
       "\n",
       "    .dataframe tbody tr th {\n",
       "        vertical-align: top;\n",
       "    }\n",
       "\n",
       "    .dataframe thead th {\n",
       "        text-align: right;\n",
       "    }\n",
       "</style>\n",
       "<table border=\"1\" class=\"dataframe\">\n",
       "  <thead>\n",
       "    <tr style=\"text-align: right;\">\n",
       "      <th></th>\n",
       "      <th>cellid_layer</th>\n",
       "      <th>cellid_row</th>\n",
       "      <th>cellid_column</th>\n",
       "      <th>bhead</th>\n",
       "      <th>cond</th>\n",
       "      <th>iface</th>\n",
       "      <th>boundname</th>\n",
       "    </tr>\n",
       "  </thead>\n",
       "  <tbody>\n",
       "    <tr>\n",
       "      <th>0</th>\n",
       "      <td>0</td>\n",
       "      <td>26</td>\n",
       "      <td>0</td>\n",
       "      <td>0.0</td>\n",
       "      <td>24999.999994</td>\n",
       "      <td>0</td>\n",
       "      <td>'sound'</td>\n",
       "    </tr>\n",
       "    <tr>\n",
       "      <th>1</th>\n",
       "      <td>0</td>\n",
       "      <td>27</td>\n",
       "      <td>0</td>\n",
       "      <td>0.0</td>\n",
       "      <td>25000.000000</td>\n",
       "      <td>0</td>\n",
       "      <td>'sound'</td>\n",
       "    </tr>\n",
       "    <tr>\n",
       "      <th>2</th>\n",
       "      <td>0</td>\n",
       "      <td>28</td>\n",
       "      <td>0</td>\n",
       "      <td>0.0</td>\n",
       "      <td>24999.999994</td>\n",
       "      <td>0</td>\n",
       "      <td>'sound'</td>\n",
       "    </tr>\n",
       "    <tr>\n",
       "      <th>3</th>\n",
       "      <td>0</td>\n",
       "      <td>29</td>\n",
       "      <td>0</td>\n",
       "      <td>0.0</td>\n",
       "      <td>24231.956659</td>\n",
       "      <td>0</td>\n",
       "      <td>'sound'</td>\n",
       "    </tr>\n",
       "    <tr>\n",
       "      <th>4</th>\n",
       "      <td>0</td>\n",
       "      <td>25</td>\n",
       "      <td>1</td>\n",
       "      <td>0.0</td>\n",
       "      <td>25000.000006</td>\n",
       "      <td>0</td>\n",
       "      <td>'sound'</td>\n",
       "    </tr>\n",
       "    <tr>\n",
       "      <th>...</th>\n",
       "      <td>...</td>\n",
       "      <td>...</td>\n",
       "      <td>...</td>\n",
       "      <td>...</td>\n",
       "      <td>...</td>\n",
       "      <td>...</td>\n",
       "      <td>...</td>\n",
       "    </tr>\n",
       "    <tr>\n",
       "      <th>730</th>\n",
       "      <td>0</td>\n",
       "      <td>14</td>\n",
       "      <td>56</td>\n",
       "      <td>0.0</td>\n",
       "      <td>22494.219708</td>\n",
       "      <td>0</td>\n",
       "      <td>'peconic'</td>\n",
       "    </tr>\n",
       "    <tr>\n",
       "      <th>731</th>\n",
       "      <td>0</td>\n",
       "      <td>15</td>\n",
       "      <td>56</td>\n",
       "      <td>0.0</td>\n",
       "      <td>25000.000006</td>\n",
       "      <td>0</td>\n",
       "      <td>'peconic'</td>\n",
       "    </tr>\n",
       "    <tr>\n",
       "      <th>732</th>\n",
       "      <td>0</td>\n",
       "      <td>16</td>\n",
       "      <td>56</td>\n",
       "      <td>0.0</td>\n",
       "      <td>24999.999994</td>\n",
       "      <td>0</td>\n",
       "      <td>'peconic'</td>\n",
       "    </tr>\n",
       "    <tr>\n",
       "      <th>733</th>\n",
       "      <td>0</td>\n",
       "      <td>17</td>\n",
       "      <td>56</td>\n",
       "      <td>0.0</td>\n",
       "      <td>25000.000000</td>\n",
       "      <td>0</td>\n",
       "      <td>'peconic'</td>\n",
       "    </tr>\n",
       "    <tr>\n",
       "      <th>734</th>\n",
       "      <td>0</td>\n",
       "      <td>18</td>\n",
       "      <td>56</td>\n",
       "      <td>0.0</td>\n",
       "      <td>24999.999994</td>\n",
       "      <td>0</td>\n",
       "      <td>'peconic'</td>\n",
       "    </tr>\n",
       "  </tbody>\n",
       "</table>\n",
       "<p>735 rows × 7 columns</p>\n",
       "</div>"
      ],
      "text/plain": [
       "     cellid_layer  cellid_row  cellid_column  bhead          cond  iface  \\\n",
       "0               0          26              0    0.0  24999.999994      0   \n",
       "1               0          27              0    0.0  25000.000000      0   \n",
       "2               0          28              0    0.0  24999.999994      0   \n",
       "3               0          29              0    0.0  24231.956659      0   \n",
       "4               0          25              1    0.0  25000.000006      0   \n",
       "..            ...         ...            ...    ...           ...    ...   \n",
       "730             0          14             56    0.0  22494.219708      0   \n",
       "731             0          15             56    0.0  25000.000006      0   \n",
       "732             0          16             56    0.0  24999.999994      0   \n",
       "733             0          17             56    0.0  25000.000000      0   \n",
       "734             0          18             56    0.0  24999.999994      0   \n",
       "\n",
       "     boundname  \n",
       "0      'sound'  \n",
       "1      'sound'  \n",
       "2      'sound'  \n",
       "3      'sound'  \n",
       "4      'sound'  \n",
       "..         ...  \n",
       "730  'peconic'  \n",
       "731  'peconic'  \n",
       "732  'peconic'  \n",
       "733  'peconic'  \n",
       "734  'peconic'  \n",
       "\n",
       "[735 rows x 7 columns]"
      ]
     },
     "execution_count": 19,
     "metadata": {},
     "output_type": "execute_result"
    }
   ],
   "source": [
    "ghb_data0 = gwf.ghb.stress_period_data.get_dataframe()[0]\n",
    "ghb_data0"
   ]
  },
  {
   "cell_type": "markdown",
   "id": "9dfcc61c-3d3c-4fe2-9fb1-56037f753055",
   "metadata": {},
   "source": [
    "#### Setup and initialize D-FLOW FM\n",
    "\n",
    "You will need to set `dflow_dirpath` to the correct directory on your machine."
   ]
  },
  {
   "cell_type": "code",
   "execution_count": 20,
   "id": "18d44e36-93c3-466a-af26-faf477c1da04",
   "metadata": {
    "execution": {
     "iopub.execute_input": "2024-11-19T21:45:23.884024Z",
     "iopub.status.busy": "2024-11-19T21:45:23.884024Z",
     "iopub.status.idle": "2024-11-19T21:45:23.899731Z",
     "shell.execute_reply": "2024-11-19T21:45:23.899731Z",
     "shell.execute_reply.started": "2024-11-19T21:45:23.884024Z"
    }
   },
   "outputs": [],
   "source": [
    "# dflow_dirpath = os.path.abspath(r\"C:\\Program Files\\Deltares\\Delft3D FM Suite 2023.02 HM\\plugins\\DeltaShell.Dimr\\kernels\\x64\\dflowfm\\bin\")\n",
    "# dflow_deps_dirpath = (\n",
    "#     os.path.abspath(r\"C:\\Program Files\\Deltares\\Delft3D FM Suite 2023.02 HM\\plugins\\DeltaShell.Dimr\\kernels\\x64\\share\\bin\"),\n",
    "# )\n",
    "#dflow_dirpath = pl.Path(r\"E:\\LIS\\Code\\nywsc_compound_flooding\\dflow-fm\\plugins\\DeltaShell.Dimr\\kernels\\x64\\dflowfm\\bin\") \n",
    "dflow_dirpath=pl.Path(r\"E:\\LIS\\Code\\nywsc_compound_flooding\\dflow-fm\\dll_dir\")\n",
    "dflow_base = pl.Path(r\"E:\\LIS\\Code\\nywsc_compound_flooding\\dflow-fm\\coarse\\tides\\base\")\n",
    "dflow_working = pl.Path(r\"E:\\LIS\\Code\\nywsc_compound_flooding\\dflow-fm\\coarse\\tides\\run\")\n",
    "dflow_config = dflow_working / \"FlowFM.mdu\""
   ]
  },
  {
   "cell_type": "code",
   "execution_count": 21,
   "id": "3f136784-ba27-4254-9d91-75a07aecdeb5",
   "metadata": {
    "execution": {
     "iopub.execute_input": "2024-11-19T21:45:23.899731Z",
     "iopub.status.busy": "2024-11-19T21:45:23.899731Z",
     "iopub.status.idle": "2024-11-19T21:45:23.931228Z",
     "shell.execute_reply": "2024-11-19T21:45:23.931228Z",
     "shell.execute_reply.started": "2024-11-19T21:45:23.899731Z"
    }
   },
   "outputs": [
    {
     "data": {
      "text/plain": [
       "WindowsPath('E:/LIS/Code/nywsc_compound_flooding/dflow-fm/coarse/tides/run')"
      ]
     },
     "execution_count": 21,
     "metadata": {},
     "output_type": "execute_result"
    }
   ],
   "source": [
    "if dflow_working.is_dir():\n",
    "    shutil.rmtree(dflow_working)\n",
    "shutil.copytree(dflow_base, dflow_working)"
   ]
  },
  {
   "cell_type": "code",
   "execution_count": 22,
   "id": "e8d5632e-bb20-48d3-af09-e9c98f692159",
   "metadata": {
    "execution": {
     "iopub.execute_input": "2024-11-19T21:45:23.931228Z",
     "iopub.status.busy": "2024-11-19T21:45:23.931228Z",
     "iopub.status.idle": "2024-11-19T21:45:23.947358Z",
     "shell.execute_reply": "2024-11-19T21:45:23.946354Z",
     "shell.execute_reply.started": "2024-11-19T21:45:23.931228Z"
    }
   },
   "outputs": [
    {
     "data": {
      "text/plain": [
       "'c:\\\\Users\\\\lherdman\\\\AppData\\\\Local\\\\anaconda3\\\\envs\\\\liss;C:\\\\Users\\\\lherdman\\\\AppData\\\\Local\\\\anaconda3\\\\envs\\\\liss;C:\\\\Users\\\\lherdman\\\\AppData\\\\Local\\\\anaconda3\\\\envs\\\\liss\\\\Library\\\\mingw64\\\\bin;C:\\\\Users\\\\lherdman\\\\AppData\\\\Local\\\\anaconda3\\\\envs\\\\liss\\\\Library\\\\mingw-w64\\\\bin;C:\\\\Users\\\\lherdman\\\\AppData\\\\Local\\\\anaconda3\\\\envs\\\\liss\\\\Library\\\\usr\\\\bin;C:\\\\Users\\\\lherdman\\\\AppData\\\\Local\\\\anaconda3\\\\envs\\\\liss\\\\Library\\\\bin;C:\\\\Users\\\\lherdman\\\\AppData\\\\Local\\\\anaconda3\\\\envs\\\\liss\\\\Scripts;C:\\\\Users\\\\lherdman\\\\AppData\\\\Local\\\\anaconda3\\\\envs\\\\liss\\\\bin;C:\\\\Users\\\\lherdman\\\\AppData\\\\Local\\\\anaconda3\\\\condabin;C:\\\\Program Files\\\\Amazon Corretto\\\\jdk11.0.25_9\\\\bin;C:\\\\Program Files\\\\Amazon Corretto\\\\jdk1.8.0_432\\\\bin;C:\\\\Program Files (x86)\\\\Amazon Corretto\\\\jdk1.8.0_432\\\\bin;C:\\\\Program Files\\\\Amazon Corretto\\\\jdk21.0.4_7\\\\bin;C:\\\\Program Files\\\\Amazon Corretto\\\\jdk11.0.24_8\\\\bin;C:\\\\Python311\\\\Scripts;C:\\\\Python311;C:\\\\WINDOWS\\\\system32;C:\\\\WINDOWS;C:\\\\WINDOWS\\\\System32\\\\Wbem;C:\\\\WINDOWS\\\\System32\\\\WindowsPowerShell\\\\v1.0;C:\\\\WINDOWS\\\\System32\\\\OpenSSH;C:\\\\Program Files (x86)\\\\Pulse Secure\\\\VC142.CRT\\\\X64;C:\\\\Program Files (x86)\\\\Pulse Secure\\\\VC142.CRT\\\\X86;C:\\\\Program Files (x86)\\\\Common Files\\\\Pulse Secure\\\\VC142.CRT\\\\X64;C:\\\\Program Files\\\\dotnet;C:\\\\Program Files\\\\Intel\\\\WiFi\\\\bin;C:\\\\Program Files\\\\Common Files\\\\Intel\\\\WirelessCommon;C:\\\\Program Files\\\\MIT\\\\Kerberos\\\\bin;C:\\\\Program Files (x86)\\\\MIT\\\\Kerberos\\\\bin;C:\\\\Program Files\\\\Microsoft VS Code\\\\bin;C:\\\\Program Files\\\\MATLAB\\\\MATLAB Runtime\\\\v911\\\\runtime\\\\win64;C:\\\\Program Files\\\\PuTTY;C:\\\\Program Files\\\\Git\\\\cmd;C:\\\\Users\\\\lherdman\\\\AppData\\\\Local\\\\Microsoft\\\\WindowsApps;C:\\\\Users\\\\lherdman\\\\AppData\\\\Local\\\\Programs\\\\Git\\\\cmd;.;C:\\\\Users\\\\lherdman\\\\AppData\\\\Local\\\\flopy\\\\bin'"
      ]
     },
     "execution_count": 22,
     "metadata": {},
     "output_type": "execute_result"
    }
   ],
   "source": [
    "os.environ[\"PATH\"]"
   ]
  },
  {
   "cell_type": "code",
   "execution_count": 23,
   "id": "1ee3058a-086f-4a68-aa45-968d03ed131d",
   "metadata": {
    "execution": {
     "iopub.execute_input": "2024-11-19T21:45:23.947358Z",
     "iopub.status.busy": "2024-11-19T21:45:23.947358Z",
     "iopub.status.idle": "2024-11-19T21:45:23.962056Z",
     "shell.execute_reply": "2024-11-19T21:45:23.962056Z",
     "shell.execute_reply.started": "2024-11-19T21:45:23.947358Z"
    }
   },
   "outputs": [],
   "source": [
    "# Add dflowfm dll folder to PATH so that it can be found by the BMIWrapper\n",
    "os.environ[\"PATH\"] = (\n",
    "    str(dflow_dirpath) + os.pathsep + os.environ[\"PATH\"]\n",
    ")"
   ]
  },
  {
   "cell_type": "code",
   "execution_count": 24,
   "id": "dc44083a-a451-4436-ac13-3c4c9bf59fb1",
   "metadata": {
    "execution": {
     "iopub.execute_input": "2024-11-19T21:45:23.962056Z",
     "iopub.status.busy": "2024-11-19T21:45:23.962056Z",
     "iopub.status.idle": "2024-11-19T21:45:23.977811Z",
     "shell.execute_reply": "2024-11-19T21:45:23.976871Z",
     "shell.execute_reply.started": "2024-11-19T21:45:23.962056Z"
    }
   },
   "outputs": [
    {
     "data": {
      "text/plain": [
       "'E:\\\\LIS\\\\Code\\\\nywsc_compound_flooding\\\\dflow-fm\\\\dll_dir'"
      ]
     },
     "execution_count": 24,
     "metadata": {},
     "output_type": "execute_result"
    }
   ],
   "source": [
    "str(dflow_dirpath)"
   ]
  },
  {
   "cell_type": "code",
   "execution_count": 25,
   "id": "91ac33b0-1ded-4c02-bc17-641658890f99",
   "metadata": {
    "execution": {
     "iopub.execute_input": "2024-11-19T21:45:23.977811Z",
     "iopub.status.busy": "2024-11-19T21:45:23.977811Z",
     "iopub.status.idle": "2024-11-19T21:45:23.993451Z",
     "shell.execute_reply": "2024-11-19T21:45:23.993451Z",
     "shell.execute_reply.started": "2024-11-19T21:45:23.977811Z"
    }
   },
   "outputs": [
    {
     "data": {
      "text/plain": [
       "'E:\\\\LIS\\\\Code\\\\nywsc_compound_flooding\\\\dflow-fm\\\\dll_dir;c:\\\\Users\\\\lherdman\\\\AppData\\\\Local\\\\anaconda3\\\\envs\\\\liss;C:\\\\Users\\\\lherdman\\\\AppData\\\\Local\\\\anaconda3\\\\envs\\\\liss;C:\\\\Users\\\\lherdman\\\\AppData\\\\Local\\\\anaconda3\\\\envs\\\\liss\\\\Library\\\\mingw64\\\\bin;C:\\\\Users\\\\lherdman\\\\AppData\\\\Local\\\\anaconda3\\\\envs\\\\liss\\\\Library\\\\mingw-w64\\\\bin;C:\\\\Users\\\\lherdman\\\\AppData\\\\Local\\\\anaconda3\\\\envs\\\\liss\\\\Library\\\\usr\\\\bin;C:\\\\Users\\\\lherdman\\\\AppData\\\\Local\\\\anaconda3\\\\envs\\\\liss\\\\Library\\\\bin;C:\\\\Users\\\\lherdman\\\\AppData\\\\Local\\\\anaconda3\\\\envs\\\\liss\\\\Scripts;C:\\\\Users\\\\lherdman\\\\AppData\\\\Local\\\\anaconda3\\\\envs\\\\liss\\\\bin;C:\\\\Users\\\\lherdman\\\\AppData\\\\Local\\\\anaconda3\\\\condabin;C:\\\\Program Files\\\\Amazon Corretto\\\\jdk11.0.25_9\\\\bin;C:\\\\Program Files\\\\Amazon Corretto\\\\jdk1.8.0_432\\\\bin;C:\\\\Program Files (x86)\\\\Amazon Corretto\\\\jdk1.8.0_432\\\\bin;C:\\\\Program Files\\\\Amazon Corretto\\\\jdk21.0.4_7\\\\bin;C:\\\\Program Files\\\\Amazon Corretto\\\\jdk11.0.24_8\\\\bin;C:\\\\Python311\\\\Scripts;C:\\\\Python311;C:\\\\WINDOWS\\\\system32;C:\\\\WINDOWS;C:\\\\WINDOWS\\\\System32\\\\Wbem;C:\\\\WINDOWS\\\\System32\\\\WindowsPowerShell\\\\v1.0;C:\\\\WINDOWS\\\\System32\\\\OpenSSH;C:\\\\Program Files (x86)\\\\Pulse Secure\\\\VC142.CRT\\\\X64;C:\\\\Program Files (x86)\\\\Pulse Secure\\\\VC142.CRT\\\\X86;C:\\\\Program Files (x86)\\\\Common Files\\\\Pulse Secure\\\\VC142.CRT\\\\X64;C:\\\\Program Files\\\\dotnet;C:\\\\Program Files\\\\Intel\\\\WiFi\\\\bin;C:\\\\Program Files\\\\Common Files\\\\Intel\\\\WirelessCommon;C:\\\\Program Files\\\\MIT\\\\Kerberos\\\\bin;C:\\\\Program Files (x86)\\\\MIT\\\\Kerberos\\\\bin;C:\\\\Program Files\\\\Microsoft VS Code\\\\bin;C:\\\\Program Files\\\\MATLAB\\\\MATLAB Runtime\\\\v911\\\\runtime\\\\win64;C:\\\\Program Files\\\\PuTTY;C:\\\\Program Files\\\\Git\\\\cmd;C:\\\\Users\\\\lherdman\\\\AppData\\\\Local\\\\Microsoft\\\\WindowsApps;C:\\\\Users\\\\lherdman\\\\AppData\\\\Local\\\\Programs\\\\Git\\\\cmd;.;C:\\\\Users\\\\lherdman\\\\AppData\\\\Local\\\\flopy\\\\bin'"
      ]
     },
     "execution_count": 25,
     "metadata": {},
     "output_type": "execute_result"
    }
   ],
   "source": [
    "os.environ[\"PATH\"]"
   ]
  },
  {
   "cell_type": "code",
   "execution_count": 26,
   "id": "0b7f2206-8eef-4b0d-93c9-695d58b70d6a",
   "metadata": {
    "execution": {
     "iopub.execute_input": "2024-11-19T21:45:23.993451Z",
     "iopub.status.busy": "2024-11-19T21:45:23.993451Z",
     "iopub.status.idle": "2024-11-19T21:45:24.009257Z",
     "shell.execute_reply": "2024-11-19T21:45:24.008478Z",
     "shell.execute_reply.started": "2024-11-19T21:45:23.993451Z"
    }
   },
   "outputs": [
    {
     "data": {
      "text/plain": [
       "True"
      ]
     },
     "execution_count": 26,
     "metadata": {},
     "output_type": "execute_result"
    }
   ],
   "source": [
    "(pl.Path(dflow_dirpath) / \"dflowfm.dll\").is_file()"
   ]
  },
  {
   "cell_type": "markdown",
   "id": "9a27dd68-0a69-4302-8f8e-32b069769b8e",
   "metadata": {},
   "source": [
    "#### Initialize D-Flow FM"
   ]
  },
  {
   "cell_type": "code",
   "execution_count": 27,
   "id": "70e7cf96-3042-4f49-9d3e-0c7fe8aa8135",
   "metadata": {
    "execution": {
     "iopub.execute_input": "2024-11-19T21:45:24.009257Z",
     "iopub.status.busy": "2024-11-19T21:45:24.009257Z",
     "iopub.status.idle": "2024-11-19T21:45:24.024271Z",
     "shell.execute_reply": "2024-11-19T21:45:24.024271Z",
     "shell.execute_reply.started": "2024-11-19T21:45:24.009257Z"
    },
    "scrolled": true
   },
   "outputs": [],
   "source": [
    "dflowfm = BMIWrapper(\n",
    "    engine=\"dflowfm\",\n",
    "    configfile=os.path.abspath(dflow_config),\n",
    ")"
   ]
  },
  {
   "cell_type": "code",
   "execution_count": 28,
   "id": "3f225632-1513-4358-a3ea-31948858d0e1",
   "metadata": {
    "execution": {
     "iopub.execute_input": "2024-11-19T21:45:24.024271Z",
     "iopub.status.busy": "2024-11-19T21:45:24.024271Z",
     "iopub.status.idle": "2024-11-19T21:45:24.305297Z",
     "shell.execute_reply": "2024-11-19T21:45:24.305297Z",
     "shell.execute_reply.started": "2024-11-19T21:45:24.024271Z"
    }
   },
   "outputs": [],
   "source": [
    "dflowfm.initialize()"
   ]
  },
  {
   "cell_type": "markdown",
   "id": "c934200b-6f36-4115-96fc-7d05f4dbc430",
   "metadata": {},
   "source": [
    "#### Get data from D-FLOW FM"
   ]
  },
  {
   "cell_type": "code",
   "execution_count": 29,
   "id": "c592da26-095b-4b80-8622-98477c7015bf",
   "metadata": {
    "execution": {
     "iopub.execute_input": "2024-11-19T21:45:24.308498Z",
     "iopub.status.busy": "2024-11-19T21:45:24.305297Z",
     "iopub.status.idle": "2024-11-19T21:45:24.338715Z",
     "shell.execute_reply": "2024-11-19T21:45:24.338715Z",
     "shell.execute_reply.started": "2024-11-19T21:45:24.308498Z"
    }
   },
   "outputs": [
    {
     "data": {
      "text/plain": [
       "(8412, 8323, (8412,), (8412,))"
      ]
     },
     "execution_count": 29,
     "metadata": {},
     "output_type": "execute_result"
    }
   ],
   "source": [
    "ndxi = int(dflowfm.get_var(\"ndxi\"))\n",
    "ndx = int(dflowfm.get_var(\"ndx\"))\n",
    "x = dflowfm.get_var(\"xz\")\n",
    "y = dflowfm.get_var(\"yz\")\n",
    "z = dflowfm.get_var(\"bl\")\n",
    "xy = [(xx, yy) for (xx, yy) in zip(x, y)]\n",
    "ndx, ndxi, x.shape, y.shape"
   ]
  },
  {
   "cell_type": "code",
   "execution_count": 30,
   "id": "915d5bc6-4177-427c-97a2-27a7e2d8237e",
   "metadata": {
    "execution": {
     "iopub.execute_input": "2024-11-19T21:45:24.338715Z",
     "iopub.status.busy": "2024-11-19T21:45:24.338715Z",
     "iopub.status.idle": "2024-11-19T21:45:24.351520Z",
     "shell.execute_reply": "2024-11-19T21:45:24.350793Z",
     "shell.execute_reply.started": "2024-11-19T21:45:24.338715Z"
    }
   },
   "outputs": [
    {
     "data": {
      "text/plain": [
       "array([0., 0., 0., ..., 0., 0., 0.])"
      ]
     },
     "execution_count": 30,
     "metadata": {},
     "output_type": "execute_result"
    }
   ],
   "source": [
    "dflowfm.get_var(\"s1\")"
   ]
  },
  {
   "cell_type": "code",
   "execution_count": 31,
   "id": "176b58d3-dc6a-4356-ae10-ea3382656b41",
   "metadata": {
    "execution": {
     "iopub.execute_input": "2024-11-19T21:45:24.353732Z",
     "iopub.status.busy": "2024-11-19T21:45:24.352557Z",
     "iopub.status.idle": "2024-11-19T21:45:24.369666Z",
     "shell.execute_reply": "2024-11-19T21:45:24.369666Z",
     "shell.execute_reply.started": "2024-11-19T21:45:24.353532Z"
    }
   },
   "outputs": [
    {
     "data": {
      "text/plain": [
       "((8412,),\n",
       " array([26.42575318, 24.9297905 , 23.53244183, ..., 18.71800344,\n",
       "        20.31243107, 21.52212007]))"
      ]
     },
     "execution_count": 31,
     "metadata": {},
     "output_type": "execute_result"
    }
   ],
   "source": [
    "v = dflowfm.get_var(\"hs\")\n",
    "v.shape, v"
   ]
  },
  {
   "cell_type": "code",
   "execution_count": 32,
   "id": "e4500627-a871-4b7a-b491-eeffe6e404fb",
   "metadata": {
    "execution": {
     "iopub.execute_input": "2024-11-19T21:45:24.369666Z",
     "iopub.status.busy": "2024-11-19T21:45:24.369666Z",
     "iopub.status.idle": "2024-11-19T21:45:24.382874Z",
     "shell.execute_reply": "2024-11-19T21:45:24.382222Z",
     "shell.execute_reply.started": "2024-11-19T21:45:24.369666Z"
    }
   },
   "outputs": [
    {
     "data": {
      "text/plain": [
       "((8412,), array([0., 0., 0., ..., 0., 0., 0.]))"
      ]
     },
     "execution_count": 32,
     "metadata": {},
     "output_type": "execute_result"
    }
   ],
   "source": [
    "qext = np.zeros(ndx)\n",
    "qext.shape, qext"
   ]
  },
  {
   "cell_type": "code",
   "execution_count": 33,
   "id": "e3af8322-1b6e-481b-8e41-7c2e035a35c8",
   "metadata": {
    "execution": {
     "iopub.execute_input": "2024-11-19T21:45:24.385023Z",
     "iopub.status.busy": "2024-11-19T21:45:24.383905Z",
     "iopub.status.idle": "2024-11-19T21:45:24.401018Z",
     "shell.execute_reply": "2024-11-19T21:45:24.401018Z",
     "shell.execute_reply.started": "2024-11-19T21:45:24.384904Z"
    }
   },
   "outputs": [],
   "source": [
    "# dflowfm.set_var(\"qext\", qext)"
   ]
  },
  {
   "cell_type": "code",
   "execution_count": 34,
   "id": "945847d2-18ff-48e9-998e-b7335f03a654",
   "metadata": {
    "execution": {
     "iopub.execute_input": "2024-11-19T21:45:24.401018Z",
     "iopub.status.busy": "2024-11-19T21:45:24.401018Z",
     "iopub.status.idle": "2024-11-19T21:45:24.414218Z",
     "shell.execute_reply": "2024-11-19T21:45:24.413545Z",
     "shell.execute_reply.started": "2024-11-19T21:45:24.401018Z"
    }
   },
   "outputs": [
    {
     "data": {
      "text/plain": [
       "(8412,)"
      ]
     },
     "execution_count": 34,
     "metadata": {},
     "output_type": "execute_result"
    }
   ],
   "source": [
    "qext_cum = np.zeros(ndx)\n",
    "qext_cum.shape"
   ]
  },
  {
   "cell_type": "code",
   "execution_count": 35,
   "id": "eb181f22-36db-49c3-98fe-2cb02ae0277a",
   "metadata": {
    "execution": {
     "iopub.execute_input": "2024-11-19T21:45:24.416310Z",
     "iopub.status.busy": "2024-11-19T21:45:24.415253Z",
     "iopub.status.idle": "2024-11-19T21:45:24.432311Z",
     "shell.execute_reply": "2024-11-19T21:45:24.432311Z",
     "shell.execute_reply.started": "2024-11-19T21:45:24.416310Z"
    }
   },
   "outputs": [
    {
     "data": {
      "text/plain": [
       "((8412,), array([0., 0., 0., ..., 0., 0., 0.]))"
      ]
     },
     "execution_count": 35,
     "metadata": {},
     "output_type": "execute_result"
    }
   ],
   "source": [
    "vextcum = dflowfm.get_var(\"vextcum\")\n",
    "vextcum.shape, vextcum"
   ]
  },
  {
   "cell_type": "markdown",
   "id": "abda6d7b-f5d7-4343-b171-4ef59f7c7a73",
   "metadata": {},
   "source": [
    "#### Initialize MODFLOW using MODFLOW API"
   ]
  },
  {
   "cell_type": "code",
   "execution_count": 36,
   "id": "45a2acde-ae78-4664-a8ce-a7df0ea5bfd2",
   "metadata": {
    "execution": {
     "iopub.execute_input": "2024-11-19T21:45:24.432311Z",
     "iopub.status.busy": "2024-11-19T21:45:24.432311Z",
     "iopub.status.idle": "2024-11-19T21:45:24.445071Z",
     "shell.execute_reply": "2024-11-19T21:45:24.444812Z",
     "shell.execute_reply.started": "2024-11-19T21:45:24.432311Z"
    }
   },
   "outputs": [],
   "source": [
    "mf6 = ModflowApi(str(libmf6), working_directory=mf_run_path)"
   ]
  },
  {
   "cell_type": "code",
   "execution_count": 37,
   "id": "05bac9c9-c9f6-4814-b9cd-d573b66a3cd3",
   "metadata": {
    "execution": {
     "iopub.execute_input": "2024-11-19T21:45:24.447237Z",
     "iopub.status.busy": "2024-11-19T21:45:24.447237Z",
     "iopub.status.idle": "2024-11-19T21:45:24.646608Z",
     "shell.execute_reply": "2024-11-19T21:45:24.646608Z",
     "shell.execute_reply.started": "2024-11-19T21:45:24.447237Z"
    }
   },
   "outputs": [],
   "source": [
    "mf6.initialize()"
   ]
  },
  {
   "cell_type": "markdown",
   "id": "5899f825-5c0f-4068-b0ad-e533880868f8",
   "metadata": {},
   "source": [
    "#### Define MODFLOW variable tags and set pointer to MODFLOW variables"
   ]
  },
  {
   "cell_type": "code",
   "execution_count": 38,
   "id": "162fa181-607d-44c3-9bab-3eb9563d0aec",
   "metadata": {
    "execution": {
     "iopub.execute_input": "2024-11-19T21:45:24.646608Z",
     "iopub.status.busy": "2024-11-19T21:45:24.646608Z",
     "iopub.status.idle": "2024-11-19T21:45:24.654243Z",
     "shell.execute_reply": "2024-11-19T21:45:24.653879Z",
     "shell.execute_reply.started": "2024-11-19T21:45:24.646608Z"
    }
   },
   "outputs": [],
   "source": [
    "ghb_bhead_tag = mf6.get_var_address(\"BHEAD\", \"MODFLOW\", \"GHB-1\")\n",
    "ghb_cond_tag = mf6.get_var_address(\"COND\", \"MODFLOW\", \"GHB-1\")\n",
    "ghb_flow_tag = mf6.get_var_address(\"SIMVALS\", \"MODFLOW\", \"GHB-1\")"
   ]
  },
  {
   "cell_type": "code",
   "execution_count": 39,
   "id": "3ba6a3ec-1913-4ac7-997a-1aa4146326ee",
   "metadata": {
    "execution": {
     "iopub.execute_input": "2024-11-19T21:45:24.654243Z",
     "iopub.status.busy": "2024-11-19T21:45:24.654243Z",
     "iopub.status.idle": "2024-11-19T21:45:24.666445Z",
     "shell.execute_reply": "2024-11-19T21:45:24.666066Z",
     "shell.execute_reply.started": "2024-11-19T21:45:24.654243Z"
    }
   },
   "outputs": [],
   "source": [
    "ghb_bhead_ptr = mf6.get_value_ptr(ghb_bhead_tag)\n",
    "ghb_cond_ptr = mf6.get_value_ptr(ghb_cond_tag)\n",
    "ghb_flow = np.zeros(ghb_bhead_ptr.shape)"
   ]
  },
  {
   "cell_type": "markdown",
   "id": "871bbbe5-7bb3-45a7-a949-0c12ff1047c0",
   "metadata": {},
   "source": [
    "#### Create dictionaries for saving modified GHB data"
   ]
  },
  {
   "cell_type": "code",
   "execution_count": 40,
   "id": "c9c253c7-87d7-4c19-b24a-a2a6ff839499",
   "metadata": {
    "execution": {
     "iopub.execute_input": "2024-11-19T21:45:24.666445Z",
     "iopub.status.busy": "2024-11-19T21:45:24.666445Z",
     "iopub.status.idle": "2024-11-19T21:45:24.682138Z",
     "shell.execute_reply": "2024-11-19T21:45:24.682138Z",
     "shell.execute_reply.started": "2024-11-19T21:45:24.666445Z"
    }
   },
   "outputs": [],
   "source": [
    "elev_dict = {}\n",
    "cond_dict = {}\n",
    "qext_dict = {}"
   ]
  },
  {
   "cell_type": "markdown",
   "id": "2fb79760-ec43-41ff-8c69-d0cec5310575",
   "metadata": {},
   "source": [
    "#### Function to update MODFLOW GHB data"
   ]
  },
  {
   "cell_type": "code",
   "execution_count": 41,
   "id": "ab2c4365-1212-498b-862a-48d16a09dfc7",
   "metadata": {
    "execution": {
     "iopub.execute_input": "2024-11-19T21:45:24.682138Z",
     "iopub.status.busy": "2024-11-19T21:45:24.682138Z",
     "iopub.status.idle": "2024-11-19T21:45:24.694776Z",
     "shell.execute_reply": "2024-11-19T21:45:24.694565Z",
     "shell.execute_reply.started": "2024-11-19T21:45:24.682138Z"
    }
   },
   "outputs": [],
   "source": [
    "def update_mf(key, s, d):\n",
    "    mask = d == 0.0\n",
    "    s[mask] = 0.0\n",
    "    mult = np.full(d.shape, 1.0)\n",
    "    mult[mask] = 0.0\n",
    "    \n",
    "    ghb_head = ghb_data0[\"bhead\"].to_numpy()\n",
    "    ghb_head[ghbmask] = dflow2mfghb.dot(s)[ghbmask] * m2ft\n",
    "    ghb_cond = ghb_data0[\"cond\"].to_numpy()\n",
    "    ghb_cond[ghbmask] = ghb_cond[ghbmask] * dflow2mfghb.dot(mult)[ghbmask]\n",
    "    ghb_bhead_ptr[:] = ghb_head[:]\n",
    "    ghb_cond_ptr[:] = ghb_cond[:]\n",
    "\n",
    "    # update results dictionary\n",
    "    elev_dict[key] = ghb_head.copy()\n",
    "    cond_dict[key] = ghb_cond.copy()"
   ]
  },
  {
   "cell_type": "markdown",
   "id": "09571819-83a5-4dca-bfa8-0b3cd6dd4f11",
   "metadata": {},
   "source": [
    "#### Function to update D-Flow FM Qext data"
   ]
  },
  {
   "cell_type": "code",
   "execution_count": 42,
   "id": "329ba1b7-098d-4ed4-a1e0-00e4e74e293d",
   "metadata": {
    "execution": {
     "iopub.execute_input": "2024-11-19T21:45:24.697131Z",
     "iopub.status.busy": "2024-11-19T21:45:24.696663Z",
     "iopub.status.idle": "2024-11-19T21:45:24.713157Z",
     "shell.execute_reply": "2024-11-19T21:45:24.713157Z",
     "shell.execute_reply.started": "2024-11-19T21:45:24.697131Z"
    }
   },
   "outputs": [],
   "source": [
    "def update_dflow(key, d):\n",
    "    print(\"DFLOW DEBUGA\") \n",
    "    ghb_flow = -mf6.get_value(ghb_flow_tag) * cfd2cms\n",
    "    dflow_qext = ghb2qext.dot(ghb_flow)\n",
    "    dflow_qext[d == 0.0] = 0.0\n",
    "    qext_cum[:ndxi] += dflow_qext[:ndxi]\n",
    "    print(\"DFLOW DEBUG1\")  \n",
    "    qext[:ndxi] = dflow_qext[:ndxi]\n",
    "    dflowfm.set_var(\"qext\", qext)\n",
    "\n",
    "    # update results dictionaries\n",
    "    qext_dict[key] = qext[:ndxi].copy()\n"
   ]
  },
  {
   "cell_type": "markdown",
   "id": "60cda4f7",
   "metadata": {},
   "source": [
    "SWMM INPUTS AND INITIALIZATION"
   ]
  },
  {
   "cell_type": "code",
   "execution_count": 43,
   "id": "e0cd418b",
   "metadata": {},
   "outputs": [],
   "source": [
    "# SWMM mappings\n",
    "junctions = (\n",
    "     \"9\",\n",
    "     \"10\",\n",
    "     \"47\",\n",
    "     \"54\",\n",
    "     \"44\",\n",
    "     \"34\",\n",
    "     \"81\",\n",
    "     \"155\",\n",
    "     \"67\",\n",
    "     \"69\",\n",
    "     \"30\",\n",
    "     \"118\",\n",
    ")\n",
    "\n",
    "# these are the junction elevations in the SWMM inp file\n",
    "swmm_inverts = {\n",
    "    \"9\": 5,\n",
    "    \"10\": 2,\n",
    "    \"47\": 2.2,\n",
    "    \"54\": 0.7,\n",
    "    \"44\": 2.5,\n",
    "    \"34\": 6.0,\n",
    "    \"81\": 0.7,\n",
    "    \"155\": 3,\n",
    "    \"67\": -1.0,\n",
    "    \"69\": 1.0,\n",
    "    \"30\":  5.5,\n",
    "    \"118\": 4.6,\n",
    " }\n",
    "swmm_nodes = {}\n",
    "\n",
    "# MODFLOW -----------------\n",
    "# map of the junction names and the MODFLOW (row, column)\n",
    "# containing the junction\n",
    "mf6_cells = {\n",
    "    \"9\": (25, 32),\n",
    "    \"10\": (24, 32),\n",
    "    \"47\": (28, 33),\n",
    "    \"54\": (29, 33),\n",
    "    \"44\": (27, 33),\n",
    "    \"34\": (28, 31),\n",
    "    \"81\": (28, 30),\n",
    "    \"155\": (28, 29),\n",
    "    \"67\": (31, 32),\n",
    "    \"69\": (31, 31),\n",
    "    \"30\": (27, 31),\n",
    "    \"118\": (35, 26),\n",
    "}"
   ]
  },
  {
   "cell_type": "code",
   "execution_count": 44,
   "id": "ef3b5032",
   "metadata": {},
   "outputs": [],
   "source": [
    "\n",
    "\n",
    "# use recent modflowapi functionality for accessing data from the api\n",
    "# in flopy-like data structures\n",
    "apisim = ApiSimulation.load(mf6)\n",
    "apiml = apisim.get_model()\n",
    "\n",
    "# get a handle to the well package for the SWMM flows\n",
    "sewer_flow = apiml.get_package(\"SWMM\")\n",
    "\n",
    "current_time = dflowfm.get_current_time()\n",
    "end_time = dflowfm.get_end_time()"
   ]
  },
  {
   "cell_type": "code",
   "execution_count": 45,
   "id": "a23c205f",
   "metadata": {},
   "outputs": [],
   "source": [
    "# SWMM ------------------\n",
    "ts = 60  # s, time step\n",
    "t15d = ts * 24 * 15 * 60  # s, step advance of swmm = stress period\n",
    "tmax = 24 * 60 * (end_time + 1)  # min\n",
    "swmm_time = np.arange(1, tmax, 1)  # min\n",
    "iswmm = 1  # index in the swmm simulation arrays\n",
    "#simsw = pyswmm.Simulation(\"Greenport_Model_New_v1.inp\")\n",
    "#simsw=pyswmm.Simulation(\"greenport_detailedsewer_v4_nosub175.inp\")\n",
    "simsw=pyswmm.Simulation(r'E:\\LIS\\Code\\nywsc_compound_flooding\\swmm\\greenport\\greenport_detailedsewer_v4_nosub175.inp')\n",
    "\n",
    "# build the swmm_nodes dictionary where the values are the swmm node objects\n",
    "# for example, \"J1 = pyswmm.Nodes(simsw)[\"J1\"]\"\" , where J1 is the key\n",
    "# and the value is pyswmm.Nodes(simsw)[\"J1\"]\n",
    "for j in junctions:\n",
    "    swmm_nodes[j] = pyswmm.Nodes(simsw)[j]\n",
    "\n",
    "Out1 = pyswmm.Nodes(simsw)[\"171\"] # This is the junction at the WWTP\n",
    "out_array = np.zeros(3650000)  # vector to record flow rate\n"
   ]
  },
  {
   "cell_type": "code",
   "execution_count": 48,
   "id": "fd42ecb6",
   "metadata": {},
   "outputs": [],
   "source": [
    "simsw.start()"
   ]
  },
  {
   "cell_type": "code",
   "execution_count": 49,
   "id": "f9151e5c",
   "metadata": {},
   "outputs": [],
   "source": [
    "time_vec = np.zeros(365)"
   ]
  },
  {
   "cell_type": "markdown",
   "id": "cd2fe2d7-4b4e-4018-a9ab-6e624c316725",
   "metadata": {},
   "source": [
    "#### Run each time step"
   ]
  },
  {
   "cell_type": "code",
   "execution_count": null,
   "id": "8c28d312-5e6d-4130-8668-4d7fdfd0e278",
   "metadata": {
    "execution": {
     "iopub.execute_input": "2024-11-19T21:45:24.713157Z",
     "iopub.status.busy": "2024-11-19T21:45:24.713157Z",
     "iopub.status.idle": "2024-11-19T21:45:24.726717Z",
     "shell.execute_reply": "2024-11-19T21:45:24.726320Z",
     "shell.execute_reply.started": "2024-11-19T21:45:24.713157Z"
    }
   },
   "outputs": [],
   "source": [
    "print(\n",
    "    f\"DFLOWFM current_time: {dflowfm.get_current_time():15,.1f} sec. ({dflowfm.get_current_time()/86400.:15,.1f} days)\\n\"\n",
    "     + f\"DFLOWFM end_time:     {dflowfm.get_end_time():15,.1f} sec. ({dflowfm.get_end_time()/86400.:15,.1f} days)\"\n",
    ")"
   ]
  },
  {
   "cell_type": "code",
   "execution_count": null,
   "id": "68ee61c0-d3dc-470f-849d-441360c70290",
   "metadata": {
    "execution": {
     "execution_failed": "2024-11-19T21:45:26.901Z",
     "iopub.execute_input": "2024-11-19T21:45:24.728804Z",
     "iopub.status.busy": "2024-11-19T21:45:24.727801Z"
    }
   },
   "outputs": [],
   "source": [
    "idx = 0\n",
    "jdx = 0\n",
    "t0 = time.perf_counter()\n",
    "current_time = dflowfm.get_current_time()\n",
    "end_time = dflowfm.get_end_time()\n",
    "j = 0\n",
    "while current_time <= end_time:\n",
    "    idx += 1\n",
    "    ontime = dflowfm.get_current_time()\n",
    "    onday = ontime / 86400.\n",
    "    frac_comp = current_time / end_time\n",
    "    print(f\"Current time: {current_time:15,.1f} ({onday:10.3f} days) - {frac_comp:6.2%} complete - ({idx:03d})    \", end=\"\\r\")\n",
    "    dflowfm.update()\n",
    "\n",
    "    current_time = dflowfm.get_current_time()\n",
    "    if idx == int(dflow_per_mf):\n",
    "        print(f\"Current time: {current_time:15,.1f} ({onday:10.3f} days) - {frac_comp:6.2%} complete - ({idx:03d}) ***\", end=\"\\r\")\n",
    "        s = dflowfm.get_var(\"s1\")[:ndxi]\n",
    "        d = dflowfm.get_var(\"hs\")[:ndxi]\n",
    "\n",
    "        mf6.prepare_time_step(mf6.get_time_step())\n",
    "        update_mf(str(jdx), s, d)\n",
    "        mf6.do_time_step()\n",
    "        mf6.finalize_time_step()\n",
    "        update_dflow(str(jdx), d)\n",
    "\n",
    "        idx = 0\n",
    "        jdx += 1\n",
    "\n",
    "        #SWMM\n",
    "        dt = mf6.get_time_step()\n",
    "        print(dt)\n",
    "        Acurrent_time = mf6.get_current_time()\n",
    "    \n",
    "        heads = apiml.X\n",
    "        #time_vec[j] = np.array(Acurrent_time)\n",
    "\n",
    "        # Infiltrations and exfiltrations\n",
    "        mf6_spd = []\n",
    "        for key, value in swmm_nodes.items():\n",
    "            row, col = mf6_cells[key]\n",
    "            head = heads[0, row, col]\n",
    "            # might be nice to use the simulated swmm water-level\n",
    "            # in the junctions instead of the invert elevation\n",
    "            pot = head - swmm_inverts[key] / 0.304  # ft\n",
    "            if pot > 0.0:\n",
    "                Q = pot * 0.001\n",
    "            else:\n",
    "                Q = pot * 0.0002\n",
    "            value.generated_inflow(Q)  # CMS\n",
    "            mf6_spd.append(((0, row, col), -Q))\n",
    "            #print(Q)\n",
    "            # Extracting the water table for 2D mapping\n",
    "            #if round(time_vec[j]) == 100:\n",
    "            #    headplt1=heads\n",
    "    \n",
    "        # update SWMM well file with new flux data - will be\n",
    "        # used next time step\n",
    "        dtype = [(\"nodelist\", \"O\"), (\"q\", float)]\n",
    "\n",
    "        sewer_flow.stress_period_data.values = np.array(\n",
    "            mf6_spd, dtype=dtype\n",
    "            )\n",
    "        # SWMM -----------------------------------------------\n",
    "        simsw.step_advance(dt * 3600 * 24)\n",
    "        #out_array[j] = np.array(Out1.total_inflow)\n",
    "        j += 1\n",
    "        #\n",
    "        print(f\"finished...{simsw.current_time}\")\n",
    "t1 = time.perf_counter()    \n",
    "print(f\"\\nrun time: {(t1 - t0) / 60.} min\")"
   ]
  },
  {
   "cell_type": "code",
   "execution_count": 52,
   "id": "ba758e06-8665-4984-b646-851d4ed48e49",
   "metadata": {},
   "outputs": [],
   "source": [
    "# Finalize\n",
    "mf6.finalize()"
   ]
  },
  {
   "cell_type": "code",
   "execution_count": 53,
   "id": "c99e8c33",
   "metadata": {},
   "outputs": [],
   "source": [
    "simsw.close()"
   ]
  },
  {
   "cell_type": "code",
   "execution_count": 54,
   "id": "fb819b57-d15b-4c1a-9886-a422a789a2f8",
   "metadata": {},
   "outputs": [],
   "source": [
    "dflowfm.finalize()"
   ]
  },
  {
   "cell_type": "markdown",
   "id": "2ac33056-7abc-464c-a545-b3f76e1adc20",
   "metadata": {},
   "source": [
    "#### Save ghb elevation and conductance data to compressed files"
   ]
  },
  {
   "cell_type": "code",
   "execution_count": 61,
   "id": "5a7e1534-3aec-4d0b-ad05-e4abb8a1ef23",
   "metadata": {},
   "outputs": [],
   "source": [
    "np.savez_compressed(f\"{mf_run_path}/ghb_elev.npz\", **elev_dict)\n",
    "np.savez_compressed(f\"{mf_run_path}/ghb_cond.npz\", **cond_dict)\n",
    "np.savez_compressed(f\"{mf_run_path}/qext.npz\", **qext_dict)"
   ]
  },
  {
   "cell_type": "code",
   "execution_count": null,
   "id": "5779f27c-c734-4799-a51b-d1dc4f5f2eae",
   "metadata": {},
   "outputs": [],
   "source": []
  }
 ],
 "metadata": {
  "kernelspec": {
   "display_name": "liss",
   "language": "python",
   "name": "python3"
  },
  "language_info": {
   "codemirror_mode": {
    "name": "ipython",
    "version": 3
   },
   "file_extension": ".py",
   "mimetype": "text/x-python",
   "name": "python",
   "nbconvert_exporter": "python",
   "pygments_lexer": "ipython3",
   "version": "3.10.0"
  }
 },
 "nbformat": 4,
 "nbformat_minor": 5
}
