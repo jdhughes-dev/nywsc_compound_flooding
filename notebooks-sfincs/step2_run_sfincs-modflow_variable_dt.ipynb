{
 "cells": [
  {
   "cell_type": "code",
   "execution_count": 1,
   "id": "85347610-f12c-4cd3-b8bc-481ff4a9c1dc",
   "metadata": {
    "execution": {
     "iopub.execute_input": "2024-12-02T18:42:57.705974Z",
     "iopub.status.busy": "2024-12-02T18:42:57.705429Z",
     "iopub.status.idle": "2024-12-02T18:42:58.721448Z",
     "shell.execute_reply": "2024-12-02T18:42:58.721153Z",
     "shell.execute_reply.started": "2024-12-02T18:42:57.705943Z"
    }
   },
   "outputs": [
    {
     "name": "stderr",
     "output_type": "stream",
     "text": [
      "/home/parallels/miniconda3/envs/liss/lib/python3.10/site-packages/bmi/__init__.py:2: DeprecationWarning: pkg_resources is deprecated as an API. See https://setuptools.pypa.io/en/latest/pkg_resources.html\n",
      "  import pkg_resources\n",
      "/home/parallels/miniconda3/envs/liss/lib/python3.10/site-packages/pkg_resources/__init__.py:3121: DeprecationWarning: Deprecated call to `pkg_resources.declare_namespace('pydap')`.\n",
      "Implementing implicit namespace packages (as specified in PEP 420) is preferred to `pkg_resources.declare_namespace`. See https://setuptools.pypa.io/en/latest/references/keywords.html#keyword-namespace-packages\n",
      "  declare_namespace(pkg)\n",
      "/home/parallels/miniconda3/envs/liss/lib/python3.10/site-packages/pkg_resources/__init__.py:3121: DeprecationWarning: Deprecated call to `pkg_resources.declare_namespace('pydap.responses')`.\n",
      "Implementing implicit namespace packages (as specified in PEP 420) is preferred to `pkg_resources.declare_namespace`. See https://setuptools.pypa.io/en/latest/references/keywords.html#keyword-namespace-packages\n",
      "  declare_namespace(pkg)\n",
      "/home/parallels/miniconda3/envs/liss/lib/python3.10/site-packages/pkg_resources/__init__.py:2532: DeprecationWarning: Deprecated call to `pkg_resources.declare_namespace('pydap')`.\n",
      "Implementing implicit namespace packages (as specified in PEP 420) is preferred to `pkg_resources.declare_namespace`. See https://setuptools.pypa.io/en/latest/references/keywords.html#keyword-namespace-packages\n",
      "  declare_namespace(parent)\n",
      "/home/parallels/miniconda3/envs/liss/lib/python3.10/site-packages/pkg_resources/__init__.py:3121: DeprecationWarning: Deprecated call to `pkg_resources.declare_namespace('pydap.handlers')`.\n",
      "Implementing implicit namespace packages (as specified in PEP 420) is preferred to `pkg_resources.declare_namespace`. See https://setuptools.pypa.io/en/latest/references/keywords.html#keyword-namespace-packages\n",
      "  declare_namespace(pkg)\n",
      "/home/parallels/miniconda3/envs/liss/lib/python3.10/site-packages/pkg_resources/__init__.py:2532: DeprecationWarning: Deprecated call to `pkg_resources.declare_namespace('pydap')`.\n",
      "Implementing implicit namespace packages (as specified in PEP 420) is preferred to `pkg_resources.declare_namespace`. See https://setuptools.pypa.io/en/latest/references/keywords.html#keyword-namespace-packages\n",
      "  declare_namespace(parent)\n",
      "/home/parallels/miniconda3/envs/liss/lib/python3.10/site-packages/pkg_resources/__init__.py:3121: DeprecationWarning: Deprecated call to `pkg_resources.declare_namespace('pydap.tests')`.\n",
      "Implementing implicit namespace packages (as specified in PEP 420) is preferred to `pkg_resources.declare_namespace`. See https://setuptools.pypa.io/en/latest/references/keywords.html#keyword-namespace-packages\n",
      "  declare_namespace(pkg)\n",
      "/home/parallels/miniconda3/envs/liss/lib/python3.10/site-packages/pkg_resources/__init__.py:2532: DeprecationWarning: Deprecated call to `pkg_resources.declare_namespace('pydap')`.\n",
      "Implementing implicit namespace packages (as specified in PEP 420) is preferred to `pkg_resources.declare_namespace`. See https://setuptools.pypa.io/en/latest/references/keywords.html#keyword-namespace-packages\n",
      "  declare_namespace(parent)\n"
     ]
    }
   ],
   "source": [
    "import os\n",
    "import time\n",
    "import matplotlib.pyplot as plt\n",
    "import numpy as np\n",
    "import pathlib as pl\n",
    "import shutil\n",
    "import sys\n",
    "\n",
    "import flopy\n",
    "from xmipy import XmiWrapper\n",
    "from modflowapi import ModflowApi\n",
    "\n",
    "from bmi.wrapper import BMIWrapper"
   ]
  },
  {
   "cell_type": "code",
   "execution_count": 2,
   "id": "9333c15a-ead6-49f7-907b-eb2a0077cd4c",
   "metadata": {
    "execution": {
     "iopub.execute_input": "2024-12-02T18:42:58.723054Z",
     "iopub.status.busy": "2024-12-02T18:42:58.722097Z",
     "iopub.status.idle": "2024-12-02T18:42:58.917005Z",
     "shell.execute_reply": "2024-12-02T18:42:58.916650Z",
     "shell.execute_reply.started": "2024-12-02T18:42:58.723040Z"
    }
   },
   "outputs": [],
   "source": [
    "sys.path.append(\"../common\")\n",
    "from liss_settings import libmf6, get_dflow_grid_name, get_sfincs_grid_name, get_sfincs_dtuser, get_modflow_coupling_tag"
   ]
  },
  {
   "cell_type": "code",
   "execution_count": 3,
   "id": "449dc596-d9dd-4871-b8d1-6c968a0cb27f",
   "metadata": {
    "execution": {
     "iopub.execute_input": "2024-12-02T18:42:58.917731Z",
     "iopub.status.busy": "2024-12-02T18:42:58.917559Z",
     "iopub.status.idle": "2024-12-02T18:42:58.924043Z",
     "shell.execute_reply": "2024-12-02T18:42:58.923691Z",
     "shell.execute_reply.started": "2024-12-02T18:42:58.917718Z"
    }
   },
   "outputs": [],
   "source": [
    "coastal_name = \"sfincs\""
   ]
  },
  {
   "cell_type": "code",
   "execution_count": 4,
   "id": "0ab50c8a-749d-4167-acd5-399b3891059e",
   "metadata": {
    "execution": {
     "iopub.execute_input": "2024-12-02T18:42:58.927949Z",
     "iopub.status.busy": "2024-12-02T18:42:58.927701Z",
     "iopub.status.idle": "2024-12-02T18:42:58.963289Z",
     "shell.execute_reply": "2024-12-02T18:42:58.962765Z",
     "shell.execute_reply.started": "2024-12-02T18:42:58.927937Z"
    }
   },
   "outputs": [
    {
     "name": "stdout",
     "output_type": "stream",
     "text": [
      "sfincs\n"
     ]
    }
   ],
   "source": [
    "control_path = pl.Path(\"../sfincs/test_north_fork/run/sfincs.inp\") # change this if using a different D-Flow FM control file\n",
    "grid_name = get_sfincs_grid_name(control_path)\n",
    "print(grid_name)"
   ]
  },
  {
   "cell_type": "code",
   "execution_count": 5,
   "id": "ee09742e-ba2c-4c98-9aa8-1cba1f1ff4b7",
   "metadata": {
    "execution": {
     "iopub.execute_input": "2024-12-02T18:42:58.963986Z",
     "iopub.status.busy": "2024-12-02T18:42:58.963873Z",
     "iopub.status.idle": "2024-12-02T18:42:58.971636Z",
     "shell.execute_reply": "2024-12-02T18:42:58.970867Z",
     "shell.execute_reply.started": "2024-12-02T18:42:58.963974Z"
    }
   },
   "outputs": [
    {
     "name": "stdout",
     "output_type": "stream",
     "text": [
      "300.0\n"
     ]
    }
   ],
   "source": [
    "coastal_dtuser = get_sfincs_dtuser(control_path)\n",
    "print(coastal_dtuser)"
   ]
  },
  {
   "cell_type": "markdown",
   "id": "a0d7d1d4-576b-46c9-a937-2e7e3f33cf71",
   "metadata": {},
   "source": [
    "#### Set unit conversion factors"
   ]
  },
  {
   "cell_type": "code",
   "execution_count": 6,
   "id": "230cd63b-3abd-4fa5-8c54-faff16f820b7",
   "metadata": {
    "execution": {
     "iopub.execute_input": "2024-12-02T18:42:58.972244Z",
     "iopub.status.busy": "2024-12-02T18:42:58.972132Z",
     "iopub.status.idle": "2024-12-02T18:42:58.976334Z",
     "shell.execute_reply": "2024-12-02T18:42:58.975800Z",
     "shell.execute_reply.started": "2024-12-02T18:42:58.972232Z"
    }
   },
   "outputs": [],
   "source": [
    "d2sec = 24. * 60. * 60.\n",
    "hrs2sec = 60. * 60. \n",
    "m2ft = 3.28081\n",
    "cfd2cms = 1.0 / ((3.28082**3) * 86400.)"
   ]
  },
  {
   "cell_type": "markdown",
   "id": "d04c9972-ddea-4a20-b350-aa7012ed8024",
   "metadata": {},
   "source": [
    "#### Set the MODFLOW coupling frequency\n",
    "\n",
    "Change the `mf_couple_freq_hours` value. Only tested for multiple of the D-Flow FM DtUser variable. Will not work for `mf_couple_freq_hours` values greater than 24."
   ]
  },
  {
   "cell_type": "code",
   "execution_count": 7,
   "id": "5cc0c30d-b34d-4f46-9a3a-be3f1560fe8b",
   "metadata": {
    "execution": {
     "iopub.execute_input": "2024-12-02T18:42:58.976893Z",
     "iopub.status.busy": "2024-12-02T18:42:58.976788Z",
     "iopub.status.idle": "2024-12-02T18:42:58.981802Z",
     "shell.execute_reply": "2024-12-02T18:42:58.981338Z",
     "shell.execute_reply.started": "2024-12-02T18:42:58.976882Z"
    }
   },
   "outputs": [],
   "source": [
    "mf_couple_freq_hours = 1.0  #Change this value to change the coupling frequency\n",
    "mf_couple_freq = mf_couple_freq_hours * hrs2sec\n",
    "coastal_per_mf = int(mf_couple_freq / coastal_dtuser)"
   ]
  },
  {
   "cell_type": "code",
   "execution_count": 8,
   "id": "68e05a52-7c7c-4ff5-8065-acba30faa628",
   "metadata": {
    "execution": {
     "iopub.execute_input": "2024-12-02T18:42:58.982314Z",
     "iopub.status.busy": "2024-12-02T18:42:58.982218Z",
     "iopub.status.idle": "2024-12-02T18:42:58.994138Z",
     "shell.execute_reply": "2024-12-02T18:42:58.986669Z",
     "shell.execute_reply.started": "2024-12-02T18:42:58.982303Z"
    }
   },
   "outputs": [
    {
     "name": "stdout",
     "output_type": "stream",
     "text": [
      "MODFLOW coupling frequency 1.0 hours\n",
      "MODFLOW coupled to the coastal every 12 output time step (300.0 sec.)\n"
     ]
    }
   ],
   "source": [
    "print(f\"MODFLOW coupling frequency {mf_couple_freq_hours} hours\\nMODFLOW coupled to the coastal every {coastal_per_mf} output time step ({coastal_dtuser} sec.)\") "
   ]
  },
  {
   "cell_type": "code",
   "execution_count": 9,
   "id": "5f212449-ea60-48de-925a-0398566ed8ed",
   "metadata": {
    "execution": {
     "iopub.execute_input": "2024-12-02T18:42:58.994896Z",
     "iopub.status.busy": "2024-12-02T18:42:58.994758Z",
     "iopub.status.idle": "2024-12-02T18:42:58.998791Z",
     "shell.execute_reply": "2024-12-02T18:42:58.998367Z",
     "shell.execute_reply.started": "2024-12-02T18:42:58.994885Z"
    }
   },
   "outputs": [
    {
     "name": "stdout",
     "output_type": "stream",
     "text": [
      "MODFLOW coupling tag: 01.00H\n"
     ]
    }
   ],
   "source": [
    "mf_tag = get_modflow_coupling_tag(mf_couple_freq_hours)\n",
    "print(f\"MODFLOW coupling tag: {mf_tag}\")"
   ]
  },
  {
   "cell_type": "code",
   "execution_count": 10,
   "id": "df9e20ec-3c71-43a6-b7f2-e8e6fddcc61c",
   "metadata": {
    "execution": {
     "iopub.execute_input": "2024-12-02T18:42:59.000384Z",
     "iopub.status.busy": "2024-12-02T18:42:59.000263Z",
     "iopub.status.idle": "2024-12-02T18:42:59.004208Z",
     "shell.execute_reply": "2024-12-02T18:42:59.003833Z",
     "shell.execute_reply.started": "2024-12-02T18:42:59.000372Z"
    }
   },
   "outputs": [
    {
     "name": "stdout",
     "output_type": "stream",
     "text": [
      "MODFLOW time steps per day: 24\n"
     ]
    }
   ],
   "source": [
    "nstp = int(86400.0 / (coastal_per_mf * coastal_dtuser))\n",
    "print(f\"MODFLOW time steps per day: {nstp}\")"
   ]
  },
  {
   "cell_type": "markdown",
   "id": "09f0ade3-f609-4ee8-bdd5-879ac1d29e8f",
   "metadata": {},
   "source": [
    "#### Set a few variables for controlling coupling"
   ]
  },
  {
   "cell_type": "code",
   "execution_count": 11,
   "id": "d0252aad-644a-48eb-a158-c66b68ed482d",
   "metadata": {
    "execution": {
     "iopub.execute_input": "2024-12-02T18:42:59.004711Z",
     "iopub.status.busy": "2024-12-02T18:42:59.004606Z",
     "iopub.status.idle": "2024-12-02T18:42:59.006584Z",
     "shell.execute_reply": "2024-12-02T18:42:59.006209Z",
     "shell.execute_reply.started": "2024-12-02T18:42:59.004700Z"
    }
   },
   "outputs": [],
   "source": [
    "HDRY = -1e30\n",
    "DEPTH_MIN = 0.1"
   ]
  },
  {
   "cell_type": "markdown",
   "id": "09370d07-81e9-47e3-9b9d-1e46d445f5d0",
   "metadata": {},
   "source": [
    "#### Print the path of the modflow6 shared library"
   ]
  },
  {
   "cell_type": "code",
   "execution_count": 12,
   "id": "978e5390-27ae-4c02-b0e0-e67e6d692277",
   "metadata": {
    "execution": {
     "iopub.execute_input": "2024-12-02T18:42:59.007099Z",
     "iopub.status.busy": "2024-12-02T18:42:59.007000Z",
     "iopub.status.idle": "2024-12-02T18:42:59.013763Z",
     "shell.execute_reply": "2024-12-02T18:42:59.013379Z",
     "shell.execute_reply.started": "2024-12-02T18:42:59.007088Z"
    }
   },
   "outputs": [
    {
     "data": {
      "text/plain": [
       "('/home/parallels/miniconda3/envs/liss/lib/libmf6.so', True)"
      ]
     },
     "execution_count": 12,
     "metadata": {},
     "output_type": "execute_result"
    }
   ],
   "source": [
    "str(libmf6), libmf6.is_file()"
   ]
  },
  {
   "cell_type": "markdown",
   "id": "3b7ebaeb-a8f0-4494-b4fc-aeeaf8b378c9",
   "metadata": {},
   "source": [
    "#### Load the D-FLOW to MODFLOW weights"
   ]
  },
  {
   "cell_type": "code",
   "execution_count": 13,
   "id": "855420a3-244d-4554-81e1-9a4aa0e12ea2",
   "metadata": {
    "execution": {
     "iopub.execute_input": "2024-12-02T18:42:59.014411Z",
     "iopub.status.busy": "2024-12-02T18:42:59.014299Z",
     "iopub.status.idle": "2024-12-02T18:42:59.033693Z",
     "shell.execute_reply": "2024-12-02T18:42:59.033394Z",
     "shell.execute_reply.started": "2024-12-02T18:42:59.014400Z"
    }
   },
   "outputs": [
    {
     "data": {
      "text/plain": [
       "NpzFile '../mapping/sfincs2mfghb_sfincs.npz' with keys: sfincs2mfghb, ghbmask, ghb2qext"
      ]
     },
     "execution_count": 13,
     "metadata": {},
     "output_type": "execute_result"
    }
   ],
   "source": [
    "npzfile = np.load(f\"../mapping/{coastal_name}2mfghb_{grid_name}.npz\")\n",
    "npzfile"
   ]
  },
  {
   "cell_type": "code",
   "execution_count": 14,
   "id": "bbab17d3-56e5-45ba-8d50-c25f6c74eaa0",
   "metadata": {
    "execution": {
     "iopub.execute_input": "2024-12-02T18:42:59.034298Z",
     "iopub.status.busy": "2024-12-02T18:42:59.034136Z",
     "iopub.status.idle": "2024-12-02T18:42:59.850162Z",
     "shell.execute_reply": "2024-12-02T18:42:59.849694Z",
     "shell.execute_reply.started": "2024-12-02T18:42:59.034286Z"
    }
   },
   "outputs": [],
   "source": [
    "sfincs2mfghb = npzfile[f\"{coastal_name}2mfghb\"]\n",
    "ghbmask = npzfile[\"ghbmask\"]\n",
    "ghb2qext = npzfile[\"ghb2qext\"]"
   ]
  },
  {
   "cell_type": "markdown",
   "id": "60dfd775-f516-4903-8918-1d9ab978139c",
   "metadata": {},
   "source": [
    "#### Define paths for the model simulation"
   ]
  },
  {
   "cell_type": "code",
   "execution_count": 15,
   "id": "7ebfe2c1-d396-4aaf-a705-4ad02eb14a5a",
   "metadata": {
    "execution": {
     "iopub.execute_input": "2024-12-02T18:42:59.851739Z",
     "iopub.status.busy": "2024-12-02T18:42:59.851610Z",
     "iopub.status.idle": "2024-12-02T18:42:59.860169Z",
     "shell.execute_reply": "2024-12-02T18:42:59.859813Z",
     "shell.execute_reply.started": "2024-12-02T18:42:59.851727Z"
    }
   },
   "outputs": [
    {
     "name": "stdout",
     "output_type": "stream",
     "text": [
      "/media/psf/Documents/Work/compound_flooding/modflow/greenport500ft/run_01.00H_sfincs\n"
     ]
    }
   ],
   "source": [
    "mf_base_path = pl.Path(\"../modflow/greenport500ft/base/\").resolve()\n",
    "mf_run_path = pl.Path(f\"../modflow/greenport500ft/run_{mf_tag}_sfincs/\").resolve()\n",
    "print(mf_run_path)"
   ]
  },
  {
   "cell_type": "markdown",
   "id": "396b7738-dca7-4918-8b68-a44f314caa50",
   "metadata": {},
   "source": [
    "#### Load the base MODFLOW model"
   ]
  },
  {
   "cell_type": "code",
   "execution_count": 16,
   "id": "dd9add2a-c3a4-4582-a37e-34b2269f225b",
   "metadata": {
    "execution": {
     "iopub.execute_input": "2024-12-02T18:42:59.866507Z",
     "iopub.status.busy": "2024-12-02T18:42:59.866079Z",
     "iopub.status.idle": "2024-12-02T18:43:03.188971Z",
     "shell.execute_reply": "2024-12-02T18:43:03.188661Z",
     "shell.execute_reply.started": "2024-12-02T18:42:59.866491Z"
    }
   },
   "outputs": [
    {
     "name": "stdout",
     "output_type": "stream",
     "text": [
      "loading simulation...\n",
      "  loading simulation name file...\n",
      "  loading tdis package...\n",
      "  loading model gwf6...\n",
      "    loading package dis...\n",
      "    loading package ic...\n",
      "    loading package npf...\n",
      "    loading package obs...\n",
      "    loading package sto...\n",
      "    loading package oc...\n",
      "    loading package ghb...\n",
      "    loading package wel...\n",
      "    loading package drn...\n",
      "    loading package rch...\n",
      "  loading solution package modflow...\n"
     ]
    }
   ],
   "source": [
    "sim = flopy.mf6.MFSimulation.load(sim_ws=mf_base_path)\n",
    "gwf = sim.get_model()"
   ]
  },
  {
   "cell_type": "code",
   "execution_count": 17,
   "id": "e9dcc0eb-f38a-42d5-81f7-a1a64c109b4a",
   "metadata": {
    "execution": {
     "iopub.execute_input": "2024-12-02T18:43:03.190284Z",
     "iopub.status.busy": "2024-12-02T18:43:03.189999Z",
     "iopub.status.idle": "2024-12-02T18:43:03.193884Z",
     "shell.execute_reply": "2024-12-02T18:43:03.193479Z",
     "shell.execute_reply.started": "2024-12-02T18:43:03.190271Z"
    }
   },
   "outputs": [],
   "source": [
    "sim.set_sim_path(mf_run_path)"
   ]
  },
  {
   "cell_type": "code",
   "execution_count": 18,
   "id": "d826acc0-f8a5-44e2-9d6f-c48c12635e75",
   "metadata": {
    "execution": {
     "iopub.execute_input": "2024-12-02T18:43:03.194894Z",
     "iopub.status.busy": "2024-12-02T18:43:03.194775Z",
     "iopub.status.idle": "2024-12-02T18:43:03.197820Z",
     "shell.execute_reply": "2024-12-02T18:43:03.197515Z",
     "shell.execute_reply.started": "2024-12-02T18:43:03.194883Z"
    }
   },
   "outputs": [],
   "source": [
    "gwf = sim.get_model()"
   ]
  },
  {
   "cell_type": "code",
   "execution_count": 19,
   "id": "3b552122-9595-41a1-ba94-41cb95f4c36e",
   "metadata": {
    "execution": {
     "iopub.execute_input": "2024-12-02T18:43:03.199567Z",
     "iopub.status.busy": "2024-12-02T18:43:03.199017Z",
     "iopub.status.idle": "2024-12-02T18:43:03.207709Z",
     "shell.execute_reply": "2024-12-02T18:43:03.207089Z",
     "shell.execute_reply.started": "2024-12-02T18:43:03.199554Z"
    }
   },
   "outputs": [
    {
     "data": {
      "text/plain": [
       "23226.183272035516"
      ]
     },
     "execution_count": 19,
     "metadata": {},
     "output_type": "execute_result"
    }
   ],
   "source": [
    "cell_area = gwf.dis.delr.array[0] * gwf.dis.delc.array[0] / (m2ft * m2ft)\n",
    "cell_area"
   ]
  },
  {
   "cell_type": "markdown",
   "id": "abd805dc-28b5-4bc6-bc62-c401948761ec",
   "metadata": {},
   "source": [
    "#### Change TDIS to hourly time steps"
   ]
  },
  {
   "cell_type": "code",
   "execution_count": 20,
   "id": "d82c5062-3520-4c29-8d1e-70c2c319bf7c",
   "metadata": {
    "execution": {
     "iopub.execute_input": "2024-12-02T18:43:03.208315Z",
     "iopub.status.busy": "2024-12-02T18:43:03.208206Z",
     "iopub.status.idle": "2024-12-02T18:43:03.213168Z",
     "shell.execute_reply": "2024-12-02T18:43:03.212782Z",
     "shell.execute_reply.started": "2024-12-02T18:43:03.208304Z"
    }
   },
   "outputs": [],
   "source": [
    "tdis = sim.get_package(\"TDIS\")\n",
    "perioddata = tdis.perioddata.array"
   ]
  },
  {
   "cell_type": "code",
   "execution_count": 21,
   "id": "74a9bdbe-b219-4e8c-b125-0a754ed63820",
   "metadata": {
    "execution": {
     "iopub.execute_input": "2024-12-02T18:43:03.214449Z",
     "iopub.status.busy": "2024-12-02T18:43:03.214325Z",
     "iopub.status.idle": "2024-12-02T18:43:03.217994Z",
     "shell.execute_reply": "2024-12-02T18:43:03.217464Z",
     "shell.execute_reply.started": "2024-12-02T18:43:03.214437Z"
    }
   },
   "outputs": [],
   "source": [
    "perioddata[\"nstp\"] = nstp\n",
    "tdis.perioddata = perioddata"
   ]
  },
  {
   "cell_type": "markdown",
   "id": "bce234b1-108a-4058-8a27-c16af0695ca8",
   "metadata": {},
   "source": [
    "#### Write the new model files"
   ]
  },
  {
   "cell_type": "code",
   "execution_count": 22,
   "id": "83a7eabe-ef97-4004-a3a1-c567a0f0abdf",
   "metadata": {
    "execution": {
     "iopub.execute_input": "2024-12-02T18:43:03.219522Z",
     "iopub.status.busy": "2024-12-02T18:43:03.219391Z",
     "iopub.status.idle": "2024-12-02T18:43:08.443088Z",
     "shell.execute_reply": "2024-12-02T18:43:08.442599Z",
     "shell.execute_reply.started": "2024-12-02T18:43:03.219509Z"
    }
   },
   "outputs": [
    {
     "name": "stdout",
     "output_type": "stream",
     "text": [
      "writing simulation...\n",
      "  writing simulation name file...\n",
      "  writing simulation tdis package...\n",
      "  writing solution package modflow...\n",
      "  writing model modflow...\n",
      "    writing model name file...\n",
      "    writing package dis...\n",
      "    writing package ic...\n",
      "    writing package npf...\n",
      "    writing package obs-1...\n",
      "    writing package sto...\n",
      "    writing package oc...\n",
      "    writing package ghb_obs...\n",
      "    writing package ghb-1...\n",
      "    writing package wel-1...\n",
      "    writing package drn_obs...\n",
      "    writing package drn-1...\n",
      "    writing package rch-1...\n"
     ]
    }
   ],
   "source": [
    "sim.write_simulation()"
   ]
  },
  {
   "cell_type": "markdown",
   "id": "dd4234a3-1c0f-4988-93d2-612ffd926367",
   "metadata": {},
   "source": [
    "#### Define base GHB variables"
   ]
  },
  {
   "cell_type": "code",
   "execution_count": 23,
   "id": "99600475-94a7-40af-ad59-af8fafce7737",
   "metadata": {
    "execution": {
     "iopub.execute_input": "2024-12-02T18:43:08.443603Z",
     "iopub.status.busy": "2024-12-02T18:43:08.443499Z",
     "iopub.status.idle": "2024-12-02T18:43:08.457086Z",
     "shell.execute_reply": "2024-12-02T18:43:08.456672Z",
     "shell.execute_reply.started": "2024-12-02T18:43:08.443591Z"
    }
   },
   "outputs": [
    {
     "data": {
      "text/html": [
       "<div>\n",
       "<style scoped>\n",
       "    .dataframe tbody tr th:only-of-type {\n",
       "        vertical-align: middle;\n",
       "    }\n",
       "\n",
       "    .dataframe tbody tr th {\n",
       "        vertical-align: top;\n",
       "    }\n",
       "\n",
       "    .dataframe thead th {\n",
       "        text-align: right;\n",
       "    }\n",
       "</style>\n",
       "<table border=\"1\" class=\"dataframe\">\n",
       "  <thead>\n",
       "    <tr style=\"text-align: right;\">\n",
       "      <th></th>\n",
       "      <th>cellid_layer</th>\n",
       "      <th>cellid_row</th>\n",
       "      <th>cellid_column</th>\n",
       "      <th>bhead</th>\n",
       "      <th>cond</th>\n",
       "      <th>iface</th>\n",
       "      <th>boundname</th>\n",
       "    </tr>\n",
       "  </thead>\n",
       "  <tbody>\n",
       "    <tr>\n",
       "      <th>0</th>\n",
       "      <td>0</td>\n",
       "      <td>26</td>\n",
       "      <td>0</td>\n",
       "      <td>0.0</td>\n",
       "      <td>24999.999994</td>\n",
       "      <td>0</td>\n",
       "      <td>'sound'</td>\n",
       "    </tr>\n",
       "    <tr>\n",
       "      <th>1</th>\n",
       "      <td>0</td>\n",
       "      <td>27</td>\n",
       "      <td>0</td>\n",
       "      <td>0.0</td>\n",
       "      <td>25000.000000</td>\n",
       "      <td>0</td>\n",
       "      <td>'sound'</td>\n",
       "    </tr>\n",
       "    <tr>\n",
       "      <th>2</th>\n",
       "      <td>0</td>\n",
       "      <td>28</td>\n",
       "      <td>0</td>\n",
       "      <td>0.0</td>\n",
       "      <td>24999.999994</td>\n",
       "      <td>0</td>\n",
       "      <td>'sound'</td>\n",
       "    </tr>\n",
       "    <tr>\n",
       "      <th>3</th>\n",
       "      <td>0</td>\n",
       "      <td>29</td>\n",
       "      <td>0</td>\n",
       "      <td>0.0</td>\n",
       "      <td>24231.956659</td>\n",
       "      <td>0</td>\n",
       "      <td>'sound'</td>\n",
       "    </tr>\n",
       "    <tr>\n",
       "      <th>4</th>\n",
       "      <td>0</td>\n",
       "      <td>25</td>\n",
       "      <td>1</td>\n",
       "      <td>0.0</td>\n",
       "      <td>25000.000006</td>\n",
       "      <td>0</td>\n",
       "      <td>'sound'</td>\n",
       "    </tr>\n",
       "    <tr>\n",
       "      <th>...</th>\n",
       "      <td>...</td>\n",
       "      <td>...</td>\n",
       "      <td>...</td>\n",
       "      <td>...</td>\n",
       "      <td>...</td>\n",
       "      <td>...</td>\n",
       "      <td>...</td>\n",
       "    </tr>\n",
       "    <tr>\n",
       "      <th>730</th>\n",
       "      <td>0</td>\n",
       "      <td>14</td>\n",
       "      <td>56</td>\n",
       "      <td>0.0</td>\n",
       "      <td>22494.219708</td>\n",
       "      <td>0</td>\n",
       "      <td>'peconic'</td>\n",
       "    </tr>\n",
       "    <tr>\n",
       "      <th>731</th>\n",
       "      <td>0</td>\n",
       "      <td>15</td>\n",
       "      <td>56</td>\n",
       "      <td>0.0</td>\n",
       "      <td>25000.000006</td>\n",
       "      <td>0</td>\n",
       "      <td>'peconic'</td>\n",
       "    </tr>\n",
       "    <tr>\n",
       "      <th>732</th>\n",
       "      <td>0</td>\n",
       "      <td>16</td>\n",
       "      <td>56</td>\n",
       "      <td>0.0</td>\n",
       "      <td>24999.999994</td>\n",
       "      <td>0</td>\n",
       "      <td>'peconic'</td>\n",
       "    </tr>\n",
       "    <tr>\n",
       "      <th>733</th>\n",
       "      <td>0</td>\n",
       "      <td>17</td>\n",
       "      <td>56</td>\n",
       "      <td>0.0</td>\n",
       "      <td>25000.000000</td>\n",
       "      <td>0</td>\n",
       "      <td>'peconic'</td>\n",
       "    </tr>\n",
       "    <tr>\n",
       "      <th>734</th>\n",
       "      <td>0</td>\n",
       "      <td>18</td>\n",
       "      <td>56</td>\n",
       "      <td>0.0</td>\n",
       "      <td>24999.999994</td>\n",
       "      <td>0</td>\n",
       "      <td>'peconic'</td>\n",
       "    </tr>\n",
       "  </tbody>\n",
       "</table>\n",
       "<p>735 rows × 7 columns</p>\n",
       "</div>"
      ],
      "text/plain": [
       "     cellid_layer  cellid_row  cellid_column  bhead          cond  iface  \\\n",
       "0               0          26              0    0.0  24999.999994      0   \n",
       "1               0          27              0    0.0  25000.000000      0   \n",
       "2               0          28              0    0.0  24999.999994      0   \n",
       "3               0          29              0    0.0  24231.956659      0   \n",
       "4               0          25              1    0.0  25000.000006      0   \n",
       "..            ...         ...            ...    ...           ...    ...   \n",
       "730             0          14             56    0.0  22494.219708      0   \n",
       "731             0          15             56    0.0  25000.000006      0   \n",
       "732             0          16             56    0.0  24999.999994      0   \n",
       "733             0          17             56    0.0  25000.000000      0   \n",
       "734             0          18             56    0.0  24999.999994      0   \n",
       "\n",
       "     boundname  \n",
       "0      'sound'  \n",
       "1      'sound'  \n",
       "2      'sound'  \n",
       "3      'sound'  \n",
       "4      'sound'  \n",
       "..         ...  \n",
       "730  'peconic'  \n",
       "731  'peconic'  \n",
       "732  'peconic'  \n",
       "733  'peconic'  \n",
       "734  'peconic'  \n",
       "\n",
       "[735 rows x 7 columns]"
      ]
     },
     "execution_count": 23,
     "metadata": {},
     "output_type": "execute_result"
    }
   ],
   "source": [
    "ghb_data0 = gwf.ghb.stress_period_data.get_dataframe()[0]\n",
    "ghb_data0"
   ]
  },
  {
   "cell_type": "markdown",
   "id": "9dfcc61c-3d3c-4fe2-9fb1-56037f753055",
   "metadata": {},
   "source": [
    "#### Setup and initialize SFINCS\n",
    "\n",
    "You will need to set `coastal_dirpath` to the correct directory on your machine."
   ]
  },
  {
   "cell_type": "code",
   "execution_count": 24,
   "id": "3b979b02-8137-42eb-b8e3-f7ecc0363146",
   "metadata": {
    "execution": {
     "iopub.execute_input": "2024-12-02T18:43:08.458825Z",
     "iopub.status.busy": "2024-12-02T18:43:08.458687Z",
     "iopub.status.idle": "2024-12-02T18:43:08.473003Z",
     "shell.execute_reply": "2024-12-02T18:43:08.472552Z",
     "shell.execute_reply.started": "2024-12-02T18:43:08.458813Z"
    }
   },
   "outputs": [],
   "source": [
    "# dflow_dirpath = os.path.abspath(r\"C:\\Program Files\\Deltares\\Delft3D FM Suite 2023.02 HM\\plugins\\DeltaShell.Dimr\\kernels\\x64\\dflowfm\\bin\")\n",
    "# dflow_deps_dirpath = (\n",
    "#     os.path.abspath(r\"C:\\Program Files\\Deltares\\Delft3D FM Suite 2023.02 HM\\plugins\\DeltaShell.Dimr\\kernels\\x64\\share\\bin\"),\n",
    "# )\n",
    "coastal_dirpath = pl.Path(\"/usr/local/lib/\")\n",
    "coastal_lib = \"libsfincs.so\"\n",
    "sys.path.append(coastal_dirpath)\n",
    "libcoastal = coastal_dirpath / coastal_lib"
   ]
  },
  {
   "cell_type": "code",
   "execution_count": 25,
   "id": "b3406f18-10c8-458c-8e3b-c0000a9741b6",
   "metadata": {
    "execution": {
     "iopub.execute_input": "2024-12-02T18:43:08.475034Z",
     "iopub.status.busy": "2024-12-02T18:43:08.474512Z",
     "iopub.status.idle": "2024-12-02T18:43:08.480120Z",
     "shell.execute_reply": "2024-12-02T18:43:08.479692Z",
     "shell.execute_reply.started": "2024-12-02T18:43:08.475017Z"
    }
   },
   "outputs": [],
   "source": [
    "nb_path = pl.Path(\".\").resolve().parent\n",
    "\n",
    "coastal_base = nb_path / \"sfincs/test_north_fork/base\"\n",
    "coastal_working = nb_path / \"sfincs/test_north_fork/run\"\n",
    "coastal_config = coastal_working / \"sfincs.inp\"  # change this for a different coastal model"
   ]
  },
  {
   "cell_type": "code",
   "execution_count": 26,
   "id": "3f136784-ba27-4254-9d91-75a07aecdeb5",
   "metadata": {
    "execution": {
     "iopub.execute_input": "2024-12-02T18:43:08.480612Z",
     "iopub.status.busy": "2024-12-02T18:43:08.480510Z",
     "iopub.status.idle": "2024-12-02T18:43:08.573736Z",
     "shell.execute_reply": "2024-12-02T18:43:08.573239Z",
     "shell.execute_reply.started": "2024-12-02T18:43:08.480602Z"
    }
   },
   "outputs": [
    {
     "data": {
      "text/plain": [
       "PosixPath('/media/psf/Documents/Work/compound_flooding/sfincs/test_north_fork/run')"
      ]
     },
     "execution_count": 26,
     "metadata": {},
     "output_type": "execute_result"
    }
   ],
   "source": [
    "if coastal_working.is_dir():\n",
    "    shutil.rmtree(coastal_working)\n",
    "shutil.copytree(coastal_base, coastal_working)"
   ]
  },
  {
   "cell_type": "code",
   "execution_count": 27,
   "id": "1ee3058a-086f-4a68-aa45-968d03ed131d",
   "metadata": {
    "execution": {
     "iopub.execute_input": "2024-12-02T18:43:08.575381Z",
     "iopub.status.busy": "2024-12-02T18:43:08.575245Z",
     "iopub.status.idle": "2024-12-02T18:43:08.580592Z",
     "shell.execute_reply": "2024-12-02T18:43:08.580159Z",
     "shell.execute_reply.started": "2024-12-02T18:43:08.575369Z"
    }
   },
   "outputs": [],
   "source": [
    "# Add dflowfm dll folder to PATH so that it can be found by the BMIWrapper\n",
    "os.environ[\"PATH\"] = (\n",
    "    str(coastal_dirpath) + os.pathsep + os.environ[\"PATH\"]\n",
    ")"
   ]
  },
  {
   "cell_type": "code",
   "execution_count": 28,
   "id": "0b7f2206-8eef-4b0d-93c9-695d58b70d6a",
   "metadata": {
    "execution": {
     "iopub.execute_input": "2024-12-02T18:43:08.584637Z",
     "iopub.status.busy": "2024-12-02T18:43:08.584483Z",
     "iopub.status.idle": "2024-12-02T18:43:08.591243Z",
     "shell.execute_reply": "2024-12-02T18:43:08.590779Z",
     "shell.execute_reply.started": "2024-12-02T18:43:08.584625Z"
    }
   },
   "outputs": [
    {
     "data": {
      "text/plain": [
       "True"
      ]
     },
     "execution_count": 28,
     "metadata": {},
     "output_type": "execute_result"
    }
   ],
   "source": [
    "(pl.Path(coastal_dirpath) / coastal_lib).is_file()"
   ]
  },
  {
   "cell_type": "markdown",
   "id": "9a27dd68-0a69-4302-8f8e-32b069769b8e",
   "metadata": {},
   "source": [
    "#### Initialize the coastal model"
   ]
  },
  {
   "cell_type": "code",
   "execution_count": 29,
   "id": "70e7cf96-3042-4f49-9d3e-0c7fe8aa8135",
   "metadata": {
    "execution": {
     "iopub.execute_input": "2024-12-02T18:43:08.593106Z",
     "iopub.status.busy": "2024-12-02T18:43:08.592785Z",
     "iopub.status.idle": "2024-12-02T18:43:08.634958Z",
     "shell.execute_reply": "2024-12-02T18:43:08.634103Z",
     "shell.execute_reply.started": "2024-12-02T18:43:08.593092Z"
    }
   },
   "outputs": [],
   "source": [
    "coastal = XmiWrapper(libcoastal, working_directory=coastal_working)"
   ]
  },
  {
   "cell_type": "code",
   "execution_count": 30,
   "id": "3f225632-1513-4358-a3ea-31948858d0e1",
   "metadata": {
    "execution": {
     "iopub.execute_input": "2024-12-02T18:43:08.635547Z",
     "iopub.status.busy": "2024-12-02T18:43:08.635430Z",
     "iopub.status.idle": "2024-12-02T18:43:08.760197Z",
     "shell.execute_reply": "2024-12-02T18:43:08.759740Z",
     "shell.execute_reply.started": "2024-12-02T18:43:08.635535Z"
    }
   },
   "outputs": [
    {
     "name": "stdout",
     "output_type": "stream",
     "text": [
      "\n",
      " ----------- Welcome to SFINCS -----------\n",
      "\n",
      "  @@@@@  @@@@@@@ @@ @@  @@   @@@@   @@@@@ \n",
      " @@@ @@@ @@@@@@@ @@ @@@ @@ @@@@@@@ @@@ @@@\n",
      " @@@     @@      @@ @@@ @@ @@   @@ @@@    \n",
      "  @@@@@  @@@@@@  @@ @@@@@@ @@       @@@@@ \n",
      "     @@@ @@      @@ @@ @@@ @@   @@     @@@\n",
      " @@@ @@@ @@      @@ @@  @@  @@@@@@ @@@ @@@\n",
      "  @@@@@  @@      @@ @@   @   @@@@   @@@@@ \n",
      "\n",
      "              ..............              \n",
      "          ......:@@@@@@@@:......          \n",
      "       ..::::..@@........@@.:::::..       \n",
      "     ..:::::..@@..::..::..@@.::::::..     \n",
      "    .::::::..@@............@@.:::::::.    \n",
      "   .::::::..@@..............@@.:::::::.   \n",
      "  .::::::::..@@............@@..::::::::.  \n",
      " .:::::::::...@@.@..@@..@.@@..::::::::::. \n",
      " .:::::::::...:@@@..@@..@@@:..:::::::::.. \n",
      " ............@@.@@..@@..@@.@@............ \n",
      " ^^^~~^^~~^^@@..............@@^^^~^^^~~^^ \n",
      " .::::::::::@@..............@@.:::::::::. \n",
      "  .......:.@@.....@.....@....@@.:.......  \n",
      "   .::....@@......@.@@@.@....@@.....::.   \n",
      "    .:::~@@.:...:.@@...@@.:.:.@@~::::.    \n",
      "     .::~@@@@@@@@@@.....@@@@@@@@@~::.     \n",
      "       ..:~~~~~~~:.......:~~~~~~~:..      \n",
      "          ......................          \n",
      "              ..............              \n",
      "\n",
      " -----------------------------------------\n",
      "\n",
      " Build-Revision: $Rev: v2.0.8-beta\n",
      " Build-Date:     $Date: 2024-06-10\n",
      "\n",
      " Reading input file ...\n",
      " WARNING: no epsg code defined\n",
      " Info : Running SFINCS in regular mode ...\n",
      " Reading meteo data ...\n",
      " Info : Preparing SFINCS grid on quadtree mesh ...\n",
      " Reading QuadTree netCDF file ...\n",
      " Quadtree grid info - nr_levels :    4\n",
      " Quadtree grid info -        x0 :   575000.000    \n",
      " Quadtree grid info -        y0 :   4477000.00    \n",
      " Quadtree grid info -        dx :   1600.00000    \n",
      " Quadtree grid info -        dy :   1600.00000    \n",
      " Quadtree grid info -      mmax :         128\n",
      " Quadtree grid info -      nmax :          67\n",
      " Quadtree grid info -  rotation :   0.00000000    \n",
      " Number of refinement transitions :          600\n",
      " Number of active z points    :        14048\n",
      " Number of active u/v points  :        28203\n",
      " Number of cells in level   1 :     5354\n",
      " Number of cells in level   2 :      206\n",
      " Number of cells in level   3 :     2728\n",
      " Number of cells in level   4 :     5760\n",
      " Reading water level boundaries ...\n",
      " Reading observation points ...\n",
      " Warning : observation point \"New London\" falls outside model domain.\n",
      " Initializing output ...\n",
      "\n",
      " ---------- Starting simulation ----------\n",
      " ---- Using 2 of 2 available threads -----\n",
      "\n"
     ]
    }
   ],
   "source": [
    "coastal.initialize()"
   ]
  },
  {
   "cell_type": "markdown",
   "id": "c934200b-6f36-4115-96fc-7d05f4dbc430",
   "metadata": {},
   "source": [
    "#### Get data from the coastal model\n",
    "\n",
    "This is specific to the coastal model being used."
   ]
  },
  {
   "cell_type": "code",
   "execution_count": 31,
   "id": "c592da26-095b-4b80-8622-98477c7015bf",
   "metadata": {
    "execution": {
     "iopub.execute_input": "2024-12-02T18:43:08.761468Z",
     "iopub.status.busy": "2024-12-02T18:43:08.761352Z",
     "iopub.status.idle": "2024-12-02T18:43:08.773137Z",
     "shell.execute_reply": "2024-12-02T18:43:08.772782Z",
     "shell.execute_reply.started": "2024-12-02T18:43:08.761456Z"
    }
   },
   "outputs": [
    {
     "name": "stdout",
     "output_type": "stream",
     "text": [
      "min/max water levels:  0.0 156.7672\n",
      "water level dimensions:  14048\n",
      "min/max bottom:  -82.27512 156.7672\n",
      "min/max qexchange:  0.0 0.0\n",
      "exchange dimensions:  14048\n"
     ]
    }
   ],
   "source": [
    "# stage\n",
    "zs = coastal.get_value_ptr(\"zs\")\n",
    "print(\"min/max water levels: \", min(zs), max(zs))\n",
    "print(\"water level dimensions: \", len(zs))\n",
    "\n",
    "# bottom\n",
    "zb = coastal.get_value_ptr(\"zb\")\n",
    "print(\"min/max bottom: \", zb.min(), zb.max())\n",
    "\n",
    "# inflow array\n",
    "qexchange = coastal.get_value_ptr(\"qext\")\n",
    "print(\"min/max qexchange: \", qexchange.min(), qexchange.max())\n",
    "print(\"exchange dimensions: \", qexchange.shape[0])\n"
   ]
  },
  {
   "cell_type": "markdown",
   "id": "abda6d7b-f5d7-4343-b171-4ef59f7c7a73",
   "metadata": {},
   "source": [
    "#### Initialize MODFLOW using MODFLOW API"
   ]
  },
  {
   "cell_type": "code",
   "execution_count": 32,
   "id": "45a2acde-ae78-4664-a8ce-a7df0ea5bfd2",
   "metadata": {
    "execution": {
     "iopub.execute_input": "2024-12-02T18:43:08.773623Z",
     "iopub.status.busy": "2024-12-02T18:43:08.773519Z",
     "iopub.status.idle": "2024-12-02T18:43:08.786944Z",
     "shell.execute_reply": "2024-12-02T18:43:08.785918Z",
     "shell.execute_reply.started": "2024-12-02T18:43:08.773612Z"
    }
   },
   "outputs": [],
   "source": [
    "mf6 = ModflowApi(str(libmf6), working_directory=mf_run_path)"
   ]
  },
  {
   "cell_type": "code",
   "execution_count": 33,
   "id": "05bac9c9-c9f6-4814-b9cd-d573b66a3cd3",
   "metadata": {
    "execution": {
     "iopub.execute_input": "2024-12-02T18:43:08.790172Z",
     "iopub.status.busy": "2024-12-02T18:43:08.788507Z",
     "iopub.status.idle": "2024-12-02T18:43:08.906050Z",
     "shell.execute_reply": "2024-12-02T18:43:08.905545Z",
     "shell.execute_reply.started": "2024-12-02T18:43:08.790153Z"
    }
   },
   "outputs": [],
   "source": [
    "mf6.initialize()"
   ]
  },
  {
   "cell_type": "markdown",
   "id": "5899f825-5c0f-4068-b0ad-e533880868f8",
   "metadata": {},
   "source": [
    "#### Define MODFLOW variable tags and set pointer to MODFLOW variables"
   ]
  },
  {
   "cell_type": "code",
   "execution_count": 34,
   "id": "162fa181-607d-44c3-9bab-3eb9563d0aec",
   "metadata": {
    "execution": {
     "iopub.execute_input": "2024-12-02T18:43:08.906825Z",
     "iopub.status.busy": "2024-12-02T18:43:08.906681Z",
     "iopub.status.idle": "2024-12-02T18:43:08.916502Z",
     "shell.execute_reply": "2024-12-02T18:43:08.915940Z",
     "shell.execute_reply.started": "2024-12-02T18:43:08.906811Z"
    }
   },
   "outputs": [],
   "source": [
    "ghb_bhead_tag = mf6.get_var_address(\"BHEAD\", \"MODFLOW\", \"GHB-1\")\n",
    "ghb_cond_tag = mf6.get_var_address(\"COND\", \"MODFLOW\", \"GHB-1\")\n",
    "ghb_flow_tag = mf6.get_var_address(\"SIMVALS\", \"MODFLOW\", \"GHB-1\")"
   ]
  },
  {
   "cell_type": "code",
   "execution_count": 35,
   "id": "3ba6a3ec-1913-4ac7-997a-1aa4146326ee",
   "metadata": {
    "execution": {
     "iopub.execute_input": "2024-12-02T18:43:08.918193Z",
     "iopub.status.busy": "2024-12-02T18:43:08.918060Z",
     "iopub.status.idle": "2024-12-02T18:43:08.923215Z",
     "shell.execute_reply": "2024-12-02T18:43:08.922851Z",
     "shell.execute_reply.started": "2024-12-02T18:43:08.918180Z"
    }
   },
   "outputs": [],
   "source": [
    "ghb_bhead_ptr = mf6.get_value_ptr(ghb_bhead_tag)\n",
    "ghb_cond_ptr = mf6.get_value_ptr(ghb_cond_tag)\n",
    "ghb_flow = np.zeros(ghb_bhead_ptr.shape)"
   ]
  },
  {
   "cell_type": "markdown",
   "id": "871bbbe5-7bb3-45a7-a949-0c12ff1047c0",
   "metadata": {},
   "source": [
    "#### Create dictionaries for saving modified GHB data"
   ]
  },
  {
   "cell_type": "code",
   "execution_count": 36,
   "id": "c9c253c7-87d7-4c19-b24a-a2a6ff839499",
   "metadata": {
    "execution": {
     "iopub.execute_input": "2024-12-02T18:43:08.923978Z",
     "iopub.status.busy": "2024-12-02T18:43:08.923865Z",
     "iopub.status.idle": "2024-12-02T18:43:08.930026Z",
     "shell.execute_reply": "2024-12-02T18:43:08.929389Z",
     "shell.execute_reply.started": "2024-12-02T18:43:08.923965Z"
    }
   },
   "outputs": [],
   "source": [
    "elev_dict = {}\n",
    "cond_dict = {}\n",
    "qext_dict = {}"
   ]
  },
  {
   "cell_type": "markdown",
   "id": "2fb79760-ec43-41ff-8c69-d0cec5310575",
   "metadata": {},
   "source": [
    "#### Function to update MODFLOW GHB data\n",
    "\n",
    "This is specific to the coastal model being used."
   ]
  },
  {
   "cell_type": "code",
   "execution_count": 37,
   "id": "ab2c4365-1212-498b-862a-48d16a09dfc7",
   "metadata": {
    "execution": {
     "iopub.execute_input": "2024-12-02T18:43:08.933698Z",
     "iopub.status.busy": "2024-12-02T18:43:08.933545Z",
     "iopub.status.idle": "2024-12-02T18:43:08.939254Z",
     "shell.execute_reply": "2024-12-02T18:43:08.938894Z",
     "shell.execute_reply.started": "2024-12-02T18:43:08.933685Z"
    }
   },
   "outputs": [],
   "source": [
    "def update_mf(key, s_ptr, z):\n",
    "    s = s_ptr.copy()\n",
    "    d = s - z\n",
    "    mask = d == 0.0\n",
    "    s[mask] = 0.0\n",
    "    mult = np.full(d.shape, 1.0)\n",
    "    mult[mask] = 0.0\n",
    "\n",
    "    ghb_head = ghb_data0[\"bhead\"].to_numpy()\n",
    "    ghb_head[ghbmask] = sfincs2mfghb.dot(s)[ghbmask] * m2ft\n",
    "    ghb_cond = ghb_data0[\"cond\"].to_numpy()\n",
    "    ghb_cond[ghbmask] = ghb_cond[ghbmask] * sfincs2mfghb.dot(mult)[ghbmask]\n",
    "    \n",
    "    ghb_bhead_ptr[:] = ghb_head[:]\n",
    "    ghb_cond_ptr[:] = ghb_cond[:]\n",
    "\n",
    "    # update results dictionary\n",
    "    elev_dict[key] = ghb_head.copy()\n",
    "    cond_dict[key] = ghb_cond.copy()"
   ]
  },
  {
   "cell_type": "markdown",
   "id": "09571819-83a5-4dca-bfa8-0b3cd6dd4f11",
   "metadata": {},
   "source": [
    "#### Function to update Qext data in the coastal model\n",
    "\n",
    "This is specific to the coastal model being used."
   ]
  },
  {
   "cell_type": "code",
   "execution_count": 38,
   "id": "329ba1b7-098d-4ed4-a1e0-00e4e74e293d",
   "metadata": {
    "execution": {
     "iopub.execute_input": "2024-12-02T18:43:08.939938Z",
     "iopub.status.busy": "2024-12-02T18:43:08.939834Z",
     "iopub.status.idle": "2024-12-02T18:43:08.944615Z",
     "shell.execute_reply": "2024-12-02T18:43:08.943903Z",
     "shell.execute_reply.started": "2024-12-02T18:43:08.939927Z"
    }
   },
   "outputs": [],
   "source": [
    "def update_coastal(key, dt, s_ptr, z):\n",
    "    s = s_ptr.copy()\n",
    "    d = s - z\n",
    "    \n",
    "    ghb_flow = -mf6.get_value(ghb_flow_tag) * cfd2cms\n",
    "    ghb_depth = ghb_flow / cell_area\n",
    "    \n",
    "    sfincs_qexternal = ghb2qext.dot(ghb_depth)\n",
    "    sfincs_qexternal[d == 0.0] = 0.0\n",
    "    qexchange[:] = sfincs_qexternal[:]\n",
    "\n",
    "    # print(\"min/max qexchange: \", qexchange.min(), qexchange.max())\n",
    "\n",
    "    # update results dictionaries\n",
    "    qext_dict[key] = sfincs_qexternal[:].copy()"
   ]
  },
  {
   "cell_type": "markdown",
   "id": "cd2fe2d7-4b4e-4018-a9ab-6e624c316725",
   "metadata": {},
   "source": [
    "#### Run each time step\n",
    "\n",
    "Control loop may be specific for each coastal model."
   ]
  },
  {
   "cell_type": "code",
   "execution_count": 39,
   "id": "8c28d312-5e6d-4130-8668-4d7fdfd0e278",
   "metadata": {
    "execution": {
     "iopub.execute_input": "2024-12-02T18:43:08.946089Z",
     "iopub.status.busy": "2024-12-02T18:43:08.945968Z",
     "iopub.status.idle": "2024-12-02T18:43:08.953376Z",
     "shell.execute_reply": "2024-12-02T18:43:08.952689Z",
     "shell.execute_reply.started": "2024-12-02T18:43:08.946077Z"
    }
   },
   "outputs": [
    {
     "name": "stdout",
     "output_type": "stream",
     "text": [
      "Coastal model current_time:             0.0 sec. (            0.0 days)\n",
      "Coastal model end_time:         7,776,000.0 sec. (           90.0 days)\n"
     ]
    }
   ],
   "source": [
    "print(\n",
    "    f\"Coastal model current_time: {coastal.get_current_time():15,.1f} sec. ({coastal.get_current_time()/86400.:15,.1f} days)\\n\"\n",
    "     + f\"Coastal model end_time:     {coastal.get_end_time():15,.1f} sec. ({coastal.get_end_time()/86400.:15,.1f} days)\"\n",
    ")"
   ]
  },
  {
   "cell_type": "code",
   "execution_count": 40,
   "id": "9cd86653-95b7-474c-ad16-3640fa1b90f3",
   "metadata": {
    "execution": {
     "iopub.execute_input": "2024-12-02T18:43:08.954128Z",
     "iopub.status.busy": "2024-12-02T18:43:08.954014Z",
     "iopub.status.idle": "2024-12-02T18:43:08.958776Z",
     "shell.execute_reply": "2024-12-02T18:43:08.957353Z",
     "shell.execute_reply.started": "2024-12-02T18:43:08.954116Z"
    }
   },
   "outputs": [
    {
     "data": {
      "text/plain": [
       "((2160,), 3600.0, 7776000.0)"
      ]
     },
     "execution_count": 40,
     "metadata": {},
     "output_type": "execute_result"
    }
   ],
   "source": [
    "coastal_coupling_times = np.arange(mf_couple_freq, coastal.get_end_time() + mf_couple_freq, mf_couple_freq)\n",
    "coastal_coupling_times.shape, coastal_coupling_times[0], coastal_coupling_times[-1]"
   ]
  },
  {
   "cell_type": "code",
   "execution_count": 41,
   "id": "68ee61c0-d3dc-470f-849d-441360c70290",
   "metadata": {
    "execution": {
     "iopub.execute_input": "2024-12-02T18:43:08.959688Z",
     "iopub.status.busy": "2024-12-02T18:43:08.959494Z",
     "iopub.status.idle": "2024-12-02T18:51:05.419622Z",
     "shell.execute_reply": "2024-12-02T18:51:05.415520Z",
     "shell.execute_reply.started": "2024-12-02T18:43:08.959675Z"
    }
   },
   "outputs": [
    {
     "name": "stdout",
     "output_type": "stream",
     "text": [
      "   0% complete,       - s remaining ...\n",
      "   5% complete,   461.4 s remaining ...\n",
      "  10% complete,   423.1 s remaining ...\n",
      "  15% complete,   402.2 s remaining ...\n",
      "  20% complete,   379.2 s remaining ...\n",
      "  25% complete,   358.7 s remaining ...\n",
      "  30% complete,   334.5 s remaining ...\n",
      "  35% complete,   309.9 s remaining ...\n",
      "  40% complete,   287.2 s remaining ...\n",
      "  45% complete,   263.5 s remaining ...\n",
      "  50% complete,   239.9 s remaining ...\n",
      "  55% complete,   215.8 s remaining ...\n",
      "  60% complete,   191.6 s remaining ...\n",
      "  65% complete,   167.8 s remaining ...\n",
      "  70% complete,   143.6 s remaining ...\n",
      "  75% complete,   119.5 s remaining ...\n",
      "  80% complete,    95.5 s remaining ...\n",
      "  85% complete,    71.6 s remaining ...\n",
      "  90% complete,    47.7 s remaining ...\n",
      "  95% complete,    23.9 s remaining ...\n",
      " 100% complete,     0.0 s remaining ...\n",
      "\n",
      "run time: 7.940743731266665 min\n"
     ]
    }
   ],
   "source": [
    "# specific to sfincs\n",
    "t0 = time.perf_counter()\n",
    "jdx = 0\n",
    "for to_time in coastal_coupling_times:\n",
    "    coastal.update_until(to_time)\n",
    "\n",
    "    mf6.prepare_time_step(mf6.get_time_step())\n",
    "    update_mf(str(jdx), zs, zb)\n",
    "    mf6.do_time_step()\n",
    "    mf6.finalize_time_step()\n",
    "\n",
    "    update_coastal(str(jdx), coastal_dtuser, zs, zb)\n",
    "\n",
    "    jdx += 1\n",
    "\n",
    "t1 = time.perf_counter()\n",
    "print(f\"\\nrun time: {(t1 - t0) / 60.} min\")"
   ]
  },
  {
   "cell_type": "code",
   "execution_count": 42,
   "id": "ba758e06-8665-4984-b646-851d4ed48e49",
   "metadata": {
    "execution": {
     "iopub.execute_input": "2024-12-02T18:51:05.425098Z",
     "iopub.status.busy": "2024-12-02T18:51:05.424497Z",
     "iopub.status.idle": "2024-12-02T18:51:05.487495Z",
     "shell.execute_reply": "2024-12-02T18:51:05.485341Z",
     "shell.execute_reply.started": "2024-12-02T18:51:05.425083Z"
    }
   },
   "outputs": [],
   "source": [
    "# Finalize\n",
    "mf6.finalize()"
   ]
  },
  {
   "cell_type": "code",
   "execution_count": 43,
   "id": "fb819b57-d15b-4c1a-9886-a422a789a2f8",
   "metadata": {
    "execution": {
     "iopub.execute_input": "2024-12-02T18:51:05.492582Z",
     "iopub.status.busy": "2024-12-02T18:51:05.491919Z",
     "iopub.status.idle": "2024-12-02T18:51:05.548516Z",
     "shell.execute_reply": "2024-12-02T18:51:05.547499Z",
     "shell.execute_reply.started": "2024-12-02T18:51:05.492287Z"
    }
   },
   "outputs": [
    {
     "name": "stdout",
     "output_type": "stream",
     "text": [
      "\n",
      " ---------- Simulation finished ----------\n",
      "\n",
      " Total time             :    476.845\n",
      " Total simulation time  :    476.744\n",
      " Time in input          :      0.101\n",
      " Time in boundaries     :      2.162 (  0.5%)\n",
      " Time in momentum       :    290.902 ( 61.0%)\n",
      " Time in continuity     :     64.053 ( 13.4%)\n",
      " Time in output         :     90.920 ( 19.1%)\n",
      "\n",
      " Average time step (s)  :      6.301\n",
      "\n",
      " ---------- Closing off SFINCS -----------\n"
     ]
    }
   ],
   "source": [
    "coastal.finalize()"
   ]
  },
  {
   "cell_type": "markdown",
   "id": "2ac33056-7abc-464c-a545-b3f76e1adc20",
   "metadata": {},
   "source": [
    "#### Save ghb elevation and conductance data to compressed files"
   ]
  },
  {
   "cell_type": "code",
   "execution_count": 44,
   "id": "5a7e1534-3aec-4d0b-ad05-e4abb8a1ef23",
   "metadata": {
    "execution": {
     "iopub.execute_input": "2024-12-02T18:51:05.551827Z",
     "iopub.status.busy": "2024-12-02T18:51:05.551448Z",
     "iopub.status.idle": "2024-12-02T18:51:08.865795Z",
     "shell.execute_reply": "2024-12-02T18:51:08.865315Z",
     "shell.execute_reply.started": "2024-12-02T18:51:05.551747Z"
    }
   },
   "outputs": [],
   "source": [
    "np.savez_compressed(f\"{mf_run_path}/ghb_elev.npz\", **elev_dict)\n",
    "np.savez_compressed(f\"{mf_run_path}/ghb_cond.npz\", **cond_dict)\n",
    "np.savez_compressed(f\"{mf_run_path}/qext.npz\", **qext_dict)"
   ]
  },
  {
   "cell_type": "code",
   "execution_count": null,
   "id": "eb9019ce-a766-4ed7-bbb9-c540364c2479",
   "metadata": {},
   "outputs": [],
   "source": []
  }
 ],
 "metadata": {
  "kernelspec": {
   "display_name": "Python 3 (ipykernel)",
   "language": "python",
   "name": "python3"
  },
  "language_info": {
   "codemirror_mode": {
    "name": "ipython",
    "version": 3
   },
   "file_extension": ".py",
   "mimetype": "text/x-python",
   "name": "python",
   "nbconvert_exporter": "python",
   "pygments_lexer": "ipython3",
   "version": "3.10.14"
  }
 },
 "nbformat": 4,
 "nbformat_minor": 5
}
