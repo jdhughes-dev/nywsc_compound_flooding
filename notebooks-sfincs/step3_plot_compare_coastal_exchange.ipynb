{
 "cells": [
  {
   "cell_type": "code",
   "execution_count": null,
   "id": "3c296d23-4a4d-428a-a1e2-8381e2995645",
   "metadata": {},
   "outputs": [],
   "source": [
    "%matplotlib inline\n",
    "import flopy\n",
    "import matplotlib.pyplot as plt\n",
    "import matplotlib.colors as mcolors\n",
    "import numpy as np\n",
    "import pathlib as pl\n",
    "import pandas as pd\n",
    "import sys"
   ]
  },
  {
   "cell_type": "code",
   "execution_count": null,
   "id": "ca3770da-dbd8-4c47-8977-10702f4d5247",
   "metadata": {},
   "outputs": [],
   "source": [
    "sys.path.append(\"../common\")\n",
    "from liss_settings import cx, cx_provider, extent, boxx, boxy, extentmax, fig_ext, transparent"
   ]
  },
  {
   "cell_type": "code",
   "execution_count": null,
   "id": "d9cd301d-5abf-480b-ace2-1d1fc2b99ee7",
   "metadata": {},
   "outputs": [],
   "source": [
    "units = \"mm\"\n",
    "conversion_factor = 1.0\n",
    "if units == \"mm\":\n",
    "    conversion_factor = 25.4\n",
    "total_key = f\"total_{units}\""
   ]
  },
  {
   "cell_type": "markdown",
   "id": "ea6c1854-c21d-408c-a4b3-431dd9311b59",
   "metadata": {},
   "source": [
    "## Load base MODFLOW model"
   ]
  },
  {
   "cell_type": "code",
   "execution_count": null,
   "id": "02198c22-212a-43c7-8e1e-b18278e92a75",
   "metadata": {},
   "outputs": [],
   "source": [
    "ws = \"../modflow/greenport500ft/base/\"\n",
    "sim = flopy.mf6.MFSimulation.load(sim_ws=ws, verbosity_level=0)\n",
    "\n",
    "gwf = sim.get_model()\n",
    "\n",
    "nghb = gwf.ghb.stress_period_data.get_dataframe()[0].shape[0]\n",
    "area = nghb * 500.0 * 500.0"
   ]
  },
  {
   "cell_type": "markdown",
   "id": "0343c054-f324-4bb7-a752-79f85dd642a2",
   "metadata": {},
   "source": [
    "## Load the coastal boundary observation data"
   ]
  },
  {
   "cell_type": "code",
   "execution_count": null,
   "id": "ca719a56-7190-413b-9b5a-43021b3233a1",
   "metadata": {},
   "outputs": [],
   "source": [
    "sim_dirs = [\"run_01.00D\", \"run_08.00H\", \"run_04.00H\", \"run_02.00H\", \"run_01.00H\", \"run_15.00M\"]"
   ]
  },
  {
   "cell_type": "code",
   "execution_count": null,
   "id": "80244161-4c6f-4dc4-af6f-bb71e75218e5",
   "metadata": {},
   "outputs": [],
   "source": [
    "sim_dirs = [s + \"_sfincs\" for s in sim_dirs]"
   ]
  },
  {
   "cell_type": "code",
   "execution_count": null,
   "id": "cb0e89ff-77f2-4eef-a253-83c08fe1e530",
   "metadata": {},
   "outputs": [],
   "source": [
    "sim_dict = {value: {\"ws\": pl.Path(f\"../modflow/greenport500ft/{value}\")} for value in sim_dirs}\n",
    "sim_dict"
   ]
  },
  {
   "cell_type": "code",
   "execution_count": null,
   "id": "2d779ff6-4733-40db-afa3-307474fc0a3c",
   "metadata": {},
   "outputs": [],
   "source": [
    "for key, value in sim_dict.items():\n",
    "    obs_path = value[\"ws\"] / \"green2010_v3.ghb.obs.csv\"\n",
    "    df = flopy.utils.Mf6Obs(obs_path).get_dataframe(start_datetime=\"1-1-2010\")\n",
    "    df[\"delt\"] = df[\"totim\"].diff()\n",
    "    df.loc[df[\"delt\"].isnull(), \"delt\"] = df[\"delt\"].iloc[1]\n",
    "    df.drop(\"totim\", axis=1, inplace=True)\n",
    "    df[\"TOTAL\"] = 0.0\n",
    "    for col_name in (\"SOUND\", \"INNER\", \"PECONIC\"):\n",
    "        df[\"TOTAL\"] += -conversion_factor * 12.0 * df[col_name] / area\n",
    "    df[\"CUM_TOTAL\"] = df[\"TOTAL\"].cumsum() * df['delt']\n",
    "    df[\"ZERO\"] = 0.\n",
    "    df.drop(\"delt\", axis=1, inplace=True)\n",
    "    sim_dict[key][\"ntimes\"] = df.shape[0]\n",
    "    sim_dict[key][\"df\"] = df.copy()\n",
    "    sim_dict[key][total_key] = df[\"CUM_TOTAL\"].iloc[-1]"
   ]
  },
  {
   "cell_type": "markdown",
   "id": "ea365172-29dc-4858-8ddd-885768c52776",
   "metadata": {},
   "source": [
    "## Plot the coastal exchange"
   ]
  },
  {
   "cell_type": "code",
   "execution_count": null,
   "id": "202997cd-d54b-4243-aa51-488e030b85ee",
   "metadata": {},
   "outputs": [],
   "source": [
    "ws = pl.Path(\"figures\")\n",
    "ws.mkdir(exist_ok=True, parents=True)"
   ]
  },
  {
   "cell_type": "code",
   "execution_count": null,
   "id": "31d25b8a-f156-4ed8-801a-5fbe58055c1b",
   "metadata": {},
   "outputs": [],
   "source": [
    "labels = [value.split(sep=\"_\")[1] for value in sim_dirs]\n",
    "\n",
    "for idx, label in enumerate(labels):\n",
    "    s = f\"{float(label[:5]):>2.0f}\" + \" \" + label[-1]\n",
    "    if s.endswith(\" D\"):\n",
    "        s = s.replace(\" D\", \" Day \")\n",
    "    elif s.endswith(\" H\"):\n",
    "        s = s.replace(\" H\", \" Hour\")\n",
    "    elif s.endswith(\" M\"):\n",
    "        s = s.replace(\" M\", \" Min.\")\n",
    "    labels[idx] = s\n",
    "labels"
   ]
  },
  {
   "cell_type": "code",
   "execution_count": null,
   "id": "6f88bc5d-15a3-4ee8-86ac-b6ced87b6be7",
   "metadata": {},
   "outputs": [],
   "source": [
    "line_styles = [\"-\", \"--\", \"-.\", \":\", (0, (3, 10, 1, 10, 1, 10)), (0, (3, 1, 1, 1, 1, 1))]"
   ]
  },
  {
   "cell_type": "code",
   "execution_count": null,
   "id": "1b57a535-bfd3-4349-bb4a-8ccc5a523f50",
   "metadata": {},
   "outputs": [],
   "source": [
    "colors = [value for key, value in mcolors.TABLEAU_COLORS.items()]"
   ]
  },
  {
   "cell_type": "code",
   "execution_count": null,
   "id": "052f90e5-6420-4867-901f-f3d41a52a954",
   "metadata": {},
   "outputs": [],
   "source": [
    "cum_labels = []\n",
    "for idx, value in enumerate(sim_dirs):\n",
    "    total_flux = sim_dict[value][total_key]\n",
    "    cum_labels.append(f\"{labels[idx]} ({total_flux:5.2f} {units})\")\n",
    "cum_labels\n"
   ]
  },
  {
   "cell_type": "code",
   "execution_count": null,
   "id": "1ef05dee-6cc2-486e-b83e-28672a48fa31",
   "metadata": {},
   "outputs": [],
   "source": [
    "with flopy.plot.styles.USGSPlot():\n",
    "    fig, axs = plt.subplots(\n",
    "        ncols=1,\n",
    "        nrows=len(labels) + 1,\n",
    "        layout=\"constrained\",\n",
    "        figsize=(7.5, 2 * (len(labels) + 1)),\n",
    "        )\n",
    "    for idx in range(len(labels)):\n",
    "        ax = axs[idx]\n",
    "        ax.set_ylim(-1 * conversion_factor, 1 * conversion_factor)\n",
    "        df = sim_dict[sim_dirs[idx]][\"df\"]\n",
    "        df[\"TOTAL\"].plot(ax=ax, lw=0.75, ls=\"-\", color=colors[idx], sharex=True)\n",
    "        df[\"ZERO\"].plot(ax=ax, lw=0.5, ls=\"--\", color=\"black\", sharex=True)\n",
    "        ax.set_ylabel(f\"Coastal\\nexchange, {units}\")\n",
    "        ax.set_xlabel(\"\")\n",
    "        flopy.plot.styles.heading(ax, idx=idx, heading=labels[idx])\n",
    "\n",
    "    ax = axs[-1]\n",
    "    ax.set_ylim(0, 15 * conversion_factor)\n",
    "    for idx, value in enumerate(sim_dirs):\n",
    "        sim_dict[value][\"df\"][\"CUM_TOTAL\"].plot(ax=ax, lw=0.75, ls=line_styles[idx], color=colors[idx], label=cum_labels[idx])\n",
    "    ax.set_ylabel(f\"Cumulative coastal\\nexchange, {units}\")\n",
    "    ax.set_xlabel(\"\")\n",
    "    flopy.plot.styles.heading(ax, idx=len(labels), heading=\"Cumulative\")\n",
    "    \n",
    "    leg = flopy.plot.styles.graph_legend(ax=ax, loc=\"upper left\", title=\"none\", ncol=2)\n",
    "\n",
    "    fig.savefig(ws / f\"coastal_flux_summary{fig_ext}\", dpi=300, transparent=transparent)\n"
   ]
  },
  {
   "cell_type": "code",
   "execution_count": null,
   "id": "c50241c2-6e21-4482-8ad5-aba480d1f6aa",
   "metadata": {},
   "outputs": [],
   "source": [
    "plot_sim_dirs = [sim_dirs[0], sim_dirs[-2]]\n",
    "plot_labels = [labels[0], labels[-2]]\n",
    "\n",
    "with flopy.plot.styles.USGSPlot():\n",
    "    fig, axs = plt.subplots(\n",
    "        ncols=1,\n",
    "        nrows=len(plot_labels) + 1,\n",
    "        layout=\"constrained\",\n",
    "        figsize=(11, 2 * (len(plot_labels) + 1)),\n",
    "        )\n",
    "    for idx in range(len(plot_labels)):\n",
    "        ax = axs[idx]\n",
    "        ax.set_ylim(-1 * conversion_factor, 1 * conversion_factor)\n",
    "        df = sim_dict[plot_sim_dirs[idx]][\"df\"]\n",
    "        df[\"TOTAL\"].plot(ax=ax, lw=0.75, ls=\"-\", color=colors[idx], legend=False, xlabel=\"\", sharex=True)\n",
    "        df[\"ZERO\"].plot(ax=ax, lw=0.5, ls=\"--\", color=\"black\", legend=False, xlabel=\"\", sharex=True)\n",
    "        ax.set_ylabel(f\"Coastal\\nexchange, {units}\")\n",
    "        flopy.plot.styles.heading(ax, idx=idx, heading=plot_labels[idx])\n",
    "\n",
    "    ax = axs[-1]\n",
    "    ax.set_ylim(0, 15 * conversion_factor)\n",
    "    for idx, value in enumerate(sim_dirs):\n",
    "        sim_dict[value][\"df\"][\"CUM_TOTAL\"].plot(ax=ax, lw=0.75, color=colors[idx], label=cum_labels[idx], xlabel=\"\")\n",
    "    ax.set_ylabel(f\"Cumulative coastal\\nexchange, {units}\")\n",
    "    flopy.plot.styles.heading(ax, idx=len(plot_labels), heading=\"Cumulative\")\n",
    "    \n",
    "    leg = flopy.plot.styles.graph_legend(ax=ax, loc=\"upper left\", title=\"none\", ncol=2)\n",
    "\n",
    "    fig.savefig(ws / f\"coastal_flux_poster_summary{fig_ext}\", dpi=300, transparent=transparent)"
   ]
  },
  {
   "cell_type": "code",
   "execution_count": null,
   "id": "89e135e8-efd1-4059-94be-98200a9bc000",
   "metadata": {},
   "outputs": [],
   "source": [
    "with flopy.plot.styles.USGSPlot():\n",
    "    fig, ax = plt.subplots(\n",
    "        ncols=1,\n",
    "        nrows=1,\n",
    "        layout=\"constrained\",\n",
    "        figsize=(11.5, 3),\n",
    "        )\n",
    "\n",
    "    ax.set_ylim(0, 15 * conversion_factor)\n",
    "    for idx, value in enumerate(sim_dirs):\n",
    "        sim_dict[value][\"df\"][\"CUM_TOTAL\"].plot(ax=ax, lw=0.75, color=colors[idx], label=cum_labels[idx])\n",
    "    ax.set_ylabel(f\"Cumulative coastal\\nexchange, {units}\")\n",
    "    ax.set_xlabel(\"\")\n",
    "    \n",
    "    leg = flopy.plot.styles.graph_legend(ax=ax, loc=\"upper left\", title=\"none\", ncol=2)\n",
    "\n",
    "    fig.savefig(ws / f\"coastal_cumulative_flux{fig_ext}\", dpi=300, transparent=transparent)"
   ]
  },
  {
   "cell_type": "code",
   "execution_count": null,
   "id": "0dd54815-b2a0-47ed-b56e-f354ce747abc",
   "metadata": {},
   "outputs": [],
   "source": []
  }
 ],
 "metadata": {
  "kernelspec": {
   "display_name": "Python 3 (ipykernel)",
   "language": "python",
   "name": "python3"
  },
  "language_info": {
   "codemirror_mode": {
    "name": "ipython",
    "version": 3
   },
   "file_extension": ".py",
   "mimetype": "text/x-python",
   "name": "python",
   "nbconvert_exporter": "python",
   "pygments_lexer": "ipython3",
   "version": "3.10.14"
  }
 },
 "nbformat": 4,
 "nbformat_minor": 5
}
