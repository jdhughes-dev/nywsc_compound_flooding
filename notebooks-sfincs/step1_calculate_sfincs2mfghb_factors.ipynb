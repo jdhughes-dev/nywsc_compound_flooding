{
 "cells": [
  {
   "cell_type": "code",
   "execution_count": 1,
   "metadata": {
    "execution": {
     "iopub.execute_input": "2024-11-18T09:31:45.586564Z",
     "iopub.status.busy": "2024-11-18T09:31:45.586168Z",
     "iopub.status.idle": "2024-11-18T09:31:48.356671Z",
     "shell.execute_reply": "2024-11-18T09:31:48.356321Z",
     "shell.execute_reply.started": "2024-11-18T09:31:45.586532Z"
    }
   },
   "outputs": [],
   "source": [
    "%matplotlib inline\n",
    "import numpy as np\n",
    "import pathlib as pl\n",
    "import sys\n",
    "import xugrid\n",
    "import geopandas as gpd\n",
    "import matplotlib.pyplot as plt\n",
    "from matplotlib.animation import FuncAnimation\n",
    "\n",
    "import rasterio.warp\n",
    "from shapely.geometry import shape\n",
    "\n",
    "import scipy.sparse as sparse\n",
    "\n",
    "import flopy\n",
    "import flopy.plot.styles as styles\n",
    "\n",
    "from gdptools import WeightGenP2P"
   ]
  },
  {
   "cell_type": "code",
   "execution_count": 2,
   "metadata": {
    "execution": {
     "iopub.execute_input": "2024-11-18T09:31:48.357654Z",
     "iopub.status.busy": "2024-11-18T09:31:48.357269Z",
     "iopub.status.idle": "2024-11-18T09:31:48.467478Z",
     "shell.execute_reply": "2024-11-18T09:31:48.467163Z",
     "shell.execute_reply.started": "2024-11-18T09:31:48.357641Z"
    }
   },
   "outputs": [],
   "source": [
    "sys.path.append(\"../common\")\n",
    "from liss_settings import cx, cx_provider, extent, boxx, boxy, get_sfincs_grid_name, get_sfincs_dtuser"
   ]
  },
  {
   "cell_type": "code",
   "execution_count": 3,
   "metadata": {
    "execution": {
     "iopub.execute_input": "2024-11-18T09:31:48.468938Z",
     "iopub.status.busy": "2024-11-18T09:31:48.468818Z",
     "iopub.status.idle": "2024-11-18T09:31:48.475391Z",
     "shell.execute_reply": "2024-11-18T09:31:48.475036Z",
     "shell.execute_reply.started": "2024-11-18T09:31:48.468927Z"
    }
   },
   "outputs": [
    {
     "name": "stdout",
     "output_type": "stream",
     "text": [
      "sfincs\n"
     ]
    }
   ],
   "source": [
    "control_path = pl.Path(\"../sfincs/test_north_fork/run/sfincs.inp\") # change this if using a different D-Flow FM control file\n",
    "grid_name = get_sfincs_grid_name(control_path)\n",
    "print(grid_name)"
   ]
  },
  {
   "cell_type": "code",
   "execution_count": 4,
   "metadata": {
    "execution": {
     "iopub.execute_input": "2024-11-18T09:31:48.475971Z",
     "iopub.status.busy": "2024-11-18T09:31:48.475862Z",
     "iopub.status.idle": "2024-11-18T09:31:49.330882Z",
     "shell.execute_reply": "2024-11-18T09:31:49.330587Z",
     "shell.execute_reply.started": "2024-11-18T09:31:48.475961Z"
    }
   },
   "outputs": [],
   "source": [
    "# use an output file because this is what will be available from bmi and is in the correct order\n",
    "source_path = \"../sfincs/test_north_fork/run/sfincs_map.nc\"\n",
    "source_ds = xugrid.open_dataset(source_path)"
   ]
  },
  {
   "cell_type": "code",
   "execution_count": 5,
   "metadata": {
    "execution": {
     "iopub.execute_input": "2024-11-18T09:31:49.331696Z",
     "iopub.status.busy": "2024-11-18T09:31:49.331464Z",
     "iopub.status.idle": "2024-11-18T09:31:49.344278Z",
     "shell.execute_reply": "2024-11-18T09:31:49.343968Z",
     "shell.execute_reply.started": "2024-11-18T09:31:49.331684Z"
    }
   },
   "outputs": [
    {
     "data": {
      "text/html": [
       "<div><svg style=\"position: absolute; width: 0; height: 0; overflow: hidden\">\n",
       "<defs>\n",
       "<symbol id=\"icon-database\" viewBox=\"0 0 32 32\">\n",
       "<path d=\"M16 0c-8.837 0-16 2.239-16 5v4c0 2.761 7.163 5 16 5s16-2.239 16-5v-4c0-2.761-7.163-5-16-5z\"></path>\n",
       "<path d=\"M16 17c-8.837 0-16-2.239-16-5v6c0 2.761 7.163 5 16 5s16-2.239 16-5v-6c0 2.761-7.163 5-16 5z\"></path>\n",
       "<path d=\"M16 26c-8.837 0-16-2.239-16-5v6c0 2.761 7.163 5 16 5s16-2.239 16-5v-6c0 2.761-7.163 5-16 5z\"></path>\n",
       "</symbol>\n",
       "<symbol id=\"icon-file-text2\" viewBox=\"0 0 32 32\">\n",
       "<path d=\"M28.681 7.159c-0.694-0.947-1.662-2.053-2.724-3.116s-2.169-2.030-3.116-2.724c-1.612-1.182-2.393-1.319-2.841-1.319h-15.5c-1.378 0-2.5 1.121-2.5 2.5v27c0 1.378 1.122 2.5 2.5 2.5h23c1.378 0 2.5-1.122 2.5-2.5v-19.5c0-0.448-0.137-1.23-1.319-2.841zM24.543 5.457c0.959 0.959 1.712 1.825 2.268 2.543h-4.811v-4.811c0.718 0.556 1.584 1.309 2.543 2.268zM28 29.5c0 0.271-0.229 0.5-0.5 0.5h-23c-0.271 0-0.5-0.229-0.5-0.5v-27c0-0.271 0.229-0.5 0.5-0.5 0 0 15.499-0 15.5 0v7c0 0.552 0.448 1 1 1h7v19.5z\"></path>\n",
       "<path d=\"M23 26h-14c-0.552 0-1-0.448-1-1s0.448-1 1-1h14c0.552 0 1 0.448 1 1s-0.448 1-1 1z\"></path>\n",
       "<path d=\"M23 22h-14c-0.552 0-1-0.448-1-1s0.448-1 1-1h14c0.552 0 1 0.448 1 1s-0.448 1-1 1z\"></path>\n",
       "<path d=\"M23 18h-14c-0.552 0-1-0.448-1-1s0.448-1 1-1h14c0.552 0 1 0.448 1 1s-0.448 1-1 1z\"></path>\n",
       "</symbol>\n",
       "</defs>\n",
       "</svg>\n",
       "<style>/* CSS stylesheet for displaying xarray objects in jupyterlab.\n",
       " *\n",
       " */\n",
       "\n",
       ":root {\n",
       "  --xr-font-color0: var(--jp-content-font-color0, rgba(0, 0, 0, 1));\n",
       "  --xr-font-color2: var(--jp-content-font-color2, rgba(0, 0, 0, 0.54));\n",
       "  --xr-font-color3: var(--jp-content-font-color3, rgba(0, 0, 0, 0.38));\n",
       "  --xr-border-color: var(--jp-border-color2, #e0e0e0);\n",
       "  --xr-disabled-color: var(--jp-layout-color3, #bdbdbd);\n",
       "  --xr-background-color: var(--jp-layout-color0, white);\n",
       "  --xr-background-color-row-even: var(--jp-layout-color1, white);\n",
       "  --xr-background-color-row-odd: var(--jp-layout-color2, #eeeeee);\n",
       "}\n",
       "\n",
       "html[theme=dark],\n",
       "body[data-theme=dark],\n",
       "body.vscode-dark {\n",
       "  --xr-font-color0: rgba(255, 255, 255, 1);\n",
       "  --xr-font-color2: rgba(255, 255, 255, 0.54);\n",
       "  --xr-font-color3: rgba(255, 255, 255, 0.38);\n",
       "  --xr-border-color: #1F1F1F;\n",
       "  --xr-disabled-color: #515151;\n",
       "  --xr-background-color: #111111;\n",
       "  --xr-background-color-row-even: #111111;\n",
       "  --xr-background-color-row-odd: #313131;\n",
       "}\n",
       "\n",
       ".xr-wrap {\n",
       "  display: block !important;\n",
       "  min-width: 300px;\n",
       "  max-width: 700px;\n",
       "}\n",
       "\n",
       ".xr-text-repr-fallback {\n",
       "  /* fallback to plain text repr when CSS is not injected (untrusted notebook) */\n",
       "  display: none;\n",
       "}\n",
       "\n",
       ".xr-header {\n",
       "  padding-top: 6px;\n",
       "  padding-bottom: 6px;\n",
       "  margin-bottom: 4px;\n",
       "  border-bottom: solid 1px var(--xr-border-color);\n",
       "}\n",
       "\n",
       ".xr-header > div,\n",
       ".xr-header > ul {\n",
       "  display: inline;\n",
       "  margin-top: 0;\n",
       "  margin-bottom: 0;\n",
       "}\n",
       "\n",
       ".xr-obj-type,\n",
       ".xr-array-name {\n",
       "  margin-left: 2px;\n",
       "  margin-right: 10px;\n",
       "}\n",
       "\n",
       ".xr-obj-type {\n",
       "  color: var(--xr-font-color2);\n",
       "}\n",
       "\n",
       ".xr-sections {\n",
       "  padding-left: 0 !important;\n",
       "  display: grid;\n",
       "  grid-template-columns: 150px auto auto 1fr 20px 20px;\n",
       "}\n",
       "\n",
       ".xr-section-item {\n",
       "  display: contents;\n",
       "}\n",
       "\n",
       ".xr-section-item input {\n",
       "  display: none;\n",
       "}\n",
       "\n",
       ".xr-section-item input + label {\n",
       "  color: var(--xr-disabled-color);\n",
       "}\n",
       "\n",
       ".xr-section-item input:enabled + label {\n",
       "  cursor: pointer;\n",
       "  color: var(--xr-font-color2);\n",
       "}\n",
       "\n",
       ".xr-section-item input:enabled + label:hover {\n",
       "  color: var(--xr-font-color0);\n",
       "}\n",
       "\n",
       ".xr-section-summary {\n",
       "  grid-column: 1;\n",
       "  color: var(--xr-font-color2);\n",
       "  font-weight: 500;\n",
       "}\n",
       "\n",
       ".xr-section-summary > span {\n",
       "  display: inline-block;\n",
       "  padding-left: 0.5em;\n",
       "}\n",
       "\n",
       ".xr-section-summary-in:disabled + label {\n",
       "  color: var(--xr-font-color2);\n",
       "}\n",
       "\n",
       ".xr-section-summary-in + label:before {\n",
       "  display: inline-block;\n",
       "  content: '►';\n",
       "  font-size: 11px;\n",
       "  width: 15px;\n",
       "  text-align: center;\n",
       "}\n",
       "\n",
       ".xr-section-summary-in:disabled + label:before {\n",
       "  color: var(--xr-disabled-color);\n",
       "}\n",
       "\n",
       ".xr-section-summary-in:checked + label:before {\n",
       "  content: '▼';\n",
       "}\n",
       "\n",
       ".xr-section-summary-in:checked + label > span {\n",
       "  display: none;\n",
       "}\n",
       "\n",
       ".xr-section-summary,\n",
       ".xr-section-inline-details {\n",
       "  padding-top: 4px;\n",
       "  padding-bottom: 4px;\n",
       "}\n",
       "\n",
       ".xr-section-inline-details {\n",
       "  grid-column: 2 / -1;\n",
       "}\n",
       "\n",
       ".xr-section-details {\n",
       "  display: none;\n",
       "  grid-column: 1 / -1;\n",
       "  margin-bottom: 5px;\n",
       "}\n",
       "\n",
       ".xr-section-summary-in:checked ~ .xr-section-details {\n",
       "  display: contents;\n",
       "}\n",
       "\n",
       ".xr-array-wrap {\n",
       "  grid-column: 1 / -1;\n",
       "  display: grid;\n",
       "  grid-template-columns: 20px auto;\n",
       "}\n",
       "\n",
       ".xr-array-wrap > label {\n",
       "  grid-column: 1;\n",
       "  vertical-align: top;\n",
       "}\n",
       "\n",
       ".xr-preview {\n",
       "  color: var(--xr-font-color3);\n",
       "}\n",
       "\n",
       ".xr-array-preview,\n",
       ".xr-array-data {\n",
       "  padding: 0 5px !important;\n",
       "  grid-column: 2;\n",
       "}\n",
       "\n",
       ".xr-array-data,\n",
       ".xr-array-in:checked ~ .xr-array-preview {\n",
       "  display: none;\n",
       "}\n",
       "\n",
       ".xr-array-in:checked ~ .xr-array-data,\n",
       ".xr-array-preview {\n",
       "  display: inline-block;\n",
       "}\n",
       "\n",
       ".xr-dim-list {\n",
       "  display: inline-block !important;\n",
       "  list-style: none;\n",
       "  padding: 0 !important;\n",
       "  margin: 0;\n",
       "}\n",
       "\n",
       ".xr-dim-list li {\n",
       "  display: inline-block;\n",
       "  padding: 0;\n",
       "  margin: 0;\n",
       "}\n",
       "\n",
       ".xr-dim-list:before {\n",
       "  content: '(';\n",
       "}\n",
       "\n",
       ".xr-dim-list:after {\n",
       "  content: ')';\n",
       "}\n",
       "\n",
       ".xr-dim-list li:not(:last-child):after {\n",
       "  content: ',';\n",
       "  padding-right: 5px;\n",
       "}\n",
       "\n",
       ".xr-has-index {\n",
       "  font-weight: bold;\n",
       "}\n",
       "\n",
       ".xr-var-list,\n",
       ".xr-var-item {\n",
       "  display: contents;\n",
       "}\n",
       "\n",
       ".xr-var-item > div,\n",
       ".xr-var-item label,\n",
       ".xr-var-item > .xr-var-name span {\n",
       "  background-color: var(--xr-background-color-row-even);\n",
       "  margin-bottom: 0;\n",
       "}\n",
       "\n",
       ".xr-var-item > .xr-var-name:hover span {\n",
       "  padding-right: 5px;\n",
       "}\n",
       "\n",
       ".xr-var-list > li:nth-child(odd) > div,\n",
       ".xr-var-list > li:nth-child(odd) > label,\n",
       ".xr-var-list > li:nth-child(odd) > .xr-var-name span {\n",
       "  background-color: var(--xr-background-color-row-odd);\n",
       "}\n",
       "\n",
       ".xr-var-name {\n",
       "  grid-column: 1;\n",
       "}\n",
       "\n",
       ".xr-var-dims {\n",
       "  grid-column: 2;\n",
       "}\n",
       "\n",
       ".xr-var-dtype {\n",
       "  grid-column: 3;\n",
       "  text-align: right;\n",
       "  color: var(--xr-font-color2);\n",
       "}\n",
       "\n",
       ".xr-var-preview {\n",
       "  grid-column: 4;\n",
       "}\n",
       "\n",
       ".xr-index-preview {\n",
       "  grid-column: 2 / 5;\n",
       "  color: var(--xr-font-color2);\n",
       "}\n",
       "\n",
       ".xr-var-name,\n",
       ".xr-var-dims,\n",
       ".xr-var-dtype,\n",
       ".xr-preview,\n",
       ".xr-attrs dt {\n",
       "  white-space: nowrap;\n",
       "  overflow: hidden;\n",
       "  text-overflow: ellipsis;\n",
       "  padding-right: 10px;\n",
       "}\n",
       "\n",
       ".xr-var-name:hover,\n",
       ".xr-var-dims:hover,\n",
       ".xr-var-dtype:hover,\n",
       ".xr-attrs dt:hover {\n",
       "  overflow: visible;\n",
       "  width: auto;\n",
       "  z-index: 1;\n",
       "}\n",
       "\n",
       ".xr-var-attrs,\n",
       ".xr-var-data,\n",
       ".xr-index-data {\n",
       "  display: none;\n",
       "  background-color: var(--xr-background-color) !important;\n",
       "  padding-bottom: 5px !important;\n",
       "}\n",
       "\n",
       ".xr-var-attrs-in:checked ~ .xr-var-attrs,\n",
       ".xr-var-data-in:checked ~ .xr-var-data,\n",
       ".xr-index-data-in:checked ~ .xr-index-data {\n",
       "  display: block;\n",
       "}\n",
       "\n",
       ".xr-var-data > table {\n",
       "  float: right;\n",
       "}\n",
       "\n",
       ".xr-var-name span,\n",
       ".xr-var-data,\n",
       ".xr-index-name div,\n",
       ".xr-index-data,\n",
       ".xr-attrs {\n",
       "  padding-left: 25px !important;\n",
       "}\n",
       "\n",
       ".xr-attrs,\n",
       ".xr-var-attrs,\n",
       ".xr-var-data,\n",
       ".xr-index-data {\n",
       "  grid-column: 1 / -1;\n",
       "}\n",
       "\n",
       "dl.xr-attrs {\n",
       "  padding: 0;\n",
       "  margin: 0;\n",
       "  display: grid;\n",
       "  grid-template-columns: 125px auto;\n",
       "}\n",
       "\n",
       ".xr-attrs dt,\n",
       ".xr-attrs dd {\n",
       "  padding: 0;\n",
       "  margin: 0;\n",
       "  float: left;\n",
       "  padding-right: 10px;\n",
       "  width: auto;\n",
       "}\n",
       "\n",
       ".xr-attrs dt {\n",
       "  font-weight: normal;\n",
       "  grid-column: 1;\n",
       "}\n",
       "\n",
       ".xr-attrs dt:hover span {\n",
       "  display: inline-block;\n",
       "  background: var(--xr-background-color);\n",
       "  padding-right: 10px;\n",
       "}\n",
       "\n",
       ".xr-attrs dd {\n",
       "  grid-column: 2;\n",
       "  white-space: pre-wrap;\n",
       "  word-break: break-all;\n",
       "}\n",
       "\n",
       ".xr-icon-database,\n",
       ".xr-icon-file-text2,\n",
       ".xr-no-icon {\n",
       "  display: inline-block;\n",
       "  vertical-align: middle;\n",
       "  width: 1em;\n",
       "  height: 1.5em !important;\n",
       "  stroke-width: 0;\n",
       "  stroke: currentColor;\n",
       "  fill: currentColor;\n",
       "}\n",
       "</style><pre class='xr-text-repr-fallback'>&lt;xarray.Dataset&gt; Size: 4GB\n",
       "Dimensions:        (nmesh2d_node: 56192, nmesh2d_face: 14048, time: 25921,\n",
       "                    runtime: 1)\n",
       "Coordinates:\n",
       "  * time           (time) datetime64[ns] 207kB 2010-01-01 ... 2010-04-01\n",
       "  * nmesh2d_face   (nmesh2d_face) int64 112kB 0 1 2 3 ... 14045 14046 14047\n",
       "  * nmesh2d_node   (nmesh2d_node) int64 450kB 0 1 2 3 ... 56189 56190 56191\n",
       "Dimensions without coordinates: runtime\n",
       "Data variables:\n",
       "    inp            int32 4B ...\n",
       "    mesh2d_node_x  (nmesh2d_node) float32 225kB ...\n",
       "    mesh2d_node_y  (nmesh2d_node) float32 225kB ...\n",
       "    crs            int32 4B ...\n",
       "    zb             (nmesh2d_face) float32 56kB ...\n",
       "    msk            (nmesh2d_face) float64 112kB ...\n",
       "    zs             (time, nmesh2d_face) float32 1GB ...\n",
       "    u              (time, nmesh2d_face) float32 1GB ...\n",
       "    v              (time, nmesh2d_face) float32 1GB ...\n",
       "    total_runtime  (runtime) float32 4B ...\n",
       "    average_dt     (runtime) float32 4B ...\n",
       "    status         (runtime) float32 4B ...\n",
       "Attributes:\n",
       "    Conventions:                         Conventions = &#x27;CF-1.8 UGRID-1.0 Delt...\n",
       "    Build-Revision-Date-Netcdf-library:  4.8.1 of Sep 29 2021 09:36:14 $\n",
       "    Producer:                            SFINCS model: Super-Fast INundation ...\n",
       "    Build-Revision:                      $Rev: v2.0.8-beta\n",
       "    Build-Date:                          $Date: 2024-06-10\n",
       "    title:                               SFINCS map netcdf output</pre><div class='xr-wrap' style='display:none'><div class='xr-header'><div class='xr-obj-type'>xarray.Dataset</div></div><ul class='xr-sections'><li class='xr-section-item'><input id='section-ab7d7fa6-145f-4295-8c08-3e1bfe3d132d' class='xr-section-summary-in' type='checkbox' disabled ><label for='section-ab7d7fa6-145f-4295-8c08-3e1bfe3d132d' class='xr-section-summary'  title='Expand/collapse section'>Dimensions:</label><div class='xr-section-inline-details'><ul class='xr-dim-list'><li><span class='xr-has-index'>nmesh2d_node</span>: 56192</li><li><span class='xr-has-index'>nmesh2d_face</span>: 14048</li><li><span class='xr-has-index'>time</span>: 25921</li><li><span>runtime</span>: 1</li></ul></div><div class='xr-section-details'></div></li><li class='xr-section-item'><input id='section-6d1fa5d5-fa63-47de-8938-36662a496c62' class='xr-section-summary-in' type='checkbox'  checked><label for='section-6d1fa5d5-fa63-47de-8938-36662a496c62' class='xr-section-summary' >Coordinates: <span>(3)</span></label><div class='xr-section-inline-details'></div><div class='xr-section-details'><ul class='xr-var-list'><li class='xr-var-item'><div class='xr-var-name'><span class='xr-has-index'>time</span></div><div class='xr-var-dims'>(time)</div><div class='xr-var-dtype'>datetime64[ns]</div><div class='xr-var-preview xr-preview'>2010-01-01 ... 2010-04-01</div><input id='attrs-aa423ce0-fbb7-4074-bcef-e78eafecd038' class='xr-var-attrs-in' type='checkbox' ><label for='attrs-aa423ce0-fbb7-4074-bcef-e78eafecd038' title='Show/Hide attributes'><svg class='icon xr-icon-file-text2'><use xlink:href='#icon-file-text2'></use></svg></label><input id='data-7ceface8-7327-4c44-8de3-c69718cce936' class='xr-var-data-in' type='checkbox'><label for='data-7ceface8-7327-4c44-8de3-c69718cce936' title='Show/Hide data repr'><svg class='icon xr-icon-database'><use xlink:href='#icon-database'></use></svg></label><div class='xr-var-attrs'><dl class='xr-attrs'><dt><span>standard_name :</span></dt><dd>time</dd><dt><span>long_name :</span></dt><dd>time_in_seconds_since_2010-01-01 00:00:00</dd></dl></div><div class='xr-var-data'><pre>array([&#x27;2010-01-01T00:00:00.000000000&#x27;, &#x27;2010-01-01T00:05:00.000000000&#x27;,\n",
       "       &#x27;2010-01-01T00:10:00.000000000&#x27;, ..., &#x27;2010-03-31T23:50:00.000000000&#x27;,\n",
       "       &#x27;2010-03-31T23:55:00.000000000&#x27;, &#x27;2010-04-01T00:00:00.000000000&#x27;],\n",
       "      dtype=&#x27;datetime64[ns]&#x27;)</pre></div></li><li class='xr-var-item'><div class='xr-var-name'><span class='xr-has-index'>nmesh2d_face</span></div><div class='xr-var-dims'>(nmesh2d_face)</div><div class='xr-var-dtype'>int64</div><div class='xr-var-preview xr-preview'>0 1 2 3 ... 14044 14045 14046 14047</div><input id='attrs-567af1af-480f-488c-b1f7-7c553b10c146' class='xr-var-attrs-in' type='checkbox' disabled><label for='attrs-567af1af-480f-488c-b1f7-7c553b10c146' title='Show/Hide attributes'><svg class='icon xr-icon-file-text2'><use xlink:href='#icon-file-text2'></use></svg></label><input id='data-6027cba0-520c-4242-8488-3d536ab48d42' class='xr-var-data-in' type='checkbox'><label for='data-6027cba0-520c-4242-8488-3d536ab48d42' title='Show/Hide data repr'><svg class='icon xr-icon-database'><use xlink:href='#icon-database'></use></svg></label><div class='xr-var-attrs'><dl class='xr-attrs'></dl></div><div class='xr-var-data'><pre>array([    0,     1,     2, ..., 14045, 14046, 14047])</pre></div></li><li class='xr-var-item'><div class='xr-var-name'><span class='xr-has-index'>nmesh2d_node</span></div><div class='xr-var-dims'>(nmesh2d_node)</div><div class='xr-var-dtype'>int64</div><div class='xr-var-preview xr-preview'>0 1 2 3 ... 56188 56189 56190 56191</div><input id='attrs-5ad280a5-2ffd-4b38-8afb-3de7639376ed' class='xr-var-attrs-in' type='checkbox' disabled><label for='attrs-5ad280a5-2ffd-4b38-8afb-3de7639376ed' title='Show/Hide attributes'><svg class='icon xr-icon-file-text2'><use xlink:href='#icon-file-text2'></use></svg></label><input id='data-5f81759a-8c33-4efa-9368-df62b9f67be8' class='xr-var-data-in' type='checkbox'><label for='data-5f81759a-8c33-4efa-9368-df62b9f67be8' title='Show/Hide data repr'><svg class='icon xr-icon-database'><use xlink:href='#icon-database'></use></svg></label><div class='xr-var-attrs'><dl class='xr-attrs'></dl></div><div class='xr-var-data'><pre>array([    0,     1,     2, ..., 56189, 56190, 56191])</pre></div></li></ul></div></li><li class='xr-section-item'><input id='section-0e538118-3c13-4c66-95dd-27aa0963c3bc' class='xr-section-summary-in' type='checkbox'  checked><label for='section-0e538118-3c13-4c66-95dd-27aa0963c3bc' class='xr-section-summary' >Data variables: <span>(12)</span></label><div class='xr-section-inline-details'></div><div class='xr-section-details'><ul class='xr-var-list'><li class='xr-var-item'><div class='xr-var-name'><span>inp</span></div><div class='xr-var-dims'>()</div><div class='xr-var-dtype'>int32</div><div class='xr-var-preview xr-preview'>...</div><input id='attrs-64dec4dc-ed30-40a1-9d61-e12b1da2780d' class='xr-var-attrs-in' type='checkbox' ><label for='attrs-64dec4dc-ed30-40a1-9d61-e12b1da2780d' title='Show/Hide attributes'><svg class='icon xr-icon-file-text2'><use xlink:href='#icon-file-text2'></use></svg></label><input id='data-7fab559a-f52e-4c58-b336-a050f891153f' class='xr-var-data-in' type='checkbox'><label for='data-7fab559a-f52e-4c58-b336-a050f891153f' title='Show/Hide data repr'><svg class='icon xr-icon-database'><use xlink:href='#icon-database'></use></svg></label><div class='xr-var-attrs'><dl class='xr-attrs'><dt><span>mmax :</span></dt><dd>128</dd><dt><span>nmax :</span></dt><dd>67</dd><dt><span>dx :</span></dt><dd>1600.0</dd><dt><span>dy :</span></dt><dd>1600.0</dd><dt><span>x0 :</span></dt><dd>575000.0</dd><dt><span>y0 :</span></dt><dd>4477000.0</dd><dt><span>rotation :</span></dt><dd>0.0</dd><dt><span>tref :</span></dt><dd>20100101 000000</dd><dt><span>tstart :</span></dt><dd>20100101 000000</dd><dt><span>tstop :</span></dt><dd>20100401 000000</dd><dt><span>tspinup :</span></dt><dd>60.0</dd><dt><span>t0out :</span></dt><dd>0.0</dd><dt><span>t1out :</span></dt><dd>7776000.0</dd><dt><span>dtout :</span></dt><dd>300.0</dd><dt><span>dtmaxout :</span></dt><dd>0.0</dd><dt><span>dtrstout :</span></dt><dd>0.0</dd><dt><span>trstout :</span></dt><dd>-999.0</dd><dt><span>dthisout :</span></dt><dd>3600.0</dd><dt><span>dtwave :</span></dt><dd>3600.0</dd><dt><span>dtwnd :</span></dt><dd>1800.0</dd><dt><span>alpha :</span></dt><dd>0.5</dd><dt><span>theta :</span></dt><dd>1.0</dd><dt><span>manning :</span></dt><dd>0.04</dd><dt><span>manning_land :</span></dt><dd>0.04</dd><dt><span>manning_sea :</span></dt><dd>0.023</dd><dt><span>rgh_lev_land :</span></dt><dd>0.0</dd><dt><span>zsini :</span></dt><dd>0.0</dd><dt><span>qinf :</span></dt><dd>0.0</dd><dt><span>dtmax :</span></dt><dd>30.0</dd><dt><span>dtmin :</span></dt><dd>1.0096376</dd><dt><span>huthresh :</span></dt><dd>0.01</dd><dt><span>rhoa :</span></dt><dd>1.25</dd><dt><span>rhow :</span></dt><dd>1024.0</dd><dt><span>maxlev :</span></dt><dd>999.0</dd><dt><span>inputformat :</span></dt><dd>bin</dd><dt><span>outputformat :</span></dt><dd>net</dd><dt><span>outputtype_map :</span></dt><dd>net</dd><dt><span>outputtype_his :</span></dt><dd>net</dd><dt><span>bndtype :</span></dt><dd>1</dd><dt><span>advection :</span></dt><dd>0</dd><dt><span>nfreqsig :</span></dt><dd>100</dd><dt><span>freqminig :</span></dt><dd>0.0</dd><dt><span>freqmaxig :</span></dt><dd>0.1</dd><dt><span>latitude :</span></dt><dd>0.0</dd><dt><span>pavbnd :</span></dt><dd>0.0</dd><dt><span>gapres :</span></dt><dd>101200.0</dd><dt><span>baro :</span></dt><dd>0</dd><dt><span>utmzone :</span></dt><dd>nil</dd><dt><span>epsg :</span></dt><dd>0</dd><dt><span>epsg_code :</span></dt><dd>nil</dd><dt><span>stopdepth :</span></dt><dd>1000.0</dd><dt><span>advlim :</span></dt><dd>9999.9</dd><dt><span>qinf_zmin :</span></dt><dd>0.0</dd><dt><span>btfilter :</span></dt><dd>60.0</dd><dt><span>sfacinf :</span></dt><dd>0.2</dd><dt><span>radstr :</span></dt><dd>0</dd><dt><span>crsgeo :</span></dt><dd>0</dd><dt><span>coriolis :</span></dt><dd>0</dd><dt><span>amprblock :</span></dt><dd>1</dd><dt><span>spwmergefrac :</span></dt><dd>0.5</dd><dt><span>usespwprecip :</span></dt><dd>1</dd><dt><span>global :</span></dt><dd>0</dd><dt><span>nuvisc :</span></dt><dd>[-4.9507636e-14  6.1210118e-41  0.0000000e+00  0.0000000e+00]</dd><dt><span>spinup_meteo :</span></dt><dd>0</dd><dt><span>waveage :</span></dt><dd>-999.0</dd><dt><span>wmtfilter :</span></dt><dd>600.0</dd><dt><span>wmfred :</span></dt><dd>0.99</dd><dt><span>horton_kr_kd :</span></dt><dd>10.0</dd><dt><span>qtrfile :</span></dt><dd>sfincs.nc</dd><dt><span>depfile :</span></dt><dd>none</dd><dt><span>inifile :</span></dt><dd>none</dd><dt><span>rstfile :</span></dt><dd>none</dd><dt><span>mskfile :</span></dt><dd>none</dd><dt><span>indexfile :</span></dt><dd>none</dd><dt><span>cstfile :</span></dt><dd>none</dd><dt><span>sbgfile :</span></dt><dd>none</dd><dt><span>thdfile :</span></dt><dd>none</dd><dt><span>weirfile :</span></dt><dd>none</dd><dt><span>manningfile :</span></dt><dd>none</dd><dt><span>drnfile :</span></dt><dd>none</dd><dt><span>bndfile :</span></dt><dd>sfincs.bnd</dd><dt><span>bzsfile :</span></dt><dd>sfincs.bzs</dd><dt><span>bzifile :</span></dt><dd>sfincs.bzi</dd><dt><span>bwvfile :</span></dt><dd>none</dd><dt><span>bhsfile :</span></dt><dd>none</dd><dt><span>btpfile :</span></dt><dd>none</dd><dt><span>bwdfile :</span></dt><dd>none</dd><dt><span>bdsfile :</span></dt><dd>none</dd><dt><span>wfpfile :</span></dt><dd>none</dd><dt><span>whifile :</span></dt><dd>none</dd><dt><span>wtifile :</span></dt><dd>none</dd><dt><span>wstfile :</span></dt><dd>none</dd><dt><span>srcfile :</span></dt><dd>none</dd><dt><span>disfile :</span></dt><dd>none</dd><dt><span>spwfile :</span></dt><dd>none</dd><dt><span>wndfile :</span></dt><dd>none</dd><dt><span>precipfile :</span></dt><dd>sfincs.prc</dd><dt><span>amufile :</span></dt><dd>none</dd><dt><span>amvfile :</span></dt><dd>none</dd><dt><span>ampfile :</span></dt><dd>none</dd><dt><span>amprfile :</span></dt><dd>none</dd><dt><span>qinffile :</span></dt><dd>none</dd><dt><span>scsfile :</span></dt><dd>none</dd><dt><span>smaxfile :</span></dt><dd>none</dd><dt><span>sefffile :</span></dt><dd>none</dd><dt><span>ksfile :</span></dt><dd>none</dd><dt><span>psifile :</span></dt><dd>none</dd><dt><span>sigmafile :</span></dt><dd>none</dd><dt><span>z0lfile :</span></dt><dd>none</dd><dt><span>wvmfile :</span></dt><dd>none</dd><dt><span>netbndbzsbzifile :</span></dt><dd>none</dd><dt><span>netsrcdisfile :</span></dt><dd>none</dd><dt><span>netamuamvfile :</span></dt><dd>none</dd><dt><span>netamprfile :</span></dt><dd>none</dd><dt><span>netampfile :</span></dt><dd>none</dd><dt><span>netspwfile :</span></dt><dd>none</dd><dt><span>obsfile :</span></dt><dd>sfincs.obs</dd><dt><span>nobs :</span></dt><dd>3</dd><dt><span>crsfile :</span></dt><dd>none</dd><dt><span>storevelmax :</span></dt><dd>0</dd><dt><span>storefluxmax :</span></dt><dd>0</dd><dt><span>storevel :</span></dt><dd>1</dd><dt><span>storecumprcp :</span></dt><dd>0</dd><dt><span>storetwet :</span></dt><dd>0</dd><dt><span>storehsubgrid :</span></dt><dd>0</dd><dt><span>twet_threshold :</span></dt><dd>0.01</dd><dt><span>store_tsunami_arrival_time :</span></dt><dd>0</dd><dt><span>tsunami_arrival_threshold :</span></dt><dd>0.01</dd><dt><span>storeqdrain :</span></dt><dd>1</dd><dt><span>storezvolume :</span></dt><dd>0</dd><dt><span>writeruntime :</span></dt><dd>0</dd><dt><span>debug :</span></dt><dd>0</dd><dt><span>storemeteo :</span></dt><dd>0</dd><dt><span>storemaxwind :</span></dt><dd>0</dd><dt><span>storefw :</span></dt><dd>0</dd><dt><span>storewavdir :</span></dt><dd>0</dd><dt><span>cdnrb :</span></dt><dd>3</dd><dt><span>cdwnd :</span></dt><dd>[ 0. 28. 50.]</dd><dt><span>cdval :</span></dt><dd>[0.001  0.0025 0.0015]</dd><dt><span>manning2d :</span></dt><dd>0</dd><dt><span>subgrid :</span></dt><dd>0</dd><dt><span>viscosity :</span></dt><dd>0</dd><dt><span>wavemaker :</span></dt><dd>0</dd><dt><span>wavemaker_spectrum :</span></dt><dd>1</dd><dt><span>snapwave :</span></dt><dd>0</dd><dt><span>snapwave_gamma :</span></dt><dd>0.0</dd><dt><span>snapwave_alpha :</span></dt><dd>0.0</dd><dt><span>snapwave_hmin :</span></dt><dd>0.0</dd><dt><span>snapwave_fw :</span></dt><dd>0.0</dd><dt><span>snapwave_fwig :</span></dt><dd>0.0</dd><dt><span>snapwave_dt :</span></dt><dd>0.0</dd><dt><span>snapwave_tol :</span></dt><dd>0.0</dd><dt><span>snapwave_dtheta :</span></dt><dd>0.0</dd><dt><span>snapwave_crit :</span></dt><dd>0.0</dd><dt><span>snapwave_nrsweeps :</span></dt><dd>0</dd><dt><span>snapwave_baldock_opt :</span></dt><dd>0</dd><dt><span>snapwave_baldock_ratio :</span></dt><dd>0.0</dd><dt><span>snapwave_igwaves :</span></dt><dd>0</dd><dt><span>snapwave_alpha_ig :</span></dt><dd>0.0</dd><dt><span>snapwave_gammaig :</span></dt><dd>0.0</dd><dt><span>snapwave_shinc2ig :</span></dt><dd>0.0</dd><dt><span>snapwave_alphaigfac :</span></dt><dd>0.0</dd><dt><span>snapwave_baldock_ratio_ig :</span></dt><dd>0.0</dd><dt><span>snapwave_ig_opt :</span></dt><dd>0</dd><dt><span>snapwave_use_herbers :</span></dt><dd>0</dd><dt><span>snapwave_tpig_opt :</span></dt><dd>0</dd><dt><span>snapwave_eeinc2ig :</span></dt><dd>0.0</dd><dt><span>snapwave_Tinc2ig :</span></dt><dd>0.0</dd><dt><span>snapwave_jonswapfile :</span></dt><dd></dd><dt><span>snapwave_encfile :</span></dt><dd></dd><dt><span>snapwave_upwfile :</span></dt><dd></dd><dt><span>snapwave_ncfile :</span></dt><dd></dd></dl></div><div class='xr-var-data'><pre>[1 values with dtype=int32]</pre></div></li><li class='xr-var-item'><div class='xr-var-name'><span>mesh2d_node_x</span></div><div class='xr-var-dims'>(nmesh2d_node)</div><div class='xr-var-dtype'>float32</div><div class='xr-var-preview xr-preview'>...</div><input id='attrs-7afa0cfc-e4d7-4bd6-bea0-08717a827304' class='xr-var-attrs-in' type='checkbox' ><label for='attrs-7afa0cfc-e4d7-4bd6-bea0-08717a827304' title='Show/Hide attributes'><svg class='icon xr-icon-file-text2'><use xlink:href='#icon-file-text2'></use></svg></label><input id='data-ac95a4a9-2eea-49ee-b429-f16d7901e303' class='xr-var-data-in' type='checkbox'><label for='data-ac95a4a9-2eea-49ee-b429-f16d7901e303' title='Show/Hide data repr'><svg class='icon xr-icon-database'><use xlink:href='#icon-database'></use></svg></label><div class='xr-var-attrs'><dl class='xr-attrs'><dt><span>units :</span></dt><dd>m</dd><dt><span>standard_name :</span></dt><dd>projection_x_coordinate</dd><dt><span>long_name :</span></dt><dd>x-coordinate of mesh nodes</dd><dt><span>mesh :</span></dt><dd>mesh2d</dd><dt><span>location :</span></dt><dd>node</dd></dl></div><div class='xr-var-data'><pre>[56192 values with dtype=float32]</pre></div></li><li class='xr-var-item'><div class='xr-var-name'><span>mesh2d_node_y</span></div><div class='xr-var-dims'>(nmesh2d_node)</div><div class='xr-var-dtype'>float32</div><div class='xr-var-preview xr-preview'>...</div><input id='attrs-54b5d60f-5025-416f-9eec-b9a83ceee634' class='xr-var-attrs-in' type='checkbox' ><label for='attrs-54b5d60f-5025-416f-9eec-b9a83ceee634' title='Show/Hide attributes'><svg class='icon xr-icon-file-text2'><use xlink:href='#icon-file-text2'></use></svg></label><input id='data-fc8b1929-5de6-4084-bdb9-6451447129cb' class='xr-var-data-in' type='checkbox'><label for='data-fc8b1929-5de6-4084-bdb9-6451447129cb' title='Show/Hide data repr'><svg class='icon xr-icon-database'><use xlink:href='#icon-database'></use></svg></label><div class='xr-var-attrs'><dl class='xr-attrs'><dt><span>units :</span></dt><dd>m</dd><dt><span>standard_name :</span></dt><dd>projection_y_coordinate</dd><dt><span>long_name :</span></dt><dd>y-coordinate of mesh nodes</dd><dt><span>mesh :</span></dt><dd>mesh2d</dd><dt><span>location :</span></dt><dd>node</dd></dl></div><div class='xr-var-data'><pre>[56192 values with dtype=float32]</pre></div></li><li class='xr-var-item'><div class='xr-var-name'><span>crs</span></div><div class='xr-var-dims'>()</div><div class='xr-var-dtype'>int32</div><div class='xr-var-preview xr-preview'>...</div><input id='attrs-076d06b5-eac5-438d-8ea3-825207c9ee77' class='xr-var-attrs-in' type='checkbox' ><label for='attrs-076d06b5-eac5-438d-8ea3-825207c9ee77' title='Show/Hide attributes'><svg class='icon xr-icon-file-text2'><use xlink:href='#icon-file-text2'></use></svg></label><input id='data-76614889-2d90-4cc0-afaf-5b51b4c487d5' class='xr-var-data-in' type='checkbox'><label for='data-76614889-2d90-4cc0-afaf-5b51b4c487d5' title='Show/Hide data repr'><svg class='icon xr-icon-database'><use xlink:href='#icon-database'></use></svg></label><div class='xr-var-attrs'><dl class='xr-attrs'><dt><span>EPSG :</span></dt><dd>-</dd></dl></div><div class='xr-var-data'><pre>[1 values with dtype=int32]</pre></div></li><li class='xr-var-item'><div class='xr-var-name'><span>zb</span></div><div class='xr-var-dims'>(nmesh2d_face)</div><div class='xr-var-dtype'>float32</div><div class='xr-var-preview xr-preview'>...</div><input id='attrs-1b515d97-725c-445c-a464-d835e90d92be' class='xr-var-attrs-in' type='checkbox' ><label for='attrs-1b515d97-725c-445c-a464-d835e90d92be' title='Show/Hide attributes'><svg class='icon xr-icon-file-text2'><use xlink:href='#icon-file-text2'></use></svg></label><input id='data-0b34e6a8-d531-466c-802f-67067d0108b8' class='xr-var-data-in' type='checkbox'><label for='data-0b34e6a8-d531-466c-802f-67067d0108b8' title='Show/Hide data repr'><svg class='icon xr-icon-database'><use xlink:href='#icon-database'></use></svg></label><div class='xr-var-attrs'><dl class='xr-attrs'><dt><span>units :</span></dt><dd>m</dd><dt><span>standard_name :</span></dt><dd>altitude</dd><dt><span>long_name :</span></dt><dd>bed_level_above_reference_level</dd></dl></div><div class='xr-var-data'><pre>[14048 values with dtype=float32]</pre></div></li><li class='xr-var-item'><div class='xr-var-name'><span>msk</span></div><div class='xr-var-dims'>(nmesh2d_face)</div><div class='xr-var-dtype'>float64</div><div class='xr-var-preview xr-preview'>...</div><input id='attrs-3789992e-1db3-4e74-8588-710258fa2146' class='xr-var-attrs-in' type='checkbox' ><label for='attrs-3789992e-1db3-4e74-8588-710258fa2146' title='Show/Hide attributes'><svg class='icon xr-icon-file-text2'><use xlink:href='#icon-file-text2'></use></svg></label><input id='data-398f49d9-8f41-45fd-910b-d80765448f50' class='xr-var-data-in' type='checkbox'><label for='data-398f49d9-8f41-45fd-910b-d80765448f50' title='Show/Hide data repr'><svg class='icon xr-icon-database'><use xlink:href='#icon-database'></use></svg></label><div class='xr-var-attrs'><dl class='xr-attrs'><dt><span>units :</span></dt><dd>-</dd><dt><span>standard_name :</span></dt><dd>mask</dd><dt><span>long_name :</span></dt><dd>msk_active_cells</dd><dt><span>description :</span></dt><dd>inactive=0, active=1, normal_boundary=2, outflow_boundary=3, wavemaker=4</dd></dl></div><div class='xr-var-data'><pre>[14048 values with dtype=float64]</pre></div></li><li class='xr-var-item'><div class='xr-var-name'><span>zs</span></div><div class='xr-var-dims'>(time, nmesh2d_face)</div><div class='xr-var-dtype'>float32</div><div class='xr-var-preview xr-preview'>...</div><input id='attrs-e2264e8d-81d0-4d2e-9006-834c59f0eccc' class='xr-var-attrs-in' type='checkbox' ><label for='attrs-e2264e8d-81d0-4d2e-9006-834c59f0eccc' title='Show/Hide attributes'><svg class='icon xr-icon-file-text2'><use xlink:href='#icon-file-text2'></use></svg></label><input id='data-40dab629-148b-4823-b452-53b24916934d' class='xr-var-data-in' type='checkbox'><label for='data-40dab629-148b-4823-b452-53b24916934d' title='Show/Hide data repr'><svg class='icon xr-icon-database'><use xlink:href='#icon-database'></use></svg></label><div class='xr-var-attrs'><dl class='xr-attrs'><dt><span>units :</span></dt><dd>m</dd><dt><span>standard_name :</span></dt><dd>sea_surface_height_above_reference_level</dd><dt><span>long_name :</span></dt><dd>water_level</dd></dl></div><div class='xr-var-data'><pre>[364138208 values with dtype=float32]</pre></div></li><li class='xr-var-item'><div class='xr-var-name'><span>u</span></div><div class='xr-var-dims'>(time, nmesh2d_face)</div><div class='xr-var-dtype'>float32</div><div class='xr-var-preview xr-preview'>...</div><input id='attrs-5f807f71-1426-4ce7-a0fb-da1bd3d6ec02' class='xr-var-attrs-in' type='checkbox' ><label for='attrs-5f807f71-1426-4ce7-a0fb-da1bd3d6ec02' title='Show/Hide attributes'><svg class='icon xr-icon-file-text2'><use xlink:href='#icon-file-text2'></use></svg></label><input id='data-9b6acae5-1c8b-40ef-a266-540b474f2a3d' class='xr-var-data-in' type='checkbox'><label for='data-9b6acae5-1c8b-40ef-a266-540b474f2a3d' title='Show/Hide data repr'><svg class='icon xr-icon-database'><use xlink:href='#icon-database'></use></svg></label><div class='xr-var-attrs'><dl class='xr-attrs'><dt><span>units :</span></dt><dd>m s-1</dd><dt><span>standard_name :</span></dt><dd>sea_water_x_velocity</dd><dt><span>long_name :</span></dt><dd>flow_velocity_x_direction_in_cell_edge</dd></dl></div><div class='xr-var-data'><pre>[364138208 values with dtype=float32]</pre></div></li><li class='xr-var-item'><div class='xr-var-name'><span>v</span></div><div class='xr-var-dims'>(time, nmesh2d_face)</div><div class='xr-var-dtype'>float32</div><div class='xr-var-preview xr-preview'>...</div><input id='attrs-3868826a-bc00-4331-a1da-7704de74edd6' class='xr-var-attrs-in' type='checkbox' ><label for='attrs-3868826a-bc00-4331-a1da-7704de74edd6' title='Show/Hide attributes'><svg class='icon xr-icon-file-text2'><use xlink:href='#icon-file-text2'></use></svg></label><input id='data-297edd62-f1a0-4a65-8325-3b807e320f80' class='xr-var-data-in' type='checkbox'><label for='data-297edd62-f1a0-4a65-8325-3b807e320f80' title='Show/Hide data repr'><svg class='icon xr-icon-database'><use xlink:href='#icon-database'></use></svg></label><div class='xr-var-attrs'><dl class='xr-attrs'><dt><span>units :</span></dt><dd>m s-1</dd><dt><span>standard_name :</span></dt><dd>sea_water_y_velocity</dd><dt><span>long_name :</span></dt><dd>flow_velocity_y_direction_in_cell_edge</dd></dl></div><div class='xr-var-data'><pre>[364138208 values with dtype=float32]</pre></div></li><li class='xr-var-item'><div class='xr-var-name'><span>total_runtime</span></div><div class='xr-var-dims'>(runtime)</div><div class='xr-var-dtype'>float32</div><div class='xr-var-preview xr-preview'>...</div><input id='attrs-b56aa954-6516-421d-8a48-8b453bad4b38' class='xr-var-attrs-in' type='checkbox' ><label for='attrs-b56aa954-6516-421d-8a48-8b453bad4b38' title='Show/Hide attributes'><svg class='icon xr-icon-file-text2'><use xlink:href='#icon-file-text2'></use></svg></label><input id='data-c7846d2a-2fe9-4418-8187-183f8c3093d6' class='xr-var-data-in' type='checkbox'><label for='data-c7846d2a-2fe9-4418-8187-183f8c3093d6' title='Show/Hide data repr'><svg class='icon xr-icon-database'><use xlink:href='#icon-database'></use></svg></label><div class='xr-var-attrs'><dl class='xr-attrs'><dt><span>units :</span></dt><dd>s</dd><dt><span>long_name :</span></dt><dd>model_average_timestep_in_seconds</dd></dl></div><div class='xr-var-data'><pre>[1 values with dtype=float32]</pre></div></li><li class='xr-var-item'><div class='xr-var-name'><span>average_dt</span></div><div class='xr-var-dims'>(runtime)</div><div class='xr-var-dtype'>float32</div><div class='xr-var-preview xr-preview'>...</div><input id='attrs-e6b230dd-f5ac-4e95-9c5e-490d5d083b36' class='xr-var-attrs-in' type='checkbox' disabled><label for='attrs-e6b230dd-f5ac-4e95-9c5e-490d5d083b36' title='Show/Hide attributes'><svg class='icon xr-icon-file-text2'><use xlink:href='#icon-file-text2'></use></svg></label><input id='data-7f3384a7-229d-4898-ad03-b8c873dd6136' class='xr-var-data-in' type='checkbox'><label for='data-7f3384a7-229d-4898-ad03-b8c873dd6136' title='Show/Hide data repr'><svg class='icon xr-icon-database'><use xlink:href='#icon-database'></use></svg></label><div class='xr-var-attrs'><dl class='xr-attrs'></dl></div><div class='xr-var-data'><pre>[1 values with dtype=float32]</pre></div></li><li class='xr-var-item'><div class='xr-var-name'><span>status</span></div><div class='xr-var-dims'>(runtime)</div><div class='xr-var-dtype'>float32</div><div class='xr-var-preview xr-preview'>...</div><input id='attrs-c7fc5dc6-307f-4f09-89b3-d86e6ac7be88' class='xr-var-attrs-in' type='checkbox' ><label for='attrs-c7fc5dc6-307f-4f09-89b3-d86e6ac7be88' title='Show/Hide attributes'><svg class='icon xr-icon-file-text2'><use xlink:href='#icon-file-text2'></use></svg></label><input id='data-066f88ab-f4cb-4e6e-9a4f-d431981d0d11' class='xr-var-data-in' type='checkbox'><label for='data-066f88ab-f4cb-4e6e-9a4f-d431981d0d11' title='Show/Hide data repr'><svg class='icon xr-icon-database'><use xlink:href='#icon-database'></use></svg></label><div class='xr-var-attrs'><dl class='xr-attrs'><dt><span>units :</span></dt><dd>-</dd><dt><span>long_name :</span></dt><dd>status of SFINCS simulation - 0 is no error</dd></dl></div><div class='xr-var-data'><pre>[1 values with dtype=float32]</pre></div></li></ul></div></li><li class='xr-section-item'><input id='section-4843a9af-a016-4987-99b2-6745dfdf5c77' class='xr-section-summary-in' type='checkbox'  ><label for='section-4843a9af-a016-4987-99b2-6745dfdf5c77' class='xr-section-summary' >Indexes: <span>(3)</span></label><div class='xr-section-inline-details'></div><div class='xr-section-details'><ul class='xr-var-list'><li class='xr-var-item'><div class='xr-index-name'><div>time</div></div><div class='xr-index-preview'>PandasIndex</div><div></div><input id='index-3120113e-96bc-430a-afe8-43687a46547b' class='xr-index-data-in' type='checkbox'/><label for='index-3120113e-96bc-430a-afe8-43687a46547b' title='Show/Hide index repr'><svg class='icon xr-icon-database'><use xlink:href='#icon-database'></use></svg></label><div class='xr-index-data'><pre>PandasIndex(DatetimeIndex([&#x27;2010-01-01 00:00:00&#x27;, &#x27;2010-01-01 00:05:00&#x27;,\n",
       "               &#x27;2010-01-01 00:10:00&#x27;, &#x27;2010-01-01 00:15:00&#x27;,\n",
       "               &#x27;2010-01-01 00:20:00&#x27;, &#x27;2010-01-01 00:25:00&#x27;,\n",
       "               &#x27;2010-01-01 00:30:00&#x27;, &#x27;2010-01-01 00:35:00&#x27;,\n",
       "               &#x27;2010-01-01 00:40:00&#x27;, &#x27;2010-01-01 00:45:00&#x27;,\n",
       "               ...\n",
       "               &#x27;2010-03-31 23:15:00&#x27;, &#x27;2010-03-31 23:20:00&#x27;,\n",
       "               &#x27;2010-03-31 23:25:00&#x27;, &#x27;2010-03-31 23:30:00&#x27;,\n",
       "               &#x27;2010-03-31 23:35:00&#x27;, &#x27;2010-03-31 23:40:00&#x27;,\n",
       "               &#x27;2010-03-31 23:45:00&#x27;, &#x27;2010-03-31 23:50:00&#x27;,\n",
       "               &#x27;2010-03-31 23:55:00&#x27;, &#x27;2010-04-01 00:00:00&#x27;],\n",
       "              dtype=&#x27;datetime64[ns]&#x27;, name=&#x27;time&#x27;, length=25921, freq=None))</pre></div></li><li class='xr-var-item'><div class='xr-index-name'><div>nmesh2d_face</div></div><div class='xr-index-preview'>PandasIndex</div><div></div><input id='index-7eaa69db-37c7-41bf-8ef0-0a712b033903' class='xr-index-data-in' type='checkbox'/><label for='index-7eaa69db-37c7-41bf-8ef0-0a712b033903' title='Show/Hide index repr'><svg class='icon xr-icon-database'><use xlink:href='#icon-database'></use></svg></label><div class='xr-index-data'><pre>PandasIndex(RangeIndex(start=0, stop=14048, step=1, name=&#x27;nmesh2d_face&#x27;))</pre></div></li><li class='xr-var-item'><div class='xr-index-name'><div>nmesh2d_node</div></div><div class='xr-index-preview'>PandasIndex</div><div></div><input id='index-0e0b45bb-eff5-445c-bab1-f3e86c33b76a' class='xr-index-data-in' type='checkbox'/><label for='index-0e0b45bb-eff5-445c-bab1-f3e86c33b76a' title='Show/Hide index repr'><svg class='icon xr-icon-database'><use xlink:href='#icon-database'></use></svg></label><div class='xr-index-data'><pre>PandasIndex(RangeIndex(start=0, stop=56192, step=1, name=&#x27;nmesh2d_node&#x27;))</pre></div></li></ul></div></li><li class='xr-section-item'><input id='section-9be0c255-14ef-449c-821e-210001f95afe' class='xr-section-summary-in' type='checkbox'  checked><label for='section-9be0c255-14ef-449c-821e-210001f95afe' class='xr-section-summary' >Attributes: <span>(6)</span></label><div class='xr-section-inline-details'></div><div class='xr-section-details'><dl class='xr-attrs'><dt><span>Conventions :</span></dt><dd>Conventions = &#x27;CF-1.8 UGRID-1.0 Deltares-0.10&#x27;</dd><dt><span>Build-Revision-Date-Netcdf-library :</span></dt><dd>4.8.1 of Sep 29 2021 09:36:14 $</dd><dt><span>Producer :</span></dt><dd>SFINCS model: Super-Fast INundation of CoastS</dd><dt><span>Build-Revision :</span></dt><dd>$Rev: v2.0.8-beta</dd><dt><span>Build-Date :</span></dt><dd>$Date: 2024-06-10</dd><dt><span>title :</span></dt><dd>SFINCS map netcdf output</dd></dl></div></li></ul></div></div>"
      ],
      "text/plain": [
       "<xarray.Dataset> Size: 4GB\n",
       "Dimensions:        (nmesh2d_node: 56192, nmesh2d_face: 14048, time: 25921,\n",
       "                    runtime: 1)\n",
       "Coordinates:\n",
       "  * time           (time) datetime64[ns] 207kB 2010-01-01 ... 2010-04-01\n",
       "  * nmesh2d_face   (nmesh2d_face) int64 112kB 0 1 2 3 ... 14045 14046 14047\n",
       "  * nmesh2d_node   (nmesh2d_node) int64 450kB 0 1 2 3 ... 56189 56190 56191\n",
       "Dimensions without coordinates: runtime\n",
       "Data variables:\n",
       "    inp            int32 4B ...\n",
       "    mesh2d_node_x  (nmesh2d_node) float32 225kB ...\n",
       "    mesh2d_node_y  (nmesh2d_node) float32 225kB ...\n",
       "    crs            int32 4B ...\n",
       "    zb             (nmesh2d_face) float32 56kB ...\n",
       "    msk            (nmesh2d_face) float64 112kB ...\n",
       "    zs             (time, nmesh2d_face) float32 1GB ...\n",
       "    u              (time, nmesh2d_face) float32 1GB ...\n",
       "    v              (time, nmesh2d_face) float32 1GB ...\n",
       "    total_runtime  (runtime) float32 4B ...\n",
       "    average_dt     (runtime) float32 4B ...\n",
       "    status         (runtime) float32 4B ...\n",
       "Attributes:\n",
       "    Conventions:                         Conventions = 'CF-1.8 UGRID-1.0 Delt...\n",
       "    Build-Revision-Date-Netcdf-library:  4.8.1 of Sep 29 2021 09:36:14 $\n",
       "    Producer:                            SFINCS model: Super-Fast INundation ...\n",
       "    Build-Revision:                      $Rev: v2.0.8-beta\n",
       "    Build-Date:                          $Date: 2024-06-10\n",
       "    title:                               SFINCS map netcdf output"
      ]
     },
     "execution_count": 5,
     "metadata": {},
     "output_type": "execute_result"
    }
   ],
   "source": [
    "source_ds"
   ]
  },
  {
   "cell_type": "code",
   "execution_count": 6,
   "metadata": {
    "execution": {
     "iopub.execute_input": "2024-11-18T09:31:49.345043Z",
     "iopub.status.busy": "2024-11-18T09:31:49.344934Z",
     "iopub.status.idle": "2024-11-18T09:31:49.368260Z",
     "shell.execute_reply": "2024-11-18T09:31:49.367881Z",
     "shell.execute_reply.started": "2024-11-18T09:31:49.345032Z"
    }
   },
   "outputs": [],
   "source": [
    "source_gdf = source_ds[\"nmesh2d_face\"].ugrid.to_geodataframe(name=\"cell\")"
   ]
  },
  {
   "cell_type": "code",
   "execution_count": 7,
   "metadata": {
    "execution": {
     "iopub.execute_input": "2024-11-18T09:31:49.368858Z",
     "iopub.status.busy": "2024-11-18T09:31:49.368755Z",
     "iopub.status.idle": "2024-11-18T09:31:49.394667Z",
     "shell.execute_reply": "2024-11-18T09:31:49.394334Z",
     "shell.execute_reply.started": "2024-11-18T09:31:49.368847Z"
    }
   },
   "outputs": [
    {
     "data": {
      "text/html": [
       "<div>\n",
       "<style scoped>\n",
       "    .dataframe tbody tr th:only-of-type {\n",
       "        vertical-align: middle;\n",
       "    }\n",
       "\n",
       "    .dataframe tbody tr th {\n",
       "        vertical-align: top;\n",
       "    }\n",
       "\n",
       "    .dataframe thead th {\n",
       "        text-align: right;\n",
       "    }\n",
       "</style>\n",
       "<table border=\"1\" class=\"dataframe\">\n",
       "  <thead>\n",
       "    <tr style=\"text-align: right;\">\n",
       "      <th></th>\n",
       "      <th>cell</th>\n",
       "      <th>geometry</th>\n",
       "    </tr>\n",
       "    <tr>\n",
       "      <th>nmesh2d_face</th>\n",
       "      <th></th>\n",
       "      <th></th>\n",
       "    </tr>\n",
       "  </thead>\n",
       "  <tbody>\n",
       "    <tr>\n",
       "      <th>0</th>\n",
       "      <td>0</td>\n",
       "      <td>POLYGON ((575000.000 4477000.000, 576600.000 4...</td>\n",
       "    </tr>\n",
       "    <tr>\n",
       "      <th>1</th>\n",
       "      <td>1</td>\n",
       "      <td>POLYGON ((575000.000 4478600.000, 576600.000 4...</td>\n",
       "    </tr>\n",
       "    <tr>\n",
       "      <th>2</th>\n",
       "      <td>2</td>\n",
       "      <td>POLYGON ((575000.000 4480200.000, 576600.000 4...</td>\n",
       "    </tr>\n",
       "    <tr>\n",
       "      <th>3</th>\n",
       "      <td>3</td>\n",
       "      <td>POLYGON ((575000.000 4481800.000, 576600.000 4...</td>\n",
       "    </tr>\n",
       "    <tr>\n",
       "      <th>4</th>\n",
       "      <td>4</td>\n",
       "      <td>POLYGON ((575000.000 4483400.000, 576600.000 4...</td>\n",
       "    </tr>\n",
       "    <tr>\n",
       "      <th>...</th>\n",
       "      <td>...</td>\n",
       "      <td>...</td>\n",
       "    </tr>\n",
       "    <tr>\n",
       "      <th>14043</th>\n",
       "      <td>14043</td>\n",
       "      <td>POLYGON ((724200.000 4558000.000, 724400.000 4...</td>\n",
       "    </tr>\n",
       "    <tr>\n",
       "      <th>14044</th>\n",
       "      <td>14044</td>\n",
       "      <td>POLYGON ((724400.000 4557400.000, 724600.000 4...</td>\n",
       "    </tr>\n",
       "    <tr>\n",
       "      <th>14045</th>\n",
       "      <td>14045</td>\n",
       "      <td>POLYGON ((724400.000 4557600.000, 724600.000 4...</td>\n",
       "    </tr>\n",
       "    <tr>\n",
       "      <th>14046</th>\n",
       "      <td>14046</td>\n",
       "      <td>POLYGON ((724400.000 4557800.000, 724600.000 4...</td>\n",
       "    </tr>\n",
       "    <tr>\n",
       "      <th>14047</th>\n",
       "      <td>14047</td>\n",
       "      <td>POLYGON ((724400.000 4558000.000, 724600.000 4...</td>\n",
       "    </tr>\n",
       "  </tbody>\n",
       "</table>\n",
       "<p>14048 rows × 2 columns</p>\n",
       "</div>"
      ],
      "text/plain": [
       "               cell                                           geometry\n",
       "nmesh2d_face                                                          \n",
       "0                 0  POLYGON ((575000.000 4477000.000, 576600.000 4...\n",
       "1                 1  POLYGON ((575000.000 4478600.000, 576600.000 4...\n",
       "2                 2  POLYGON ((575000.000 4480200.000, 576600.000 4...\n",
       "3                 3  POLYGON ((575000.000 4481800.000, 576600.000 4...\n",
       "4                 4  POLYGON ((575000.000 4483400.000, 576600.000 4...\n",
       "...             ...                                                ...\n",
       "14043         14043  POLYGON ((724200.000 4558000.000, 724400.000 4...\n",
       "14044         14044  POLYGON ((724400.000 4557400.000, 724600.000 4...\n",
       "14045         14045  POLYGON ((724400.000 4557600.000, 724600.000 4...\n",
       "14046         14046  POLYGON ((724400.000 4557800.000, 724600.000 4...\n",
       "14047         14047  POLYGON ((724400.000 4558000.000, 724600.000 4...\n",
       "\n",
       "[14048 rows x 2 columns]"
      ]
     },
     "execution_count": 7,
     "metadata": {},
     "output_type": "execute_result"
    }
   ],
   "source": [
    "source_gdf.set_crs(32618, inplace=True)"
   ]
  },
  {
   "cell_type": "code",
   "execution_count": 8,
   "metadata": {
    "execution": {
     "iopub.execute_input": "2024-11-18T09:31:49.395495Z",
     "iopub.status.busy": "2024-11-18T09:31:49.395336Z",
     "iopub.status.idle": "2024-11-18T09:31:50.383866Z",
     "shell.execute_reply": "2024-11-18T09:31:50.383503Z",
     "shell.execute_reply.started": "2024-11-18T09:31:49.395482Z"
    }
   },
   "outputs": [
    {
     "name": "stderr",
     "output_type": "stream",
     "text": [
      "/Users/jdhughes/miniforge3/envs/liss/lib/python3.10/site-packages/IPython/core/pylabtools.py:77: DeprecationWarning: backend2gui is deprecated since IPython 8.24, backends are managed in matplotlib and can be externally registered.\n",
      "  warnings.warn(\n",
      "/Users/jdhughes/miniforge3/envs/liss/lib/python3.10/site-packages/IPython/core/pylabtools.py:77: DeprecationWarning: backend2gui is deprecated since IPython 8.24, backends are managed in matplotlib and can be externally registered.\n",
      "  warnings.warn(\n"
     ]
    },
    {
     "data": {
      "text/plain": [
       "<Axes: >"
      ]
     },
     "execution_count": 8,
     "metadata": {},
     "output_type": "execute_result"
    },
    {
     "data": {
      "image/png": "[encoded data removed]",
      "text/plain": [
       "<Figure size 640x480 with 1 Axes>"
      ]
     },
     "metadata": {},
     "output_type": "display_data"
    }
   ],
   "source": [
    "source_gdf.plot(fc=\"none\", ec=\"black\", lw=0.5)"
   ]
  },
  {
   "cell_type": "code",
   "execution_count": 9,
   "metadata": {
    "execution": {
     "iopub.execute_input": "2024-11-18T09:31:50.384516Z",
     "iopub.status.busy": "2024-11-18T09:31:50.384395Z",
     "iopub.status.idle": "2024-11-18T09:31:50.485784Z",
     "shell.execute_reply": "2024-11-18T09:31:50.485475Z",
     "shell.execute_reply.started": "2024-11-18T09:31:50.384503Z"
    }
   },
   "outputs": [
    {
     "data": {
      "text/html": [
       "<div>\n",
       "<style scoped>\n",
       "    .dataframe tbody tr th:only-of-type {\n",
       "        vertical-align: middle;\n",
       "    }\n",
       "\n",
       "    .dataframe tbody tr th {\n",
       "        vertical-align: top;\n",
       "    }\n",
       "\n",
       "    .dataframe thead th {\n",
       "        text-align: right;\n",
       "    }\n",
       "</style>\n",
       "<table border=\"1\" class=\"dataframe\">\n",
       "  <thead>\n",
       "    <tr style=\"text-align: right;\">\n",
       "      <th></th>\n",
       "      <th>layer</th>\n",
       "      <th>row</th>\n",
       "      <th>column</th>\n",
       "      <th>bhead</th>\n",
       "      <th>cond</th>\n",
       "      <th>iface</th>\n",
       "      <th>boundname</th>\n",
       "      <th>ghb_no</th>\n",
       "      <th>ID</th>\n",
       "      <th>geometry</th>\n",
       "    </tr>\n",
       "  </thead>\n",
       "  <tbody>\n",
       "    <tr>\n",
       "      <th>0</th>\n",
       "      <td>0</td>\n",
       "      <td>26</td>\n",
       "      <td>0</td>\n",
       "      <td>0.0</td>\n",
       "      <td>24999.999994</td>\n",
       "      <td>0</td>\n",
       "      <td>sound</td>\n",
       "      <td>0</td>\n",
       "      <td>1483</td>\n",
       "      <td>POLYGON ((717047.981 4552610.453, 717192.388 4...</td>\n",
       "    </tr>\n",
       "    <tr>\n",
       "      <th>1</th>\n",
       "      <td>0</td>\n",
       "      <td>27</td>\n",
       "      <td>0</td>\n",
       "      <td>0.0</td>\n",
       "      <td>25000.000000</td>\n",
       "      <td>0</td>\n",
       "      <td>sound</td>\n",
       "      <td>1</td>\n",
       "      <td>1540</td>\n",
       "      <td>POLYGON ((717096.758 4552466.038, 717241.165 4...</td>\n",
       "    </tr>\n",
       "    <tr>\n",
       "      <th>2</th>\n",
       "      <td>0</td>\n",
       "      <td>28</td>\n",
       "      <td>0</td>\n",
       "      <td>0.0</td>\n",
       "      <td>24999.999994</td>\n",
       "      <td>0</td>\n",
       "      <td>sound</td>\n",
       "      <td>2</td>\n",
       "      <td>1597</td>\n",
       "      <td>POLYGON ((717145.535 4552321.623, 717289.942 4...</td>\n",
       "    </tr>\n",
       "    <tr>\n",
       "      <th>3</th>\n",
       "      <td>0</td>\n",
       "      <td>29</td>\n",
       "      <td>0</td>\n",
       "      <td>0.0</td>\n",
       "      <td>24231.956659</td>\n",
       "      <td>0</td>\n",
       "      <td>sound</td>\n",
       "      <td>3</td>\n",
       "      <td>1654</td>\n",
       "      <td>POLYGON ((717194.312 4552177.208, 717338.720 4...</td>\n",
       "    </tr>\n",
       "    <tr>\n",
       "      <th>4</th>\n",
       "      <td>0</td>\n",
       "      <td>25</td>\n",
       "      <td>1</td>\n",
       "      <td>0.0</td>\n",
       "      <td>25000.000006</td>\n",
       "      <td>0</td>\n",
       "      <td>sound</td>\n",
       "      <td>4</td>\n",
       "      <td>1427</td>\n",
       "      <td>POLYGON ((717143.610 4552803.650, 717288.017 4...</td>\n",
       "    </tr>\n",
       "    <tr>\n",
       "      <th>...</th>\n",
       "      <td>...</td>\n",
       "      <td>...</td>\n",
       "      <td>...</td>\n",
       "      <td>...</td>\n",
       "      <td>...</td>\n",
       "      <td>...</td>\n",
       "      <td>...</td>\n",
       "      <td>...</td>\n",
       "      <td>...</td>\n",
       "      <td>...</td>\n",
       "    </tr>\n",
       "    <tr>\n",
       "      <th>730</th>\n",
       "      <td>0</td>\n",
       "      <td>14</td>\n",
       "      <td>56</td>\n",
       "      <td>0.0</td>\n",
       "      <td>22494.219708</td>\n",
       "      <td>0</td>\n",
       "      <td>peconic</td>\n",
       "      <td>730</td>\n",
       "      <td>855</td>\n",
       "      <td>POLYGON ((724549.547 4557075.386, 724693.965 4...</td>\n",
       "    </tr>\n",
       "    <tr>\n",
       "      <th>731</th>\n",
       "      <td>0</td>\n",
       "      <td>15</td>\n",
       "      <td>56</td>\n",
       "      <td>0.0</td>\n",
       "      <td>25000.000006</td>\n",
       "      <td>0</td>\n",
       "      <td>peconic</td>\n",
       "      <td>731</td>\n",
       "      <td>912</td>\n",
       "      <td>POLYGON ((724598.333 4556930.967, 724742.751 4...</td>\n",
       "    </tr>\n",
       "    <tr>\n",
       "      <th>732</th>\n",
       "      <td>0</td>\n",
       "      <td>16</td>\n",
       "      <td>56</td>\n",
       "      <td>0.0</td>\n",
       "      <td>24999.999994</td>\n",
       "      <td>0</td>\n",
       "      <td>peconic</td>\n",
       "      <td>732</td>\n",
       "      <td>969</td>\n",
       "      <td>POLYGON ((724647.119 4556786.547, 724791.537 4...</td>\n",
       "    </tr>\n",
       "    <tr>\n",
       "      <th>733</th>\n",
       "      <td>0</td>\n",
       "      <td>17</td>\n",
       "      <td>56</td>\n",
       "      <td>0.0</td>\n",
       "      <td>25000.000000</td>\n",
       "      <td>0</td>\n",
       "      <td>peconic</td>\n",
       "      <td>733</td>\n",
       "      <td>1026</td>\n",
       "      <td>POLYGON ((724695.904 4556642.127, 724840.323 4...</td>\n",
       "    </tr>\n",
       "    <tr>\n",
       "      <th>734</th>\n",
       "      <td>0</td>\n",
       "      <td>18</td>\n",
       "      <td>56</td>\n",
       "      <td>0.0</td>\n",
       "      <td>24999.999994</td>\n",
       "      <td>0</td>\n",
       "      <td>peconic</td>\n",
       "      <td>734</td>\n",
       "      <td>1083</td>\n",
       "      <td>POLYGON ((724744.690 4556497.707, 724889.108 4...</td>\n",
       "    </tr>\n",
       "  </tbody>\n",
       "</table>\n",
       "<p>735 rows × 10 columns</p>\n",
       "</div>"
      ],
      "text/plain": [
       "     layer  row  column  bhead          cond  iface boundname  ghb_no    ID  \\\n",
       "0        0   26       0    0.0  24999.999994      0     sound       0  1483   \n",
       "1        0   27       0    0.0  25000.000000      0     sound       1  1540   \n",
       "2        0   28       0    0.0  24999.999994      0     sound       2  1597   \n",
       "3        0   29       0    0.0  24231.956659      0     sound       3  1654   \n",
       "4        0   25       1    0.0  25000.000006      0     sound       4  1427   \n",
       "..     ...  ...     ...    ...           ...    ...       ...     ...   ...   \n",
       "730      0   14      56    0.0  22494.219708      0   peconic     730   855   \n",
       "731      0   15      56    0.0  25000.000006      0   peconic     731   912   \n",
       "732      0   16      56    0.0  24999.999994      0   peconic     732   969   \n",
       "733      0   17      56    0.0  25000.000000      0   peconic     733  1026   \n",
       "734      0   18      56    0.0  24999.999994      0   peconic     734  1083   \n",
       "\n",
       "                                              geometry  \n",
       "0    POLYGON ((717047.981 4552610.453, 717192.388 4...  \n",
       "1    POLYGON ((717096.758 4552466.038, 717241.165 4...  \n",
       "2    POLYGON ((717145.535 4552321.623, 717289.942 4...  \n",
       "3    POLYGON ((717194.312 4552177.208, 717338.720 4...  \n",
       "4    POLYGON ((717143.610 4552803.650, 717288.017 4...  \n",
       "..                                                 ...  \n",
       "730  POLYGON ((724549.547 4557075.386, 724693.965 4...  \n",
       "731  POLYGON ((724598.333 4556930.967, 724742.751 4...  \n",
       "732  POLYGON ((724647.119 4556786.547, 724791.537 4...  \n",
       "733  POLYGON ((724695.904 4556642.127, 724840.323 4...  \n",
       "734  POLYGON ((724744.690 4556497.707, 724889.108 4...  \n",
       "\n",
       "[735 rows x 10 columns]"
      ]
     },
     "execution_count": 9,
     "metadata": {},
     "output_type": "execute_result"
    }
   ],
   "source": [
    "target_coastal = gpd.read_file(\"../modflow/gis/greenpoint_ghb_utm18n.shp\")\n",
    "target_coastal"
   ]
  },
  {
   "cell_type": "code",
   "execution_count": 10,
   "metadata": {
    "execution": {
     "iopub.execute_input": "2024-11-18T09:31:50.486355Z",
     "iopub.status.busy": "2024-11-18T09:31:50.486264Z",
     "iopub.status.idle": "2024-11-18T09:31:50.489031Z",
     "shell.execute_reply": "2024-11-18T09:31:50.488653Z",
     "shell.execute_reply.started": "2024-11-18T09:31:50.486345Z"
    }
   },
   "outputs": [
    {
     "data": {
      "text/plain": [
       "<Projected CRS: EPSG:32618>\n",
       "Name: WGS 84 / UTM zone 18N\n",
       "Axis Info [cartesian]:\n",
       "- E[east]: Easting (metre)\n",
       "- N[north]: Northing (metre)\n",
       "Area of Use:\n",
       "- name: Between 78°W and 72°W, northern hemisphere between equator and 84°N, onshore and offshore. Bahamas. Canada - Nunavut; Ontario; Quebec. Colombia. Cuba. Ecuador. Greenland. Haiti. Jamaica. Panama. Turks and Caicos Islands. United States (USA). Venezuela.\n",
       "- bounds: (-78.0, 0.0, -72.0, 84.0)\n",
       "Coordinate Operation:\n",
       "- name: UTM zone 18N\n",
       "- method: Transverse Mercator\n",
       "Datum: World Geodetic System 1984 ensemble\n",
       "- Ellipsoid: WGS 84\n",
       "- Prime Meridian: Greenwich"
      ]
     },
     "execution_count": 10,
     "metadata": {},
     "output_type": "execute_result"
    }
   ],
   "source": [
    "target_coastal.crs"
   ]
  },
  {
   "cell_type": "code",
   "execution_count": 11,
   "metadata": {
    "execution": {
     "iopub.execute_input": "2024-11-18T09:31:50.489633Z",
     "iopub.status.busy": "2024-11-18T09:31:50.489539Z",
     "iopub.status.idle": "2024-11-18T09:31:50.580204Z",
     "shell.execute_reply": "2024-11-18T09:31:50.579926Z",
     "shell.execute_reply.started": "2024-11-18T09:31:50.489623Z"
    }
   },
   "outputs": [
    {
     "data": {
      "image/png": "[encoded data removed]",
      "text/plain": [
       "<Figure size 640x480 with 1 Axes>"
      ]
     },
     "metadata": {},
     "output_type": "display_data"
    }
   ],
   "source": [
    "ax = target_coastal.plot(alpha=0.25, column=\"ghb_no\")\n",
    "# cx.add_basemap(ax, crs=target_coastal.crs, attribution=False, source=cx_provider)"
   ]
  },
  {
   "cell_type": "code",
   "execution_count": 12,
   "metadata": {
    "execution": {
     "iopub.execute_input": "2024-11-18T09:31:50.582754Z",
     "iopub.status.busy": "2024-11-18T09:31:50.582628Z",
     "iopub.status.idle": "2024-11-18T09:31:50.671837Z",
     "shell.execute_reply": "2024-11-18T09:31:50.671523Z",
     "shell.execute_reply.started": "2024-11-18T09:31:50.582743Z"
    }
   },
   "outputs": [
    {
     "data": {
      "image/png": "[encoded data removed]",
      "text/plain": [
       "<Figure size 640x480 with 1 Axes>"
      ]
     },
     "metadata": {},
     "output_type": "display_data"
    }
   ],
   "source": [
    "ax = target_coastal.plot(alpha=0.25)\n",
    "# cx.add_basemap(ax, crs=target_coastal.crs, attribution=False, source=cx_provider)"
   ]
  },
  {
   "cell_type": "markdown",
   "metadata": {},
   "source": [
    "## Create the SFINCS to GHB mapping"
   ]
  },
  {
   "cell_type": "code",
   "execution_count": 13,
   "metadata": {
    "execution": {
     "iopub.execute_input": "2024-11-18T09:31:50.672436Z",
     "iopub.status.busy": "2024-11-18T09:31:50.672333Z",
     "iopub.status.idle": "2024-11-18T09:31:50.733183Z",
     "shell.execute_reply": "2024-11-18T09:31:50.732849Z",
     "shell.execute_reply.started": "2024-11-18T09:31:50.672425Z"
    }
   },
   "outputs": [
    {
     "name": "stdout",
     "output_type": "stream",
     "text": [
      "Using serial engine\n",
      "Reprojecting to epsg:EPSG:32618 finished in 0.0 second(s)\n",
      "Validating polygons\n",
      "     - validating source polygons\n",
      "     - fixing 0 invalid polygons.\n",
      "     - validating target polygons\n",
      "     - fixing 0 invalid polygons.\n",
      "Validate polygons finished in 0.0084 seconds\n",
      "Intersections finished in 0.0210 seconds\n",
      "Weight gen finished in 0.0297 seconds\n"
     ]
    }
   ],
   "source": [
    "# generate the weights\n",
    "weight_gen = WeightGenP2P(\n",
    "    target_poly=target_coastal,\n",
    "    target_poly_idx=\"ghb_no\",\n",
    "    source_poly=source_gdf,\n",
    "    source_poly_idx=[\"cell\"],\n",
    "    method=\"serial\",\n",
    "    weight_gen_crs=32618,\n",
    ")\n",
    "weights = weight_gen.calculate_weights()"
   ]
  },
  {
   "cell_type": "code",
   "execution_count": 14,
   "metadata": {
    "execution": {
     "iopub.execute_input": "2024-11-18T09:31:50.734014Z",
     "iopub.status.busy": "2024-11-18T09:31:50.733906Z",
     "iopub.status.idle": "2024-11-18T09:31:50.738940Z",
     "shell.execute_reply": "2024-11-18T09:31:50.738426Z",
     "shell.execute_reply.started": "2024-11-18T09:31:50.734002Z"
    }
   },
   "outputs": [
    {
     "data": {
      "text/html": [
       "<div>\n",
       "<style scoped>\n",
       "    .dataframe tbody tr th:only-of-type {\n",
       "        vertical-align: middle;\n",
       "    }\n",
       "\n",
       "    .dataframe tbody tr th {\n",
       "        vertical-align: top;\n",
       "    }\n",
       "\n",
       "    .dataframe thead th {\n",
       "        text-align: right;\n",
       "    }\n",
       "</style>\n",
       "<table border=\"1\" class=\"dataframe\">\n",
       "  <thead>\n",
       "    <tr style=\"text-align: right;\">\n",
       "      <th></th>\n",
       "      <th>ghb_no</th>\n",
       "      <th>cell</th>\n",
       "      <th>wght</th>\n",
       "    </tr>\n",
       "  </thead>\n",
       "  <tbody>\n",
       "    <tr>\n",
       "      <th>2029</th>\n",
       "      <td>729</td>\n",
       "      <td>7467</td>\n",
       "      <td>0.113080</td>\n",
       "    </tr>\n",
       "    <tr>\n",
       "      <th>2030</th>\n",
       "      <td>729</td>\n",
       "      <td>7468</td>\n",
       "      <td>0.886920</td>\n",
       "    </tr>\n",
       "    <tr>\n",
       "      <th>2031</th>\n",
       "      <td>730</td>\n",
       "      <td>7423</td>\n",
       "      <td>0.039572</td>\n",
       "    </tr>\n",
       "    <tr>\n",
       "      <th>2032</th>\n",
       "      <td>730</td>\n",
       "      <td>7469</td>\n",
       "      <td>0.269532</td>\n",
       "    </tr>\n",
       "    <tr>\n",
       "      <th>2033</th>\n",
       "      <td>730</td>\n",
       "      <td>7424</td>\n",
       "      <td>0.140876</td>\n",
       "    </tr>\n",
       "    <tr>\n",
       "      <th>2034</th>\n",
       "      <td>730</td>\n",
       "      <td>7470</td>\n",
       "      <td>0.550020</td>\n",
       "    </tr>\n",
       "    <tr>\n",
       "      <th>2035</th>\n",
       "      <td>731</td>\n",
       "      <td>7423</td>\n",
       "      <td>0.000197</td>\n",
       "    </tr>\n",
       "    <tr>\n",
       "      <th>2036</th>\n",
       "      <td>731</td>\n",
       "      <td>7469</td>\n",
       "      <td>0.999803</td>\n",
       "    </tr>\n",
       "    <tr>\n",
       "      <th>2037</th>\n",
       "      <td>732</td>\n",
       "      <td>7469</td>\n",
       "      <td>1.000000</td>\n",
       "    </tr>\n",
       "    <tr>\n",
       "      <th>2038</th>\n",
       "      <td>733</td>\n",
       "      <td>7468</td>\n",
       "      <td>0.539402</td>\n",
       "    </tr>\n",
       "    <tr>\n",
       "      <th>2039</th>\n",
       "      <td>733</td>\n",
       "      <td>7469</td>\n",
       "      <td>0.460598</td>\n",
       "    </tr>\n",
       "    <tr>\n",
       "      <th>2040</th>\n",
       "      <td>734</td>\n",
       "      <td>7468</td>\n",
       "      <td>1.000000</td>\n",
       "    </tr>\n",
       "  </tbody>\n",
       "</table>\n",
       "</div>"
      ],
      "text/plain": [
       "     ghb_no  cell      wght\n",
       "2029    729  7467  0.113080\n",
       "2030    729  7468  0.886920\n",
       "2031    730  7423  0.039572\n",
       "2032    730  7469  0.269532\n",
       "2033    730  7424  0.140876\n",
       "2034    730  7470  0.550020\n",
       "2035    731  7423  0.000197\n",
       "2036    731  7469  0.999803\n",
       "2037    732  7469  1.000000\n",
       "2038    733  7468  0.539402\n",
       "2039    733  7469  0.460598\n",
       "2040    734  7468  1.000000"
      ]
     },
     "execution_count": 14,
     "metadata": {},
     "output_type": "execute_result"
    }
   ],
   "source": [
    "weights[-12:]"
   ]
  },
  {
   "cell_type": "code",
   "execution_count": 15,
   "metadata": {
    "execution": {
     "iopub.execute_input": "2024-11-18T09:31:50.739667Z",
     "iopub.status.busy": "2024-11-18T09:31:50.739517Z",
     "iopub.status.idle": "2024-11-18T09:31:50.742251Z",
     "shell.execute_reply": "2024-11-18T09:31:50.741909Z",
     "shell.execute_reply.started": "2024-11-18T09:31:50.739655Z"
    }
   },
   "outputs": [
    {
     "data": {
      "text/plain": [
       "(735, 14048)"
      ]
     },
     "execution_count": 15,
     "metadata": {},
     "output_type": "execute_result"
    }
   ],
   "source": [
    "map_shape = (target_coastal.shape[0], source_gdf.shape[0])\n",
    "map_shape"
   ]
  },
  {
   "cell_type": "code",
   "execution_count": 16,
   "metadata": {
    "execution": {
     "iopub.execute_input": "2024-11-18T09:31:50.743112Z",
     "iopub.status.busy": "2024-11-18T09:31:50.742876Z",
     "iopub.status.idle": "2024-11-18T09:31:50.745851Z",
     "shell.execute_reply": "2024-11-18T09:31:50.745534Z",
     "shell.execute_reply.started": "2024-11-18T09:31:50.743099Z"
    }
   },
   "outputs": [
    {
     "name": "stdout",
     "output_type": "stream",
     "text": [
      "(735, 14048)\n",
      "[[0. 0. 0. ... 0. 0. 0.]\n",
      " [0. 0. 0. ... 0. 0. 0.]\n",
      " [0. 0. 0. ... 0. 0. 0.]\n",
      " ...\n",
      " [0. 0. 0. ... 0. 0. 0.]\n",
      " [0. 0. 0. ... 0. 0. 0.]\n",
      " [0. 0. 0. ... 0. 0. 0.]]\n"
     ]
    }
   ],
   "source": [
    "sfincs2mfghb = np.zeros(map_shape, dtype=float)\n",
    "print(f\"{sfincs2mfghb.shape}\\n{sfincs2mfghb}\")"
   ]
  },
  {
   "cell_type": "code",
   "execution_count": 17,
   "metadata": {
    "execution": {
     "iopub.execute_input": "2024-11-18T09:31:50.746759Z",
     "iopub.status.busy": "2024-11-18T09:31:50.746459Z",
     "iopub.status.idle": "2024-11-18T09:31:50.749711Z",
     "shell.execute_reply": "2024-11-18T09:31:50.749406Z",
     "shell.execute_reply.started": "2024-11-18T09:31:50.746746Z"
    }
   },
   "outputs": [
    {
     "data": {
      "text/plain": [
       "0.0"
      ]
     },
     "execution_count": 17,
     "metadata": {},
     "output_type": "execute_result"
    }
   ],
   "source": [
    "sfincs2mfghb[165].sum()"
   ]
  },
  {
   "cell_type": "code",
   "execution_count": 18,
   "metadata": {
    "execution": {
     "iopub.execute_input": "2024-11-18T09:31:50.750412Z",
     "iopub.status.busy": "2024-11-18T09:31:50.750291Z",
     "iopub.status.idle": "2024-11-18T09:31:50.754645Z",
     "shell.execute_reply": "2024-11-18T09:31:50.754190Z",
     "shell.execute_reply.started": "2024-11-18T09:31:50.750401Z"
    }
   },
   "outputs": [],
   "source": [
    "for r,c,v in zip(weights[\"ghb_no\"], weights[\"cell\"], weights[\"wght\"]):\n",
    "    sfincs2mfghb[int(r),int(c)] = v"
   ]
  },
  {
   "cell_type": "markdown",
   "metadata": {},
   "source": [
    "## Create the ghb masking array\n",
    "\n",
    "Where the sums of the weights along a row are not equal to ~1.0"
   ]
  },
  {
   "cell_type": "code",
   "execution_count": 19,
   "metadata": {
    "execution": {
     "iopub.execute_input": "2024-11-18T09:31:50.755650Z",
     "iopub.status.busy": "2024-11-18T09:31:50.755344Z",
     "iopub.status.idle": "2024-11-18T09:31:50.783577Z",
     "shell.execute_reply": "2024-11-18T09:31:50.783243Z",
     "shell.execute_reply.started": "2024-11-18T09:31:50.755634Z"
    }
   },
   "outputs": [
    {
     "name": "stdout",
     "output_type": "stream",
     "text": [
      "735\n",
      "(735,)\n",
      "[ True  True  True  True  True  True  True  True  True  True  True  True\n",
      "  True  True  True  True  True  True  True  True  True  True  True  True\n",
      "  True  True  True  True  True  True  True  True  True  True  True  True\n",
      "  True  True  True  True  True  True  True  True  True  True  True  True\n",
      "  True  True  True  True  True  True  True  True  True  True  True  True\n",
      "  True  True  True  True  True  True  True  True  True  True  True  True\n",
      "  True  True  True  True  True  True  True  True  True  True  True  True\n",
      "  True  True  True  True  True  True  True  True  True  True  True  True\n",
      "  True  True  True  True  True  True  True  True  True  True  True  True\n",
      "  True  True  True  True  True  True  True  True  True  True  True  True\n",
      "  True  True  True  True  True  True  True  True  True  True  True  True\n",
      "  True  True  True  True  True  True  True  True  True  True  True  True\n",
      "  True  True  True  True  True  True  True  True  True  True  True  True\n",
      "  True  True  True  True  True  True  True  True  True  True  True  True\n",
      "  True  True  True  True  True  True  True  True  True  True  True  True\n",
      "  True  True  True  True  True  True  True  True  True  True  True  True\n",
      "  True  True  True  True  True  True  True  True  True  True  True  True\n",
      "  True  True  True  True  True  True  True  True  True  True  True  True\n",
      "  True  True  True  True  True  True  True  True  True  True  True  True\n",
      "  True  True  True  True  True  True  True  True  True  True  True  True\n",
      "  True  True  True  True  True  True  True  True  True  True  True  True\n",
      "  True  True  True  True  True  True  True  True  True  True  True  True\n",
      "  True  True  True  True  True  True  True  True  True  True  True  True\n",
      "  True  True  True  True  True  True  True  True  True  True  True  True\n",
      "  True  True  True  True  True  True  True  True  True  True  True  True\n",
      "  True  True  True  True  True  True  True  True  True  True  True  True\n",
      "  True  True  True  True  True  True  True  True  True  True  True  True\n",
      "  True  True  True  True  True  True  True  True  True  True  True  True\n",
      "  True  True  True  True  True  True  True  True  True  True  True  True\n",
      "  True  True  True  True  True  True  True  True  True  True  True  True\n",
      "  True  True  True  True  True  True  True  True  True  True  True  True\n",
      "  True  True  True  True  True  True  True  True  True  True  True  True\n",
      "  True  True  True  True  True  True  True  True  True  True  True  True\n",
      "  True  True  True  True  True  True  True  True  True  True  True  True\n",
      "  True  True  True  True  True  True  True  True  True  True  True  True\n",
      "  True  True  True  True  True  True  True  True  True  True  True  True\n",
      "  True  True  True  True  True  True  True  True  True  True  True  True\n",
      "  True  True  True  True  True  True  True  True  True  True  True  True\n",
      "  True  True  True  True  True  True  True  True  True  True  True  True\n",
      "  True  True  True  True  True  True  True  True  True  True  True  True\n",
      "  True  True  True  True  True  True  True  True  True  True  True  True\n",
      "  True  True  True  True  True  True  True  True  True  True  True  True\n",
      "  True  True  True  True  True  True  True  True  True  True  True  True\n",
      "  True  True  True  True  True  True  True  True  True  True  True  True\n",
      "  True  True  True  True  True  True  True  True  True  True  True  True\n",
      "  True  True  True  True  True  True  True  True  True  True  True  True\n",
      "  True  True  True  True  True  True  True  True  True  True  True  True\n",
      "  True  True  True  True  True  True  True  True  True  True  True  True\n",
      "  True  True  True  True  True  True  True  True  True  True  True  True\n",
      "  True  True  True  True  True  True  True  True  True  True  True  True\n",
      "  True  True  True  True  True  True  True  True  True  True  True  True\n",
      "  True  True  True  True  True  True  True  True  True  True  True  True\n",
      "  True  True  True  True  True  True  True  True  True  True  True  True\n",
      "  True  True  True  True  True  True  True  True  True  True  True  True\n",
      "  True  True  True  True  True  True  True  True  True  True  True  True\n",
      "  True  True  True  True  True  True  True  True  True  True  True  True\n",
      "  True  True  True  True  True  True  True  True  True  True  True  True\n",
      "  True  True  True  True  True  True  True  True  True  True  True  True\n",
      "  True  True  True  True  True  True  True  True  True  True  True  True\n",
      "  True  True  True  True  True  True  True  True  True  True  True  True\n",
      "  True  True  True  True  True  True  True  True  True  True  True  True\n",
      "  True  True  True]\n"
     ]
    }
   ],
   "source": [
    "mask_idx = np.isclose(sfincs2mfghb.sum(axis=1), 1.0)\n",
    "print(f\"{mask_idx.sum()}\\n{mask_idx.shape}\\n{mask_idx}\")"
   ]
  },
  {
   "cell_type": "markdown",
   "metadata": {},
   "source": [
    "### Test the SFINCS to GHB mapping"
   ]
  },
  {
   "cell_type": "code",
   "execution_count": 20,
   "metadata": {
    "execution": {
     "iopub.execute_input": "2024-11-18T09:31:50.784430Z",
     "iopub.status.busy": "2024-11-18T09:31:50.784318Z",
     "iopub.status.idle": "2024-11-18T09:31:50.790158Z",
     "shell.execute_reply": "2024-11-18T09:31:50.789843Z",
     "shell.execute_reply.started": "2024-11-18T09:31:50.784419Z"
    }
   },
   "outputs": [
    {
     "data": {
      "text/plain": [
       "((14048,), (735, 14048), (735,))"
      ]
     },
     "execution_count": 20,
     "metadata": {},
     "output_type": "execute_result"
    }
   ],
   "source": [
    "s = np.full(source_gdf.shape[0], 1.0)\n",
    "h = np.full(mask_idx.shape, 2.0)\n",
    "h[mask_idx] = sfincs2mfghb.dot(s)[mask_idx]\n",
    "s.shape, sfincs2mfghb.shape, h.shape"
   ]
  },
  {
   "cell_type": "code",
   "execution_count": 21,
   "metadata": {
    "execution": {
     "iopub.execute_input": "2024-11-18T09:31:50.790919Z",
     "iopub.status.busy": "2024-11-18T09:31:50.790707Z",
     "iopub.status.idle": "2024-11-18T09:31:50.813291Z",
     "shell.execute_reply": "2024-11-18T09:31:50.812907Z",
     "shell.execute_reply.started": "2024-11-18T09:31:50.790903Z"
    }
   },
   "outputs": [
    {
     "name": "stdout",
     "output_type": "stream",
     "text": [
      "734.999999999983\n",
      "[1. 1. 1. 1. 1. 1. 1. 1. 1. 1. 1. 1. 1. 1. 1. 1. 1. 1. 1. 1. 1. 1. 1. 1.\n",
      " 1. 1. 1. 1. 1. 1. 1. 1. 1. 1. 1. 1. 1. 1. 1. 1. 1. 1. 1. 1. 1. 1. 1. 1.\n",
      " 1. 1. 1. 1. 1. 1. 1. 1. 1. 1. 1. 1. 1. 1. 1. 1. 1. 1. 1. 1. 1. 1. 1. 1.\n",
      " 1. 1. 1. 1. 1. 1. 1. 1. 1. 1. 1. 1. 1. 1. 1. 1. 1. 1. 1. 1. 1. 1. 1. 1.\n",
      " 1. 1. 1. 1. 1. 1. 1. 1. 1. 1. 1. 1. 1. 1. 1. 1. 1. 1. 1. 1. 1. 1. 1. 1.\n",
      " 1. 1. 1. 1. 1. 1. 1. 1. 1. 1. 1. 1. 1. 1. 1. 1. 1. 1. 1. 1. 1. 1. 1. 1.\n",
      " 1. 1. 1. 1. 1. 1. 1. 1. 1. 1. 1. 1. 1. 1. 1. 1. 1. 1. 1. 1. 1. 1. 1. 1.\n",
      " 1. 1. 1. 1. 1. 1. 1. 1. 1. 1. 1. 1. 1. 1. 1. 1. 1. 1. 1. 1. 1. 1. 1. 1.\n",
      " 1. 1. 1. 1. 1. 1. 1. 1. 1. 1. 1. 1. 1. 1. 1. 1. 1. 1. 1. 1. 1. 1. 1. 1.\n",
      " 1. 1. 1. 1. 1. 1. 1. 1. 1. 1. 1. 1. 1. 1. 1. 1. 1. 1. 1. 1. 1. 1. 1. 1.\n",
      " 1. 1. 1. 1. 1. 1. 1. 1. 1. 1. 1. 1. 1. 1. 1. 1. 1. 1. 1. 1. 1. 1. 1. 1.\n",
      " 1. 1. 1. 1. 1. 1. 1. 1. 1. 1. 1. 1. 1. 1. 1. 1. 1. 1. 1. 1. 1. 1. 1. 1.\n",
      " 1. 1. 1. 1. 1. 1. 1. 1. 1. 1. 1. 1. 1. 1. 1. 1. 1. 1. 1. 1. 1. 1. 1. 1.\n",
      " 1. 1. 1. 1. 1. 1. 1. 1. 1. 1. 1. 1. 1. 1. 1. 1. 1. 1. 1. 1. 1. 1. 1. 1.\n",
      " 1. 1. 1. 1. 1. 1. 1. 1. 1. 1. 1. 1. 1. 1. 1. 1. 1. 1. 1. 1. 1. 1. 1. 1.\n",
      " 1. 1. 1. 1. 1. 1. 1. 1. 1. 1. 1. 1. 1. 1. 1. 1. 1. 1. 1. 1. 1. 1. 1. 1.\n",
      " 1. 1. 1. 1. 1. 1. 1. 1. 1. 1. 1. 1. 1. 1. 1. 1. 1. 1. 1. 1. 1. 1. 1. 1.\n",
      " 1. 1. 1. 1. 1. 1. 1. 1. 1. 1. 1. 1. 1. 1. 1. 1. 1. 1. 1. 1. 1. 1. 1. 1.\n",
      " 1. 1. 1. 1. 1. 1. 1. 1. 1. 1. 1. 1. 1. 1. 1. 1. 1. 1. 1. 1. 1. 1. 1. 1.\n",
      " 1. 1. 1. 1. 1. 1. 1. 1. 1. 1. 1. 1. 1. 1. 1. 1. 1. 1. 1. 1. 1. 1. 1. 1.\n",
      " 1. 1. 1. 1. 1. 1. 1. 1. 1. 1. 1. 1. 1. 1. 1. 1. 1. 1. 1. 1. 1. 1. 1. 1.\n",
      " 1. 1. 1. 1. 1. 1. 1. 1. 1. 1. 1. 1. 1. 1. 1. 1. 1. 1. 1. 1. 1. 1. 1. 1.\n",
      " 1. 1. 1. 1. 1. 1. 1. 1. 1. 1. 1. 1. 1. 1. 1. 1. 1. 1. 1. 1. 1. 1. 1. 1.\n",
      " 1. 1. 1. 1. 1. 1. 1. 1. 1. 1. 1. 1. 1. 1. 1. 1. 1. 1. 1. 1. 1. 1. 1. 1.\n",
      " 1. 1. 1. 1. 1. 1. 1. 1. 1. 1. 1. 1. 1. 1. 1. 1. 1. 1. 1. 1. 1. 1. 1. 1.\n",
      " 1. 1. 1. 1. 1. 1. 1. 1. 1. 1. 1. 1. 1. 1. 1. 1. 1. 1. 1. 1. 1. 1. 1. 1.\n",
      " 1. 1. 1. 1. 1. 1. 1. 1. 1. 1. 1. 1. 1. 1. 1. 1. 1. 1. 1. 1. 1. 1. 1. 1.\n",
      " 1. 1. 1. 1. 1. 1. 1. 1. 1. 1. 1. 1. 1. 1. 1. 1. 1. 1. 1. 1. 1. 1. 1. 1.\n",
      " 1. 1. 1. 1. 1. 1. 1. 1. 1. 1. 1. 1. 1. 1. 1. 1. 1. 1. 1. 1. 1. 1. 1. 1.\n",
      " 1. 1. 1. 1. 1. 1. 1. 1. 1. 1. 1. 1. 1. 1. 1. 1. 1. 1. 1. 1. 1. 1. 1. 1.\n",
      " 1. 1. 1. 1. 1. 1. 1. 1. 1. 1. 1. 1. 1. 1. 1.]\n"
     ]
    }
   ],
   "source": [
    "print(f\"{h.sum()}\\n{h}\")"
   ]
  },
  {
   "cell_type": "markdown",
   "metadata": {},
   "source": [
    "#### Test with a nan"
   ]
  },
  {
   "cell_type": "code",
   "execution_count": 22,
   "metadata": {
    "execution": {
     "iopub.execute_input": "2024-11-18T09:31:50.814069Z",
     "iopub.status.busy": "2024-11-18T09:31:50.813928Z",
     "iopub.status.idle": "2024-11-18T09:31:50.817172Z",
     "shell.execute_reply": "2024-11-18T09:31:50.816702Z",
     "shell.execute_reply.started": "2024-11-18T09:31:50.814056Z"
    }
   },
   "outputs": [
    {
     "name": "stdout",
     "output_type": "stream",
     "text": [
      "[0.00181847 0.96695987 0.71388734 ... 0.57568552 0.61663775 0.78857022]\n"
     ]
    }
   ],
   "source": [
    "s = np.random.random(source_gdf.shape[0])\n",
    "s[1544] = -1e30\n",
    "print(s)"
   ]
  },
  {
   "cell_type": "code",
   "execution_count": 23,
   "metadata": {
    "execution": {
     "iopub.execute_input": "2024-11-18T09:31:50.817985Z",
     "iopub.status.busy": "2024-11-18T09:31:50.817819Z",
     "iopub.status.idle": "2024-11-18T09:31:50.821930Z",
     "shell.execute_reply": "2024-11-18T09:31:50.821484Z",
     "shell.execute_reply.started": "2024-11-18T09:31:50.817964Z"
    }
   },
   "outputs": [
    {
     "data": {
      "text/plain": [
       "(735,)"
      ]
     },
     "execution_count": 23,
     "metadata": {},
     "output_type": "execute_result"
    }
   ],
   "source": [
    "h = np.full(mask_idx.shape, 2.0)\n",
    "h = sfincs2mfghb.dot(s)\n",
    "h.shape"
   ]
  },
  {
   "cell_type": "code",
   "execution_count": 24,
   "metadata": {
    "execution": {
     "iopub.execute_input": "2024-11-18T09:31:50.822553Z",
     "iopub.status.busy": "2024-11-18T09:31:50.822443Z",
     "iopub.status.idle": "2024-11-18T09:31:50.826814Z",
     "shell.execute_reply": "2024-11-18T09:31:50.826387Z",
     "shell.execute_reply.started": "2024-11-18T09:31:50.822542Z"
    }
   },
   "outputs": [
    {
     "name": "stdout",
     "output_type": "stream",
     "text": [
      "357.17381132724984\n",
      "[0.21502266 0.02433274 0.04842209 0.71547557 0.81466795 0.48198903\n",
      " 0.07552241 0.04640194 0.2993665  0.5514185  0.33214407 0.62115927\n",
      " 0.26641036 0.14554037 0.46719451 0.65599374 0.80760278 0.14554037\n",
      " 0.16594031 0.4566761  0.5804929  0.44087074 0.13805849 0.50791188\n",
      " 0.9190591  0.58562026 0.10833366 0.13754003 0.1660486  0.44673347\n",
      " 0.09005244 0.19229996 0.4155342  0.16300061 0.74931668 0.79831044\n",
      " 0.71965273 0.37240674 0.52678034 0.84575523 0.94583266 0.78113816\n",
      " 0.9401467  0.88905056 0.69710715 0.38025535 0.54201239 0.63768737\n",
      " 0.81006049 0.41876458 0.26568675 0.03109758 0.00516411 0.22615819\n",
      " 0.90818055 0.54962976 0.37032897 0.37032897 0.12319102 0.00516411\n",
      " 0.01886684 0.72610299 0.63466482 0.55433978 0.5333402  0.37131375\n",
      " 0.37198264 0.26183468 0.02098182 0.17603572 0.38774862 0.54397064\n",
      " 0.46687989 0.29082403 0.30713225 0.41696472 0.24826187 0.32575904\n",
      " 0.07871492 0.21526348 0.27772559 0.16366843 0.37320414 0.71386144\n",
      " 0.72374182 0.49365216 0.33370864 0.56092853 0.63227302 0.09187582\n",
      " 0.30076353 0.5668438  0.22555493 0.49442846 0.49448886 0.50706673\n",
      " 0.3895611  0.34159226 0.09853516 0.16781124 0.31463366 0.55507043\n",
      " 0.75204106 0.24682086 0.33774825 0.13867518 0.38268219 0.28076701\n",
      " 0.50866984 0.72315133 0.45901057 0.42096633 0.38701276 0.37468439\n",
      " 0.72103948 0.51780338 0.66802458 0.45025854 0.36579133 0.35877169\n",
      " 0.64689261 0.46614326 0.15050161 0.29854577 0.68371034 0.76081356\n",
      " 0.36675967 0.17633958 0.53907341 0.45423641 0.85335666 0.43290269\n",
      " 0.13873032 0.2842313  0.3180182  0.73037849 0.62218583 0.09285222\n",
      " 0.3817407  0.45833161 0.41423959 0.87119057 0.38034486 0.44053794\n",
      " 0.55688912 0.63510381 0.49528023 0.48884734 0.71678823 0.5206497\n",
      " 0.35605822 0.41819528 0.35631119 0.41218786 0.08942822 0.04267451\n",
      " 0.87033404 0.44584607 0.41956848 0.39385776 0.36300438 0.31476316\n",
      " 0.09260882 0.34223568 0.49878185 0.329434   0.26962012 0.50367038\n",
      " 0.69399998 0.75558338 0.3969691  0.7408315  0.65384356 0.55286969\n",
      " 0.65121202 0.63741812 0.81813619 0.26916891 0.64720887 0.82310405\n",
      " 0.36718919 0.78292855 0.78847829 0.52024143 0.2378621  0.42935763\n",
      " 0.55927739 0.67505624 0.77629314 0.82412966 0.38859845 0.37988044\n",
      " 0.72695133 0.34526483 0.44856195 0.55517703 0.94992234 0.51287393\n",
      " 0.32713046 0.10992527 0.49182985 0.3798432  0.4279384  0.45863193\n",
      " 0.54608799 0.49280411 0.77083926 0.36255424 0.20778746 0.13640499\n",
      " 0.51216684 0.4112121  0.41946698 0.61701898 0.54301694 0.18378614\n",
      " 0.38651691 0.77083394 0.73353338 0.80936016 0.63211452 0.66646983\n",
      " 0.89711016 0.83539843 0.64749887 0.36876259 0.03753335 0.59477826\n",
      " 0.79668491 0.64701478 0.22374747 0.43789187 0.92295779 0.71131408\n",
      " 0.43803696 0.59994275 0.87253749 0.70517654 0.54234079 0.77833646\n",
      " 0.7583941  0.67090313 0.5328695  0.720463   0.6688437  0.38851457\n",
      " 0.63533586 0.89720242 0.13709938 0.27542529 0.67405822 0.23061248\n",
      " 0.09256597 0.21058974 0.38626992 0.79465904 0.77374359 0.6473487\n",
      " 0.39306068 0.48718383 0.7830622  0.98002755 0.52632726 0.31718154\n",
      " 0.38507212 0.79003743 0.81335204 0.53068202 0.34742195 0.78171005\n",
      " 0.54760855 0.61203172 0.15139122 0.55245013 0.25388286 0.1283625\n",
      " 0.8574724  0.41042785 0.58573518 0.39934259 0.87885406 0.90061636\n",
      " 0.78287872 0.53715826 0.57199875 0.46859739 0.07018303 0.19023808\n",
      " 0.38499282 0.40285051 0.17316204 0.72883998 0.3783807  0.75105319\n",
      " 0.43844018 0.29128081 0.15320062 0.05649733 0.16520181 0.66696219\n",
      " 0.90383487 0.6209414  0.8316976  0.71592253 0.74972925 0.18674008\n",
      " 0.80221762 0.75391321 0.24151535 0.04838499 0.62543714 0.62671755\n",
      " 0.72659277 0.27865206 0.45068494 0.29833687 0.51005977 0.51005977\n",
      " 0.38093249 0.48697784 0.39535094 0.49620823 0.26019178 0.49513638\n",
      " 0.54979176 0.83952061 0.96714946 0.69956386 0.96249154 0.34710573\n",
      " 0.38687402 0.41390924 0.26531874 0.53735265 0.47820775 0.76437335\n",
      " 0.40985489 0.58582935 0.33062238 0.17101084 0.17909109 0.34574817\n",
      " 0.60351173 0.51523437 0.67080184 0.76916767 0.7276628  0.27883519\n",
      " 0.61595353 0.51533694 0.88659485 0.91945045 0.18905434 0.79685742\n",
      " 0.1353418  0.65955458 0.67843306 0.19913617 0.59435869 0.46039701\n",
      " 0.25560174 0.34898618 0.39264879 0.64934005 0.47114006 0.40559205\n",
      " 0.23149489 0.64682237 0.42179748 0.34566094 0.58181525 0.49998306\n",
      " 0.13494305 0.60251025 0.51039011 0.48242169 0.71935054 0.40219573\n",
      " 0.85515841 0.12702857 0.35451843 0.63138965 0.63138965 0.12701303\n",
      " 0.18646124 0.60539163 0.51630759 0.30783916 0.09236902 0.06263141\n",
      " 0.28194051 0.34839451 0.35876885 0.36802436 0.03896274 0.03896274\n",
      " 0.17441405 0.34839451 0.3488454  0.20730103 0.04564248 0.05116243\n",
      " 0.2124891  0.35896447 0.36237723 0.28994802 0.38644852 0.49412618\n",
      " 0.52512884 0.4017116  0.36320532 0.68664445 0.53939833 0.52512884\n",
      " 0.52512884 0.45742427 0.41293686 0.23519399 0.55014418 0.7131601\n",
      " 0.83377584 0.48261798 0.49618713 0.7170112  0.88044225 0.88044225\n",
      " 0.54092543 0.60233007 0.88044225 0.83055531 0.63655159 0.52798471\n",
      " 0.52588179 0.40764714 0.38380606 0.23064744 0.40281881 0.18639957\n",
      " 0.40401191 0.40401191 0.39164797 0.32911574 0.49617048 0.70376586\n",
      " 0.47627346 0.55086126 0.72207922 0.67513781 0.81326313 0.95853498\n",
      " 0.95874542 0.86374544 0.70147251 0.68087799 0.44563574 0.20684397\n",
      " 0.55110003 0.62484848 0.64145233 0.66597654 0.72685264 0.32616094\n",
      " 0.79272451 0.9466528  0.80197458 0.29213953 0.07705461 0.08025329\n",
      " 0.19167468 0.19167468 0.40478357 0.62626487 0.59782159 0.78829614\n",
      " 0.95420292 0.26176807 0.44511671 0.51814515 0.4886271  0.17794249\n",
      " 0.04075431 0.04267943 0.18005574 0.29454376 0.50309037 0.83251762\n",
      " 0.50589263 0.51158285 0.40141889 0.35698681 0.37389099 0.48826261\n",
      " 0.4886271  0.32969142 0.08686329 0.1623318  0.45541479 0.66007835\n",
      " 0.66007835 0.82207616 0.19959817 0.4119229  0.41441214 0.35698681\n",
      " 0.35697577 0.48726303 0.57646094 0.6117721  0.27731578 0.26419616\n",
      " 0.36252415 0.66007835 0.66007835 0.6701189  0.83138442 0.72823597\n",
      " 0.507118   0.35037225 0.34606583 0.48367736 0.65409581 0.65409581\n",
      " 0.38883292 0.26419616 0.4966172  0.42105064 0.35360214 0.34420483\n",
      " 0.38047028 0.65262575 0.59727083 0.36046558 0.42134662 0.37936383\n",
      " 0.37244926 0.46908912 0.32593007 0.12191519 0.12330607 0.56168106\n",
      " 0.65394638 0.63628302 0.63932954 0.41166342 0.11800688 0.56861397\n",
      " 0.76377304 0.76351338 0.65593486 0.63932954 0.56836308 0.22384747\n",
      " 0.38614428 0.76377304 0.74038803 0.52165037 0.36988813 0.24619162\n",
      " 0.75559196 0.36607198 0.22358591 0.23470212 0.30293953 0.06854901\n",
      " 0.06703446 0.22688354 0.75742914 0.78065483 0.57593872 0.21451408\n",
      " 0.21389808 0.0982031  0.0287881  0.02895947 0.69926952 0.84237204\n",
      " 0.79492522 0.22555779 0.21389808 0.16130328 0.08167298 0.16762069\n",
      " 0.42724791 0.84237204 0.84243564 0.41550576 0.29158969 0.33897694\n",
      " 0.28869977 0.11554358 0.03020697 0.16844978 0.87601279 0.89846181\n",
      " 0.6989135  0.35985875 0.35985875 0.971802   0.45178977 0.10204366\n",
      " 0.11541291 0.75994446 0.90791738 0.87130063 0.37260317 0.38472413\n",
      " 0.99488003 0.77922087 0.11541291 0.11541291 0.49223843 0.85146297\n",
      " 0.66027754 0.51389694 0.26206081 0.38805139 0.59349306 0.33117808\n",
      " 0.32471075 0.42301691 0.7783497  0.7783497  0.41548779 0.32471075\n",
      " 0.223134   0.25363342 0.77227239 0.79573877 0.79170772 0.7783497\n",
      " 0.77583471 0.62990968 0.36686012 0.22970908 0.22970908 0.60540524\n",
      " 0.7968709  0.80843478 0.74185741 0.70497881 0.71556916 0.44671698\n",
      " 0.23432789 0.2656312  0.47521021 0.83531974 0.83789341 0.76166767\n",
      " 0.70084962 0.28014065 0.35348482 0.37116598 0.81446398 0.83789341\n",
      " 0.80765572 0.17102025 0.35348482 0.35375798 0.60916352 0.56562733\n",
      " 0.39606011 0.21632681 0.48763678 0.56989978 0.51904067 0.32776637\n",
      " 0.72749061 0.85431057 0.66945388 0.60599452 0.5974994  0.70944998\n",
      " 0.85431057 0.85431057 0.75333648 0.62883648 0.70541192 0.67843306\n",
      " 0.67844751 0.8074228  0.76744391 0.70169393 0.8341909  0.32279185\n",
      " 0.63218351 0.59305595 0.60478466 0.64381572 0.64381572 0.56041484\n",
      " 0.56299178 0.56260218 0.57583979 0.64381147 0.56731819 0.56731819\n",
      " 0.56451284 0.57289387 0.67694312 0.49030148 0.55519051 0.44075404\n",
      " 0.42126781 0.91481399 0.57727263 0.68844974 0.35111485 0.13345659\n",
      " 0.14270751 0.15961058 0.81204481 0.81479385 0.57551934 0.13345659\n",
      " 0.00911323 0.00911323 0.640034   0.81477152 0.76939491 0.35489647\n",
      " 0.28055402 0.00911836 0.1771089  0.63119086 0.76019116 0.35665992\n",
      " 0.35935095 0.75543778 0.99281486 0.96538623 0.30360604 0.3660867\n",
      " 0.36608891 0.70414603 0.99281486]\n"
     ]
    }
   ],
   "source": [
    "print(f\"{h.sum()}\\n{h}\")"
   ]
  },
  {
   "cell_type": "code",
   "execution_count": null,
   "metadata": {},
   "outputs": [],
   "source": []
  },
  {
   "cell_type": "markdown",
   "metadata": {},
   "source": [
    "## Create the GHB to Qext mapping"
   ]
  },
  {
   "cell_type": "code",
   "execution_count": 25,
   "metadata": {
    "execution": {
     "iopub.execute_input": "2024-11-18T09:31:50.827526Z",
     "iopub.status.busy": "2024-11-18T09:31:50.827366Z",
     "iopub.status.idle": "2024-11-18T09:31:50.839627Z",
     "shell.execute_reply": "2024-11-18T09:31:50.839186Z",
     "shell.execute_reply.started": "2024-11-18T09:31:50.827513Z"
    }
   },
   "outputs": [],
   "source": [
    "ghb2qext = np.transpose(sfincs2mfghb.copy())"
   ]
  },
  {
   "cell_type": "markdown",
   "metadata": {},
   "source": [
    "### Test the GHB to Qext mapping"
   ]
  },
  {
   "cell_type": "code",
   "execution_count": 26,
   "metadata": {
    "execution": {
     "iopub.execute_input": "2024-11-18T09:31:50.840249Z",
     "iopub.status.busy": "2024-11-18T09:31:50.840153Z",
     "iopub.status.idle": "2024-11-18T09:31:50.842158Z",
     "shell.execute_reply": "2024-11-18T09:31:50.841688Z",
     "shell.execute_reply.started": "2024-11-18T09:31:50.840238Z"
    }
   },
   "outputs": [],
   "source": [
    "q = np.full(ghb2qext.shape[1], 1.0)"
   ]
  },
  {
   "cell_type": "code",
   "execution_count": 27,
   "metadata": {
    "execution": {
     "iopub.execute_input": "2024-11-18T09:31:50.843289Z",
     "iopub.status.busy": "2024-11-18T09:31:50.843008Z",
     "iopub.status.idle": "2024-11-18T09:31:50.850547Z",
     "shell.execute_reply": "2024-11-18T09:31:50.850059Z",
     "shell.execute_reply.started": "2024-11-18T09:31:50.843244Z"
    }
   },
   "outputs": [],
   "source": [
    "qext = ghb2qext.dot(q)"
   ]
  },
  {
   "cell_type": "code",
   "execution_count": 28,
   "metadata": {
    "execution": {
     "iopub.execute_input": "2024-11-18T09:31:50.851396Z",
     "iopub.status.busy": "2024-11-18T09:31:50.851271Z",
     "iopub.status.idle": "2024-11-18T09:31:50.853706Z",
     "shell.execute_reply": "2024-11-18T09:31:50.853326Z",
     "shell.execute_reply.started": "2024-11-18T09:31:50.851385Z"
    }
   },
   "outputs": [
    {
     "name": "stdout",
     "output_type": "stream",
     "text": [
      "734.999999999983\n",
      "(14048,)\n"
     ]
    }
   ],
   "source": [
    "print(f\"{qext.sum()}\\n{qext.shape}\")"
   ]
  },
  {
   "cell_type": "markdown",
   "metadata": {},
   "source": [
    "## Save the mapping arrays"
   ]
  },
  {
   "cell_type": "code",
   "execution_count": 29,
   "metadata": {
    "execution": {
     "iopub.execute_input": "2024-11-18T09:31:50.854440Z",
     "iopub.status.busy": "2024-11-18T09:31:50.854333Z",
     "iopub.status.idle": "2024-11-18T09:31:51.398830Z",
     "shell.execute_reply": "2024-11-18T09:31:51.398451Z",
     "shell.execute_reply.started": "2024-11-18T09:31:50.854428Z"
    }
   },
   "outputs": [],
   "source": [
    "fpath = f\"../mapping/sfincs2mfghb_{grid_name}.npz\"\n",
    "np.savez_compressed(fpath, sfincs2mfghb=sfincs2mfghb, ghbmask=mask_idx, ghb2qext=ghb2qext)"
   ]
  },
  {
   "cell_type": "code",
   "execution_count": null,
   "metadata": {},
   "outputs": [],
   "source": []
  }
 ],
 "metadata": {
  "kernelspec": {
   "display_name": "Python 3 (ipykernel)",
   "language": "python",
   "name": "python3"
  },
  "language_info": {
   "codemirror_mode": {
    "name": "ipython",
    "version": 3
   },
   "file_extension": ".py",
   "mimetype": "text/x-python",
   "name": "python",
   "nbconvert_exporter": "python",
   "pygments_lexer": "ipython3",
   "version": "3.10.14"
  }
 },
 "nbformat": 4,
 "nbformat_minor": 4
}
